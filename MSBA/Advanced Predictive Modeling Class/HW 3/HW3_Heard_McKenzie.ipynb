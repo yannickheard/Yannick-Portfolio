{
 "cells": [
  {
   "cell_type": "markdown",
   "metadata": {},
   "source": [
    "\n",
    "# <p style=\"text-align: center;\">MIS 382: Advanced Predictive Modeling</p>\n",
    "# <p style=\"text-align: center;\">Assignment 3</p>\n",
    "## <p style=\"text-align: center;\">Paige McKenzie (pam2932), Yannick Heard (yoh64)</p>\n",
    "## <p style=\"text-align: center;\">Total points: 60</p>\n",
    "## <p style=\"text-align: center;\">Due: Wednesday, October 25th, submitted via Canvas by 11:59 pm</p>\n",
    "\n",
    "Your homework should be written in a **Jupyter notebook**. You may work in groups of two if you wish. Only one student per team needs to submit the assignment on Canvas.  But be sure to include name and UTID for both students.  Homework groups will be created and managed through Canvas, so please do not arbitrarily change your homework group.  \n",
    "\n",
    "Also, please make sure your code runs and the graphics (and anything else) are displayed in your notebook before submitting. (%matplotlib inline)"
   ]
  },
  {
   "cell_type": "markdown",
   "metadata": {},
   "source": [
    "# Question 1 - Gradient Descent (5+8+2=15pts)\n",
    "\n",
    "In this question you will implement vanilla SGD and an adaptive gradient update technique called Adagrad. In addition, you will also implement ridge regularization. "
   ]
  },
  {
   "cell_type": "markdown",
   "metadata": {},
   "source": [
    "1. Using stochastic gradient descent, derive the coefficent updates for all 4 coefficients of the model: $$ y = w_0 + w_1*x_1 + w_2*x_1*x_2 + w_3*x_2 $$ Hint: start from the cost function (Assume sum of squared error). If you write the math by hand, submit that as a separate file and make a reference to it in your notebook or include the image in your notebook.\n",
    "2. Write Python code for an SGD solution to the non-linear model $$ y = w_0 + w_1*x_1 + w_2*x_1*x_2 + w_3*x_2$$ Try to format similarly to scikit-learn's models. Your class should take as input the learning_rate, regularization_constant and number of epochs. The fit method must take as input X,y and a choice of update_rule as 'SGD' or 'adagrad' (Notes on implementation below). The _predict_ method takes an X value (optionally, an array of values). Use your new gradient descent regression to predict the data given in 'samples.csv', for 10 epochs, using learning rates: [.0001, .001, .01, 0.1, 1, 10, 100] and regularization constants in the range: [0,10,100] . Plot MSE and the $w$ parameters as a function of epoch count (10 epochs) for the best 2 combinations of learning_rate and regularization for both SGD and Adagrad. ie you should have 2 plots of MSE and parameter updates for SGD and adagrad each. Report the MSE at the end of 10 epochs for all 4 combinations.\n",
    "3. Based on the experiments, answer the following:"
   ]
  },
  {
   "cell_type": "markdown",
   "metadata": {},
   "source": [
    "1. Which of the 2 techniqes allows for larger initial setting of the learning_rate? Why?\n",
    "2. What would a drawback of adagrad be? How could this be fixed? (Hint: Adadelta)"
   ]
  },
  {
   "cell_type": "markdown",
   "metadata": {},
   "source": [
    "# Notes on Adagrad\n",
    "Adagrad (http://ruder.io/optimizing-gradient-descent/) differs from vanilla SGD in that the learning rate of each weight changes over updates. A cache is maintained that holds the sum of squares of all gradients upto the current update. The learning_rate is divided by the cache, resulting in a different learning rate for each weight. A consequence of this update rule is that weights that have already seen large gradients (made large jumps) make smaller updates in subsequent iterations.\n",
    "Specifically, the steps can be listed as below:\n",
    "1. cache = cache + (gradients^2)\n",
    "2. weights = weights + ((learning_rate)/sqrt(cache+1e-6))*gradients"
   ]
  },
  {
   "cell_type": "markdown",
   "metadata": {},
   "source": [
    "# (Optional) Notes on Training with Gradient Descent\n",
    "1. Compute error: This consists of a prediction error and a regularization term. From an implementation perspective, this is a function that takes as input the truth, prediction and regularization hyperparameter and returns an error\n",
    "2. Compute gradients: Take a derivative of the error in terms of the weights. This can be modelled as a function that takes as input the error and features and returns the gradients for each weight\n",
    "3. Update weights: Weight updates can be done using vanilla SGD or adaptive techniques. The update function takes as inputs the gradient and hyperparameters and returns the new weights."
   ]
  },
  {
   "cell_type": "markdown",
   "metadata": {},
   "source": [
    "## Part 1\n",
    "Cost function:\n",
    "$$ E(\\vec{x}) = \\sum_{i=1}^{n} (\\vec{w}^{T}\\vec{x_{i}}-y_{i})^2+\\lambda~||w||^{2}$$\n",
    "$$ E(\\vec{x}) = \\sum_{i=1}^{n} (w_0 + w_{1}x_{1i} + w_{2}x_{1i}x_{2i} + w_{3}x_{2i}-y)^2 + \\lambda(w_{0}^2+w_{1}^2+w_{2}^2+w_{3}^2)$$\n",
    "\n",
    "Partial derivatives with respect to weights:\n",
    "$$ \\frac{\\partial E(\\vec{x})}{\\partial w_0} = 2(w_0 + w_{1}x_{1} + w_{2}x_{1}x_{2} + w_{3}x_{2}-y)+2\\lambda w_{0}$$\n",
    "$$ \\frac{\\partial E(\\vec{x})}{\\partial w_1} = 2(w_0 + w_{1}x_{1} + w_{2}x_{1}x_{2} + w_{3}x_{2}-y)x_{1}+2\\lambda w_{1}$$\n",
    "$$ \\frac{\\partial E(\\vec{x})}{\\partial w_2} = 2(w_0 + w_{1}x_{1} + w_{2}x_{1}x_{2} + w_{3}x_{2}-y)x_{1}x_{2}+2\\lambda w_{2}$$\n",
    "$$ \\frac{\\partial E(\\vec{x})}{\\partial w_3} = 2(w_0 + w_{1}x_{1} + w_{2}x_{1}x_{2} + w_{3}x_{2}-y)x_{2}+2\\lambda w_{3}$$\n",
    "\n",
    "Weight update equation:\n",
    "$$ \\Delta w_{i} = -\\eta\\frac{\\partial E(\\vec{x})}{\\partial w_i} $$\n",
    "\n",
    "$$ w_{new} = w_{old}+\\Delta w_{old} $$"
   ]
  },
  {
   "cell_type": "markdown",
   "metadata": {},
   "source": [
    "# Part 2"
   ]
  },
  {
   "cell_type": "code",
   "execution_count": 1,
   "metadata": {},
   "outputs": [
    {
     "name": "stdout",
     "output_type": "stream",
     "text": [
      "Populating the interactive namespace from numpy and matplotlib\n"
     ]
    }
   ],
   "source": [
    "# Initialize variables\n",
    "\n",
    "import numpy as np\n",
    "import pandas as pd\n",
    "from sklearn.preprocessing import normalize\n",
    "import matplotlib.pyplot as plt\n",
    "%pylab inline\n",
    "import warnings\n",
    "warnings.filterwarnings('ignore')\n",
    "\n",
    "df = pd.read_csv('samples.csv', index_col=0)\n",
    "\n",
    "X = normalize(np.array(df[['x_1','x_2']]))\n",
    "y = np.array(df['y'])\n",
    "\n",
    "learning_rates = [.0001, .001, .01, 0.1, 1, 10, 100]\n",
    "lambda_constants = [0, 10, 100]\n",
    "methods = ['SGD', 'Adagrad']\n",
    "num_epochs = 10"
   ]
  },
  {
   "cell_type": "code",
   "execution_count": 2,
   "metadata": {
    "collapsed": true
   },
   "outputs": [],
   "source": [
    "def make_plots(list, mse):\n",
    "    #[learning_rate, lambda_constant, method, result, weights_array]\n",
    "    plt.figure(1, figsize=(16, 8))\n",
    "\n",
    "    plt.subplot(121)\n",
    "    plt.plot(np.transpose(list[-1]), marker='o')\n",
    "    plt.legend(['W0', 'W1', 'W2', 'W3'])\n",
    "    plt.title('Weights versus Epoch')\n",
    "\n",
    "    plt.subplot(122)\n",
    "    plt.plot([i for i in range(1,11)], list[-2], marker='o')\n",
    "    plt.title('MSE versus Epoch')\n",
    "    \n",
    "    plt.suptitle('MSE of {} produced by {} method, with {} learning rate and {} regularization constant'.format(mse, list[2], list[0], list[1]))\n",
    "    plt.show()"
   ]
  },
  {
   "cell_type": "code",
   "execution_count": 3,
   "metadata": {
    "collapsed": true
   },
   "outputs": [],
   "source": [
    "def model(X, y, learning_rate, lambda_const, method, num_epochs):\n",
    "    weights = [0, 0, 0, 0] #w0, w1, w2, w3 starting point\n",
    "    if method=='Adagrad':\n",
    "        cache = [0, 0, 0, 0] #initialize cache to zero for each weight\n",
    "    epoch_error = [] #store MSE for each epoch\n",
    "    weights_array = np.transpose(np.array([weights]))\n",
    "    for epoch in range(num_epochs):\n",
    "        error_list = [] #store error values to calculate RMSE\n",
    "        for i in range(len(X)): #iterate through data\n",
    "            x = X[i]\n",
    "    \n",
    "            #predict y value\n",
    "            error = (predict(weights, x)-y[i])**2\n",
    "            error_list.append(error)\n",
    "    \n",
    "            #update weights\n",
    "            weights = update_weights_sgd(x, y[i], weights, lambda_const, learning_rate)\n",
    "            \n",
    "        #maintain array of weights\n",
    "        if type(weights_array)==int:\n",
    "            weights_array = np.transpose(np.array([weights]))\n",
    "        else:\n",
    "            weights_array = append(weights_array, np.transpose(np.array([weights])), axis=1)\n",
    "        #maintain array of error\n",
    "        epoch_error.append(sum(error_list)/len(error_list))\n",
    "    return epoch_error, weights_array"
   ]
  },
  {
   "cell_type": "code",
   "execution_count": 4,
   "metadata": {
    "collapsed": true
   },
   "outputs": [],
   "source": [
    "def predict(weights, x):\n",
    "    return weights[0]+weights[1]*x[0]+weights[2]*x[0]*x[1]+weights[3]*x[1]\n",
    "\n",
    "def gradient(x, y, weights, lambda_const):\n",
    "    grad_w0 = 2*(weights[0]+weights[1]*x[0]+weights[2]*x[0]*x[1]+weights[3]*x[1]-y)+2*lambda_const*weights[0]\n",
    "    grad_w1 = 2*(weights[0]+weights[1]*x[0]+weights[2]*x[0]*x[1]+weights[3]*x[1]-y)*x[0]+2*lambda_const*weights[1]\n",
    "    grad_w2 = 2*(weights[0]+weights[1]*x[0]+weights[2]*x[0]*x[1]+weights[3]*x[1]-y)*x[0]*x[1]+2*lambda_const*weights[2]\n",
    "    grad_w3 = 2*(weights[0]+weights[1]*x[0]+weights[2]*x[0]*x[1]+weights[3]*x[1]-y)*x[1]+2*lambda_const*weights[3]\n",
    "    return [grad_w0, grad_w1, grad_w2, grad_w3]\n",
    "\n",
    "def update_weights_sgd(x, y, weights, lambda_const, learning_rate):\n",
    "    grad = gradient(x, y, weights, lambda_const)\n",
    "    return [weights[i]-learning_rate*grad[i] for i in range(len(weights))]\n",
    "\n",
    "def update_weights_adagrad(x, y, weights, lambda_const, learning_rate, cache):\n",
    "    grad = gradient(x, y, weights, lambda_const)\n",
    "    cache = [cache[i]+grad[i]**2 for i in range(len(cache))]\n",
    "    return cache, [weights[i]-(learning_rate)/((cache[i]+1e-6)**.5)*grad[i] for i in range(len(weights))]"
   ]
  },
  {
   "cell_type": "code",
   "execution_count": 8,
   "metadata": {},
   "outputs": [
    {
     "name": "stdout",
     "output_type": "stream",
     "text": [
      "SGD learning rate: 0.01 reg constant: 0 mse: 435.299488776\n",
      "SGD learning rate: 0.01 reg constant: 10 mse: 1462.36715478\n",
      "SGD learning rate: 0.01 reg constant: 100 mse: 5.33940047542e+189\n",
      "Adagrad learning rate: 0.01 reg constant: 0 mse: 435.299488776\n",
      "Adagrad learning rate: 0.01 reg constant: 10 mse: 1462.36715478\n",
      "Adagrad learning rate: 0.01 reg constant: 100 mse: 5.33940047542e+189\n"
     ]
    }
   ],
   "source": [
    "for method in methods:\n",
    "    mins = []\n",
    "    stuff = []\n",
    "    for lambda_constant in lambda_constants:\n",
    "        learning_rate = .01\n",
    "        result, weights_array = model(X, y, learning_rate, lambda_constant, method, num_epochs)\n",
    "        mse = sum(result)/len(result)\n",
    "        print method, 'learning rate:', learning_rate, 'reg constant:', lambda_constant, 'mse:', mse"
   ]
  },
  {
   "cell_type": "code",
   "execution_count": null,
   "metadata": {
    "scrolled": false
   },
   "outputs": [],
   "source": [
    "#actually do the stuff\n",
    "\n",
    "for method in methods:\n",
    "    mins = []\n",
    "    stuff = []\n",
    "    for lambda_constant in lambda_constants:\n",
    "        for learning_rate in learning_rates:\n",
    "            result, weights_array = model(X, y, learning_rate, lambda_constant, method, num_epochs)\n",
    "            mse = sum(result)/len(result)\n",
    "            if len(mins)<2:\n",
    "                mins.append(mse)\n",
    "                stuff.append([learning_rate, lambda_constant, method, result, weights_array])\n",
    "            elif min(mins)>mse:\n",
    "                idx = np.argmin(mins)\n",
    "                mins[idx] = mse\n",
    "                stuff[idx] = [learning_rate, lambda_constant, method, result, weights_array]\n",
    "                \n",
    "    for i in range(len(stuff)):\n",
    "        make_plots(stuff[i], round(mins[i],2))"
   ]
  },
  {
   "cell_type": "markdown",
   "metadata": {},
   "source": [
    "## Part 3"
   ]
  },
  {
   "cell_type": "markdown",
   "metadata": {},
   "source": [
    "1. Which of the 2 techniqes allows for larger initial setting of the learning_rate? Why?\n",
    "\n",
    "Adagrad allows a larger initial setting of the learning rate. The cache method of updating the learning rate means that weights that have already seen large gradients, and made large jumps, make smaller updates in subsequent iterations. This means the Adagrad method is less likely to diverge by 'bouncing' out of a minimum due to too large of a learning rate, as the rate will adapt instead of letting the error bounce up the weight surface to infinity, as regular SGD does.\n",
    "2. What would a drawback of adagrad be? How could this be fixed? (Hint: Adadelta)\n",
    "\n",
    "Adagrad accumulates squared gradients, which are always postiive. This means the sum keeps growing during training, regardless of how close or far away the surace is from a minimum. Since Adagrad divides the learning rate by the cache, this can cause the learning rate to shrink to zero, preventing the algorithm from moving along the error surface at all. Adadelta restricts the window of accumulated past gradients to some fixed size, thus preventing the learning rate from going to zero.  "
   ]
  },
  {
   "cell_type": "markdown",
   "metadata": {},
   "source": [
    "# 2. (6+4=10 pts) Tensor Playground\n",
    "Visit http://playground.tensorflow.org for this problem\n",
    "\n",
    "A. From the far right, select \"Regression\" as the problem type, and select the 2nd of the two data sets ( the right one ).  \n",
    "\n",
    "   i) What sort of test / training loss do you get if you run it for 200 epochs with the following learning rates: .3, .01 and .003 ?  What if you run it for 1000 epochs with these learning rates?  Leave all other values at their defaults ( test/training ratio 50%, Noise 0, Batch Size 10, using Tanh activation function, and No Regularization )\n",
    "   \n",
    "   ii) Keeping learning rate at .3, Activation at Tanh, with all others at their defaults, and running for 200 epochs.  \n",
    "     What sort of test/train loss can you achieve using only 1 neuron in the first hidden layer.  What about for 2,3 or 8 neurons?  Provide screen shots of output layer and comment on how the different output fits look and compare with one another.\n",
    "\n",
    "   iii)Now keeping learning rate at .03 with all others at their defaults, and running for 200 epochs.  \n",
    "       Compare how the activation functions affect the ouput ( ReLU, Sigmoid, Tanh, Linear ). Provide screen shots of output results and comment.\n",
    "\n",
    "\n",
    "B. Neural Nets can fit anything.  Now reset to the initial defaults, and select \"Classification\" as the problem type, and from the Data section, select the bottom right \"Spriral\" data set.  With the idea of trying to minimize training/testing error, provide solutions to the problem for the following 2 scenarios.  i) Using just the first 2 inputs ( as per default ) and ii) Using all 7 of the inputs.  You may use as many layers as you want, whatever activation, however man neurons.  Provide screen shots which show your full network, output and parameters. Briefly justify your decisions, and comment on difficulties/tradeoffs, what helps/what doesn't,etc. \n",
    "\n",
    "## ANSWER"
   ]
  },
  {
   "cell_type": "markdown",
   "metadata": {},
   "source": [
    "## Part A\n",
    "### Part i\n",
    "200 epochs with .3 learning rate produces a test loss of 0.021, and training loss of 0.018.\n",
    "\n",
    "200 epochs with .01 learning rate produces a test loss of 0.024, and training loss of 0.021.\n",
    "\n",
    "200 epochs with .003 learning rate produces a test loss of 0.038, and training loss of 0.033.\n",
    "\n",
    "\n",
    "1000 epochs with .3 learning rate produces a test loss of 0.015, and training loss of 0.013.\n",
    "\n",
    "1000 epochs with .01 learning rate produces a test loss of 0.019, and training loss of 0.016.\n",
    "\n",
    "1000 epochs with .003 learning rate produces a test loss of 0.022, and training loss of 0.019.\n",
    "\n",
    "### Part ii\n",
    "#### Single Neuron\n",
    "200 epochs with .3 learning rate and a single neuron in the 1st hidden layer produces a test loss of 0.045 and training loss of 0.038."
   ]
  },
  {
   "cell_type": "code",
   "execution_count": null,
   "metadata": {},
   "outputs": [],
   "source": [
    "from IPython.display import Image\n",
    "Image(\"1 neuron.JPG\")"
   ]
  },
  {
   "cell_type": "markdown",
   "metadata": {},
   "source": [
    "#### Two Neurons\n",
    "200 epochs with .3 learning rate and two neurons in the 1st hidden layer produces a test loss of 0.031 and training loss of 0.028."
   ]
  },
  {
   "cell_type": "code",
   "execution_count": null,
   "metadata": {},
   "outputs": [],
   "source": [
    "Image(\"2 neurons.JPG\")"
   ]
  },
  {
   "cell_type": "markdown",
   "metadata": {},
   "source": [
    "#### Three Neurons\n",
    "200 epochs with .3 learning rate and three neurons in the 1st hidden layer produces a test loss of 0.019 and training loss of 0.017."
   ]
  },
  {
   "cell_type": "code",
   "execution_count": null,
   "metadata": {},
   "outputs": [],
   "source": [
    "Image(\"3 neurons.JPG\")"
   ]
  },
  {
   "cell_type": "markdown",
   "metadata": {},
   "source": [
    "#### Eight Neurons\n",
    "200 epochs with .3 learning rate and eight neurons in the 1st hidden layer produces a test loss of 0.020 and training loss of 0.015."
   ]
  },
  {
   "cell_type": "code",
   "execution_count": null,
   "metadata": {},
   "outputs": [],
   "source": [
    "Image(\"8 neurons.JPG\")"
   ]
  },
  {
   "cell_type": "markdown",
   "metadata": {},
   "source": [
    "#### Commentary\n",
    "Visually, a single neuron produces a linear split of the data while two neurons produces a mild striped pattern. Both 3 and 8 neurons produce a similar pattern, as they are sufficient to appropriately segregate the data."
   ]
  },
  {
   "cell_type": "markdown",
   "metadata": {},
   "source": [
    "### Part ii\n",
    "#### Relu"
   ]
  },
  {
   "cell_type": "code",
   "execution_count": null,
   "metadata": {},
   "outputs": [],
   "source": [
    "Image(\"ReLU.JPG\")"
   ]
  },
  {
   "cell_type": "markdown",
   "metadata": {},
   "source": [
    "#### Sigmoid"
   ]
  },
  {
   "cell_type": "code",
   "execution_count": null,
   "metadata": {},
   "outputs": [],
   "source": [
    "Image(\"sigmoid.JPG\")"
   ]
  },
  {
   "cell_type": "markdown",
   "metadata": {},
   "source": [
    "#### Tanh"
   ]
  },
  {
   "cell_type": "code",
   "execution_count": null,
   "metadata": {},
   "outputs": [],
   "source": [
    "Image(\"tanh.JPG\")"
   ]
  },
  {
   "cell_type": "markdown",
   "metadata": {},
   "source": [
    "#### Linear"
   ]
  },
  {
   "cell_type": "code",
   "execution_count": null,
   "metadata": {
    "scrolled": false
   },
   "outputs": [],
   "source": [
    "Image(\"linear.JPG\")"
   ]
  },
  {
   "cell_type": "markdown",
   "metadata": {},
   "source": [
    "## Part B\n",
    "\n",
    "### i)\n",
    "For using on the first two inputs the best combination found was 4 layers each with 6 neurons in them. \n",
    "The difficulties or tradeoff of this model was that it was definitely slower than those models with lower numbers of layers and neurons. While only using two input features models that had lower numbers of layers and neurons appeared to struggle more to be able to fit the complexity of the data. Models that involved more layers and neurons appeared to have the ability to fit the data more effectively, particularly in regards to the number of neurons in each layer. We decided to use this higher level of neurons and and layers in order to be able try and fully accomodate for the complex form of the data, with a limited number of features. \n",
    "\n",
    "### ii)\n",
    "For using all of the seven available inputs the best combination found was 2 layers with 8 neurons and then 2 neurons. \n",
    "The tradeoffs or difficulties of using this model are that more complex models do have the capability to fit the model more accurately, however additional layers and neurons rapidly increase the amount of time that each iteration. Since models with higher numbers of layers increased the iteration time, and only increased the accuracy by a tiny amount we decided to utilize a model with less layers and neurons."
   ]
  },
  {
   "cell_type": "code",
   "execution_count": null,
   "metadata": {},
   "outputs": [],
   "source": [
    "Image(\"2nodes.png\")"
   ]
  },
  {
   "cell_type": "code",
   "execution_count": null,
   "metadata": {},
   "outputs": [],
   "source": [
    "Image(\"7nodes.png\")"
   ]
  },
  {
   "cell_type": "markdown",
   "metadata": {},
   "source": [
    "# Question 3: Multi-layer Perceptron Regressor (15 points)\n",
    "\n",
    "In this question, you will explore the application of Multi-layer Perceptron (MLP) regression using sklearn package in Python. We will use the Appliances energy prediction dataset for this problem https://archive.ics.uci.edu/ml/datasets/Appliances+energy+prediction.\n",
    "\n",
    "Following code will pre-process the data and split the data into training and test set using [train_test_split](http://scikit-learn.org/stable/modules/generated/sklearn.model_selection.train_test_split.html) with **random state 42** and **test_size = 0.33**.\n",
    "Make sure you have 56 variables and one target variable."
   ]
  },
  {
   "cell_type": "code",
   "execution_count": null,
   "metadata": {},
   "outputs": [],
   "source": [
    "import pandas as pd\n",
    "import numpy as np\n",
    "from sklearn.model_selection import (train_test_split,KFold)\n",
    "from sklearn.metrics import mean_squared_error\n",
    "from sklearn.neural_network import MLPRegressor\n",
    "from sklearn.preprocessing import StandardScaler\n",
    "import matplotlib.pyplot as plt\n",
    "import glob\n",
    "%matplotlib inline\n",
    "\n",
    "from sklearn import datasets\n",
    "\n",
    "data = pd.read_csv('./energydata_complete.csv') \n",
    "\n",
    "y = data['Appliances']\n",
    "X = data.drop(['date','Appliances', 'rv1', 'rv2'], axis = 1)\n",
    "\n",
    "\n",
    "from dateutil import parser\n",
    "timeData = np.array(data['date'])\n",
    "\n",
    "days = []\n",
    "hours = []\n",
    "for line in xrange(len(timeData)):\n",
    "    day = parser.parse(timeData[line]).weekday()\n",
    "    hour = parser.parse(timeData[line]).hour\n",
    "    days.append(day)\n",
    "    hours.append(hour)\n",
    "    \n",
    "X = pd.concat([X, pd.get_dummies(days), pd.get_dummies(hours)], axis = 1)\n",
    "\n",
    "\n",
    "X_train, X_test, y_train, y_test = train_test_split(X,y,test_size = 0.33, random_state=42)\n",
    "\n",
    "print(X_train.shape, y_train.shape, X_test.shape, y_test.shape)"
   ]
  },
  {
   "cell_type": "markdown",
   "metadata": {},
   "source": [
    "One more thing to use in this problem is [StandardScaler](http://scikit-learn.org/stable/modules/generated/sklearn.preprocessing.StandardScaler.html). Instead of fitting a model on original data, use StandardScaler to make each feature centered ([Example](http://scikit-learn.org/stable/auto_examples/applications/plot_prediction_latency.html#sphx-glr-auto-examples-applications-plot-prediction-latency-py)). Whenever you have training and test data, fit a scaler on training data and use this scaler on test data. Here, scale only features (independent variables), not target variable y.\n",
    "\n",
    "Use [sklearn.neural_nework.MLPRegressor](http://scikit-learn.org/stable/modules/generated/sklearn.neural_network.MLPRegressor.html#sklearn.neural_network.MLPRegressor) to do a 5-fold cross validation using sklearn's [KFold](http://scikit-learn.org/stable/modules/generated/sklearn.model_selection.KFold.html#sklearn.model_selection.KFold). The cross validation must be performed on the **training data**. "
   ]
  },
  {
   "cell_type": "markdown",
   "metadata": {},
   "source": [
    "1) Use following parameter settings for MLPRegressor:\n",
    "\n",
    "    activation = 'tanh', solver = 'sgd', learning_rate='constant', random_state=42,\n",
    "    batch_size=5000, learning_rate_init = 0.005\n",
    "    \n",
    "Now, consider three different settings for the number of hidden units:\n",
    "    \n",
    "   (a) *hidden_layer_sizes = (2,)* (b) *hidden_layer_sizes = (30,10)* (c) *hidden_layer_sizes = (100,)*\n",
    "    \n",
    "   Report the average Root Mean Squared Error (RMSE) value based on your 5-fold cross validation for each model: (a), (b), and (c) (5pts)\n",
    "      \n",
    "2) Now, using the same number of hidden units used in part 1), train MLPRegressor models on whole training data and report RMSE score for both Train and Test set (Again, use StandardScaler). Which model works the best, (a), (b), or (c)? Briefly analyze the result in terms of the number of hidden units. (3pts)\n",
    "\n",
    "3) MLPRegressor has a built-in attribute *loss\\_curve\\_* which returns the loss at each epoch (misleadingly referred to as \"iteration\" in scikit documentation, though they use epoch in the actual code!). For example, if your model is named as *my_model* you can call it as *my\\_model.loss\\_curve\\_* ([example](http://scikit-learn.org/stable/auto_examples/neural_networks/plot_mlp_training_curves.html#sphx-glr-auto-examples-neural-networks-plot-mlp-training-curves-py)). Plot three curves for model (a), (b), and (c) in one figure, where *X-axis* is epoch  number and *Y-axis* is squared root of *loss\\_curve\\_* value. (2pts)\n",
    "\n",
    "4) Use following parameter settings for MLPRegressor:\n",
    "\n",
    "    activation = 'tanh', solver = 'sgd', learning_rate='constant', random_state=42,\n",
    "    batch_size=5000, hidden_layer_sizes = (15,)\n",
    "    \n",
    "Now, consider three different settings for the learning rates:\n",
    "    \n",
    "   (i) *learning_rate_init = 0.005* (ii) *learning_rate_init = 0.01* (iii) *learning_rate_init = 1*\n",
    "    \n",
    "   Report the average Root Mean Squared Error (RMSE) value based on your 5-fold cross validation for each model: (i), (ii), and (iii) (5pts)\n",
    "\n",
    "\n"
   ]
  },
  {
   "cell_type": "markdown",
   "metadata": {},
   "source": [
    "## Part 1"
   ]
  },
  {
   "cell_type": "code",
   "execution_count": null,
   "metadata": {},
   "outputs": [],
   "source": [
    "from sklearn.model_selection import KFold\n",
    "\n",
    "hidden_layer_sizes = [(2,),(30,10),(100,)]\n",
    "\n",
    "kf = KFold(n_splits=5, shuffle=False, random_state=0)\n",
    "\n",
    "for i in range(len(hidden_layer_sizes)):\n",
    "    #iterate through hidden layer settings\n",
    "    \n",
    "    fold_error = []\n",
    "    for train_index, test_index in kf.split(X_train):\n",
    "        X_kfold_train, y_kfold_train = X_train.iloc[train_index,], y_train.iloc[train_index,]\n",
    "        X_kfold_test, y_kfold_test = X_train.iloc[test_index,], y_train.iloc[test_index,]\n",
    "    \n",
    "        #scale train and test X data\n",
    "        scaler = StandardScaler()\n",
    "        scaler.fit(X_kfold_train)\n",
    "        scaled_X_train=scaler.transform(X_kfold_train)\n",
    "        scaled_X_test=scaler.transform(X_kfold_test)\n",
    "\n",
    "        #define the MLP\n",
    "        MLP = MLPRegressor(hidden_layer_sizes=(hidden_layer_sizes[i]), activation = 'tanh', solver = 'sgd', learning_rate='constant', random_state=42, batch_size=5000, learning_rate_init = 0.005)\n",
    "        #fit to training data\n",
    "        MLP.fit(scaled_X_train,y_kfold_train)\n",
    "        #predict on test data\n",
    "        pred = MLP.predict(scaled_X_test)\n",
    "    \n",
    "        fold_error.append(mean_squared_error(y_kfold_test, pred)**0.5)\n",
    "    \n",
    "    #take the average RMSE across fold errors\n",
    "    error = np.mean(fold_error)\n",
    "    print 'Hidden layer size of shape {} produces average RMSE of {} based on 5-fold cross-validation\\n'.format(hidden_layer_sizes[i], error)"
   ]
  },
  {
   "cell_type": "markdown",
   "metadata": {},
   "source": [
    "Part C, shape of (100,) produces the lowest RMSE.\n",
    "## Part 2"
   ]
  },
  {
   "cell_type": "code",
   "execution_count": null,
   "metadata": {},
   "outputs": [],
   "source": [
    "hidden_layer_sizes = [(2,),(30,10),(100,)]\n",
    "\n",
    "kf = KFold(n_splits=5, shuffle=False, random_state=0)\n",
    "\n",
    "for i in range(0, len(hidden_layer_sizes)):\n",
    "    #define a standard scaler\n",
    "    scaler = StandardScaler()\n",
    "    scaler.fit(X_train)\n",
    "\n",
    "    #scale the training and test X data\n",
    "    scaled_X_train = scaler.transform(X_train)\n",
    "    scaled_X_test = scaler.transform(X_test)\n",
    "\n",
    "    #define the MLP\n",
    "    MLP=MLPRegressor(hidden_layer_sizes=(hidden_layer_sizes[i]), activation = 'tanh', solver = 'sgd', learning_rate='constant', random_state=42, batch_size=5000, learning_rate_init = 0.005) \n",
    "    MLP.fit(scaled_X_train,y_train)\n",
    "    \n",
    "    #make predictions on test and train data\n",
    "    pred = MLP.predict(scaled_X_test)\n",
    "    \n",
    "    error = mean_squared_error(y_test, pred)**0.5\n",
    "    \n",
    "    print 'Hidden layer size of shape {} produces RMSE of {} on test data'.format(hidden_layer_sizes[i], error)\n",
    "\n",
    "    pred = MLP.predict(scaled_X_train)\n",
    "    error = mean_squared_error(y_train, pred)**0.5\n",
    "    print '- the RMSE on training data is {}\\n'.format(error)"
   ]
  },
  {
   "cell_type": "markdown",
   "metadata": {},
   "source": [
    "The first shape has only 1 hidden layer with 2 units, and produces the highest RMSE, probably indicating the model is insufficiencly complex.\n",
    "\n",
    "The second shape has a hidden layer with 30 units and a hidden layer with 10 units, and produces a moderate RMSE on test data but a dramatic improvement over the first model in training data. This model may be overfitting.\n",
    "\n",
    "The last shape has a single hidden layer, with 100 units, and produces the best RMSE on test and training data. Clearly, the complexity pays off in this case.\n",
    "\n",
    "## Part 3"
   ]
  },
  {
   "cell_type": "code",
   "execution_count": null,
   "metadata": {},
   "outputs": [],
   "source": [
    "import math\n",
    "import matplotlib.pyplot as plt\n",
    "\n",
    "#prep the plot\n",
    "fig, ax = plt.subplots()\n",
    "    \n",
    "kf = KFold(n_splits=5, shuffle=False, random_state=0)\n",
    "\n",
    "for i in range(0,len(hidden_layer_sizes)):\n",
    "    #define a standard scaler\n",
    "    scaler = StandardScaler()\n",
    "    scaler.fit(X_train)\n",
    "\n",
    "    #scale the training and test X data\n",
    "    scaled_X_train = scaler.transform(X_train)\n",
    "    scaled_X_test = scaler.transform(X_test)\n",
    "\n",
    "    #define the MLP\n",
    "    MLP=MLPRegressor(hidden_layer_sizes=(hidden_layer_sizes[i]), activation = 'tanh', solver = 'sgd', learning_rate='constant', random_state=42, batch_size=5000, learning_rate_init = 0.005) \n",
    "    MLP.fit(scaled_X_train,y_train)\n",
    "    \n",
    "    loss_values = MLP.loss_curve_\n",
    "    sqrt_loss=[]\n",
    "    for j in range(0,len(loss_values)):\n",
    "        #create list of square roots of loss\n",
    "        sqrt_loss.append(loss_values[j]**0.5)\n",
    "    \n",
    "    #plot stuff\n",
    "    ax.scatter([k for k in range(1, len(sqrt_loss)+1)], sqrt_loss, label=hidden_layer_sizes[i])\n",
    "\n",
    "ax.legend()\n",
    "plt.ylabel('RMSE')\n",
    "plt.xlabel('Epoch')\n",
    "plt.title('RMSE vs. Epoch')\n",
    "\n",
    "plt.show()\n"
   ]
  },
  {
   "cell_type": "markdown",
   "metadata": {},
   "source": [
    "## Part 4"
   ]
  },
  {
   "cell_type": "code",
   "execution_count": null,
   "metadata": {},
   "outputs": [],
   "source": [
    "from sklearn.model_selection import KFold\n",
    "\n",
    "learning_rates = [0.005, 0.01, 1]\n",
    "\n",
    "#use a seed with K folds for repeatable results\n",
    "kf = KFold(n_splits=5, shuffle=False, random_state=0)\n",
    "\n",
    "for i in range(0,len(learning_rates)):\n",
    "    #iterate through hidden layer settings\n",
    "    \n",
    "    fold_error = []\n",
    "    for train_index, test_index in kf.split(X_train):\n",
    "        X_kfold_train, y_kfold_train = X_train.iloc[train_index,], y_train.iloc[train_index,]\n",
    "        X_kfold_test, y_kfold_test = X_train.iloc[test_index,], y_train.iloc[test_index,]\n",
    "    \n",
    "        #scale train and test X data\n",
    "        scaler = StandardScaler()\n",
    "        scaler.fit(X_kfold_train)\n",
    "        scaled_X_train = scaler.transform(X_kfold_train)\n",
    "        scaled_X_test = scaler.transform(X_kfold_test)\n",
    "\n",
    "        #define the MLP\n",
    "        MLP=MLPRegressor(activation = 'tanh', solver = 'sgd', learning_rate='constant', random_state=42,\n",
    "        batch_size=5000, hidden_layer_sizes = (15,), learning_rate_init=learning_rates[i])\n",
    "    \n",
    "        MLP.fit(scaled_X_train,y_kfold_train)\n",
    "    \n",
    "        pred = MLP.predict(scaled_X_test)\n",
    "    \n",
    "        fold_error.append(mean_squared_error(y_kfold_test, pred)**0.5)\n",
    "    \n",
    "    #take the average RMSE from a set of cross folds\n",
    "    error = np.mean(fold_error)\n",
    "    print 'Initial learning rate of {} produced average RMSE of {} based on 5-fold cross-validation\\n'.format(learning_rates[i], error)"
   ]
  },
  {
   "cell_type": "markdown",
   "metadata": {},
   "source": [
    "# Question 4: (2+5+3=10 pts) Bayes Decision Theory\n",
    "a. Explain what you understand by class-conditional likelihood, class priors, and posterior probability of a class given an input, and the relationship between them. Please define all symbols and equations used explicitly.\n",
    "( 2 points )\n",
    "\n",
    "b. Suppose you want to learn a binary classifier to predict whether or not a customer will buy a TV. The class label is 0 if the customer does not buy a TV and 1 if they do. For each customer, you are given two features, $x_1$ is the per hour salary and $x_2$ is the age. Assume that the class conditional distribution $p([x_1 , x_2]|C)$ is Gaussian. The mean salary and age of the people who do buy a TV is 15 and 30 respectively and that of those who don’t is 8.5 and 25. Assume that both classes of customers have the same covariance given by the Identity matrix. Further, your sales data suggests that only 1 in 3 people actually bought a TV in the last few years. Mathematically derive the (optimal) Bayes decision boundary for this problem. (5 points)\n",
    "\n",
    "c. Now write code to sample 100 customers from each class (C = 0, 1) under the assumed distribution and the estimated parameters and plot their features. Additionally, plot the decision boundary you obtained in the part (b) on the same plot. (3 points)\n",
    "\n",
    "## ANSWER"
   ]
  },
  {
   "cell_type": "markdown",
   "metadata": {},
   "source": [
    "## Part A\n",
    "Class conditional likelihood represents how likely an x,y pair is given the pair's class, $P(x,y|C_{0})$ or $P(x,y|C_{1})$\n",
    "\n",
    "Class priors represent how likely we think the class is before looking at data, $P(C_{0})$ or $P(C_{1})$ \n",
    "\n",
    "Posterior probability represents how likely a class is, given a certain observation, $P(C_{0}|x,y)$ or $P(C_{1}|x,y)$\n",
    "\n",
    "From Bayes Rule, we can say that \n",
    "$$P(C_{0}|x,y) = \\frac{P(C_{0})P(x,y|C_{0})}{P(x,y)}$$\n",
    "\n",
    "$$P(C_{1}|x,y) = \\frac{P(C_{1})P(x,y|C_{1})}{P(x,y)}$$\n",
    "\n",
    "## Part B\n",
    "Define $C_{0}$ as the customer not buying a TV, $C_{1}$ as the customer buying a TV, and let x be the salary of a customer, y their age.\n",
    "\n",
    "\n",
    "The probability of each salary, age combination given a class is given by the normal distributions:\n",
    "$$P(x,y|C_{0}) = \\frac{1}{2\\pi}e^{\\frac{-1}{2}[(x-8.5)^2+(y-25)^2]}$$\n",
    "$$P(x,y|C_{1}) = \\frac{1}{2\\pi}e^{\\frac{-1}{2}[(x-15)^2+(y-30)^2]}$$\n",
    "\n",
    "\n",
    "\n",
    "We also know that $P(C_{0})=\\frac{2}{3}$ and $P(C_{1})=\\frac{1}{3}$.\n",
    "\n",
    "The Bayes Discriminant is $g_{i}(x,y) = P(C_{i}|x,y)$ and we are concerned with the decision boundary, where \n",
    "\n",
    "$$P(C_{0}|x,y) = P(C_{1}|x,y)$$\n",
    "\n",
    "$$\\frac{P(C_{0})P(x,y|C_{0})}{P(x,y)} = \\frac{P(C_{1})P(x,y|C_{1})}{P(x,y)}$$\n",
    "\n",
    "$$P(C_{0})P(x,y|C_{0}) = P(C_{1})P(x,y|C_{1})$$\n",
    "\n",
    "$$\\frac{2}{3}P(x,y|C_{0}) = \\frac{1}{3}P(x,y|C_{1})$$\n",
    "\n",
    "$$2 \\frac{1}{2\\pi}e^{\\frac{-1}{2}[(x-8.5)^2+(y-25)^2]} = \\frac{1}{2\\pi}e^{\\frac{-1}{2}[(x-15)^2+(y-30)^2]}$$\n",
    "\n",
    "$$ln(2e^{\\frac{-1}{2}[(x-8.5)^2+(y-25)^2]}) = ln(e^{\\frac{-1}{2}[(x-15)^2+(y-30)^2]})$$\n",
    "\n",
    "$$ln2-\\frac{1}{2}[(x-8.5)^2+(y-25)^2] = -\\frac{1}{2}[(x-15)^2+(y-30)^2])$$\n",
    "\n",
    "$$ (x-8.5)^2+(y-25)^2 = (x-15)^2+(y-30)^2+ln4$$\n",
    "\n",
    "$$y = -\\frac{13}{10}x+\\frac{427.75+ln4}{10}$$\n",
    "\n",
    "## Part C"
   ]
  },
  {
   "cell_type": "code",
   "execution_count": null,
   "metadata": {},
   "outputs": [],
   "source": [
    "from numpy.random import multivariate_normal\n",
    "from math import log\n",
    "\n",
    "def func(x):\n",
    "    return (-13*x+427.75+log(4))/10.0\n",
    "\n",
    "mean_1 = np.array([15, 30])\n",
    "mean_0 = np.array([8.5, 25])\n",
    "covariance = np.array([[1, 0], [0, 1]])\n",
    "\n",
    "x,y = np.random.multivariate_normal(mean_0, covariance, 100).T\n",
    "plt.plot(x,y, 'o', color='blue')\n",
    "x,y = np.random.multivariate_normal(mean_1, covariance, 100).T\n",
    "plt.plot(x,y, 'o', color='red')\n",
    "\n",
    "plt.plot([6, 18], [func(6), func(18)], color='purple')\n",
    "\n",
    "plt.title('Random Draws, divided by decision boundary')\n",
    "plt.legend(['Buy', 'Not buy', 'Boundary'])\n",
    "plt.xlabel('Salary')\n",
    "plt.ylabel('Age')\n",
    "\n",
    "plt.show()"
   ]
  },
  {
   "cell_type": "markdown",
   "metadata": {},
   "source": [
    "# Question 5: Decision Tree using Python (10 pts)\n",
    "In this problem, you will model the data using decision trees to perform a classification task. Load the BreastTissue.csv dataset. The dataset has been preprocessed. The description of the dataset can be found [here](https://archive.ics.uci.edu/ml/datasets/Breast+Tissue). Using the class tree.DecisionTreeClassifier (http://scikit-learn.org/stable/modules/classes.html#module-sklearn.tree), build two different trees with a maximum depth of two using the split criteria (i) Gini and (ii) Entropy. Use all the data to build trees. Plot the two trees. If your classifier object is called clf, use the following commands to save the generated tree as a '.dot' file that can be used to visualize the tree using Webgraphviz: http://www.webgraphviz.com/\n",
    "\n",
    "Hint: see  http://scikit-learn.org/stable/modules/generated/sklearn.tree.export_graphviz.html"
   ]
  },
  {
   "cell_type": "raw",
   "metadata": {},
   "source": [
    "from sklearn import tree\n",
    "from sklearn.externals.six import StringIO\n",
    "with open(\"decision_tree_gini.dot\", 'w') as f:\n",
    "    f = tree.export_graphviz(clf, out_file=f)"
   ]
  },
  {
   "cell_type": "markdown",
   "metadata": {},
   "source": [
    "Copy paste the contents of your '.dot' file into the text window on the website to visualize the trees. At which node(s) do they differ?"
   ]
  },
  {
   "cell_type": "code",
   "execution_count": null,
   "metadata": {
    "collapsed": true
   },
   "outputs": [],
   "source": [
    "from sklearn import tree\n",
    "import pandas as pd\n",
    "from pandas import DataFrame\n",
    "from sklearn.externals.six import StringIO\n",
    "from sklearn.tree import DecisionTreeClassifier\n",
    "\n",
    "data = pd.read_csv('./BreastTissue.csv')\n",
    "input_data = data.as_matrix(columns = [[\"I0\", 'PA500', \"HFS\", \"DA\", 'Area', 'A/DA', 'Max IP', 'DR', 'P']])\n",
    "target = data.as_matrix(columns = [\"Class\"])\n",
    "\n",
    "clf = DecisionTreeClassifier(random_state=0, max_depth = 2)\n",
    "clf = clf.fit(input_data, target)\n",
    "tree.export_graphviz(clf, out_file='tree_dot_gini')\n",
    "\n",
    "clf = DecisionTreeClassifier(criterion = 'entropy',random_state=0, max_depth = 2)\n",
    "clf = clf.fit(input_data, target)\n",
    "tree.export_graphviz(clf, out_file = 'tree_dot_entropy')"
   ]
  },
  {
   "cell_type": "markdown",
   "metadata": {},
   "source": [
    "The two images of trees below are of the two trees created with the different criteria, Gini and Entropy. These two trees differ in the second node as in the Gini model it decides that no further splits are required, while in the Entropy model it splits again to another layer."
   ]
  },
  {
   "cell_type": "code",
   "execution_count": null,
   "metadata": {},
   "outputs": [],
   "source": [
    "Image(\"gini.png\")"
   ]
  },
  {
   "cell_type": "code",
   "execution_count": null,
   "metadata": {},
   "outputs": [],
   "source": [
    "Image(\"entropy.png\")"
   ]
  }
 ],
 "metadata": {
  "anaconda-cloud": {},
  "kernelspec": {
   "display_name": "Python 3",
   "language": "python",
   "name": "python3"
  },
  "language_info": {
   "codemirror_mode": {
    "name": "ipython",
    "version": 3
   },
   "file_extension": ".py",
   "mimetype": "text/x-python",
   "name": "python",
   "nbconvert_exporter": "python",
   "pygments_lexer": "ipython3",
   "version": "3.7.6"
  }
 },
 "nbformat": 4,
 "nbformat_minor": 1
}
