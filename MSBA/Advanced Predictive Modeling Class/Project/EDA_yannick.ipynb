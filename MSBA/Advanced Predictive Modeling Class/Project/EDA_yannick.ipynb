{
 "cells": [
  {
   "cell_type": "code",
   "execution_count": 12,
   "metadata": {
    "collapsed": true
   },
   "outputs": [],
   "source": [
    "data07=pd.read_csv(\"TEDS-D-2007-DS0001-data-excel.tsv\", sep='\\t')\n",
    "data08=pd.read_csv(\"TEDS-D-2008-DS0001-data-excel.tsv\", sep='\\t')\n",
    "data09=pd.read_csv(\"TEDS-D-2009-DS0001-data-excel.tsv\", sep='\\t')\n",
    "data10=pd.read_csv(\"TEDS-D-2010-DS0001-data-excel.tsv\", sep='\\t')\n",
    "data11=pd.read_csv(\"TEDS-D-2011-DS0001-data-excel.tsv\", sep='\\t')\n",
    "data12=pd.read_csv(\"TEDS-D-2012-DS0001-data-excel.csv\")\n",
    "data13=pd.read_csv(\"teds_d_2013.csv\")\n"
   ]
  },
  {
   "cell_type": "code",
   "execution_count": 8,
   "metadata": {},
   "outputs": [],
   "source": [
    "data_attempt_R = pd.read_csv(\"IPG2211N.csv\")"
   ]
  },
  {
   "cell_type": "code",
   "execution_count": 9,
   "metadata": {},
   "outputs": [
    {
     "data": {
      "text/html": [
       "<div>\n",
       "<style>\n",
       "    .dataframe thead tr:only-child th {\n",
       "        text-align: right;\n",
       "    }\n",
       "\n",
       "    .dataframe thead th {\n",
       "        text-align: left;\n",
       "    }\n",
       "\n",
       "    .dataframe tbody tr th {\n",
       "        vertical-align: top;\n",
       "    }\n",
       "</style>\n",
       "<table border=\"1\" class=\"dataframe\">\n",
       "  <thead>\n",
       "    <tr style=\"text-align: right;\">\n",
       "      <th></th>\n",
       "      <th>DATE</th>\n",
       "      <th>IPG2211N</th>\n",
       "    </tr>\n",
       "  </thead>\n",
       "  <tbody>\n",
       "    <tr>\n",
       "      <th>0</th>\n",
       "      <td>1972-01-01</td>\n",
       "      <td>35.9358</td>\n",
       "    </tr>\n",
       "    <tr>\n",
       "      <th>1</th>\n",
       "      <td>1972-02-01</td>\n",
       "      <td>36.1059</td>\n",
       "    </tr>\n",
       "    <tr>\n",
       "      <th>2</th>\n",
       "      <td>1972-03-01</td>\n",
       "      <td>35.0223</td>\n",
       "    </tr>\n",
       "    <tr>\n",
       "      <th>3</th>\n",
       "      <td>1972-04-01</td>\n",
       "      <td>33.8054</td>\n",
       "    </tr>\n",
       "    <tr>\n",
       "      <th>4</th>\n",
       "      <td>1972-05-01</td>\n",
       "      <td>33.4847</td>\n",
       "    </tr>\n",
       "    <tr>\n",
       "      <th>5</th>\n",
       "      <td>1972-06-01</td>\n",
       "      <td>36.4616</td>\n",
       "    </tr>\n",
       "    <tr>\n",
       "      <th>6</th>\n",
       "      <td>1972-07-01</td>\n",
       "      <td>39.1136</td>\n",
       "    </tr>\n",
       "    <tr>\n",
       "      <th>7</th>\n",
       "      <td>1972-08-01</td>\n",
       "      <td>41.3757</td>\n",
       "    </tr>\n",
       "    <tr>\n",
       "      <th>8</th>\n",
       "      <td>1972-09-01</td>\n",
       "      <td>40.1185</td>\n",
       "    </tr>\n",
       "    <tr>\n",
       "      <th>9</th>\n",
       "      <td>1972-10-01</td>\n",
       "      <td>37.0792</td>\n",
       "    </tr>\n",
       "    <tr>\n",
       "      <th>10</th>\n",
       "      <td>1972-11-01</td>\n",
       "      <td>36.9936</td>\n",
       "    </tr>\n",
       "    <tr>\n",
       "      <th>11</th>\n",
       "      <td>1972-12-01</td>\n",
       "      <td>38.3944</td>\n",
       "    </tr>\n",
       "    <tr>\n",
       "      <th>12</th>\n",
       "      <td>1973-01-01</td>\n",
       "      <td>40.6924</td>\n",
       "    </tr>\n",
       "    <tr>\n",
       "      <th>13</th>\n",
       "      <td>1973-02-01</td>\n",
       "      <td>39.7876</td>\n",
       "    </tr>\n",
       "    <tr>\n",
       "      <th>14</th>\n",
       "      <td>1973-03-01</td>\n",
       "      <td>37.8803</td>\n",
       "    </tr>\n",
       "    <tr>\n",
       "      <th>15</th>\n",
       "      <td>1973-04-01</td>\n",
       "      <td>36.2503</td>\n",
       "    </tr>\n",
       "    <tr>\n",
       "      <th>16</th>\n",
       "      <td>1973-05-01</td>\n",
       "      <td>36.4885</td>\n",
       "    </tr>\n",
       "    <tr>\n",
       "      <th>17</th>\n",
       "      <td>1973-06-01</td>\n",
       "      <td>40.8586</td>\n",
       "    </tr>\n",
       "    <tr>\n",
       "      <th>18</th>\n",
       "      <td>1973-07-01</td>\n",
       "      <td>44.3162</td>\n",
       "    </tr>\n",
       "    <tr>\n",
       "      <th>19</th>\n",
       "      <td>1973-08-01</td>\n",
       "      <td>45.8795</td>\n",
       "    </tr>\n",
       "    <tr>\n",
       "      <th>20</th>\n",
       "      <td>1973-09-01</td>\n",
       "      <td>44.3887</td>\n",
       "    </tr>\n",
       "    <tr>\n",
       "      <th>21</th>\n",
       "      <td>1973-10-01</td>\n",
       "      <td>40.5928</td>\n",
       "    </tr>\n",
       "    <tr>\n",
       "      <th>22</th>\n",
       "      <td>1973-11-01</td>\n",
       "      <td>39.4394</td>\n",
       "    </tr>\n",
       "    <tr>\n",
       "      <th>23</th>\n",
       "      <td>1973-12-01</td>\n",
       "      <td>38.8470</td>\n",
       "    </tr>\n",
       "    <tr>\n",
       "      <th>24</th>\n",
       "      <td>1974-01-01</td>\n",
       "      <td>40.0271</td>\n",
       "    </tr>\n",
       "    <tr>\n",
       "      <th>25</th>\n",
       "      <td>1974-02-01</td>\n",
       "      <td>39.6258</td>\n",
       "    </tr>\n",
       "    <tr>\n",
       "      <th>26</th>\n",
       "      <td>1974-03-01</td>\n",
       "      <td>38.2333</td>\n",
       "    </tr>\n",
       "    <tr>\n",
       "      <th>27</th>\n",
       "      <td>1974-04-01</td>\n",
       "      <td>36.8289</td>\n",
       "    </tr>\n",
       "    <tr>\n",
       "      <th>28</th>\n",
       "      <td>1974-05-01</td>\n",
       "      <td>37.5218</td>\n",
       "    </tr>\n",
       "    <tr>\n",
       "      <th>29</th>\n",
       "      <td>1974-06-01</td>\n",
       "      <td>40.3307</td>\n",
       "    </tr>\n",
       "    <tr>\n",
       "      <th>30</th>\n",
       "      <td>1974-07-01</td>\n",
       "      <td>44.9113</td>\n",
       "    </tr>\n",
       "    <tr>\n",
       "      <th>31</th>\n",
       "      <td>1974-08-01</td>\n",
       "      <td>46.1029</td>\n",
       "    </tr>\n",
       "    <tr>\n",
       "      <th>32</th>\n",
       "      <td>1974-09-01</td>\n",
       "      <td>43.2064</td>\n",
       "    </tr>\n",
       "    <tr>\n",
       "      <th>33</th>\n",
       "      <td>1974-10-01</td>\n",
       "      <td>40.3145</td>\n",
       "    </tr>\n",
       "    <tr>\n",
       "      <th>34</th>\n",
       "      <td>1974-11-01</td>\n",
       "      <td>39.7482</td>\n",
       "    </tr>\n",
       "    <tr>\n",
       "      <th>35</th>\n",
       "      <td>1974-12-01</td>\n",
       "      <td>41.9786</td>\n",
       "    </tr>\n",
       "    <tr>\n",
       "      <th>36</th>\n",
       "      <td>1975-01-01</td>\n",
       "      <td>43.3195</td>\n",
       "    </tr>\n",
       "    <tr>\n",
       "      <th>37</th>\n",
       "      <td>1975-02-01</td>\n",
       "      <td>42.4915</td>\n",
       "    </tr>\n",
       "    <tr>\n",
       "      <th>38</th>\n",
       "      <td>1975-03-01</td>\n",
       "      <td>40.8206</td>\n",
       "    </tr>\n",
       "    <tr>\n",
       "      <th>39</th>\n",
       "      <td>1975-04-01</td>\n",
       "      <td>39.2583</td>\n",
       "    </tr>\n",
       "    <tr>\n",
       "      <th>40</th>\n",
       "      <td>1975-05-01</td>\n",
       "      <td>38.9911</td>\n",
       "    </tr>\n",
       "    <tr>\n",
       "      <th>41</th>\n",
       "      <td>1975-06-01</td>\n",
       "      <td>42.4091</td>\n",
       "    </tr>\n",
       "    <tr>\n",
       "      <th>42</th>\n",
       "      <td>1975-07-01</td>\n",
       "      <td>46.2797</td>\n",
       "    </tr>\n",
       "    <tr>\n",
       "      <th>43</th>\n",
       "      <td>1975-08-01</td>\n",
       "      <td>48.1017</td>\n",
       "    </tr>\n",
       "    <tr>\n",
       "      <th>44</th>\n",
       "      <td>1975-09-01</td>\n",
       "      <td>45.0557</td>\n",
       "    </tr>\n",
       "    <tr>\n",
       "      <th>45</th>\n",
       "      <td>1975-10-01</td>\n",
       "      <td>41.0986</td>\n",
       "    </tr>\n",
       "    <tr>\n",
       "      <th>46</th>\n",
       "      <td>1975-11-01</td>\n",
       "      <td>40.7584</td>\n",
       "    </tr>\n",
       "    <tr>\n",
       "      <th>47</th>\n",
       "      <td>1975-12-01</td>\n",
       "      <td>44.0526</td>\n",
       "    </tr>\n",
       "    <tr>\n",
       "      <th>48</th>\n",
       "      <td>1976-01-01</td>\n",
       "      <td>47.5854</td>\n",
       "    </tr>\n",
       "    <tr>\n",
       "      <th>49</th>\n",
       "      <td>1976-02-01</td>\n",
       "      <td>44.7457</td>\n",
       "    </tr>\n",
       "  </tbody>\n",
       "</table>\n",
       "</div>"
      ],
      "text/plain": [
       "          DATE  IPG2211N\n",
       "0   1972-01-01   35.9358\n",
       "1   1972-02-01   36.1059\n",
       "2   1972-03-01   35.0223\n",
       "3   1972-04-01   33.8054\n",
       "4   1972-05-01   33.4847\n",
       "5   1972-06-01   36.4616\n",
       "6   1972-07-01   39.1136\n",
       "7   1972-08-01   41.3757\n",
       "8   1972-09-01   40.1185\n",
       "9   1972-10-01   37.0792\n",
       "10  1972-11-01   36.9936\n",
       "11  1972-12-01   38.3944\n",
       "12  1973-01-01   40.6924\n",
       "13  1973-02-01   39.7876\n",
       "14  1973-03-01   37.8803\n",
       "15  1973-04-01   36.2503\n",
       "16  1973-05-01   36.4885\n",
       "17  1973-06-01   40.8586\n",
       "18  1973-07-01   44.3162\n",
       "19  1973-08-01   45.8795\n",
       "20  1973-09-01   44.3887\n",
       "21  1973-10-01   40.5928\n",
       "22  1973-11-01   39.4394\n",
       "23  1973-12-01   38.8470\n",
       "24  1974-01-01   40.0271\n",
       "25  1974-02-01   39.6258\n",
       "26  1974-03-01   38.2333\n",
       "27  1974-04-01   36.8289\n",
       "28  1974-05-01   37.5218\n",
       "29  1974-06-01   40.3307\n",
       "30  1974-07-01   44.9113\n",
       "31  1974-08-01   46.1029\n",
       "32  1974-09-01   43.2064\n",
       "33  1974-10-01   40.3145\n",
       "34  1974-11-01   39.7482\n",
       "35  1974-12-01   41.9786\n",
       "36  1975-01-01   43.3195\n",
       "37  1975-02-01   42.4915\n",
       "38  1975-03-01   40.8206\n",
       "39  1975-04-01   39.2583\n",
       "40  1975-05-01   38.9911\n",
       "41  1975-06-01   42.4091\n",
       "42  1975-07-01   46.2797\n",
       "43  1975-08-01   48.1017\n",
       "44  1975-09-01   45.0557\n",
       "45  1975-10-01   41.0986\n",
       "46  1975-11-01   40.7584\n",
       "47  1975-12-01   44.0526\n",
       "48  1976-01-01   47.5854\n",
       "49  1976-02-01   44.7457"
      ]
     },
     "execution_count": 9,
     "metadata": {},
     "output_type": "execute_result"
    }
   ],
   "source": [
    "data_attempt_R.head(50)"
   ]
  },
  {
   "cell_type": "code",
   "execution_count": 53,
   "metadata": {
    "collapsed": true
   },
   "outputs": [],
   "source": [
    "data07 = data07.head(10000)\n",
    "data08 = data08.head(10000)\n",
    "data09 = data09.head(10000)\n",
    "data10 = data10.head(10000)\n",
    "data11 = data11.head(10000)\n",
    "data12 = data12.head(10000)\n",
    "data13 = data13.head(10000)\n",
    "frames=[data07,data08,data09,data10,data11,data12,data13]\n",
    "data=pd.concat(frames)"
   ]
  },
  {
   "cell_type": "code",
   "execution_count": 19,
   "metadata": {},
   "outputs": [
    {
     "name": "stderr",
     "output_type": "stream",
     "text": [
      "IOPub data rate exceeded.\n",
      "The notebook server will temporarily stop sending output\n",
      "to the client in order to avoid crashing it.\n",
      "To change this limit, set the config variable\n",
      "`--NotebookApp.iopub_data_rate_limit`.\n"
     ]
    }
   ],
   "source": [
    "data.to_string()"
   ]
  },
  {
   "cell_type": "code",
   "execution_count": null,
   "metadata": {
    "collapsed": true
   },
   "outputs": [],
   "source": []
  },
  {
   "cell_type": "code",
   "execution_count": 3,
   "metadata": {},
   "outputs": [],
   "source": [
    "import pandas as pd\n",
    "import sklearn\n",
    "from sklearn import datasets, linear_model\n",
    "from sklearn.metrics import mean_squared_error, r2_score\n",
    "from sklearn.decomposition import PCA\n",
    "import numpy as np"
   ]
  },
  {
   "cell_type": "code",
   "execution_count": null,
   "metadata": {
    "collapsed": true
   },
   "outputs": [],
   "source": []
  },
  {
   "cell_type": "code",
   "execution_count": 69,
   "metadata": {
    "collapsed": true
   },
   "outputs": [],
   "source": [
    ">>> from sklearn import tree\n",
    ">>> X = \n",
    ">>> Y = \n",
    ">>> clf = tree.DecisionTreeClassifier()\n",
    ">>> clf = clf.fit(X, Y)"
   ]
  },
  {
   "cell_type": "code",
   "execution_count": 20,
   "metadata": {
    "collapsed": true
   },
   "outputs": [],
   "source": [
    "data.replace(-9, np.NaN , inplace= True)"
   ]
  },
  {
   "cell_type": "code",
   "execution_count": 41,
   "metadata": {
    "collapsed": true
   },
   "outputs": [],
   "source": [
    "listed=set([])\n",
    "#Create Marriage Dummy Variables\n",
    "for elem in data['MARSTAT'].unique():\n",
    "    data['Marriage' + str(elem)] = data['MARSTAT'] == elem\n",
    "    listed.add('Marriage'+str(elem))\n",
    "#Create Area Dummy Variables\n",
    "for elem in data['STFIPS'].unique():\n",
    "     data['STFIPS' + str(elem)] = data['STFIPS'] == elem\n",
    "     listed.add('STFIPS'+str(elem))   \n",
    "#Create PsyProb Dummy Variables\n",
    "for elem in data['PSYPROB'].unique():\n",
    "     data['PSYPROB' + str(elem)] = data['PSYPROB'] == elem\n",
    "     listed.add('PSYPROB'+str(elem))           \n",
    "#Create Ethnicity Dummy Variables\n",
    "for elem in data['ETHNIC'].unique():\n",
    "     data['ETHNIC' + str(elem)] = data['ETHNIC'] == elem\n",
    "     listed.add('ETHNIC'+str(elem))                           \n",
    "#Create Preg Dummy Variables\n",
    "for elem in data['PREG'].unique():\n",
    "     data['PREG' + str(elem)] = data['PREG'] == elem\n",
    "     listed.add('PREG'+str(elem))   \n",
    "#Create Priminc Dummy Variables\n",
    "for elem in data['PRIMINC'].unique():\n",
    "     data['PRIMINC' + str(elem)] = data['PRIMINC'] == elem\n",
    "     listed.add('PRIMINC'+str(elem))   \n",
    "#Create PSource Dummy Variables\n",
    "for elem in data['PSOURCE'].unique():\n",
    "     data['PSOURCE' + str(elem)] = data['PSOURCE'] == elem\n",
    "     listed.add('PSOURCE'+str(elem))           \n",
    "#Create Race Dummy Variables\n",
    "for elem in data['RACE'].unique():\n",
    "     data['RACE' + str(elem)] = data['RACE'] == elem\n",
    "     listed.add('RACE'+str(elem))           \n",
    "#Create Route1 Dummy Variables\n",
    "for elem in data['ROUTE1'].unique():\n",
    "     data['ROUTE1' + str(elem)] = data['ROUTE1'] == elem\n",
    "     listed.add('ROUTE1'+str(elem))                   \n",
    "#Create Sub1 Dummy Variables\n",
    "for elem in data['SUB1'].unique():\n",
    "     data['SUB1' + str(elem)] = data['SUB1'] == elem\n",
    "     listed.add('SUB1'+str(elem))                     \n",
    "#Create Vet Dummy Variables\n",
    "for elem in data['VET'].unique():\n",
    "     data['VET' + str(elem)] = data['VET'] == elem\n",
    "     listed.add('VET'+str(elem))   "
   ]
  },
  {
   "cell_type": "code",
   "execution_count": 42,
   "metadata": {
    "collapsed": true
   },
   "outputs": [],
   "source": [
    "data.replace(to_replace=True, value='1', inplace=True)\n",
    "data.replace(to_replace=False, value='0', inplace=True)"
   ]
  },
  {
   "cell_type": "code",
   "execution_count": 43,
   "metadata": {
    "collapsed": true
   },
   "outputs": [],
   "source": [
    "frst_dict = {1:11, 2:13, 3:16, 4:19, 5:23, 6:27, 7:32, 8:37, 9:42, 10:47, 11:52, 12:55}\n",
    "def frst_age(s):\n",
    "    if s in frst_dict.keys():\n",
    "        return frst_dict[s]\n",
    "    \n",
    "mar_dict={1:0, 2:1, 3:0, 4:0}\n",
    "def mar_change(s):\n",
    "    if s in mar_dict.keys():\n",
    "        return mar_dict[s]\n",
    "    \n",
    "freq_use_dict = {1:0, 2:2, 3:6, 4:18, 5:30}\n",
    "def freq_use(s):\n",
    "    if s in freq_use_dict.keys():\n",
    "        return freq_use_dict[s]\n",
    "\n",
    "age_dict={2:13, 3:16, 4:19, 5:23, 6:27, 7:32, 8:37, 9:42, 10:47, 11:52, 12:55}\n",
    "def group_age(s):\n",
    "    if s in age_dict.keys():\n",
    "        return age_dict[s]\n",
    "    \n",
    "gender_dict={1.0:0, 2.0:1}\n",
    "def gender_change(s):\n",
    "    if s in gender_dict.keys():\n",
    "        return gender_dict[s]\n",
    "    \n",
    "los_dict = {31:37.5, 32:52.5, 33:75, 34:105, 35:150, 36:272.5, 37:4}\n",
    "def los_change(s):\n",
    "    if s in los_dict.keys():\n",
    "        return gender_dict[s]\n"
   ]
  },
  {
   "cell_type": "code",
   "execution_count": 76,
   "metadata": {},
   "outputs": [
    {
     "data": {
      "text/plain": [
       "0       34\n",
       "1       31\n",
       "2       34\n",
       "3       31\n",
       "4       34\n",
       "5       15\n",
       "6        8\n",
       "7       31\n",
       "8       33\n",
       "9       33\n",
       "10      32\n",
       "11       4\n",
       "12      31\n",
       "13      32\n",
       "14      29\n",
       "15      36\n",
       "16       1\n",
       "17      14\n",
       "18      35\n",
       "19      29\n",
       "20      11\n",
       "21       5\n",
       "22       3\n",
       "23       4\n",
       "24      33\n",
       "25      36\n",
       "26      27\n",
       "27      30\n",
       "28      31\n",
       "29      31\n",
       "        ..\n",
       "9970    34\n",
       "9971     8\n",
       "9972    35\n",
       "9973    36\n",
       "9974    33\n",
       "9975    33\n",
       "9976     3\n",
       "9977    36\n",
       "9978    32\n",
       "9979    36\n",
       "9980    33\n",
       "9981    34\n",
       "9982    15\n",
       "9983    32\n",
       "9984    36\n",
       "9985    31\n",
       "9986    35\n",
       "9987    37\n",
       "9988    32\n",
       "9989    30\n",
       "9990    34\n",
       "9991     2\n",
       "9992    34\n",
       "9993    37\n",
       "9994    36\n",
       "9995    34\n",
       "9996     6\n",
       "9997    36\n",
       "9998    34\n",
       "9999    33\n",
       "Name: LOS, Length: 70000, dtype: int64"
      ]
     },
     "execution_count": 76,
     "metadata": {},
     "output_type": "execute_result"
    }
   ],
   "source": [
    "data['LOS']"
   ]
  },
  {
   "cell_type": "code",
   "execution_count": 44,
   "metadata": {
    "collapsed": true
   },
   "outputs": [],
   "source": [
    "data['GENDER'] = data['GENDER'].map(gender_change)\n",
    "data['AGE']= data['AGE'].map(group_age)\n",
    "data['MARSTAT'] = data['MARSTAT'].map(mar_change)\n",
    "data['FRSTUSE1'] = data['FRSTUSE1'].map(frst_age)\n",
    "data['FREQ1'] = data['FREQ1'].map(freq_use)\n",
    "data['LenOfUse'] = data['AGE'] - data['FRSTUSE1']"
   ]
  },
  {
   "cell_type": "code",
   "execution_count": 45,
   "metadata": {
    "collapsed": true
   },
   "outputs": [],
   "source": [
    "listed.add('AGE')\n",
    "listed_columns = []\n",
    "for i in listed:\n",
    "    listed_columns.append(i)"
   ]
  },
  {
   "cell_type": "code",
   "execution_count": 46,
   "metadata": {
    "collapsed": true
   },
   "outputs": [],
   "source": [
    "for i in data.columns:\n",
    "    num = i.find('nan')\n",
    "    if num != -1:\n",
    "        del data[i]"
   ]
  },
  {
   "cell_type": "code",
   "execution_count": 47,
   "metadata": {
    "collapsed": true,
    "scrolled": true
   },
   "outputs": [],
   "source": [
    "#remove, race ethnic, educ, employ, ?"
   ]
  },
  {
   "cell_type": "code",
   "execution_count": 48,
   "metadata": {
    "collapsed": true
   },
   "outputs": [],
   "source": [
    "from sklearn.tree import DecisionTreeClassifier, export_graphviz\n",
    "from sklearn.model_selection import train_test_split"
   ]
  },
  {
   "cell_type": "code",
   "execution_count": 55,
   "metadata": {
    "collapsed": true
   },
   "outputs": [],
   "source": [
    "Y= data['REASON']\n",
    "X= data\n",
    "del X['REASON']\n"
   ]
  },
  {
   "cell_type": "code",
   "execution_count": 54,
   "metadata": {
    "collapsed": true
   },
   "outputs": [],
   "source": [
    "data.replace(np.NaN, '-9' , inplace= True)"
   ]
  },
  {
   "cell_type": "code",
   "execution_count": 56,
   "metadata": {
    "collapsed": true
   },
   "outputs": [],
   "source": [
    "X_train, X_test, y_train, y_test = train_test_split(X,Y, test_size = 0.3, random_state=23)"
   ]
  },
  {
   "cell_type": "code",
   "execution_count": 57,
   "metadata": {},
   "outputs": [
    {
     "data": {
      "text/plain": [
       "RandomForestClassifier(bootstrap=True, class_weight=None, criterion='gini',\n",
       "            max_depth=None, max_features='auto', max_leaf_nodes=None,\n",
       "            min_impurity_split=1e-07, min_samples_leaf=1,\n",
       "            min_samples_split=2, min_weight_fraction_leaf=0.0,\n",
       "            n_estimators=10, n_jobs=1, oob_score=False, random_state=None,\n",
       "            verbose=0, warm_start=False)"
      ]
     },
     "execution_count": 57,
     "metadata": {},
     "output_type": "execute_result"
    }
   ],
   "source": [
    "from sklearn.ensemble import RandomForestClassifier\n",
    "from sklearn.datasets import make_classification\n",
    "\n",
    "\n",
    "clf = RandomForestClassifier()\n",
    "clf.fit(X_train, y_train)"
   ]
  },
  {
   "cell_type": "code",
   "execution_count": 75,
   "metadata": {},
   "outputs": [
    {
     "data": {
      "text/plain": [
       "0.50538095238095238"
      ]
     },
     "execution_count": 75,
     "metadata": {},
     "output_type": "execute_result"
    }
   ],
   "source": [
    "clf.score(X_test, y_test)"
   ]
  },
  {
   "cell_type": "code",
   "execution_count": null,
   "metadata": {
    "collapsed": true
   },
   "outputs": [],
   "source": []
  }
 ],
 "metadata": {
  "kernelspec": {
   "display_name": "Python 2",
   "language": "python",
   "name": "python2"
  },
  "language_info": {
   "codemirror_mode": {
    "name": "ipython",
    "version": 2
   },
   "file_extension": ".py",
   "mimetype": "text/x-python",
   "name": "python",
   "nbconvert_exporter": "python",
   "pygments_lexer": "ipython2",
   "version": "2.7.13"
  }
 },
 "nbformat": 4,
 "nbformat_minor": 2
}
