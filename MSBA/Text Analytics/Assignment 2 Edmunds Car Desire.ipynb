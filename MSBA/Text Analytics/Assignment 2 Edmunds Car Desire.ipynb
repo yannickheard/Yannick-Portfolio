{
 "cells": [
  {
   "cell_type": "markdown",
   "metadata": {},
   "source": [
    "The scraper for this project work"
   ]
  },
  {
   "cell_type": "code",
   "execution_count": 4,
   "metadata": {},
   "outputs": [
    {
     "name": "stdout",
     "output_type": "stream",
     "text": [
      "Populating the interactive namespace from numpy and matplotlib\n"
     ]
    },
    {
     "name": "stderr",
     "output_type": "stream",
     "text": [
      "[nltk_data] Downloading package stopwords to\n",
      "[nltk_data]     C:\\Users\\yanni\\AppData\\Roaming\\nltk_data...\n",
      "[nltk_data]   Package stopwords is already up-to-date!\n"
     ]
    }
   ],
   "source": [
    "from bs4 import BeautifulSoup\n",
    "import urllib\n",
    "from pandas import Series, DataFrame\n",
    "import pandas as pd\n",
    "import numpy as np  \n",
    "import re\n",
    "import nltk\n",
    "nltk.download(\"stopwords\")\n",
    "from nltk.corpus import stopwords\n",
    "import itertools\n",
    "from sklearn import manifold\n",
    "%pylab inline\n",
    "import urllib.request"
   ]
  },
  {
   "cell_type": "code",
   "execution_count": 5,
   "metadata": {},
   "outputs": [
    {
     "name": "stdout",
     "output_type": "stream",
     "text": [
      "https://forums.edmunds.com/discussion/7526/general/x/midsize-sedans-2-0/p1\n"
     ]
    },
    {
     "ename": "HTTPError",
     "evalue": "HTTP Error 403: Forbidden",
     "output_type": "error",
     "traceback": [
      "\u001b[1;31m---------------------------------------------------------------------------\u001b[0m",
      "\u001b[1;31mHTTPError\u001b[0m                                 Traceback (most recent call last)",
      "\u001b[1;32m<ipython-input-5-fce1bb1f5b22>\u001b[0m in \u001b[0;36m<module>\u001b[1;34m\u001b[0m\n\u001b[0;32m     19\u001b[0m \u001b[1;32mfor\u001b[0m \u001b[0mp\u001b[0m \u001b[1;32min\u001b[0m \u001b[0mrange\u001b[0m\u001b[1;33m(\u001b[0m\u001b[1;36m1\u001b[0m\u001b[1;33m,\u001b[0m\u001b[1;36m251\u001b[0m\u001b[1;33m)\u001b[0m\u001b[1;33m:\u001b[0m\u001b[1;33m\u001b[0m\u001b[1;33m\u001b[0m\u001b[0m\n\u001b[0;32m     20\u001b[0m     \u001b[0mx\u001b[0m \u001b[1;33m=\u001b[0m \u001b[1;34m'https://forums.edmunds.com/discussion/7526/general/x/midsize-sedans-2-0/p'\u001b[0m\u001b[1;33m+\u001b[0m\u001b[0mstr\u001b[0m\u001b[1;33m(\u001b[0m\u001b[0mp\u001b[0m\u001b[1;33m)\u001b[0m\u001b[1;33m\u001b[0m\u001b[1;33m\u001b[0m\u001b[0m\n\u001b[1;32m---> 21\u001b[1;33m     \u001b[0mPageToList\u001b[0m\u001b[1;33m(\u001b[0m\u001b[0mx\u001b[0m\u001b[1;33m)\u001b[0m\u001b[1;33m\u001b[0m\u001b[1;33m\u001b[0m\u001b[0m\n\u001b[0m\u001b[0;32m     22\u001b[0m \u001b[1;33m\u001b[0m\u001b[0m\n\u001b[0;32m     23\u001b[0m \u001b[1;31m#Put the results into a dataframe and export to csv\u001b[0m\u001b[1;33m\u001b[0m\u001b[1;33m\u001b[0m\u001b[1;33m\u001b[0m\u001b[0m\n",
      "\u001b[1;32m<ipython-input-5-fce1bb1f5b22>\u001b[0m in \u001b[0;36mPageToList\u001b[1;34m(URL)\u001b[0m\n\u001b[0;32m      2\u001b[0m \u001b[1;32mdef\u001b[0m \u001b[0mPageToList\u001b[0m\u001b[1;33m(\u001b[0m\u001b[0mURL\u001b[0m\u001b[1;33m)\u001b[0m\u001b[1;33m:\u001b[0m\u001b[1;33m\u001b[0m\u001b[1;33m\u001b[0m\u001b[0m\n\u001b[0;32m      3\u001b[0m     \u001b[0mprint\u001b[0m\u001b[1;33m(\u001b[0m \u001b[0mURL\u001b[0m\u001b[1;33m)\u001b[0m\u001b[1;33m\u001b[0m\u001b[1;33m\u001b[0m\u001b[0m\n\u001b[1;32m----> 4\u001b[1;33m     \u001b[0mpage\u001b[0m \u001b[1;33m=\u001b[0m \u001b[0murllib\u001b[0m\u001b[1;33m.\u001b[0m\u001b[0mrequest\u001b[0m\u001b[1;33m.\u001b[0m\u001b[0murlopen\u001b[0m\u001b[1;33m(\u001b[0m\u001b[0mURL\u001b[0m\u001b[1;33m)\u001b[0m\u001b[1;33m.\u001b[0m\u001b[0mread\u001b[0m\u001b[1;33m(\u001b[0m\u001b[1;33m)\u001b[0m\u001b[1;33m\u001b[0m\u001b[1;33m\u001b[0m\u001b[0m\n\u001b[0m\u001b[0;32m      5\u001b[0m     \u001b[0msoup\u001b[0m \u001b[1;33m=\u001b[0m \u001b[0mBeautifulSoup\u001b[0m\u001b[1;33m(\u001b[0m\u001b[0mpage\u001b[0m\u001b[1;33m)\u001b[0m\u001b[1;33m\u001b[0m\u001b[1;33m\u001b[0m\u001b[0m\n\u001b[0;32m      6\u001b[0m     \u001b[0mpage_comments\u001b[0m \u001b[1;33m=\u001b[0m \u001b[0msoup\u001b[0m\u001b[1;33m.\u001b[0m\u001b[0mfind_all\u001b[0m\u001b[1;33m(\u001b[0m\u001b[1;34m\"div\"\u001b[0m\u001b[1;33m,\u001b[0m \u001b[0mclass_\u001b[0m\u001b[1;33m=\u001b[0m\u001b[1;34m\"Comment\"\u001b[0m\u001b[1;33m)\u001b[0m\u001b[1;33m\u001b[0m\u001b[1;33m\u001b[0m\u001b[0m\n",
      "\u001b[1;32mc:\\users\\yanni\\appdata\\local\\programs\\python\\python37\\lib\\urllib\\request.py\u001b[0m in \u001b[0;36murlopen\u001b[1;34m(url, data, timeout, cafile, capath, cadefault, context)\u001b[0m\n\u001b[0;32m    220\u001b[0m     \u001b[1;32melse\u001b[0m\u001b[1;33m:\u001b[0m\u001b[1;33m\u001b[0m\u001b[1;33m\u001b[0m\u001b[0m\n\u001b[0;32m    221\u001b[0m         \u001b[0mopener\u001b[0m \u001b[1;33m=\u001b[0m \u001b[0m_opener\u001b[0m\u001b[1;33m\u001b[0m\u001b[1;33m\u001b[0m\u001b[0m\n\u001b[1;32m--> 222\u001b[1;33m     \u001b[1;32mreturn\u001b[0m \u001b[0mopener\u001b[0m\u001b[1;33m.\u001b[0m\u001b[0mopen\u001b[0m\u001b[1;33m(\u001b[0m\u001b[0murl\u001b[0m\u001b[1;33m,\u001b[0m \u001b[0mdata\u001b[0m\u001b[1;33m,\u001b[0m \u001b[0mtimeout\u001b[0m\u001b[1;33m)\u001b[0m\u001b[1;33m\u001b[0m\u001b[1;33m\u001b[0m\u001b[0m\n\u001b[0m\u001b[0;32m    223\u001b[0m \u001b[1;33m\u001b[0m\u001b[0m\n\u001b[0;32m    224\u001b[0m \u001b[1;32mdef\u001b[0m \u001b[0minstall_opener\u001b[0m\u001b[1;33m(\u001b[0m\u001b[0mopener\u001b[0m\u001b[1;33m)\u001b[0m\u001b[1;33m:\u001b[0m\u001b[1;33m\u001b[0m\u001b[1;33m\u001b[0m\u001b[0m\n",
      "\u001b[1;32mc:\\users\\yanni\\appdata\\local\\programs\\python\\python37\\lib\\urllib\\request.py\u001b[0m in \u001b[0;36mopen\u001b[1;34m(self, fullurl, data, timeout)\u001b[0m\n\u001b[0;32m    529\u001b[0m         \u001b[1;32mfor\u001b[0m \u001b[0mprocessor\u001b[0m \u001b[1;32min\u001b[0m \u001b[0mself\u001b[0m\u001b[1;33m.\u001b[0m\u001b[0mprocess_response\u001b[0m\u001b[1;33m.\u001b[0m\u001b[0mget\u001b[0m\u001b[1;33m(\u001b[0m\u001b[0mprotocol\u001b[0m\u001b[1;33m,\u001b[0m \u001b[1;33m[\u001b[0m\u001b[1;33m]\u001b[0m\u001b[1;33m)\u001b[0m\u001b[1;33m:\u001b[0m\u001b[1;33m\u001b[0m\u001b[1;33m\u001b[0m\u001b[0m\n\u001b[0;32m    530\u001b[0m             \u001b[0mmeth\u001b[0m \u001b[1;33m=\u001b[0m \u001b[0mgetattr\u001b[0m\u001b[1;33m(\u001b[0m\u001b[0mprocessor\u001b[0m\u001b[1;33m,\u001b[0m \u001b[0mmeth_name\u001b[0m\u001b[1;33m)\u001b[0m\u001b[1;33m\u001b[0m\u001b[1;33m\u001b[0m\u001b[0m\n\u001b[1;32m--> 531\u001b[1;33m             \u001b[0mresponse\u001b[0m \u001b[1;33m=\u001b[0m \u001b[0mmeth\u001b[0m\u001b[1;33m(\u001b[0m\u001b[0mreq\u001b[0m\u001b[1;33m,\u001b[0m \u001b[0mresponse\u001b[0m\u001b[1;33m)\u001b[0m\u001b[1;33m\u001b[0m\u001b[1;33m\u001b[0m\u001b[0m\n\u001b[0m\u001b[0;32m    532\u001b[0m \u001b[1;33m\u001b[0m\u001b[0m\n\u001b[0;32m    533\u001b[0m         \u001b[1;32mreturn\u001b[0m \u001b[0mresponse\u001b[0m\u001b[1;33m\u001b[0m\u001b[1;33m\u001b[0m\u001b[0m\n",
      "\u001b[1;32mc:\\users\\yanni\\appdata\\local\\programs\\python\\python37\\lib\\urllib\\request.py\u001b[0m in \u001b[0;36mhttp_response\u001b[1;34m(self, request, response)\u001b[0m\n\u001b[0;32m    639\u001b[0m         \u001b[1;32mif\u001b[0m \u001b[1;32mnot\u001b[0m \u001b[1;33m(\u001b[0m\u001b[1;36m200\u001b[0m \u001b[1;33m<=\u001b[0m \u001b[0mcode\u001b[0m \u001b[1;33m<\u001b[0m \u001b[1;36m300\u001b[0m\u001b[1;33m)\u001b[0m\u001b[1;33m:\u001b[0m\u001b[1;33m\u001b[0m\u001b[1;33m\u001b[0m\u001b[0m\n\u001b[0;32m    640\u001b[0m             response = self.parent.error(\n\u001b[1;32m--> 641\u001b[1;33m                 'http', request, response, code, msg, hdrs)\n\u001b[0m\u001b[0;32m    642\u001b[0m \u001b[1;33m\u001b[0m\u001b[0m\n\u001b[0;32m    643\u001b[0m         \u001b[1;32mreturn\u001b[0m \u001b[0mresponse\u001b[0m\u001b[1;33m\u001b[0m\u001b[1;33m\u001b[0m\u001b[0m\n",
      "\u001b[1;32mc:\\users\\yanni\\appdata\\local\\programs\\python\\python37\\lib\\urllib\\request.py\u001b[0m in \u001b[0;36merror\u001b[1;34m(self, proto, *args)\u001b[0m\n\u001b[0;32m    567\u001b[0m         \u001b[1;32mif\u001b[0m \u001b[0mhttp_err\u001b[0m\u001b[1;33m:\u001b[0m\u001b[1;33m\u001b[0m\u001b[1;33m\u001b[0m\u001b[0m\n\u001b[0;32m    568\u001b[0m             \u001b[0margs\u001b[0m \u001b[1;33m=\u001b[0m \u001b[1;33m(\u001b[0m\u001b[0mdict\u001b[0m\u001b[1;33m,\u001b[0m \u001b[1;34m'default'\u001b[0m\u001b[1;33m,\u001b[0m \u001b[1;34m'http_error_default'\u001b[0m\u001b[1;33m)\u001b[0m \u001b[1;33m+\u001b[0m \u001b[0morig_args\u001b[0m\u001b[1;33m\u001b[0m\u001b[1;33m\u001b[0m\u001b[0m\n\u001b[1;32m--> 569\u001b[1;33m             \u001b[1;32mreturn\u001b[0m \u001b[0mself\u001b[0m\u001b[1;33m.\u001b[0m\u001b[0m_call_chain\u001b[0m\u001b[1;33m(\u001b[0m\u001b[1;33m*\u001b[0m\u001b[0margs\u001b[0m\u001b[1;33m)\u001b[0m\u001b[1;33m\u001b[0m\u001b[1;33m\u001b[0m\u001b[0m\n\u001b[0m\u001b[0;32m    570\u001b[0m \u001b[1;33m\u001b[0m\u001b[0m\n\u001b[0;32m    571\u001b[0m \u001b[1;31m# XXX probably also want an abstract factory that knows when it makes\u001b[0m\u001b[1;33m\u001b[0m\u001b[1;33m\u001b[0m\u001b[1;33m\u001b[0m\u001b[0m\n",
      "\u001b[1;32mc:\\users\\yanni\\appdata\\local\\programs\\python\\python37\\lib\\urllib\\request.py\u001b[0m in \u001b[0;36m_call_chain\u001b[1;34m(self, chain, kind, meth_name, *args)\u001b[0m\n\u001b[0;32m    501\u001b[0m         \u001b[1;32mfor\u001b[0m \u001b[0mhandler\u001b[0m \u001b[1;32min\u001b[0m \u001b[0mhandlers\u001b[0m\u001b[1;33m:\u001b[0m\u001b[1;33m\u001b[0m\u001b[1;33m\u001b[0m\u001b[0m\n\u001b[0;32m    502\u001b[0m             \u001b[0mfunc\u001b[0m \u001b[1;33m=\u001b[0m \u001b[0mgetattr\u001b[0m\u001b[1;33m(\u001b[0m\u001b[0mhandler\u001b[0m\u001b[1;33m,\u001b[0m \u001b[0mmeth_name\u001b[0m\u001b[1;33m)\u001b[0m\u001b[1;33m\u001b[0m\u001b[1;33m\u001b[0m\u001b[0m\n\u001b[1;32m--> 503\u001b[1;33m             \u001b[0mresult\u001b[0m \u001b[1;33m=\u001b[0m \u001b[0mfunc\u001b[0m\u001b[1;33m(\u001b[0m\u001b[1;33m*\u001b[0m\u001b[0margs\u001b[0m\u001b[1;33m)\u001b[0m\u001b[1;33m\u001b[0m\u001b[1;33m\u001b[0m\u001b[0m\n\u001b[0m\u001b[0;32m    504\u001b[0m             \u001b[1;32mif\u001b[0m \u001b[0mresult\u001b[0m \u001b[1;32mis\u001b[0m \u001b[1;32mnot\u001b[0m \u001b[1;32mNone\u001b[0m\u001b[1;33m:\u001b[0m\u001b[1;33m\u001b[0m\u001b[1;33m\u001b[0m\u001b[0m\n\u001b[0;32m    505\u001b[0m                 \u001b[1;32mreturn\u001b[0m \u001b[0mresult\u001b[0m\u001b[1;33m\u001b[0m\u001b[1;33m\u001b[0m\u001b[0m\n",
      "\u001b[1;32mc:\\users\\yanni\\appdata\\local\\programs\\python\\python37\\lib\\urllib\\request.py\u001b[0m in \u001b[0;36mhttp_error_default\u001b[1;34m(self, req, fp, code, msg, hdrs)\u001b[0m\n\u001b[0;32m    647\u001b[0m \u001b[1;32mclass\u001b[0m \u001b[0mHTTPDefaultErrorHandler\u001b[0m\u001b[1;33m(\u001b[0m\u001b[0mBaseHandler\u001b[0m\u001b[1;33m)\u001b[0m\u001b[1;33m:\u001b[0m\u001b[1;33m\u001b[0m\u001b[1;33m\u001b[0m\u001b[0m\n\u001b[0;32m    648\u001b[0m     \u001b[1;32mdef\u001b[0m \u001b[0mhttp_error_default\u001b[0m\u001b[1;33m(\u001b[0m\u001b[0mself\u001b[0m\u001b[1;33m,\u001b[0m \u001b[0mreq\u001b[0m\u001b[1;33m,\u001b[0m \u001b[0mfp\u001b[0m\u001b[1;33m,\u001b[0m \u001b[0mcode\u001b[0m\u001b[1;33m,\u001b[0m \u001b[0mmsg\u001b[0m\u001b[1;33m,\u001b[0m \u001b[0mhdrs\u001b[0m\u001b[1;33m)\u001b[0m\u001b[1;33m:\u001b[0m\u001b[1;33m\u001b[0m\u001b[1;33m\u001b[0m\u001b[0m\n\u001b[1;32m--> 649\u001b[1;33m         \u001b[1;32mraise\u001b[0m \u001b[0mHTTPError\u001b[0m\u001b[1;33m(\u001b[0m\u001b[0mreq\u001b[0m\u001b[1;33m.\u001b[0m\u001b[0mfull_url\u001b[0m\u001b[1;33m,\u001b[0m \u001b[0mcode\u001b[0m\u001b[1;33m,\u001b[0m \u001b[0mmsg\u001b[0m\u001b[1;33m,\u001b[0m \u001b[0mhdrs\u001b[0m\u001b[1;33m,\u001b[0m \u001b[0mfp\u001b[0m\u001b[1;33m)\u001b[0m\u001b[1;33m\u001b[0m\u001b[1;33m\u001b[0m\u001b[0m\n\u001b[0m\u001b[0;32m    650\u001b[0m \u001b[1;33m\u001b[0m\u001b[0m\n\u001b[0;32m    651\u001b[0m \u001b[1;32mclass\u001b[0m \u001b[0mHTTPRedirectHandler\u001b[0m\u001b[1;33m(\u001b[0m\u001b[0mBaseHandler\u001b[0m\u001b[1;33m)\u001b[0m\u001b[1;33m:\u001b[0m\u001b[1;33m\u001b[0m\u001b[1;33m\u001b[0m\u001b[0m\n",
      "\u001b[1;31mHTTPError\u001b[0m: HTTP Error 403: Forbidden"
     ]
    }
   ],
   "source": [
    "#define the function for scraping the pages\n",
    "def PageToList(URL):\n",
    "    print( URL)\n",
    "    page = urllib.request.urlopen(URL).read()\n",
    "    soup = BeautifulSoup(page)\n",
    "    page_comments = soup.find_all(\"div\", class_=\"Comment\")\n",
    "    for i in range(0,len(page_comments)):\n",
    "        post_date = page_comments[i].find('time')['title']\n",
    "        post_userid = page_comments[i].find(\"a\", class_=\"Username\").get_text().encode('utf-8').strip()\n",
    "        post_message = page_comments[i].find(\"div\", class_=\"Message\").get_text().encode('utf-8').strip()\n",
    "\n",
    "        comment_tuple = [post_date,post_userid,post_message]\n",
    "        Results_list.append(comment_tuple)\n",
    "    return\n",
    "\n",
    "#initialize a list to hold the results\n",
    "Results_list = []\n",
    "#call the scraper for 250 pages of messages\n",
    "for p in range(1,251):\n",
    "    x = 'https://forums.edmunds.com/discussion/7526/general/x/midsize-sedans-2-0/p'+str(p)\n",
    "    PageToList(x)\n",
    "\n",
    "#Put the results into a dataframe and export to csv\n",
    "Results_df = DataFrame(Results_list,columns=['Date','UserID','Message'])\n",
    "Results_df.to_csv('hw2.csv')"
   ]
  },
  {
   "cell_type": "markdown",
   "metadata": {},
   "source": [
    "# Part A"
   ]
  },
  {
   "cell_type": "code",
   "execution_count": 3,
   "metadata": {
    "scrolled": true
   },
   "outputs": [
    {
     "data": {
      "text/html": [
       "<div>\n",
       "<style>\n",
       "    .dataframe thead tr:only-child th {\n",
       "        text-align: right;\n",
       "    }\n",
       "\n",
       "    .dataframe thead th {\n",
       "        text-align: left;\n",
       "    }\n",
       "\n",
       "    .dataframe tbody tr th {\n",
       "        vertical-align: top;\n",
       "    }\n",
       "</style>\n",
       "<table border=\"1\" class=\"dataframe\">\n",
       "  <thead>\n",
       "    <tr style=\"text-align: right;\">\n",
       "      <th></th>\n",
       "      <th>Make</th>\n",
       "      <th>Model</th>\n",
       "    </tr>\n",
       "  </thead>\n",
       "  <tbody>\n",
       "    <tr>\n",
       "      <th>0</th>\n",
       "      <td>acura</td>\n",
       "      <td>integra</td>\n",
       "    </tr>\n",
       "    <tr>\n",
       "      <th>1</th>\n",
       "      <td>acura</td>\n",
       "      <td>legend</td>\n",
       "    </tr>\n",
       "    <tr>\n",
       "      <th>2</th>\n",
       "      <td>acura</td>\n",
       "      <td>vigor</td>\n",
       "    </tr>\n",
       "    <tr>\n",
       "      <th>3</th>\n",
       "      <td>acura</td>\n",
       "      <td>rlx</td>\n",
       "    </tr>\n",
       "    <tr>\n",
       "      <th>4</th>\n",
       "      <td>acura</td>\n",
       "      <td>ilx</td>\n",
       "    </tr>\n",
       "  </tbody>\n",
       "</table>\n",
       "</div>"
      ],
      "text/plain": [
       "    Make    Model\n",
       "0  acura  integra\n",
       "1  acura  legend \n",
       "2  acura    vigor\n",
       "3  acura      rlx\n",
       "4  acura      ilx"
      ]
     },
     "execution_count": 3,
     "metadata": {},
     "output_type": "execute_result"
    }
   ],
   "source": [
    "brands = pd.ExcelFile('Cars make model list.xlsx')\n",
    "brands_df = brands.parse('Models')\n",
    "del brands_df['Unnamed: 0']\n",
    "brands_df.columns = ['Make', 'Model']\n",
    "brands_df = brands_df.dropna()\n",
    "brands_df = brands_df.drop(brands_df.index[[0]])\n",
    "brands_df = brands_df.reset_index()\n",
    "del brands_df['index']\n",
    "brands_df['Model'] = brands_df['Model'].str.lower()\n",
    "brands_df['Make'] = brands_df['Make'].str.lower()\n",
    "brands_df.head()"
   ]
  },
  {
   "cell_type": "code",
   "execution_count": 4,
   "metadata": {
    "collapsed": true
   },
   "outputs": [],
   "source": [
    "def ModelToMake(string):\n",
    "    string = string.lower()\n",
    "    for i in range(0,len(brands_df)):\n",
    "        string = string.replace(brands_df.iloc[i]['Model'].encode('utf-8').strip(), brands_df.iloc[i]['Make'].encode('utf-8').strip(),1)\n",
    "    return   string \n",
    "    \n",
    "#teststring = \"acura integra vigor vigor\"\n",
    "Results_df['ModelReplaced'] = Results_df['Message'].map(ModelToMake)"
   ]
  },
  {
   "cell_type": "code",
   "execution_count": 5,
   "metadata": {},
   "outputs": [],
   "source": [
    "#add a dummy row to results_df\n",
    "Results_df.loc[len(Results_df)-1] = [\"September 24, 2017 2:52PM\",\"dummy\", str(' '.join(brands_df['Make'].unique().tolist())), str(' '.join(brands_df['Make'].unique().tolist()))]"
   ]
  },
  {
   "cell_type": "code",
   "execution_count": 6,
   "metadata": {
    "collapsed": true
   },
   "outputs": [],
   "source": [
    "def message_to_brands(message):\n",
    "    # Function to convert a raw message to a string of words\n",
    "    #\n",
    "    # 1. Remove non-letters        \n",
    "    letters_only = re.sub(\"[^a-zA-Z]\", \" \", str(message)) \n",
    "    #\n",
    "    # 2. Convert to lower case, split into individual words\n",
    "    words = letters_only.lower().split()                             \n",
    "    #\n",
    "    # 3. In Python, searching a set is much faster than searching\n",
    "    #   a list, so convert the brand words to a set                 \n",
    "    brands = set(brands_df['Make'].unique().tolist()) -{'car','sedan','problem','seat'}\n",
    "    # \n",
    "    # 4. Remove stop words\n",
    "    meaningful_words = [w for w in words if  w in brands]    \n",
    "    #\n",
    "    # 5. Remove duplicates\n",
    "    uwords = []\n",
    "    [uwords.append(x) for x in meaningful_words if x not in uwords]\n",
    "    # 6. Join the words back into one string separated by space, \n",
    "    onestring = ( \" \".join( uwords )) \n",
    "    #\n",
    "    # 7. return the string\n",
    "    return onestring\n",
    "\n",
    "Results_df['brands'] = Results_df['ModelReplaced'].map(message_to_brands)"
   ]
  },
  {
   "cell_type": "code",
   "execution_count": 8,
   "metadata": {},
   "outputs": [
    {
     "data": {
      "text/plain": [
       "honda        3078\n",
       "ford         1826\n",
       "toyota       1493\n",
       "hyundai       919\n",
       "nissan        792\n",
       "mazda         658\n",
       "chevrolet     442\n",
       "chrysler      431\n",
       "saturn        410\n",
       "subaru        248\n",
       "dtype: int64"
      ]
     },
     "execution_count": 8,
     "metadata": {},
     "output_type": "execute_result"
    }
   ],
   "source": [
    "top_10_brands = pd.Series(\" \".join(Results_df['brands']).split()).value_counts()[:10]\n",
    "top_10_brands"
   ]
  },
  {
   "cell_type": "code",
   "execution_count": 9,
   "metadata": {
    "scrolled": false
   },
   "outputs": [
    {
     "data": {
      "text/html": [
       "<div>\n",
       "<style>\n",
       "    .dataframe thead tr:only-child th {\n",
       "        text-align: right;\n",
       "    }\n",
       "\n",
       "    .dataframe thead th {\n",
       "        text-align: left;\n",
       "    }\n",
       "\n",
       "    .dataframe tbody tr th {\n",
       "        vertical-align: top;\n",
       "    }\n",
       "</style>\n",
       "<table border=\"1\" class=\"dataframe\">\n",
       "  <thead>\n",
       "    <tr style=\"text-align: right;\">\n",
       "      <th></th>\n",
       "      <th>Date</th>\n",
       "      <th>UserID</th>\n",
       "      <th>Message</th>\n",
       "      <th>ModelReplaced</th>\n",
       "      <th>brands</th>\n",
       "    </tr>\n",
       "  </thead>\n",
       "  <tbody>\n",
       "    <tr>\n",
       "      <th>0</th>\n",
       "      <td>April 12, 2007  2:52AM</td>\n",
       "      <td>motownusa</td>\n",
       "      <td>Hi Pat:You forgot the Chrysler Sebring</td>\n",
       "      <td>hi pat:you forgot the chrysler chrysler</td>\n",
       "      <td>chrysler</td>\n",
       "    </tr>\n",
       "    <tr>\n",
       "      <th>1</th>\n",
       "      <td>April 12, 2007  3:33AM</td>\n",
       "      <td>exshoman</td>\n",
       "      <td>I'm sure some folks would appreciate having th...</td>\n",
       "      <td>i'm sure some folks would appreciate having th...</td>\n",
       "      <td>chevrolet</td>\n",
       "    </tr>\n",
       "    <tr>\n",
       "      <th>2</th>\n",
       "      <td>April 12, 2007  2:51PM</td>\n",
       "      <td>targettuning</td>\n",
       "      <td>You can try to revive this topic but without b...</td>\n",
       "      <td>you can try to revive this topic but without b...</td>\n",
       "      <td></td>\n",
       "    </tr>\n",
       "    <tr>\n",
       "      <th>3</th>\n",
       "      <td>April 12, 2007  4:43PM</td>\n",
       "      <td>pat</td>\n",
       "      <td>Model vs. model is exactly what we're here for...</td>\n",
       "      <td>model vs. model is exactly what we're here for...</td>\n",
       "      <td></td>\n",
       "    </tr>\n",
       "    <tr>\n",
       "      <th>4</th>\n",
       "      <td>April 13, 2007  7:49PM</td>\n",
       "      <td>perna</td>\n",
       "      <td>The Altima is my favorite of the bunch.  It is...</td>\n",
       "      <td>the nissan is my favorite of the bunch.  it is...</td>\n",
       "      <td>nissan ford toyota honda saturn mazda hyundai kia</td>\n",
       "    </tr>\n",
       "    <tr>\n",
       "      <th>5</th>\n",
       "      <td>April 13, 2007  8:05PM</td>\n",
       "      <td>mike91326</td>\n",
       "      <td>What do you think of the CVT in the Altima? I'...</td>\n",
       "      <td>what do you think of the cvt in the nissan? i'...</td>\n",
       "      <td>nissan</td>\n",
       "    </tr>\n",
       "    <tr>\n",
       "      <th>6</th>\n",
       "      <td>April 13, 2007  8:18PM</td>\n",
       "      <td>plekto</td>\n",
       "      <td>Buick LaCrossePassat(Audi A6 in non-lux trim)V...</td>\n",
       "      <td>buick buickvolkswagen(audi audi in non-lux tri...</td>\n",
       "      <td>buick audi volvo mazda nissan</td>\n",
       "    </tr>\n",
       "    <tr>\n",
       "      <th>7</th>\n",
       "      <td>April 13, 2007  8:24PM</td>\n",
       "      <td>perna</td>\n",
       "      <td>I have actually driven the CVT, and honestly i...</td>\n",
       "      <td>i have actually driven the cvt, and honestly i...</td>\n",
       "      <td>nissan</td>\n",
       "    </tr>\n",
       "    <tr>\n",
       "      <th>8</th>\n",
       "      <td>April 13, 2007  8:27PM</td>\n",
       "      <td>lilengineerboy</td>\n",
       "      <td>I wouldn't consider the RX-8, G35 coupe, or Sa...</td>\n",
       "      <td>i wouldn't consider the mazda, pontiac5 coupe,...</td>\n",
       "      <td>mazda pontiac saturn ford</td>\n",
       "    </tr>\n",
       "    <tr>\n",
       "      <th>9</th>\n",
       "      <td>April 13, 2007  8:32PM</td>\n",
       "      <td>lilengineerboy</td>\n",
       "      <td>My daily driver is an '03 Maxima, and the '07 ...</td>\n",
       "      <td>my daily driver is an '03 nissan, and the '07 ...</td>\n",
       "      <td>nissan ford</td>\n",
       "    </tr>\n",
       "  </tbody>\n",
       "</table>\n",
       "</div>"
      ],
      "text/plain": [
       "                     Date          UserID  \\\n",
       "0  April 12, 2007  2:52AM       motownusa   \n",
       "1  April 12, 2007  3:33AM        exshoman   \n",
       "2  April 12, 2007  2:51PM    targettuning   \n",
       "3  April 12, 2007  4:43PM             pat   \n",
       "4  April 13, 2007  7:49PM           perna   \n",
       "5  April 13, 2007  8:05PM       mike91326   \n",
       "6  April 13, 2007  8:18PM          plekto   \n",
       "7  April 13, 2007  8:24PM           perna   \n",
       "8  April 13, 2007  8:27PM  lilengineerboy   \n",
       "9  April 13, 2007  8:32PM  lilengineerboy   \n",
       "\n",
       "                                             Message  \\\n",
       "0             Hi Pat:You forgot the Chrysler Sebring   \n",
       "1  I'm sure some folks would appreciate having th...   \n",
       "2  You can try to revive this topic but without b...   \n",
       "3  Model vs. model is exactly what we're here for...   \n",
       "4  The Altima is my favorite of the bunch.  It is...   \n",
       "5  What do you think of the CVT in the Altima? I'...   \n",
       "6  Buick LaCrossePassat(Audi A6 in non-lux trim)V...   \n",
       "7  I have actually driven the CVT, and honestly i...   \n",
       "8  I wouldn't consider the RX-8, G35 coupe, or Sa...   \n",
       "9  My daily driver is an '03 Maxima, and the '07 ...   \n",
       "\n",
       "                                       ModelReplaced  \\\n",
       "0            hi pat:you forgot the chrysler chrysler   \n",
       "1  i'm sure some folks would appreciate having th...   \n",
       "2  you can try to revive this topic but without b...   \n",
       "3  model vs. model is exactly what we're here for...   \n",
       "4  the nissan is my favorite of the bunch.  it is...   \n",
       "5  what do you think of the cvt in the nissan? i'...   \n",
       "6  buick buickvolkswagen(audi audi in non-lux tri...   \n",
       "7  i have actually driven the cvt, and honestly i...   \n",
       "8  i wouldn't consider the mazda, pontiac5 coupe,...   \n",
       "9  my daily driver is an '03 nissan, and the '07 ...   \n",
       "\n",
       "                                              brands  \n",
       "0                                           chrysler  \n",
       "1                                          chevrolet  \n",
       "2                                                     \n",
       "3                                                     \n",
       "4  nissan ford toyota honda saturn mazda hyundai kia  \n",
       "5                                             nissan  \n",
       "6                      buick audi volvo mazda nissan  \n",
       "7                                             nissan  \n",
       "8                          mazda pontiac saturn ford  \n",
       "9                                        nissan ford  "
      ]
     },
     "execution_count": 9,
     "metadata": {},
     "output_type": "execute_result"
    }
   ],
   "source": [
    "Results_df[:10]"
   ]
  },
  {
   "cell_type": "code",
   "execution_count": 10,
   "metadata": {
    "collapsed": true
   },
   "outputs": [],
   "source": [
    "def calculatelift(brand1,brand2):\n",
    "    N = len(Results_df)\n",
    "    num_brand1 = top_10_brands[brand1]\n",
    "    num_brand2 = top_10_brands[brand2]\n",
    "    num_both = CountTwoBrands(brand1,brand2)\n",
    "    lift = float(N*num_both)/(num_brand1*num_brand2)\n",
    "    return lift\n",
    "\n",
    "def CountTwoBrands(brand1,brand2):\n",
    "    count = 0\n",
    "    for i in range(0,len(Results_df)):\n",
    "        if (brand1 in Results_df.iloc[i]['brands'] and brand2 in Results_df.iloc[i]['brands']):\n",
    "            count += 1\n",
    "    return count\n",
    "\n",
    "my_list = top_10_brands.index.tolist()\n",
    "liftvals = []\n",
    "for pair in itertools.product(my_list, repeat=2):\n",
    "    lift = calculatelift(*pair)\n",
    "    liftvals.append(lift)\n"
   ]
  },
  {
   "cell_type": "code",
   "execution_count": 19,
   "metadata": {},
   "outputs": [
    {
     "data": {
      "text/html": [
       "<div>\n",
       "<style>\n",
       "    .dataframe thead tr:only-child th {\n",
       "        text-align: right;\n",
       "    }\n",
       "\n",
       "    .dataframe thead th {\n",
       "        text-align: left;\n",
       "    }\n",
       "\n",
       "    .dataframe tbody tr th {\n",
       "        vertical-align: top;\n",
       "    }\n",
       "</style>\n",
       "<table border=\"1\" class=\"dataframe\">\n",
       "  <thead>\n",
       "    <tr style=\"text-align: right;\">\n",
       "      <th></th>\n",
       "      <th>honda</th>\n",
       "      <th>ford</th>\n",
       "      <th>toyota</th>\n",
       "      <th>hyundai</th>\n",
       "      <th>nissan</th>\n",
       "      <th>mazda</th>\n",
       "      <th>chevrolet</th>\n",
       "      <th>chrysler</th>\n",
       "      <th>saturn</th>\n",
       "      <th>subaru</th>\n",
       "    </tr>\n",
       "  </thead>\n",
       "  <tbody>\n",
       "    <tr>\n",
       "      <th>honda</th>\n",
       "      <td>1.000000</td>\n",
       "      <td>1.166281</td>\n",
       "      <td>1.777300</td>\n",
       "      <td>1.492745</td>\n",
       "      <td>1.538287</td>\n",
       "      <td>1.162777</td>\n",
       "      <td>1.449860</td>\n",
       "      <td>1.419022</td>\n",
       "      <td>1.456045</td>\n",
       "      <td>1.454128</td>\n",
       "    </tr>\n",
       "    <tr>\n",
       "      <th>ford</th>\n",
       "      <td>1.166281</td>\n",
       "      <td>1.000000</td>\n",
       "      <td>1.540596</td>\n",
       "      <td>1.367623</td>\n",
       "      <td>1.426159</td>\n",
       "      <td>1.310853</td>\n",
       "      <td>1.375308</td>\n",
       "      <td>1.334170</td>\n",
       "      <td>1.422542</td>\n",
       "      <td>0.977149</td>\n",
       "    </tr>\n",
       "    <tr>\n",
       "      <th>toyota</th>\n",
       "      <td>1.777300</td>\n",
       "      <td>1.540596</td>\n",
       "      <td>1.000000</td>\n",
       "      <td>1.880375</td>\n",
       "      <td>2.403895</td>\n",
       "      <td>1.084086</td>\n",
       "      <td>2.079842</td>\n",
       "      <td>1.433604</td>\n",
       "      <td>2.242171</td>\n",
       "      <td>1.114070</td>\n",
       "    </tr>\n",
       "    <tr>\n",
       "      <th>hyundai</th>\n",
       "      <td>1.492745</td>\n",
       "      <td>1.367623</td>\n",
       "      <td>1.880375</td>\n",
       "      <td>1.000000</td>\n",
       "      <td>1.792957</td>\n",
       "      <td>1.153461</td>\n",
       "      <td>1.587896</td>\n",
       "      <td>1.836708</td>\n",
       "      <td>1.691924</td>\n",
       "      <td>1.842817</td>\n",
       "    </tr>\n",
       "    <tr>\n",
       "      <th>nissan</th>\n",
       "      <td>1.538287</td>\n",
       "      <td>1.426159</td>\n",
       "      <td>2.403895</td>\n",
       "      <td>1.792957</td>\n",
       "      <td>1.000000</td>\n",
       "      <td>1.626255</td>\n",
       "      <td>2.013917</td>\n",
       "      <td>1.362230</td>\n",
       "      <td>2.864006</td>\n",
       "      <td>2.252871</td>\n",
       "    </tr>\n",
       "    <tr>\n",
       "      <th>mazda</th>\n",
       "      <td>1.162777</td>\n",
       "      <td>1.310853</td>\n",
       "      <td>1.084086</td>\n",
       "      <td>1.153461</td>\n",
       "      <td>1.626255</td>\n",
       "      <td>1.000000</td>\n",
       "      <td>0.850995</td>\n",
       "      <td>0.899160</td>\n",
       "      <td>0.861813</td>\n",
       "      <td>3.263188</td>\n",
       "    </tr>\n",
       "    <tr>\n",
       "      <th>chevrolet</th>\n",
       "      <td>1.449860</td>\n",
       "      <td>1.375308</td>\n",
       "      <td>2.079842</td>\n",
       "      <td>1.587896</td>\n",
       "      <td>2.013917</td>\n",
       "      <td>0.850995</td>\n",
       "      <td>1.000000</td>\n",
       "      <td>1.968483</td>\n",
       "      <td>5.214656</td>\n",
       "      <td>1.505255</td>\n",
       "    </tr>\n",
       "    <tr>\n",
       "      <th>chrysler</th>\n",
       "      <td>1.419022</td>\n",
       "      <td>1.334170</td>\n",
       "      <td>1.433604</td>\n",
       "      <td>1.836708</td>\n",
       "      <td>1.362230</td>\n",
       "      <td>0.899160</td>\n",
       "      <td>1.968483</td>\n",
       "      <td>1.000000</td>\n",
       "      <td>1.400600</td>\n",
       "      <td>1.403338</td>\n",
       "    </tr>\n",
       "    <tr>\n",
       "      <th>saturn</th>\n",
       "      <td>1.456045</td>\n",
       "      <td>1.422542</td>\n",
       "      <td>2.242171</td>\n",
       "      <td>1.691924</td>\n",
       "      <td>2.864006</td>\n",
       "      <td>0.861813</td>\n",
       "      <td>5.214656</td>\n",
       "      <td>1.400600</td>\n",
       "      <td>1.000000</td>\n",
       "      <td>1.622738</td>\n",
       "    </tr>\n",
       "    <tr>\n",
       "      <th>subaru</th>\n",
       "      <td>1.454128</td>\n",
       "      <td>0.977149</td>\n",
       "      <td>1.114070</td>\n",
       "      <td>1.842817</td>\n",
       "      <td>2.252871</td>\n",
       "      <td>3.263188</td>\n",
       "      <td>1.505255</td>\n",
       "      <td>1.403338</td>\n",
       "      <td>1.622738</td>\n",
       "      <td>1.000000</td>\n",
       "    </tr>\n",
       "  </tbody>\n",
       "</table>\n",
       "</div>"
      ],
      "text/plain": [
       "              honda      ford    toyota   hyundai    nissan     mazda  \\\n",
       "honda      1.000000  1.166281  1.777300  1.492745  1.538287  1.162777   \n",
       "ford       1.166281  1.000000  1.540596  1.367623  1.426159  1.310853   \n",
       "toyota     1.777300  1.540596  1.000000  1.880375  2.403895  1.084086   \n",
       "hyundai    1.492745  1.367623  1.880375  1.000000  1.792957  1.153461   \n",
       "nissan     1.538287  1.426159  2.403895  1.792957  1.000000  1.626255   \n",
       "mazda      1.162777  1.310853  1.084086  1.153461  1.626255  1.000000   \n",
       "chevrolet  1.449860  1.375308  2.079842  1.587896  2.013917  0.850995   \n",
       "chrysler   1.419022  1.334170  1.433604  1.836708  1.362230  0.899160   \n",
       "saturn     1.456045  1.422542  2.242171  1.691924  2.864006  0.861813   \n",
       "subaru     1.454128  0.977149  1.114070  1.842817  2.252871  3.263188   \n",
       "\n",
       "           chevrolet  chrysler    saturn    subaru  \n",
       "honda       1.449860  1.419022  1.456045  1.454128  \n",
       "ford        1.375308  1.334170  1.422542  0.977149  \n",
       "toyota      2.079842  1.433604  2.242171  1.114070  \n",
       "hyundai     1.587896  1.836708  1.691924  1.842817  \n",
       "nissan      2.013917  1.362230  2.864006  2.252871  \n",
       "mazda       0.850995  0.899160  0.861813  3.263188  \n",
       "chevrolet   1.000000  1.968483  5.214656  1.505255  \n",
       "chrysler    1.968483  1.000000  1.400600  1.403338  \n",
       "saturn      5.214656  1.400600  1.000000  1.622738  \n",
       "subaru      1.505255  1.403338  1.622738  1.000000  "
      ]
     },
     "execution_count": 19,
     "metadata": {},
     "output_type": "execute_result"
    }
   ],
   "source": [
    "#liftvals\n",
    "brandlift_df = pd.DataFrame(np.array(liftvals).reshape(10,10), index = top_10_brands.index.tolist(), columns = top_10_brands.index.tolist())\n",
    "for b in range(0,10):\n",
    "    brandlift_df.iloc[b][top_10_brands.index.tolist()[b]] = 1\n",
    "brandlift_df\n"
   ]
  },
  {
   "cell_type": "code",
   "execution_count": 20,
   "metadata": {},
   "outputs": [
    {
     "data": {
      "image/png": "[encoded data removed]",
      "text/plain": [
       "<matplotlib.figure.Figure at 0x118022650>"
      ]
     },
     "metadata": {},
     "output_type": "display_data"
    }
   ],
   "source": [
    "dissimilarity = 1/brandlift_df\n",
    "dissimilarityarray = np.array(dissimilarity)\n",
    "arraymax = np.amax(dissimilarityarray)\n",
    "dissimilarityarray /= arraymax\n",
    "\n",
    "mds = manifold.MDS(dissimilarity=\"precomputed\", random_state = 10)\n",
    "MDSResult = mds.fit(dissimilarityarray)\n",
    "locations = MDSResult.embedding_\n",
    "\n",
    "plt.scatter(locations[:, 0],locations[:, 1])\n",
    "\n",
    "labels = my_list\n",
    "\n",
    "for label, x, y in zip(labels, locations[:, 0],locations[:, 1]):\n",
    "    plt.annotate(\n",
    "        label,\n",
    "        xy=(x, y), xytext=(-20, 20),\n",
    "        textcoords='offset points', ha='right', va='bottom',\n",
    "        bbox=dict(boxstyle='round,pad=0.5', fc='yellow', alpha=0.5),\n",
    "        arrowprops=dict(arrowstyle = '->', connectionstyle='arc3,rad=0'))\n",
    "\n",
    "plt.show()"
   ]
  },
  {
   "cell_type": "markdown",
   "metadata": {},
   "source": [
    "# Part B\n"
   ]
  },
  {
   "cell_type": "markdown",
   "metadata": {},
   "source": [
    "See word document."
   ]
  },
  {
   "cell_type": "markdown",
   "metadata": {},
   "source": [
    "# Part C"
   ]
  },
  {
   "cell_type": "code",
   "execution_count": 21,
   "metadata": {},
   "outputs": [
    {
     "data": {
      "text/plain": [
       "engine     894\n",
       "mpg        630\n",
       "power      617\n",
       "quality    364\n",
       "manual     355\n",
       "dtype: int64"
      ]
     },
     "execution_count": 21,
     "metadata": {},
     "output_type": "execute_result"
    }
   ],
   "source": [
    "attr_list = [\"handling\", 'performance','reliability', 'engine', 'power', 'mpg', 'space', 'efficiency', 'manual', 'sporty', 'reliable',\n",
    "            'headroom','mileage', 'gas', 'powertrain', 'horsepower', 'quality']\n",
    "\n",
    "\n",
    "def list_form(string):\n",
    "    split_list = []\n",
    "    split_list = string.split()\n",
    "    return split_list\n",
    "def get_attr(list):\n",
    "    filtered_list = []\n",
    "    for attr in list:\n",
    "        if attr in attr_list:\n",
    "            filtered_list.append(attr)\n",
    "    string = \" \".join(filtered_list)\n",
    "    return string\n",
    "\n",
    "def comb_words(string):\n",
    "    if string == \"mileage\":\n",
    "        string = \"mpg\"\n",
    "    elif string == \"gas\":\n",
    "        string = \"mpg\"\n",
    "    return string\n",
    "\n",
    "\n",
    "Results_df[\"Attributes\"] = Results_df['ModelReplaced'].apply(list_form)\n",
    "Results_df[\"Attributes\"] = Results_df['Attributes'].apply(get_attr)\n",
    "Results_df[\"Attributes\"] = Results_df['Attributes'].apply(comb_words)\n",
    "top_5_attr = pd.Series(\" \".join(Results_df['Attributes']).split()).value_counts()[:5]\n",
    "top_5_attr"
   ]
  },
  {
   "cell_type": "code",
   "execution_count": 22,
   "metadata": {
    "collapsed": true
   },
   "outputs": [],
   "source": [
    "mask = (Results_df['brands'] == 'honda')\n",
    "honda_masked = Results_df.loc[mask, 'Attributes']\n",
    "top_5_attr_honda = pd.Series(\" \".join(honda_masked).split()).value_counts()[:5]\n",
    "mask = (Results_df['brands'] == 'ford')\n",
    "ford_masked = Results_df.loc[mask, 'Attributes']\n",
    "top_5_attr_ford = pd.Series(\" \".join(ford_masked).split()).value_counts()[:5]\n",
    "mask = (Results_df['brands'] == 'toyota')\n",
    "toyota_masked = Results_df.loc[mask, 'Attributes']\n",
    "top_5_attr_toyota = pd.Series(\" \".join(toyota_masked).split()).value_counts()[:5]\n",
    "mask = (Results_df['brands'] == 'hyundai')\n",
    "hyundai_masked = Results_df.loc[mask, 'Attributes']\n",
    "top_5_attr_hyundai = pd.Series(\" \".join(hyundai_masked).split()).value_counts()[:5]\n",
    "mask = (Results_df['brands'] == 'nissan')\n",
    "nissan_masked = Results_df.loc[mask, 'Attributes']\n",
    "top_5_attr_nissan = pd.Series(\" \".join(nissan_masked).split()).value_counts()[:5]"
   ]
  },
  {
   "cell_type": "code",
   "execution_count": 23,
   "metadata": {},
   "outputs": [
    {
     "data": {
      "text/plain": [
       "mpg        190\n",
       "engine     148\n",
       "power      123\n",
       "quality     62\n",
       "mileage     61\n",
       "dtype: int64"
      ]
     },
     "execution_count": 23,
     "metadata": {},
     "output_type": "execute_result"
    }
   ],
   "source": [
    "frames = [ford_masked, honda_masked, nissan_masked, hyundai_masked, toyota_masked]\n",
    "result = pd.concat(frames)\n",
    "top_5_attr_top5 = pd.Series(\" \".join(result).split()).value_counts()[:5]\n",
    "top_5_attr_top5"
   ]
  },
  {
   "cell_type": "code",
   "execution_count": 28,
   "metadata": {},
   "outputs": [
    {
     "data": {
      "text/plain": [
       "performance    4\n",
       "power          2\n",
       "handling       2\n",
       "engine         2\n",
       "reliability    1\n",
       "dtype: int64"
      ]
     },
     "execution_count": 28,
     "metadata": {},
     "output_type": "execute_result"
    }
   ],
   "source": [
    "mask = (Results_df['brands'] == 'bmw')\n",
    "bmw_masked = Results_df.loc[mask, 'Attributes']\n",
    "top_5_attr_bmw = pd.Series(\" \".join(bmw_masked).split()).value_counts()[:5]\n",
    "top_5_attr_bmw"
   ]
  },
  {
   "cell_type": "markdown",
   "metadata": {},
   "source": [
    "# Part D"
   ]
  },
  {
   "cell_type": "markdown",
   "metadata": {},
   "source": [
    "See word document."
   ]
  },
  {
   "cell_type": "markdown",
   "metadata": {},
   "source": [
    "# Part E"
   ]
  },
  {
   "cell_type": "code",
   "execution_count": 24,
   "metadata": {},
   "outputs": [
    {
     "data": {
      "text/plain": [
       "want      677\n",
       "need      603\n",
       "wish       86\n",
       "desire     11\n",
       "thirst      1\n",
       "dtype: int64"
      ]
     },
     "execution_count": 24,
     "metadata": {},
     "output_type": "execute_result"
    }
   ],
   "source": [
    "asp_list = ['want', 'desire', 'wish', 'need', 'crave', 'longing', 'thirst']\n",
    "\n",
    "\n",
    "def list_form(string):\n",
    "    split_list = []\n",
    "    split_list = string.split()\n",
    "    return split_list\n",
    "def get_asp(list):\n",
    "    filtered_list = []\n",
    "    for asp in list:\n",
    "        if asp in asp_list:\n",
    "            filtered_list.append(asp)\n",
    "    string = \" \".join(filtered_list)\n",
    "    return string\n",
    "\n",
    "def comb_words(string):\n",
    "    if string == \"mileage\":\n",
    "        string = \"mpg\"\n",
    "    elif string == \"gas\":\n",
    "        string = \"mpg\"\n",
    "    return string\n",
    "\n",
    "\n",
    "Results_df[\"Desires\"] = Results_df['ModelReplaced'].apply(list_form)\n",
    "Results_df[\"Desires\"] = Results_df['Desires'].apply(get_asp)\n",
    "Results_df[\"Desires\"] = Results_df['Desires'].apply(comb_words)\n",
    "top_5_asp = pd.Series(\" \".join(Results_df['Desires']).split()).value_counts()[:5]\n",
    "top_5_asp"
   ]
  },
  {
   "cell_type": "code",
   "execution_count": 25,
   "metadata": {
    "collapsed": true
   },
   "outputs": [],
   "source": [
    "mask = (Results_df['Desires'] == 'want')\n",
    "want_masked = Results_df.loc[mask, 'brands']\n",
    "top_5_attr_want = pd.Series(\" \".join(want_masked).split()).value_counts()[:5]\n",
    "\n",
    "mask = (Results_df['Desires'] == 'need')\n",
    "need_masked = Results_df.loc[mask, 'brands']\n",
    "top_5_attr_need = pd.Series(\" \".join(need_masked).split()).value_counts()[:5]\n",
    "\n",
    "mask = (Results_df['Desires'] == 'wish')\n",
    "wish_masked = Results_df.loc[mask, 'brands']\n",
    "top_5_attr_wish = pd.Series(\" \".join(wish_masked).split()).value_counts()[:5]\n",
    "\n",
    "mask = (Results_df['Desires'] == 'desire')\n",
    "desire_masked = Results_df.loc[mask, 'brands']\n",
    "top_5_attr_desire = pd.Series(\" \".join(desire_masked).split()).value_counts()[:5]\n",
    "\n",
    "mask = (Results_df['Desires'] == 'thirst')\n",
    "thirst_masked = Results_df.loc[mask, 'brands']\n",
    "top_5_attr_thirst = pd.Series(\" \".join(thirst_masked).split()).value_counts()[:5]"
   ]
  },
  {
   "cell_type": "code",
   "execution_count": 26,
   "metadata": {},
   "outputs": [
    {
     "data": {
      "text/plain": [
       "honda      412\n",
       "ford       242\n",
       "toyota     209\n",
       "hyundai    124\n",
       "nissan     103\n",
       "dtype: int64"
      ]
     },
     "execution_count": 26,
     "metadata": {},
     "output_type": "execute_result"
    }
   ],
   "source": [
    "frames = [want_masked, desire_masked, thirst_masked, wish_masked, need_masked]\n",
    "asp_result = pd.concat(frames)\n",
    "top_5_asp_brand = pd.Series(\" \".join(asp_result).split()).value_counts()[:5]\n",
    "top_5_asp_brand"
   ]
  },
  {
   "cell_type": "markdown",
   "metadata": {},
   "source": [
    "This analysis shows that the honda is the most aspirational brand in the dataset, as it is most highly associated with words that show desire or aspiration. This was found by creating masks of the words related to desire that appeared most highly in the data, this was then used to create a subset of the brand counts that only used the messages that had aspirational words in, and then it was possible to count the prevalence of the brands. The business implications for honda is that they could potentially charge slightly more than the other brands in this set since people want their cars more than they tend to want the other car brands."
   ]
  }
 ],
 "metadata": {
  "kernelspec": {
   "display_name": "Python 3",
   "language": "python",
   "name": "python3"
  },
  "language_info": {
   "codemirror_mode": {
    "name": "ipython",
    "version": 3
   },
   "file_extension": ".py",
   "mimetype": "text/x-python",
   "name": "python",
   "nbconvert_exporter": "python",
   "pygments_lexer": "ipython3",
   "version": "3.7.6"
  }
 },
 "nbformat": 4,
 "nbformat_minor": 2
}
