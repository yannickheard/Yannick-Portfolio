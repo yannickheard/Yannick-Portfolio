{
 "cells": [
  {
   "cell_type": "markdown",
   "metadata": {},
   "source": [
    "Importing packages and the csv with sentiment data"
   ]
  },
  {
   "cell_type": "code",
   "execution_count": 1,
   "metadata": {},
   "outputs": [
    {
     "name": "stderr",
     "output_type": "stream",
     "text": [
      "/Users/timothylai/anaconda/lib/python2.7/site-packages/nltk/twitter/__init__.py:20: UserWarning: The twython library has not been installed. Some functionality from the twitter package will not be available.\n",
      "  warnings.warn(\"The twython library has not been installed. \"\n"
     ]
    },
    {
     "data": {
      "text/html": [
       "<div>\n",
       "<style>\n",
       "    .dataframe thead tr:only-child th {\n",
       "        text-align: right;\n",
       "    }\n",
       "\n",
       "    .dataframe thead th {\n",
       "        text-align: left;\n",
       "    }\n",
       "\n",
       "    .dataframe tbody tr th {\n",
       "        vertical-align: top;\n",
       "    }\n",
       "</style>\n",
       "<table border=\"1\" class=\"dataframe\">\n",
       "  <thead>\n",
       "    <tr style=\"text-align: right;\">\n",
       "      <th></th>\n",
       "      <th>ES</th>\n",
       "      <th>LS</th>\n",
       "      <th>RX</th>\n",
       "      <th>A8</th>\n",
       "      <th>A6</th>\n",
       "      <th>3series</th>\n",
       "      <th>5series</th>\n",
       "      <th>7series</th>\n",
       "      <th>XJ</th>\n",
       "      <th>Sclass</th>\n",
       "    </tr>\n",
       "  </thead>\n",
       "  <tbody>\n",
       "    <tr>\n",
       "      <th>0</th>\n",
       "      <td>NaN</td>\n",
       "      <td>NaN</td>\n",
       "      <td>4.0</td>\n",
       "      <td>3.0</td>\n",
       "      <td>NaN</td>\n",
       "      <td>NaN</td>\n",
       "      <td>NaN</td>\n",
       "      <td>5.0</td>\n",
       "      <td>2.0</td>\n",
       "      <td>1.0</td>\n",
       "    </tr>\n",
       "    <tr>\n",
       "      <th>1</th>\n",
       "      <td>NaN</td>\n",
       "      <td>NaN</td>\n",
       "      <td>3.0</td>\n",
       "      <td>2.0</td>\n",
       "      <td>2.0</td>\n",
       "      <td>2.0</td>\n",
       "      <td>2.0</td>\n",
       "      <td>2.0</td>\n",
       "      <td>NaN</td>\n",
       "      <td>NaN</td>\n",
       "    </tr>\n",
       "    <tr>\n",
       "      <th>2</th>\n",
       "      <td>NaN</td>\n",
       "      <td>4.0</td>\n",
       "      <td>NaN</td>\n",
       "      <td>NaN</td>\n",
       "      <td>NaN</td>\n",
       "      <td>3.0</td>\n",
       "      <td>NaN</td>\n",
       "      <td>3.0</td>\n",
       "      <td>NaN</td>\n",
       "      <td>3.0</td>\n",
       "    </tr>\n",
       "    <tr>\n",
       "      <th>3</th>\n",
       "      <td>NaN</td>\n",
       "      <td>2.0</td>\n",
       "      <td>NaN</td>\n",
       "      <td>2.0</td>\n",
       "      <td>NaN</td>\n",
       "      <td>NaN</td>\n",
       "      <td>NaN</td>\n",
       "      <td>2.0</td>\n",
       "      <td>4.0</td>\n",
       "      <td>2.0</td>\n",
       "    </tr>\n",
       "    <tr>\n",
       "      <th>4</th>\n",
       "      <td>NaN</td>\n",
       "      <td>3.0</td>\n",
       "      <td>3.0</td>\n",
       "      <td>NaN</td>\n",
       "      <td>NaN</td>\n",
       "      <td>NaN</td>\n",
       "      <td>2.0</td>\n",
       "      <td>NaN</td>\n",
       "      <td>NaN</td>\n",
       "      <td>3.0</td>\n",
       "    </tr>\n",
       "  </tbody>\n",
       "</table>\n",
       "</div>"
      ],
      "text/plain": [
       "   ES   LS   RX   A8   A6  3series  5series  7series   XJ  Sclass\n",
       "0 NaN  NaN  4.0  3.0  NaN      NaN      NaN      5.0  2.0     1.0\n",
       "1 NaN  NaN  3.0  2.0  2.0      2.0      2.0      2.0  NaN     NaN\n",
       "2 NaN  4.0  NaN  NaN  NaN      3.0      NaN      3.0  NaN     3.0\n",
       "3 NaN  2.0  NaN  2.0  NaN      NaN      NaN      2.0  4.0     2.0\n",
       "4 NaN  3.0  3.0  NaN  NaN      NaN      2.0      NaN  NaN     3.0"
      ]
     },
     "execution_count": 1,
     "metadata": {},
     "output_type": "execute_result"
    }
   ],
   "source": [
    "import pandas as pd\n",
    "import networkx as nx\n",
    "import numpy as np\n",
    "import matplotlib.pyplot as plt\n",
    "import math\n",
    "from nltk.sentiment.vader import SentimentIntensityAnalyzer as SIA\n",
    "import re\n",
    "\n",
    "scores = pd.read_csv('Assignment 3 Sentiment Scores.csv')\n",
    "scores.head()"
   ]
  },
  {
   "cell_type": "code",
   "execution_count": 2,
   "metadata": {
    "collapsed": true
   },
   "outputs": [],
   "source": [
    "models = scores.columns.tolist()\n",
    "for m in range(0,len(models)):\n",
    "    models[m] = models[m].lower()\n",
    "models\n",
    "scores.columns = models"
   ]
  },
  {
   "cell_type": "markdown",
   "metadata": {},
   "source": [
    "Calculation of edge's between all different model combinations"
   ]
  },
  {
   "cell_type": "code",
   "execution_count": 3,
   "metadata": {},
   "outputs": [
    {
     "data": {
      "text/plain": [
       "[['es', 'ls', 0.30434782608695654],\n",
       " ['ls', 'es', 2.0],\n",
       " ['es', 'rx', 0.83333333333333337],\n",
       " ['rx', 'es', 2.0],\n",
       " ['es', 'a8', 2.8333333333333335],\n",
       " ['a8', 'es', 3.0],\n",
       " ['es', 'a6', 6.0],\n",
       " ['a6', 'es', 1.6666666666666667],\n",
       " ['es', '3series', 3.25],\n",
       " ['3series', 'es', 6.0],\n",
       " ['es', '5series', 4.0],\n",
       " ['5series', 'es', 5.0],\n",
       " ['es', '7series', 3.0],\n",
       " ['7series', 'es', 2.7999999999999998],\n",
       " ['es', 'xj', 0.5],\n",
       " ['xj', 'es', 1.0],\n",
       " ['es', 'sclass', 3.2857142857142856],\n",
       " ['sclass', 'es', 2.6153846153846154],\n",
       " ['ls', 'rx', 1.0],\n",
       " ['rx', 'ls', 1.1428571428571428],\n",
       " ['ls', 'a8', 2.3529411764705883],\n",
       " ['a8', 'ls', 2.8378378378378377],\n",
       " ['ls', 'a6', 2.7272727272727271],\n",
       " ['a6', 'ls', 1.2857142857142858],\n",
       " ['ls', '3series', 2.3333333333333335],\n",
       " ['3series', 'ls', 4.0],\n",
       " ['ls', '5series', 2.4545454545454546],\n",
       " ['5series', 'ls', 3.1000000000000001],\n",
       " ['ls', '7series', 2.1142857142857143],\n",
       " ['7series', 'ls', 2.75],\n",
       " ['ls', 'xj', 2.0],\n",
       " ['xj', 'ls', 2.8888888888888888],\n",
       " ['ls', 'sclass', 2.1477272727272729],\n",
       " ['sclass', 'ls', 2.6774193548387095],\n",
       " ['rx', 'a8', 2.2000000000000002],\n",
       " ['a8', 'rx', 1.0],\n",
       " ['rx', 'a6', 3.6666666666666665],\n",
       " ['rx', '3series', 4.0],\n",
       " ['3series', 'rx', 4.0],\n",
       " ['rx', '5series', 3.6000000000000001],\n",
       " ['rx', '7series', 3.75],\n",
       " ['7series', 'rx', 1.0],\n",
       " ['rx', 'xj', 2.0],\n",
       " ['rx', 'sclass', 2.8571428571428572],\n",
       " ['sclass', 'rx', 2.5],\n",
       " ['a8', 'a6', 0.61111111111111116],\n",
       " ['a6', 'a8', 3.1666666666666665],\n",
       " ['a8', '3series', 2.1666666666666665],\n",
       " ['3series', 'a8', 5.0],\n",
       " ['a8', '5series', 2.0],\n",
       " ['5series', 'a8', 5.0],\n",
       " ['a8', '7series', 0.72727272727272729],\n",
       " ['7series', 'a8', 3.0],\n",
       " ['a8', 'xj', 0.54545454545454541],\n",
       " ['xj', 'a8', 2.1428571428571428],\n",
       " ['a8', 'sclass', 1.0975609756097562],\n",
       " ['sclass', 'a8', 2.0625],\n",
       " ['a6', '3series', 1.0],\n",
       " ['3series', 'a6', 5.0],\n",
       " ['a6', '5series', 1.0],\n",
       " ['5series', 'a6', 5.0],\n",
       " ['a6', '7series', 0.0],\n",
       " ['7series', 'a6', 5.0],\n",
       " ['a6', 'xj', 1.0],\n",
       " ['a6', 'sclass', 0.66666666666666663],\n",
       " ['sclass', 'a6', 2.3333333333333335],\n",
       " ['3series', '5series', 0.0],\n",
       " ['3series', '7series', 0.625],\n",
       " ['7series', '3series', 2.0],\n",
       " ['xj', '3series', 3.0],\n",
       " ['3series', 'sclass', 2.6000000000000001],\n",
       " ['sclass', '3series', 3.3333333333333335],\n",
       " ['5series', '7series', 0.77777777777777779],\n",
       " ['7series', '5series', 1.0],\n",
       " ['xj', '5series', 2.0],\n",
       " ['5series', 'sclass', 0.75],\n",
       " ['sclass', '5series', 2.0],\n",
       " ['7series', 'xj', 1.375],\n",
       " ['xj', '7series', 3.1666666666666665],\n",
       " ['7series', 'sclass', 0.93333333333333335],\n",
       " ['sclass', '7series', 2.4375],\n",
       " ['xj', 'sclass', 1.1111111111111112],\n",
       " ['sclass', 'xj', 2.2857142857142856]]"
      ]
     },
     "execution_count": 3,
     "metadata": {},
     "output_type": "execute_result"
    }
   ],
   "source": [
    "edge_list = []\n",
    "\n",
    "def get_edges():\n",
    "    for model1 in models:\n",
    "        for model2 in models[models.index(model1)+1:]:\n",
    "            pos_sent = []\n",
    "            neg_sent = []\n",
    "            for i in range(0,len(scores)):\n",
    "                sent_model1 = scores[model1][i]\n",
    "                sent_model2 = scores[model2][i]\n",
    "                if (not(np.isnan(sent_model1)) & (not(np.isnan(sent_model2)))):\n",
    "                    edge_weight = sent_model1 - sent_model2\n",
    "                    if edge_weight >= 0:\n",
    "                        pos_sent.append(edge_weight)\n",
    "                    elif edge_weight < 0:\n",
    "                        neg_sent.append(edge_weight)\n",
    "            if len(pos_sent) > 0:\n",
    "                edge_list.append([model1, model2, np.mean(pos_sent)])\n",
    "            if len(neg_sent) > 0:\n",
    "                edge_list.append([model2, model1, abs(np.mean(neg_sent))])\n",
    "    return edge_list\n",
    "\n",
    "get_edges()"
   ]
  },
  {
   "cell_type": "markdown",
   "metadata": {},
   "source": [
    "<b> Putting edge values calculated above into the network, then displaying the bidirectional network below. "
   ]
  },
  {
   "cell_type": "code",
   "execution_count": 19,
   "metadata": {},
   "outputs": [
    {
     "data": {
      "image/png": "[encoded data removed]",
      "text/plain": [
       "<matplotlib.figure.Figure at 0x120323fd0>"
      ]
     },
     "metadata": {},
     "output_type": "display_data"
    }
   ],
   "source": [
    "G = nx.DiGraph()\n",
    "G.add_weighted_edges_from(edge_list)\n",
    "\n",
    "plt.figure(figsize=(10,10))\n",
    "pos = nx.spring_layout(G)\n",
    "nx.draw_networkx_nodes(G, pos, nodesize=20)\n",
    "nx.draw_networkx_labels(G, pos)\n",
    "nx.draw_networkx_edges(G, pos, edge_color = 'b', arrows=True)\n",
    "plt.axis('off')\n",
    "plt.show()"
   ]
  },
  {
   "cell_type": "markdown",
   "metadata": {},
   "source": [
    "### Part (b)"
   ]
  },
  {
   "cell_type": "markdown",
   "metadata": {},
   "source": [
    "Getting the unweighted pagerank, by setting the weight and using networkx calculated values"
   ]
  },
  {
   "cell_type": "code",
   "execution_count": 5,
   "metadata": {},
   "outputs": [
    {
     "data": {
      "text/plain": [
       "{'3series': 0.09315393834610573,\n",
       " '5series': 0.10468175461478667,\n",
       " '7series': 0.10986869703854982,\n",
       " 'a6': 0.0982533295721719,\n",
       " 'a8': 0.10986869703854985,\n",
       " 'es': 0.10986869703854983,\n",
       " 'ls': 0.10986869703854982,\n",
       " 'rx': 0.07295573223238781,\n",
       " 'sclass': 0.10986869703854982,\n",
       " 'xj': 0.08161176004179858}"
      ]
     },
     "execution_count": 5,
     "metadata": {},
     "output_type": "execute_result"
    }
   ],
   "source": [
    "page_rank_unweighted = nx.pagerank(G, alpha = 0.99, weight = 1)\n",
    "page_rank_unweighted"
   ]
  },
  {
   "cell_type": "markdown",
   "metadata": {},
   "source": [
    "Getting the weighted pagerank, by  using networkx and allowing the use of the edge weights calculated in previous steps"
   ]
  },
  {
   "cell_type": "code",
   "execution_count": 6,
   "metadata": {},
   "outputs": [
    {
     "data": {
      "text/plain": [
       "{'3series': 0.10735667075588687,\n",
       " '5series': 0.098209925633999079,\n",
       " '7series': 0.071673100210594323,\n",
       " 'a6': 0.13625204213015285,\n",
       " 'a8': 0.14893030745926053,\n",
       " 'es': 0.14212528644935021,\n",
       " 'ls': 0.11277502731113064,\n",
       " 'rx': 0.050368637316756081,\n",
       " 'sclass': 0.080150282429632375,\n",
       " 'xj': 0.052158720303237205}"
      ]
     },
     "execution_count": 6,
     "metadata": {},
     "output_type": "execute_result"
    }
   ],
   "source": [
    "page_rank_weighted = nx.pagerank(G, alpha = 0.99)\n",
    "page_rank_weighted"
   ]
  },
  {
   "cell_type": "markdown",
   "metadata": {},
   "source": [
    "Creating a dataframe of the different models and showing the unweighted and weighted pagerank values, along with the sales values. "
   ]
  },
  {
   "cell_type": "code",
   "execution_count": 7,
   "metadata": {
    "scrolled": true
   },
   "outputs": [
    {
     "data": {
      "text/html": [
       "<div>\n",
       "<style>\n",
       "    .dataframe thead tr:only-child th {\n",
       "        text-align: right;\n",
       "    }\n",
       "\n",
       "    .dataframe thead th {\n",
       "        text-align: left;\n",
       "    }\n",
       "\n",
       "    .dataframe tbody tr th {\n",
       "        vertical-align: top;\n",
       "    }\n",
       "</style>\n",
       "<table border=\"1\" class=\"dataframe\">\n",
       "  <thead>\n",
       "    <tr style=\"text-align: right;\">\n",
       "      <th></th>\n",
       "      <th>Page Rank Unweighted</th>\n",
       "      <th>Page Rank Weighted</th>\n",
       "      <th>Sales</th>\n",
       "    </tr>\n",
       "  </thead>\n",
       "  <tbody>\n",
       "    <tr>\n",
       "      <th>3series</th>\n",
       "      <td>0.093154</td>\n",
       "      <td>0.107357</td>\n",
       "      <td>220000</td>\n",
       "    </tr>\n",
       "    <tr>\n",
       "      <th>es</th>\n",
       "      <td>0.109869</td>\n",
       "      <td>0.142125</td>\n",
       "      <td>135000</td>\n",
       "    </tr>\n",
       "    <tr>\n",
       "      <th>rx</th>\n",
       "      <td>0.072956</td>\n",
       "      <td>0.050369</td>\n",
       "      <td>120000</td>\n",
       "    </tr>\n",
       "    <tr>\n",
       "      <th>5series</th>\n",
       "      <td>0.104682</td>\n",
       "      <td>0.098210</td>\n",
       "      <td>60000</td>\n",
       "    </tr>\n",
       "    <tr>\n",
       "      <th>ls</th>\n",
       "      <td>0.109869</td>\n",
       "      <td>0.112775</td>\n",
       "      <td>30000</td>\n",
       "    </tr>\n",
       "    <tr>\n",
       "      <th>sclass</th>\n",
       "      <td>0.109869</td>\n",
       "      <td>0.080150</td>\n",
       "      <td>25000</td>\n",
       "    </tr>\n",
       "    <tr>\n",
       "      <th>a6</th>\n",
       "      <td>0.098253</td>\n",
       "      <td>0.136252</td>\n",
       "      <td>20000</td>\n",
       "    </tr>\n",
       "    <tr>\n",
       "      <th>7series</th>\n",
       "      <td>0.109869</td>\n",
       "      <td>0.071673</td>\n",
       "      <td>14000</td>\n",
       "    </tr>\n",
       "    <tr>\n",
       "      <th>a8</th>\n",
       "      <td>0.109869</td>\n",
       "      <td>0.148930</td>\n",
       "      <td>12000</td>\n",
       "    </tr>\n",
       "    <tr>\n",
       "      <th>xj</th>\n",
       "      <td>0.081612</td>\n",
       "      <td>0.052159</td>\n",
       "      <td>6600</td>\n",
       "    </tr>\n",
       "  </tbody>\n",
       "</table>\n",
       "</div>"
      ],
      "text/plain": [
       "         Page Rank Unweighted  Page Rank Weighted   Sales\n",
       "3series              0.093154            0.107357  220000\n",
       "es                   0.109869            0.142125  135000\n",
       "rx                   0.072956            0.050369  120000\n",
       "5series              0.104682            0.098210   60000\n",
       "ls                   0.109869            0.112775   30000\n",
       "sclass               0.109869            0.080150   25000\n",
       "a6                   0.098253            0.136252   20000\n",
       "7series              0.109869            0.071673   14000\n",
       "a8                   0.109869            0.148930   12000\n",
       "xj                   0.081612            0.052159    6600"
      ]
     },
     "execution_count": 7,
     "metadata": {},
     "output_type": "execute_result"
    }
   ],
   "source": [
    "partb_df1 = pd.DataFrame.from_dict(page_rank_unweighted, orient = 'index')\n",
    "partb_df2 = pd.DataFrame.from_dict(page_rank_weighted, orient = 'index')\n",
    "partb_df1.columns = ['Page Rank Unweighted']\n",
    "partb_df2.columns = ['Page Rank Weighted']\n",
    "partb_df1 = partb_df1.sort_index()\n",
    "partb_df2 = partb_df2.sort_index()\n",
    "\n",
    "partb_df = pd.concat([partb_df1,partb_df2], axis=1)\n",
    "partb_df['Sales'] = [220000, 60000, 14000, 20000, 12000, 135000, 30000, 120000, 25000, 6600]\n",
    "partb_df.sort_values('Sales', ascending=False)"
   ]
  },
  {
   "cell_type": "markdown",
   "metadata": {},
   "source": [
    "Calculation of the unweighted page correlation with the sales of each model"
   ]
  },
  {
   "cell_type": "code",
   "execution_count": 8,
   "metadata": {},
   "outputs": [
    {
     "data": {
      "text/plain": [
       "-0.28944274294681338"
      ]
     },
     "execution_count": 8,
     "metadata": {},
     "output_type": "execute_result"
    }
   ],
   "source": [
    "partb_df['Page Rank Unweighted'].corr(partb_df['Sales'])"
   ]
  },
  {
   "cell_type": "markdown",
   "metadata": {},
   "source": [
    "Calculation of the weighted page correlation with the sales of each model"
   ]
  },
  {
   "cell_type": "code",
   "execution_count": 9,
   "metadata": {
    "scrolled": false
   },
   "outputs": [
    {
     "data": {
      "text/plain": [
       "0.074980268832453636"
      ]
     },
     "execution_count": 9,
     "metadata": {},
     "output_type": "execute_result"
    }
   ],
   "source": [
    "partb_df['Page Rank Weighted'].corr(partb_df['Sales'])"
   ]
  },
  {
   "cell_type": "markdown",
   "metadata": {},
   "source": [
    "<b> The weighted page rank correlation was smaller in magnitude, but was positive in comparison to the unweighted page rank results. The weighted page rank captures additional data, but weighting each model essentially by its importance. A8 and ES are the models that show a substantial increase in PageRank."
   ]
  },
  {
   "cell_type": "markdown",
   "metadata": {},
   "source": [
    "### Part (c)"
   ]
  },
  {
   "cell_type": "markdown",
   "metadata": {},
   "source": [
    "#### Note: I manually renamed the header on Sheet 3 of the Edmunds Reviews excel file to \"Review\" so as to be consistent with all other sheets in the file. That way, all reviews would fall in the same dataframe column. "
   ]
  },
  {
   "cell_type": "code",
   "execution_count": 10,
   "metadata": {},
   "outputs": [
    {
     "data": {
      "text/plain": [
       "1308"
      ]
     },
     "execution_count": 10,
     "metadata": {},
     "output_type": "execute_result"
    }
   ],
   "source": [
    "ed = pd.read_excel('Edmunds Reviews.xlsx', sheetname = 0)\n",
    "# ed = ed.append(pd.read_excel('Edmunds Reviews.xlsx', sheetname = 1))\n",
    "# ed = ed.append(pd.read_excel('Edmunds Reviews.xlsx', sheetname = 2))\n",
    "# ed = ed.append(pd.read_excel('Edmunds Reviews.xlsx', sheetname = 3))\n",
    "# ed = ed.append(pd.read_excel('Edmunds Reviews.xlsx', sheetname = 4))\n",
    "# ed = ed.append(pd.read_excel('Edmunds Reviews.xlsx', sheetname = 5))\n",
    "len(ed['Review'])"
   ]
  },
  {
   "cell_type": "markdown",
   "metadata": {},
   "source": [
    "Calculation of sentiment analysis values using nltk for each of the models, the portion of each review that was analyzed was 70 characters in either direction of where the model was mentioned"
   ]
  },
  {
   "cell_type": "code",
   "execution_count": 11,
   "metadata": {
    "scrolled": false
   },
   "outputs": [
    {
     "name": "stderr",
     "output_type": "stream",
     "text": [
      "/Users/timothylai/anaconda/lib/python2.7/site-packages/numpy/core/fromnumeric.py:2889: RuntimeWarning: Mean of empty slice.\n",
      "  out=out, **kwargs)\n",
      "/Users/timothylai/anaconda/lib/python2.7/site-packages/numpy/core/_methods.py:80: RuntimeWarning: invalid value encountered in double_scalars\n",
      "  ret = ret.dtype.type(ret / rcount)\n"
     ]
    },
    {
     "data": {
      "text/html": [
       "<div>\n",
       "<style>\n",
       "    .dataframe thead tr:only-child th {\n",
       "        text-align: right;\n",
       "    }\n",
       "\n",
       "    .dataframe thead th {\n",
       "        text-align: left;\n",
       "    }\n",
       "\n",
       "    .dataframe tbody tr th {\n",
       "        vertical-align: top;\n",
       "    }\n",
       "</style>\n",
       "<table border=\"1\" class=\"dataframe\">\n",
       "  <thead>\n",
       "    <tr style=\"text-align: right;\">\n",
       "      <th></th>\n",
       "      <th>es</th>\n",
       "      <th>ls</th>\n",
       "      <th>rx</th>\n",
       "      <th>a8</th>\n",
       "      <th>a6</th>\n",
       "      <th>3series</th>\n",
       "      <th>5series</th>\n",
       "      <th>7series</th>\n",
       "      <th>xj</th>\n",
       "      <th>sclass</th>\n",
       "    </tr>\n",
       "  </thead>\n",
       "  <tbody>\n",
       "    <tr>\n",
       "      <th>0</th>\n",
       "      <td>0.605600</td>\n",
       "      <td>0.728775</td>\n",
       "      <td>0.000</td>\n",
       "      <td>NaN</td>\n",
       "      <td>NaN</td>\n",
       "      <td>NaN</td>\n",
       "      <td>NaN</td>\n",
       "      <td>NaN</td>\n",
       "      <td>NaN</td>\n",
       "      <td>NaN</td>\n",
       "    </tr>\n",
       "    <tr>\n",
       "      <th>1</th>\n",
       "      <td>0.421500</td>\n",
       "      <td>NaN</td>\n",
       "      <td>NaN</td>\n",
       "      <td>0.13085</td>\n",
       "      <td>NaN</td>\n",
       "      <td>NaN</td>\n",
       "      <td>NaN</td>\n",
       "      <td>0.2617</td>\n",
       "      <td>NaN</td>\n",
       "      <td>NaN</td>\n",
       "    </tr>\n",
       "    <tr>\n",
       "      <th>2</th>\n",
       "      <td>0.421500</td>\n",
       "      <td>NaN</td>\n",
       "      <td>NaN</td>\n",
       "      <td>0.13085</td>\n",
       "      <td>NaN</td>\n",
       "      <td>NaN</td>\n",
       "      <td>NaN</td>\n",
       "      <td>0.2617</td>\n",
       "      <td>NaN</td>\n",
       "      <td>NaN</td>\n",
       "    </tr>\n",
       "    <tr>\n",
       "      <th>3</th>\n",
       "      <td>0.261831</td>\n",
       "      <td>0.030500</td>\n",
       "      <td>NaN</td>\n",
       "      <td>0.81360</td>\n",
       "      <td>0.0</td>\n",
       "      <td>NaN</td>\n",
       "      <td>NaN</td>\n",
       "      <td>NaN</td>\n",
       "      <td>NaN</td>\n",
       "      <td>NaN</td>\n",
       "    </tr>\n",
       "    <tr>\n",
       "      <th>4</th>\n",
       "      <td>-0.073140</td>\n",
       "      <td>0.628100</td>\n",
       "      <td>0.374</td>\n",
       "      <td>0.00000</td>\n",
       "      <td>0.0</td>\n",
       "      <td>NaN</td>\n",
       "      <td>NaN</td>\n",
       "      <td>NaN</td>\n",
       "      <td>NaN</td>\n",
       "      <td>NaN</td>\n",
       "    </tr>\n",
       "  </tbody>\n",
       "</table>\n",
       "</div>"
      ],
      "text/plain": [
       "         es        ls     rx       a8   a6  3series  5series  7series  xj  \\\n",
       "0  0.605600  0.728775  0.000      NaN  NaN      NaN      NaN      NaN NaN   \n",
       "1  0.421500       NaN    NaN  0.13085  NaN      NaN      NaN   0.2617 NaN   \n",
       "2  0.421500       NaN    NaN  0.13085  NaN      NaN      NaN   0.2617 NaN   \n",
       "3  0.261831  0.030500    NaN  0.81360  0.0      NaN      NaN      NaN NaN   \n",
       "4 -0.073140  0.628100  0.374  0.00000  0.0      NaN      NaN      NaN NaN   \n",
       "\n",
       "   sclass  \n",
       "0     NaN  \n",
       "1     NaN  \n",
       "2     NaN  \n",
       "3     NaN  \n",
       "4     NaN  "
      ]
     },
     "execution_count": 11,
     "metadata": {},
     "output_type": "execute_result"
    }
   ],
   "source": [
    "sentscores_df = pd.DataFrame(np.nan, index = ed.index, columns=models)\n",
    "\n",
    "sid = SIA()\n",
    "\n",
    "i = 0\n",
    "for review in ed['Review']:\n",
    "    review = review.lower()\n",
    "    for b in models:\n",
    "        brandsentlist =[]\n",
    "        for match in re.finditer(b, review):\n",
    "            begin = match.start()\n",
    "            end = match.end()\n",
    "            sentence = review[begin-70:end+70]\n",
    "            sentiment = sid.polarity_scores(sentence)['compound']\n",
    "            brandsentlist.append(sentiment)\n",
    "        brand_message_sent = np.mean(brandsentlist)\n",
    "        sentscores_df[b][i] = brand_message_sent\n",
    "    i+=1\n",
    "\n",
    "sentscores_df.head()"
   ]
  },
  {
   "cell_type": "markdown",
   "metadata": {},
   "source": [
    "#### Computing PageRank:"
   ]
  },
  {
   "cell_type": "markdown",
   "metadata": {},
   "source": [
    "Using our newly created sentiment value dataframe to calculate edge values between models"
   ]
  },
  {
   "cell_type": "code",
   "execution_count": 12,
   "metadata": {
    "scrolled": true
   },
   "outputs": [
    {
     "data": {
      "text/plain": [
       "[['es', 'ls', 0.19883730810344308],\n",
       " ['ls', 'es', 0.18710648780672107],\n",
       " ['es', 'rx', 0.26007298360994169],\n",
       " ['rx', 'es', 0.26974442962499007],\n",
       " ['es', 'a8', 0.24558950314311698],\n",
       " ['a8', 'es', 0.26585911530228035],\n",
       " ['es', 'a6', 0.29045008613730294],\n",
       " ['a6', 'es', 0.31317463029427833],\n",
       " ['es', '3series', 0.19295375804127238],\n",
       " ['3series', 'es', 0.23811318016244659],\n",
       " ['es', '5series', 0.26150915854395695],\n",
       " ['5series', 'es', 0.20969067574943151],\n",
       " ['es', '7series', 0.23376656203269902],\n",
       " ['7series', 'es', 0.26572615335896344],\n",
       " ['es', 'xj', 0.30864368507441325],\n",
       " ['xj', 'es', 0.25789040026036575],\n",
       " ['es', 'sclass', 0.21931981936436157],\n",
       " ['sclass', 'es', 0.21471193580923986],\n",
       " ['ls', 'rx', 0.23683276129846034],\n",
       " ['rx', 'ls', 0.32328063305579346],\n",
       " ['ls', 'a8', 0.2430294646515101],\n",
       " ['a8', 'ls', 0.31970941173930667],\n",
       " ['ls', 'a6', 0.33679119004544383],\n",
       " ['a6', 'ls', 0.35822906278309508],\n",
       " ['ls', '3series', 0.29353872338247333],\n",
       " ['3series', 'ls', 0.33316088061465721],\n",
       " ['ls', '5series', 0.32337044215144756],\n",
       " ['5series', 'ls', 0.34550653198653203],\n",
       " ['ls', '7series', 0.26098737569969715],\n",
       " ['7series', 'ls', 0.28337502528903519],\n",
       " ['ls', 'xj', 0.28175521164021167],\n",
       " ['xj', 'ls', 0.3022196802750951],\n",
       " ['ls', 'sclass', 0.22889122819407487],\n",
       " ['sclass', 'ls', 0.23391289593965756],\n",
       " ['rx', 'a8', 0.31790992063492063],\n",
       " ['a8', 'rx', 0.32174305555555555],\n",
       " ['rx', 'a6', 0.21752812499999999],\n",
       " ['a6', 'rx', 0.34063500000000002],\n",
       " ['rx', '3series', 0.3330870588235294],\n",
       " ['3series', 'rx', 0.36373152597402603],\n",
       " ['rx', '5series', 0.31239545454545453],\n",
       " ['5series', 'rx', 0.36842222222222221],\n",
       " ['rx', '7series', 0.28192568965517245],\n",
       " ['7series', 'rx', 0.39771083333333335],\n",
       " ['rx', 'xj', 0.38766726190476186],\n",
       " ['xj', 'rx', 0.45255416666666665],\n",
       " ['rx', 'sclass', 0.31841563352826507],\n",
       " ['sclass', 'rx', 0.32417780830280835],\n",
       " ['a8', 'a6', 0.24222976775956281],\n",
       " ['a6', 'a8', 0.31888753968253969],\n",
       " ['a8', '3series', 0.10089999999999999],\n",
       " ['3series', 'a8', 0.4595738095238095],\n",
       " ['a8', '5series', 0.28663011111111114],\n",
       " ['5series', 'a8', 0.45410375000000003],\n",
       " ['a8', '7series', 0.20803887500000001],\n",
       " ['7series', 'a8', 0.38262838551859096],\n",
       " ['a8', 'xj', 0.20921269841269843],\n",
       " ['xj', 'a8', 0.3181384595959596],\n",
       " ['a8', 'sclass', 0.24950641410383598],\n",
       " ['sclass', 'a8', 0.31488043001816107],\n",
       " ['a6', '3series', 0.39901428571428571],\n",
       " ['3series', 'a6', 0.29297222222222224],\n",
       " ['a6', '5series', 0.19986153846153848],\n",
       " ['5series', 'a6', 0.35354422222222226],\n",
       " ['a6', '7series', 0.50425119047619038],\n",
       " ['7series', 'a6', 0.51991666666666669],\n",
       " ['a6', 'xj', 0.72141296296296298],\n",
       " ['xj', 'a6', 0.43698787878787881],\n",
       " ['a6', 'sclass', 0.41090022988505742],\n",
       " ['sclass', 'a6', 0.37162572222222223],\n",
       " ['3series', '5series', 0.089537500000000006],\n",
       " ['5series', '3series', 0.42215692307692304],\n",
       " ['3series', '7series', 0.39814898148148148],\n",
       " ['7series', '3series', 0.33029152380952381],\n",
       " ['3series', 'xj', 0.57494999999999996],\n",
       " ['xj', '3series', 0.035099999999999992],\n",
       " ['3series', 'sclass', 0.30945173611111115],\n",
       " ['sclass', '3series', 0.38972843137254898],\n",
       " ['5series', '7series', 0.33534080200501254],\n",
       " ['7series', '5series', 0.50176544642857146],\n",
       " ['5series', 'xj', 0.39866666666666667],\n",
       " ['xj', '5series', 0.51672000000000007],\n",
       " ['5series', 'sclass', 0.42213358585858585],\n",
       " ['sclass', '5series', 0.37582927083333334],\n",
       " ['7series', 'xj', 0.22814976851851851],\n",
       " ['xj', '7series', 0.38002222222222226],\n",
       " ['7series', 'sclass', 0.22373141842701991],\n",
       " ['sclass', '7series', 0.31819962138060354],\n",
       " ['xj', 'sclass', 0.21166272297808009],\n",
       " ['sclass', 'xj', 0.27169892857142852]]"
      ]
     },
     "execution_count": 12,
     "metadata": {},
     "output_type": "execute_result"
    }
   ],
   "source": [
    "edge_list = []\n",
    "\n",
    "def get_edges():\n",
    "    for model1 in models:\n",
    "        for model2 in models[models.index(model1)+1:]:\n",
    "            pos_sent = []\n",
    "            neg_sent = []\n",
    "            for i in range(0,len(sentscores_df)):\n",
    "                sent_model1 = sentscores_df[model1][i]\n",
    "                sent_model2 = sentscores_df[model2][i]\n",
    "                if (not(np.isnan(sent_model1)) & (not(np.isnan(sent_model2)))):\n",
    "                    edge_weight = sent_model1 - sent_model2\n",
    "                    if edge_weight >= 0:\n",
    "                        pos_sent.append(edge_weight)\n",
    "                    elif edge_weight < 0:\n",
    "                        neg_sent.append(edge_weight)\n",
    "            if len(pos_sent) > 0:\n",
    "                edge_list.append([model1, model2, np.mean(pos_sent)])\n",
    "            if len(neg_sent) > 0:\n",
    "                edge_list.append([model2, model1, abs(np.mean(neg_sent))])\n",
    "    return edge_list\n",
    "\n",
    "get_edges()"
   ]
  },
  {
   "cell_type": "markdown",
   "metadata": {},
   "source": [
    "Putting edge values into networkx model and plotting a visualization of the network"
   ]
  },
  {
   "cell_type": "code",
   "execution_count": 13,
   "metadata": {},
   "outputs": [
    {
     "data": {
      "image/png": "[encoded data removed]",
      "text/plain": [
       "<matplotlib.figure.Figure at 0x11c359390>"
      ]
     },
     "metadata": {},
     "output_type": "display_data"
    }
   ],
   "source": [
    "G_auto = nx.DiGraph()\n",
    "G_auto.add_weighted_edges_from(edge_list)\n",
    "\n",
    "plt.figure(figsize=(10,10))\n",
    "pos = nx.spring_layout(G_auto)\n",
    "nx.draw_networkx_nodes(G_auto, pos, nodesize=20)\n",
    "nx.draw_networkx_labels(G_auto, pos)\n",
    "nx.draw_networkx_edges(G_auto, pos, edge_color = 'b', arrows=True)\n",
    "plt.axis('off')\n",
    "plt.show()"
   ]
  },
  {
   "cell_type": "markdown",
   "metadata": {},
   "source": [
    "Calculation of unweighted page rank values"
   ]
  },
  {
   "cell_type": "code",
   "execution_count": 14,
   "metadata": {},
   "outputs": [
    {
     "data": {
      "text/plain": [
       "{'3series': 0.09999999999999998,\n",
       " '5series': 0.09999999999999998,\n",
       " '7series': 0.09999999999999998,\n",
       " 'a6': 0.09999999999999998,\n",
       " 'a8': 0.09999999999999998,\n",
       " 'es': 0.09999999999999998,\n",
       " 'ls': 0.09999999999999998,\n",
       " 'rx': 0.09999999999999998,\n",
       " 'sclass': 0.09999999999999998,\n",
       " 'xj': 0.09999999999999998}"
      ]
     },
     "execution_count": 14,
     "metadata": {},
     "output_type": "execute_result"
    }
   ],
   "source": [
    "page_rank_unweighted_auto = nx.pagerank(G_auto, alpha = 0.99, weight = 1)\n",
    "page_rank_unweighted_auto"
   ]
  },
  {
   "cell_type": "markdown",
   "metadata": {},
   "source": [
    "Calculation of weighted page rank values"
   ]
  },
  {
   "cell_type": "code",
   "execution_count": 15,
   "metadata": {},
   "outputs": [
    {
     "data": {
      "text/plain": [
       "{'3series': 0.087343810791138773,\n",
       " '5series': 0.1058710465049157,\n",
       " '7series': 0.10270174943787778,\n",
       " 'a6': 0.1098734204208574,\n",
       " 'a8': 0.10383727795400439,\n",
       " 'es': 0.079821386937137334,\n",
       " 'ls': 0.095415185384503304,\n",
       " 'rx': 0.10808962826060201,\n",
       " 'sclass': 0.092036024153031332,\n",
       " 'xj': 0.11501047015593183}"
      ]
     },
     "execution_count": 15,
     "metadata": {},
     "output_type": "execute_result"
    }
   ],
   "source": [
    "page_rank_weighted_auto = nx.pagerank(G_auto, alpha = 0.99)\n",
    "page_rank_weighted_auto"
   ]
  },
  {
   "cell_type": "markdown",
   "metadata": {},
   "source": [
    "Unweighted and weighted page rank values for each model were then placed into a dataframe alongside their sales values"
   ]
  },
  {
   "cell_type": "code",
   "execution_count": 16,
   "metadata": {
    "scrolled": true
   },
   "outputs": [
    {
     "data": {
      "text/html": [
       "<div>\n",
       "<style>\n",
       "    .dataframe thead tr:only-child th {\n",
       "        text-align: right;\n",
       "    }\n",
       "\n",
       "    .dataframe thead th {\n",
       "        text-align: left;\n",
       "    }\n",
       "\n",
       "    .dataframe tbody tr th {\n",
       "        vertical-align: top;\n",
       "    }\n",
       "</style>\n",
       "<table border=\"1\" class=\"dataframe\">\n",
       "  <thead>\n",
       "    <tr style=\"text-align: right;\">\n",
       "      <th></th>\n",
       "      <th>Page Rank Unweighted</th>\n",
       "      <th>Page Rank Weighted</th>\n",
       "      <th>Sales</th>\n",
       "    </tr>\n",
       "  </thead>\n",
       "  <tbody>\n",
       "    <tr>\n",
       "      <th>3series</th>\n",
       "      <td>0.1</td>\n",
       "      <td>0.087344</td>\n",
       "      <td>220000</td>\n",
       "    </tr>\n",
       "    <tr>\n",
       "      <th>es</th>\n",
       "      <td>0.1</td>\n",
       "      <td>0.079821</td>\n",
       "      <td>135000</td>\n",
       "    </tr>\n",
       "    <tr>\n",
       "      <th>rx</th>\n",
       "      <td>0.1</td>\n",
       "      <td>0.108090</td>\n",
       "      <td>120000</td>\n",
       "    </tr>\n",
       "    <tr>\n",
       "      <th>5series</th>\n",
       "      <td>0.1</td>\n",
       "      <td>0.105871</td>\n",
       "      <td>60000</td>\n",
       "    </tr>\n",
       "    <tr>\n",
       "      <th>ls</th>\n",
       "      <td>0.1</td>\n",
       "      <td>0.095415</td>\n",
       "      <td>30000</td>\n",
       "    </tr>\n",
       "    <tr>\n",
       "      <th>sclass</th>\n",
       "      <td>0.1</td>\n",
       "      <td>0.092036</td>\n",
       "      <td>25000</td>\n",
       "    </tr>\n",
       "    <tr>\n",
       "      <th>a6</th>\n",
       "      <td>0.1</td>\n",
       "      <td>0.109873</td>\n",
       "      <td>20000</td>\n",
       "    </tr>\n",
       "    <tr>\n",
       "      <th>7series</th>\n",
       "      <td>0.1</td>\n",
       "      <td>0.102702</td>\n",
       "      <td>14000</td>\n",
       "    </tr>\n",
       "    <tr>\n",
       "      <th>a8</th>\n",
       "      <td>0.1</td>\n",
       "      <td>0.103837</td>\n",
       "      <td>12000</td>\n",
       "    </tr>\n",
       "    <tr>\n",
       "      <th>xj</th>\n",
       "      <td>0.1</td>\n",
       "      <td>0.115010</td>\n",
       "      <td>6600</td>\n",
       "    </tr>\n",
       "  </tbody>\n",
       "</table>\n",
       "</div>"
      ],
      "text/plain": [
       "         Page Rank Unweighted  Page Rank Weighted   Sales\n",
       "3series                   0.1            0.087344  220000\n",
       "es                        0.1            0.079821  135000\n",
       "rx                        0.1            0.108090  120000\n",
       "5series                   0.1            0.105871   60000\n",
       "ls                        0.1            0.095415   30000\n",
       "sclass                    0.1            0.092036   25000\n",
       "a6                        0.1            0.109873   20000\n",
       "7series                   0.1            0.102702   14000\n",
       "a8                        0.1            0.103837   12000\n",
       "xj                        0.1            0.115010    6600"
      ]
     },
     "execution_count": 16,
     "metadata": {},
     "output_type": "execute_result"
    }
   ],
   "source": [
    "partc_df1 = pd.DataFrame.from_dict(page_rank_unweighted_auto, orient = 'index')\n",
    "partc_df2 = pd.DataFrame.from_dict(page_rank_weighted_auto, orient = 'index')\n",
    "partc_df1.columns = ['Page Rank Unweighted']\n",
    "partc_df2.columns = ['Page Rank Weighted']\n",
    "partc_df1 = partc_df1.sort_index()\n",
    "partc_df2 = partc_df2.sort_index()\n",
    "\n",
    "partc_df = pd.concat([partc_df1,partc_df2], axis=1)\n",
    "partc_df['Sales'] = [220000, 60000, 14000, 20000, 12000, 135000, 30000, 120000, 25000, 6600]\n",
    "partc_df.sort_values('Sales', ascending=False)"
   ]
  },
  {
   "cell_type": "markdown",
   "metadata": {},
   "source": [
    "Calculation of correlation between unweighted and sales values"
   ]
  },
  {
   "cell_type": "code",
   "execution_count": 17,
   "metadata": {},
   "outputs": [
    {
     "data": {
      "text/plain": [
       "nan"
      ]
     },
     "execution_count": 17,
     "metadata": {},
     "output_type": "execute_result"
    }
   ],
   "source": [
    "partc_df['Page Rank Unweighted'].corr(partc_df['Sales'])"
   ]
  },
  {
   "cell_type": "markdown",
   "metadata": {},
   "source": [
    "Calculation of correlation between weighted and sales values"
   ]
  },
  {
   "cell_type": "code",
   "execution_count": 18,
   "metadata": {},
   "outputs": [
    {
     "data": {
      "text/plain": [
       "-0.58545454960657672"
      ]
     },
     "execution_count": 18,
     "metadata": {},
     "output_type": "execute_result"
    }
   ],
   "source": [
    "partc_df['Page Rank Weighted'].corr(partc_df['Sales'])"
   ]
  },
  {
   "cell_type": "markdown",
   "metadata": {},
   "source": [
    "The correlation compared to the manual approach is fairly different. As for the unweighted in the manual one it was slightly negative, while for the automatic it did not provide useful info for unweighted. In regards to unweighted the manual provided a tiny positive correlation, meanwhile the automatic provided a medium negative correlation. So very big differences between the manual and automatic sentiment scoring. "
   ]
  },
  {
   "cell_type": "code",
   "execution_count": 20,
   "metadata": {},
   "outputs": [
    {
     "data": {
      "text/html": [
       "<div>\n",
       "<style>\n",
       "    .dataframe thead tr:only-child th {\n",
       "        text-align: right;\n",
       "    }\n",
       "\n",
       "    .dataframe thead th {\n",
       "        text-align: left;\n",
       "    }\n",
       "\n",
       "    .dataframe tbody tr th {\n",
       "        vertical-align: top;\n",
       "    }\n",
       "</style>\n",
       "<table border=\"1\" class=\"dataframe\">\n",
       "  <thead>\n",
       "    <tr style=\"text-align: right;\">\n",
       "      <th></th>\n",
       "      <th>Page Rank Weighted</th>\n",
       "      <th>Page Rank Weighted</th>\n",
       "      <th>Sales</th>\n",
       "    </tr>\n",
       "  </thead>\n",
       "  <tbody>\n",
       "    <tr>\n",
       "      <th>3series</th>\n",
       "      <td>0.107357</td>\n",
       "      <td>0.087344</td>\n",
       "      <td>220000</td>\n",
       "    </tr>\n",
       "    <tr>\n",
       "      <th>es</th>\n",
       "      <td>0.142125</td>\n",
       "      <td>0.079821</td>\n",
       "      <td>135000</td>\n",
       "    </tr>\n",
       "    <tr>\n",
       "      <th>rx</th>\n",
       "      <td>0.050369</td>\n",
       "      <td>0.108090</td>\n",
       "      <td>120000</td>\n",
       "    </tr>\n",
       "    <tr>\n",
       "      <th>5series</th>\n",
       "      <td>0.098210</td>\n",
       "      <td>0.105871</td>\n",
       "      <td>60000</td>\n",
       "    </tr>\n",
       "    <tr>\n",
       "      <th>ls</th>\n",
       "      <td>0.112775</td>\n",
       "      <td>0.095415</td>\n",
       "      <td>30000</td>\n",
       "    </tr>\n",
       "    <tr>\n",
       "      <th>sclass</th>\n",
       "      <td>0.080150</td>\n",
       "      <td>0.092036</td>\n",
       "      <td>25000</td>\n",
       "    </tr>\n",
       "    <tr>\n",
       "      <th>a6</th>\n",
       "      <td>0.136252</td>\n",
       "      <td>0.109873</td>\n",
       "      <td>20000</td>\n",
       "    </tr>\n",
       "    <tr>\n",
       "      <th>7series</th>\n",
       "      <td>0.071673</td>\n",
       "      <td>0.102702</td>\n",
       "      <td>14000</td>\n",
       "    </tr>\n",
       "    <tr>\n",
       "      <th>a8</th>\n",
       "      <td>0.148930</td>\n",
       "      <td>0.103837</td>\n",
       "      <td>12000</td>\n",
       "    </tr>\n",
       "    <tr>\n",
       "      <th>xj</th>\n",
       "      <td>0.052159</td>\n",
       "      <td>0.115010</td>\n",
       "      <td>6600</td>\n",
       "    </tr>\n",
       "  </tbody>\n",
       "</table>\n",
       "</div>"
      ],
      "text/plain": [
       "         Page Rank Weighted  Page Rank Weighted   Sales\n",
       "3series            0.107357            0.087344  220000\n",
       "es                 0.142125            0.079821  135000\n",
       "rx                 0.050369            0.108090  120000\n",
       "5series            0.098210            0.105871   60000\n",
       "ls                 0.112775            0.095415   30000\n",
       "sclass             0.080150            0.092036   25000\n",
       "a6                 0.136252            0.109873   20000\n",
       "7series            0.071673            0.102702   14000\n",
       "a8                 0.148930            0.103837   12000\n",
       "xj                 0.052159            0.115010    6600"
      ]
     },
     "execution_count": 20,
     "metadata": {},
     "output_type": "execute_result"
    }
   ],
   "source": [
    "partc_df_comp = pd.concat([partb_df2,partc_df2], axis=1)\n",
    "partc_df_comp['Sales'] = [220000, 60000, 14000, 20000, 12000, 135000, 30000, 120000, 25000, 6600]\n",
    "partc_df_comp.sort_values('Sales', ascending=False)"
   ]
  },
  {
   "cell_type": "markdown",
   "metadata": {},
   "source": [
    "Finally, in the comparison between weighted page ranks for Part (b) and Part (c), the weighted page rank changes (some increase and some decrease) - by automating the post extraction, I would anticipate slightly less accuracy in terms of importance for the automated case (as the process has to be trained, while a human can be a better judge - obviously the consequence here would be added amount of time to process)."
   ]
  },
  {
   "cell_type": "code",
   "execution_count": null,
   "metadata": {},
   "outputs": [],
   "source": []
  }
 ],
 "metadata": {
  "kernelspec": {
   "display_name": "Python 3",
   "language": "python",
   "name": "python3"
  },
  "language_info": {
   "codemirror_mode": {
    "name": "ipython",
    "version": 3
   },
   "file_extension": ".py",
   "mimetype": "text/x-python",
   "name": "python",
   "nbconvert_exporter": "python",
   "pygments_lexer": "ipython3",
   "version": "3.7.6"
  }
 },
 "nbformat": 4,
 "nbformat_minor": 2
}
