{
 "cells": [
  {
   "cell_type": "code",
   "execution_count": 1,
   "metadata": {},
   "outputs": [
    {
     "name": "stdout",
     "output_type": "stream",
     "text": [
      "Populating the interactive namespace from numpy and matplotlib\n"
     ]
    },
    {
     "name": "stderr",
     "output_type": "stream",
     "text": [
      "[nltk_data] Downloading package stopwords to\n",
      "[nltk_data]     C:\\Users\\yanni\\AppData\\Roaming\\nltk_data...\n",
      "[nltk_data]   Package stopwords is already up-to-date!\n"
     ]
    }
   ],
   "source": [
    "import nltk\n",
    "import pandas as pd\n",
    "import sys\n",
    "import math\n",
    "%pylab inline\n",
    "import numpy as np  \n",
    "import matplotlib.pyplot as plt \n",
    "from pandas import Series, DataFrame\n",
    "import re\n",
    "from sklearn.feature_extraction.text import CountVectorizer\n",
    "nltk.download(\"stopwords\")\n",
    "from nltk.stem.wordnet import WordNetLemmatizer\n",
    "from nltk.corpus import stopwords\n",
    "from sklearn.naive_bayes import MultinomialNB\n",
    "from sklearn import metrics"
   ]
  },
  {
   "cell_type": "markdown",
   "metadata": {},
   "source": [
    "## Part A (Basic Text Mining)"
   ]
  },
  {
   "cell_type": "markdown",
   "metadata": {},
   "source": [
    "### What are the top 5 parts of speech in this corpus of job descriptions? How frequently do they appear?"
   ]
  },
  {
   "cell_type": "markdown",
   "metadata": {},
   "source": [
    "#### Reading the data\n",
    "- First the csv file was read and named `jobs`. \n",
    "- A sample of 10,000 rows was pulled and a seed set for reproducibility. \n",
    "- The first 5 rows are printed for reference."
   ]
  },
  {
   "cell_type": "code",
   "execution_count": 33,
   "metadata": {},
   "outputs": [
    {
     "data": {
      "text/html": [
       "<div>\n",
       "<style>\n",
       "    .dataframe thead tr:only-child th {\n",
       "        text-align: right;\n",
       "    }\n",
       "\n",
       "    .dataframe thead th {\n",
       "        text-align: left;\n",
       "    }\n",
       "\n",
       "    .dataframe tbody tr th {\n",
       "        vertical-align: top;\n",
       "    }\n",
       "</style>\n",
       "<table border=\"1\" class=\"dataframe\">\n",
       "  <thead>\n",
       "    <tr style=\"text-align: right;\">\n",
       "      <th></th>\n",
       "      <th>Id</th>\n",
       "      <th>Title</th>\n",
       "      <th>FullDescription</th>\n",
       "      <th>LocationRaw</th>\n",
       "      <th>LocationNormalized</th>\n",
       "      <th>ContractType</th>\n",
       "      <th>ContractTime</th>\n",
       "      <th>Company</th>\n",
       "      <th>Category</th>\n",
       "      <th>SalaryRaw</th>\n",
       "      <th>SalaryNormalized</th>\n",
       "      <th>SourceName</th>\n",
       "      <th>SalaryTarget</th>\n",
       "    </tr>\n",
       "  </thead>\n",
       "  <tbody>\n",
       "    <tr>\n",
       "      <th>179687</th>\n",
       "      <td>71565145</td>\n",
       "      <td>SAS Administrator  London  ****K</td>\n",
       "      <td>SAS Administrator  London  ****k My client, ar...</td>\n",
       "      <td>City London South East</td>\n",
       "      <td>London</td>\n",
       "      <td>NaN</td>\n",
       "      <td>permanent</td>\n",
       "      <td>Annapurna</td>\n",
       "      <td>IT Jobs</td>\n",
       "      <td>45000 - 55000 per annum + benefits</td>\n",
       "      <td>50000</td>\n",
       "      <td>cwjobs.co.uk</td>\n",
       "      <td>High</td>\n",
       "    </tr>\n",
       "    <tr>\n",
       "      <th>18497</th>\n",
       "      <td>67016578</td>\n",
       "      <td>Retail Director</td>\n",
       "      <td>Job Title: Retail Director Location: Midlands ...</td>\n",
       "      <td>South East</td>\n",
       "      <td>South East London</td>\n",
       "      <td>NaN</td>\n",
       "      <td>NaN</td>\n",
       "      <td>COREcruitment International</td>\n",
       "      <td>Hospitality &amp; Catering Jobs</td>\n",
       "      <td>85000-110000 Per Annum 85,000 to 110,000 plus ...</td>\n",
       "      <td>97500</td>\n",
       "      <td>caterer.com</td>\n",
       "      <td>High</td>\n",
       "    </tr>\n",
       "    <tr>\n",
       "      <th>86382</th>\n",
       "      <td>69090255</td>\n",
       "      <td>Private Client Solcitor</td>\n",
       "      <td>Private Client Solicitor  2 years PQE  East Gr...</td>\n",
       "      <td>Tonbridge</td>\n",
       "      <td>Tonbridge</td>\n",
       "      <td>NaN</td>\n",
       "      <td>permanent</td>\n",
       "      <td>Select Appointments</td>\n",
       "      <td>Legal Jobs</td>\n",
       "      <td>40K</td>\n",
       "      <td>40000</td>\n",
       "      <td>legalprospects.com</td>\n",
       "      <td>Low</td>\n",
       "    </tr>\n",
       "    <tr>\n",
       "      <th>12805</th>\n",
       "      <td>66576936</td>\n",
       "      <td>Territory Development Manager</td>\n",
       "      <td>****mh**** Devon &amp; Cornwall Excellent opportun...</td>\n",
       "      <td>Devon, South West</td>\n",
       "      <td>Devon</td>\n",
       "      <td>NaN</td>\n",
       "      <td>permanent</td>\n",
       "      <td>NaN</td>\n",
       "      <td>Retail Jobs</td>\n",
       "      <td>22000 per annum + Car Allowance, Mobile, Laptop</td>\n",
       "      <td>22000</td>\n",
       "      <td>jobs.telegraph.co.uk</td>\n",
       "      <td>Low</td>\n",
       "    </tr>\n",
       "    <tr>\n",
       "      <th>203497</th>\n",
       "      <td>71941287</td>\n",
       "      <td>White Goods/Domestic Appliance Engineer</td>\n",
       "      <td>Position: White Goods/Domestic Appliance Engin...</td>\n",
       "      <td>Shrewsbury Shropshire West Midlands</td>\n",
       "      <td>Shrewsbury</td>\n",
       "      <td>NaN</td>\n",
       "      <td>permanent</td>\n",
       "      <td>NaN</td>\n",
       "      <td>IT Jobs</td>\n",
       "      <td>24000</td>\n",
       "      <td>24000</td>\n",
       "      <td>technojobs.co.uk</td>\n",
       "      <td>Low</td>\n",
       "    </tr>\n",
       "  </tbody>\n",
       "</table>\n",
       "</div>"
      ],
      "text/plain": [
       "              Id                                    Title  \\\n",
       "179687  71565145         SAS Administrator  London  ****K   \n",
       "18497   67016578                          Retail Director   \n",
       "86382   69090255                  Private Client Solcitor   \n",
       "12805   66576936            Territory Development Manager   \n",
       "203497  71941287  White Goods/Domestic Appliance Engineer   \n",
       "\n",
       "                                          FullDescription  \\\n",
       "179687  SAS Administrator  London  ****k My client, ar...   \n",
       "18497   Job Title: Retail Director Location: Midlands ...   \n",
       "86382   Private Client Solicitor  2 years PQE  East Gr...   \n",
       "12805   ****mh**** Devon & Cornwall Excellent opportun...   \n",
       "203497  Position: White Goods/Domestic Appliance Engin...   \n",
       "\n",
       "                                LocationRaw LocationNormalized ContractType  \\\n",
       "179687               City London South East             London          NaN   \n",
       "18497                            South East  South East London          NaN   \n",
       "86382                             Tonbridge          Tonbridge          NaN   \n",
       "12805                     Devon, South West              Devon          NaN   \n",
       "203497  Shrewsbury Shropshire West Midlands         Shrewsbury          NaN   \n",
       "\n",
       "       ContractTime                      Company                     Category  \\\n",
       "179687    permanent                    Annapurna                      IT Jobs   \n",
       "18497           NaN  COREcruitment International  Hospitality & Catering Jobs   \n",
       "86382     permanent         Select Appointments                    Legal Jobs   \n",
       "12805     permanent                          NaN                  Retail Jobs   \n",
       "203497    permanent                          NaN                      IT Jobs   \n",
       "\n",
       "                                                SalaryRaw  SalaryNormalized  \\\n",
       "179687                 45000 - 55000 per annum + benefits             50000   \n",
       "18497   85000-110000 Per Annum 85,000 to 110,000 plus ...             97500   \n",
       "86382                                                 40K             40000   \n",
       "12805     22000 per annum + Car Allowance, Mobile, Laptop             22000   \n",
       "203497                                              24000             24000   \n",
       "\n",
       "                  SourceName SalaryTarget  \n",
       "179687          cwjobs.co.uk         High  \n",
       "18497            caterer.com         High  \n",
       "86382     legalprospects.com          Low  \n",
       "12805   jobs.telegraph.co.uk          Low  \n",
       "203497      technojobs.co.uk          Low  "
      ]
     },
     "execution_count": 33,
     "metadata": {},
     "output_type": "execute_result"
    }
   ],
   "source": [
    "jobs = pd.read_csv('Train_rev1.csv', encoding = 'latin1')\n",
    "corpora = jobs.sample(n=10000, random_state = 1)\n",
    "corpora[:5]"
   ]
  },
  {
   "cell_type": "code",
   "execution_count": 34,
   "metadata": {},
   "outputs": [
    {
     "name": "stdout",
     "output_type": "stream",
     "text": [
      "done\n"
     ]
    }
   ],
   "source": [
    "def token_tag_count(string):\n",
    "    #1. tokenize the string\n",
    "    tokens = nltk.word_tokenize(string)\n",
    "    #2. tag the tokens\n",
    "    tagged_tokens = nltk.pos_tag(tokens)\n",
    "    #3. find the frequencies\n",
    "    tag_fd = nltk.FreqDist(tag for (word, tag) in tagged_tokens)\n",
    "    x = tag_fd.most_common()\n",
    "    #append to the main list\n",
    "    list_of_pos_counts.append(x)\n",
    "    return\n",
    "\n",
    "#initialize the main list\n",
    "list_of_pos_counts = []\n",
    "#apply the function to each job description\n",
    "corpora['FullDescription'].apply(token_tag_count)\n",
    "\n",
    "print \"done\""
   ]
  },
  {
   "cell_type": "markdown",
   "metadata": {},
   "source": [
    "#### Finding the sums of parts of speech\n",
    "\n",
    "- A new data frame was created `df_all` with two columns, `POS` identifies the Part of Speech and `POS_Counts` identifies the frequency for which the part of speech appears in the original 10,000 job descriptions.\n",
    "- Then a function was created `AddRowtoDF` that adds the tokenized words (as a list of tuples) into the `df_all` data frame. - Then a loop was used to apply the `AddRowtoDF` function to each of the 10,000 rows.\n",
    "- To find the sums, `groupby` function was utilized to group the parts of speech with their respective counts, then call the `sum` aggregate function to gather the counts.\n",
    "- Counts have been sorted below in descending order to show the top five parts of speech and the frequency for which they appear."
   ]
  },
  {
   "cell_type": "code",
   "execution_count": 35,
   "metadata": {},
   "outputs": [
    {
     "data": {
      "text/html": [
       "<div>\n",
       "<style>\n",
       "    .dataframe thead tr:only-child th {\n",
       "        text-align: right;\n",
       "    }\n",
       "\n",
       "    .dataframe thead th {\n",
       "        text-align: left;\n",
       "    }\n",
       "\n",
       "    .dataframe tbody tr th {\n",
       "        vertical-align: top;\n",
       "    }\n",
       "</style>\n",
       "<table border=\"1\" class=\"dataframe\">\n",
       "  <thead>\n",
       "    <tr style=\"text-align: right;\">\n",
       "      <th></th>\n",
       "      <th>POS_Counts</th>\n",
       "    </tr>\n",
       "    <tr>\n",
       "      <th>POS</th>\n",
       "      <th></th>\n",
       "    </tr>\n",
       "  </thead>\n",
       "  <tbody>\n",
       "    <tr>\n",
       "      <th>NN</th>\n",
       "      <td>453861</td>\n",
       "    </tr>\n",
       "    <tr>\n",
       "      <th>NNP</th>\n",
       "      <td>338725</td>\n",
       "    </tr>\n",
       "    <tr>\n",
       "      <th>IN</th>\n",
       "      <td>257078</td>\n",
       "    </tr>\n",
       "    <tr>\n",
       "      <th>JJ</th>\n",
       "      <td>214486</td>\n",
       "    </tr>\n",
       "    <tr>\n",
       "      <th>DT</th>\n",
       "      <td>199035</td>\n",
       "    </tr>\n",
       "  </tbody>\n",
       "</table>\n",
       "</div>"
      ],
      "text/plain": [
       "     POS_Counts\n",
       "POS            \n",
       "NN       453861\n",
       "NNP      338725\n",
       "IN       257078\n",
       "JJ       214486\n",
       "DT       199035"
      ]
     },
     "execution_count": 35,
     "metadata": {},
     "output_type": "execute_result"
    }
   ],
   "source": [
    "#initialize an empty dataframe\n",
    "df_all = pd.DataFrame(columns=['POS','POS_Counts'])\n",
    "\n",
    "def AddRowToDF(listoftuples):\n",
    "    global df_all\n",
    "    #create a small dataframe\n",
    "    df = pd.DataFrame(listoftuples)\n",
    "    #name the columns\n",
    "    df.columns = ['POS','POS_Counts']\n",
    "    #append the small dataframe to the master dataframe\n",
    "    df_all = df_all.append(df)\n",
    "    \n",
    "for i in list_of_pos_counts:\n",
    "    AddRowToDF(i)\n",
    "\n",
    "Grp_agg = df_all.groupby(['POS'])[['POS_Counts']].agg('sum')\n",
    "Grp_agg.sort_values('POS_Counts', ascending = False)[:5]"
   ]
  },
  {
   "cell_type": "markdown",
   "metadata": {
    "collapsed": true
   },
   "source": [
    "The below keys identify what each part of speech abbreviation represents.\n",
    "\n",
    "NN: noun, common, singular or mass<br>\n",
    "NNP: noun, proper, singular<br>\n",
    "IN: preposition or conjunction, subordinating<br>\n",
    "JJ: adjective or numeral, ordinal<br>\n",
    "DT: determiner<br>\n"
   ]
  },
  {
   "cell_type": "markdown",
   "metadata": {},
   "source": [
    "### Part A2 - Does this corpus support Zipf's law? Plot the most common 100 words against the theoretical prediction of the law."
   ]
  },
  {
   "cell_type": "code",
   "execution_count": 36,
   "metadata": {},
   "outputs": [
    {
     "data": {
      "text/html": [
       "<div>\n",
       "<style>\n",
       "    .dataframe thead tr:only-child th {\n",
       "        text-align: right;\n",
       "    }\n",
       "\n",
       "    .dataframe thead th {\n",
       "        text-align: left;\n",
       "    }\n",
       "\n",
       "    .dataframe tbody tr th {\n",
       "        vertical-align: top;\n",
       "    }\n",
       "</style>\n",
       "<table border=\"1\" class=\"dataframe\">\n",
       "  <thead>\n",
       "    <tr style=\"text-align: right;\">\n",
       "      <th></th>\n",
       "      <th>Word</th>\n",
       "      <th>Frequency</th>\n",
       "      <th>Log Frequency</th>\n",
       "      <th>Rank</th>\n",
       "      <th>Log Rank</th>\n",
       "    </tr>\n",
       "  </thead>\n",
       "  <tbody>\n",
       "    <tr>\n",
       "      <th>0</th>\n",
       "      <td>and</td>\n",
       "      <td>106743</td>\n",
       "      <td>5.028339</td>\n",
       "      <td>1.0</td>\n",
       "      <td>0.000000</td>\n",
       "    </tr>\n",
       "    <tr>\n",
       "      <th>1</th>\n",
       "      <td>the</td>\n",
       "      <td>83804</td>\n",
       "      <td>4.923265</td>\n",
       "      <td>2.0</td>\n",
       "      <td>0.301030</td>\n",
       "    </tr>\n",
       "    <tr>\n",
       "      <th>2</th>\n",
       "      <td>to</td>\n",
       "      <td>80839</td>\n",
       "      <td>4.907621</td>\n",
       "      <td>3.0</td>\n",
       "      <td>0.477121</td>\n",
       "    </tr>\n",
       "    <tr>\n",
       "      <th>3</th>\n",
       "      <td>a</td>\n",
       "      <td>60460</td>\n",
       "      <td>4.781468</td>\n",
       "      <td>4.0</td>\n",
       "      <td>0.602060</td>\n",
       "    </tr>\n",
       "    <tr>\n",
       "      <th>4</th>\n",
       "      <td>of</td>\n",
       "      <td>57341</td>\n",
       "      <td>4.758465</td>\n",
       "      <td>5.0</td>\n",
       "      <td>0.698970</td>\n",
       "    </tr>\n",
       "  </tbody>\n",
       "</table>\n",
       "</div>"
      ],
      "text/plain": [
       "  Word  Frequency  Log Frequency  Rank  Log Rank\n",
       "0  and     106743       5.028339   1.0  0.000000\n",
       "1  the      83804       4.923265   2.0  0.301030\n",
       "2   to      80839       4.907621   3.0  0.477121\n",
       "3    a      60460       4.781468   4.0  0.602060\n",
       "4   of      57341       4.758465   5.0  0.698970"
      ]
     },
     "execution_count": 36,
     "metadata": {},
     "output_type": "execute_result"
    }
   ],
   "source": [
    "top_100_words = pd.Series(\" \".join(corpora['FullDescription']).lower().split()).value_counts()[:100]\n",
    "top_100_df = pd.DataFrame(top_100_words)\n",
    "top_100_df.reset_index(inplace=True)\n",
    "top_100_df.columns = ['Word', 'Frequency']\n",
    "type(top_100_df['Frequency'][0])\n",
    "\n",
    "top_100_df['Log Frequency'] = top_100_df['Frequency'].map(math.log10)\n",
    "top_100_df['Rank'] = top_100_df['Frequency'].rank(ascending=False)\n",
    "top_100_df['Log Rank'] = top_100_df['Rank'].map(math.log10)\n",
    "top_100_df[:5]"
   ]
  },
  {
   "cell_type": "code",
   "execution_count": 37,
   "metadata": {},
   "outputs": [
    {
     "data": {
      "image/png": "[encoded data removed]",
      "text/plain": [
       "<matplotlib.figure.Figure at 0x14a4fe2d0>"
      ]
     },
     "metadata": {},
     "output_type": "display_data"
    }
   ],
   "source": [
    "plot(top_100_df['Log Rank'], top_100_df['Log Frequency'], marker = 'o', linestyle = 'None')\n",
    "xlabel('Log Rank')\n",
    "ylabel('Log Frequency')\n",
    "title('Log Frequency vs. Log Rank')\n",
    "\n",
    "def graph(formula, x_range):  \n",
    "    x = np.array(x_range)  \n",
    "    y = eval(formula)\n",
    "    plt.plot(x, y)  \n",
    "    plt.show()\n",
    "graph('-x+5.03', range(0, 3))"
   ]
  },
  {
   "cell_type": "markdown",
   "metadata": {},
   "source": [
    "- The corpus above does indeed follow Zipf's Law. The orange line above is a plot of the inverse relationship between log frequency and log rank (as described by Zipf's Law). The trend of the 100 most common words (as indicated by the blue scatter points) also follow a similar negative trend, although the trend is not perfectly linear due to the frequency of words varying in different magnitudes in the data set."
   ]
  },
  {
   "cell_type": "markdown",
   "metadata": {},
   "source": [
    "### Part A3. If the stopwords are removed and the corpus lemmatized, what are the 10 most common words? What are their frequencies?"
   ]
  },
  {
   "cell_type": "code",
   "execution_count": 40,
   "metadata": {},
   "outputs": [
    {
     "name": "stdout",
     "output_type": "stream",
     "text": [
      "10 most common words: \n",
      "experience    17514\n",
      "role          12561\n",
      "team          12387\n",
      "work          12111\n",
      "client        11344\n",
      "business      10839\n",
      "job           10174\n",
      "skill          9937\n",
      "service        9924\n",
      "working        8881\n",
      "Name: Stem Words, dtype: int64\n"
     ]
    }
   ],
   "source": [
    "def removewords(string):\n",
    "    global df_of_filtered_words\n",
    "    string = re.sub(\"[^a-zA-Z]\", \" \", string) \n",
    "    tokens = nltk.word_tokenize(string)\n",
    "    filtered_words = [word.lower() for word in tokens if word.lower() not in stopwords.words('english')]\n",
    "    df = pd.DataFrame(filtered_words)\n",
    "    df.columns = ['words']\n",
    "    df_of_filtered_words = df_of_filtered_words.append(df)\n",
    "    #df_of_filtered_words\n",
    "    return\n",
    "\n",
    "df_of_filtered_words = pd.DataFrame(columns=['words'])\n",
    "corpora['FullDescription'].apply(removewords)\n",
    "\n",
    "lemma = WordNetLemmatizer()\n",
    "df_of_filtered_words['Stem Words'] = df_of_filtered_words['words'].map(lemma.lemmatize)\n",
    "print \"10 most common words: \"\n",
    "print df_of_filtered_words['Stem Words'].value_counts()[:10]"
   ]
  },
  {
   "cell_type": "markdown",
   "metadata": {
    "collapsed": true
   },
   "source": [
    "# Part B (Predicting Salary from Job Description)\n",
    "\n",
    "In this section, you will create classification models to predict high (75th percentile and above) or low (below 75th percentile) salary from the text contained in the job descriptions. Use the Naïve Bayes classifier to classify job descriptions into high and low salary categories. For all models below, show the confusion matrix."
   ]
  },
  {
   "cell_type": "markdown",
   "metadata": {},
   "source": [
    "### Part B1. Create a classification model with all words and the bag-of-words approach. How accurate is the model (show the confusion matrix)? "
   ]
  },
  {
   "cell_type": "code",
   "execution_count": 41,
   "metadata": {},
   "outputs": [
    {
     "name": "stdout",
     "output_type": "stream",
     "text": [
      "done\n"
     ]
    }
   ],
   "source": [
    "#set up the target column with high/low\n",
    "high_salary = corpora['SalaryNormalized'].quantile(0.75)\n",
    "high_salary\n",
    "\n",
    "def salary_class(salary):\n",
    "    if salary >= high_salary:\n",
    "        return \"High\"\n",
    "    else:\n",
    "        return \"Low\"\n",
    "    \n",
    "corpora['SalaryTarget'] = corpora['SalaryNormalized'].map(salary_class)\n",
    "corpora['SalaryTarget'][:10]\n",
    "print \"done\""
   ]
  },
  {
   "cell_type": "code",
   "execution_count": 43,
   "metadata": {},
   "outputs": [
    {
     "name": "stdout",
     "output_type": "stream",
     "text": [
      "(10000, 5000)\n",
      "0.7861\n",
      "[[2034  476]\n",
      " [1663 5827]]\n"
     ]
    }
   ],
   "source": [
    "def job_to_words(job_description):\n",
    "    # Function to convert a raw job description to a string of words\n",
    "    # The input is a single string (a raw ob description), and \n",
    "    # the output is a single string (a preprocessed ob description)\n",
    "    #\n",
    "    # 1. Remove non-letters        \n",
    "    letters_only = re.sub(\"[^a-zA-Z]\", \" \", job_description) \n",
    "    #\n",
    "    # 2. Convert to lower case, split into individual words\n",
    "    words = letters_only.lower().split()                              \n",
    "    #\n",
    "    # 3. Join the words back into one string separated by space, \n",
    "    onestring = (\" \".join(words)) \n",
    "    #\n",
    "    # 4. append the onestring to the main list\n",
    "    clean_job_descriptions.append(onestring)\n",
    "\n",
    "# Initialize an empty list to hold the clean reviews\n",
    "clean_job_descriptions = []\n",
    "\n",
    "# Loop over each job description; create an index i that goes from 0 to the length\n",
    "corpora['FullDescription'].map(job_to_words)\n",
    "\n",
    "# Initialize the \"CountVectorizer\" object, which is scikit-learn's\n",
    "# bag of words tool.  \n",
    "vectorizer = CountVectorizer(analyzer = \"word\",   \\\n",
    "                             tokenizer = None,    \\\n",
    "                             preprocessor = None, \\\n",
    "                             stop_words = None,   \\\n",
    "                             max_features = 5000) \n",
    "\n",
    "train_data_features = vectorizer.fit_transform(clean_job_descriptions)\n",
    "\n",
    "# Numpy arrays are easy to work with, so convert the result to an \n",
    "# array\n",
    "train_data_features = train_data_features.toarray()\n",
    "\n",
    "# Take a look at the words in the vocabulary\n",
    "vocab = vectorizer.get_feature_names()\n",
    "\n",
    "# fit a Naive Bayes model to the data\n",
    "model = MultinomialNB()\n",
    "model.fit(train_data_features, corpora['SalaryTarget'])\n",
    "\n",
    "# make predictions\n",
    "expected = corpora['SalaryTarget']\n",
    "predicted = model.predict(train_data_features)\n",
    "# summarize the fit of the model\n",
    "print(metrics.accuracy_score(expected, predicted))\n",
    "print(metrics.confusion_matrix(expected, predicted))"
   ]
  },
  {
   "cell_type": "markdown",
   "metadata": {},
   "source": [
    "- From the above model, the classification accuracy is 78.61%. This will be used as the baseline moving forward, since no additional techniques were used to further pre-process the text."
   ]
  },
  {
   "cell_type": "markdown",
   "metadata": {},
   "source": [
    "### B2. Speculate before running the following analysis whether lemmatization would help improve the accuracy of classification. Now create a classification model after lemmatization. Did the classification accuracy increase relative to B1? Comment on your speculation versus the actual results you obtained."
   ]
  },
  {
   "cell_type": "markdown",
   "metadata": {},
   "source": [
    "Speculation: \n",
    "\n",
    "- Since the analysis is being limited to 5000 features in the CountVectorizer, then lemmatizing words in theory will allow us to get more words than the original list. As an example, `experience` and `experiences` are now one feature identified from their stems. Therefore, I expect lemmatization to slightly improve the accuracy of the classification."
   ]
  },
  {
   "cell_type": "code",
   "execution_count": 44,
   "metadata": {},
   "outputs": [
    {
     "name": "stdout",
     "output_type": "stream",
     "text": [
      "0.7886\n",
      "[[2035  475]\n",
      " [1639 5851]]\n"
     ]
    }
   ],
   "source": [
    "def job_to_words2(job_description):\n",
    "    # Function to convert a raw job description to a string of words\n",
    "    # The input is a single string (a raw ob description), and \n",
    "    # the output is a single string (a preprocessed ob description)\n",
    "    #\n",
    "    # 1. Remove non-letters        \n",
    "    letters_only = re.sub(\"[^a-zA-Z]\", \" \", job_description) \n",
    "    #\n",
    "    # 2. Convert to lower case, split into individual words\n",
    "    words = letters_only.lower().split() \n",
    "    \n",
    "    # 3. Lemmatize\n",
    "    lemma = WordNetLemmatizer()\n",
    "    meaningful_words = []\n",
    "    for w in words:\n",
    "        lemmaword = lemma.lemmatize(w)\n",
    "        meaningful_words.append(lemmaword)\n",
    " \n",
    "    # 4. Join the words back into one string separated by space, \n",
    "    onestring = (\" \".join(meaningful_words)) \n",
    "    #\n",
    "    # 5. append the onestring to the main list\n",
    "    clean_job_descriptions.append(onestring)\n",
    "\n",
    "# Initialize an empty list to hold the clean reviews\n",
    "clean_job_descriptions = []\n",
    "\n",
    "# Loop over each job description; create an index i that goes from 0 to the length\n",
    "corpora['FullDescription'].map(job_to_words2)\n",
    "\n",
    "# Initialize the \"CountVectorizer\" object, which is scikit-learn's\n",
    "# bag of words tool.  \n",
    "vectorizer = CountVectorizer(analyzer = \"word\",   \\\n",
    "                             tokenizer = None,    \\\n",
    "                             preprocessor = None, \\\n",
    "                             stop_words = None,   \\\n",
    "                             max_features = 5000) \n",
    "\n",
    "train_data_features = vectorizer.fit_transform(clean_job_descriptions)\n",
    "\n",
    "# Numpy arrays are easy to work with, so convert the result to an \n",
    "# array\n",
    "train_data_features = train_data_features.toarray()\n",
    "\n",
    "# fit a Naive Bayes model to the data\n",
    "model = MultinomialNB()\n",
    "model.fit(train_data_features, corpora['SalaryTarget'])\n",
    "\n",
    "# make predictions\n",
    "expected = corpora['SalaryTarget']\n",
    "predicted = model.predict(train_data_features)\n",
    "# summarize the fit of the model\n",
    "print(metrics.accuracy_score(expected, predicted))\n",
    "print(metrics.confusion_matrix(expected, predicted))"
   ]
  },
  {
   "cell_type": "markdown",
   "metadata": {},
   "source": [
    "- Compared to Part B1, there is a slight improvement in classification accuracy (78.86% vs. 78.61%). This was in line with the original speculation, but not to the degree expected. This may have been due to the fact that the accuracy was already relatively high, and any additional processing would be small and incremental towards improving accuracy."
   ]
  },
  {
   "cell_type": "markdown",
   "metadata": {},
   "source": [
    "### B3. Now speculate whether stopwords removal from the original data would help increase the accuracy of the model. Take out the stopwords (but do not lemmatize), build a classification model and check the accuracy, and compare with that in B1 & B2. "
   ]
  },
  {
   "cell_type": "markdown",
   "metadata": {},
   "source": [
    "Speculation:\n",
    "\n",
    "- Similar to the above scenario with lemmatization, there is an expectation of an improvement in the classification accuracy once stopword removal is done. This is because stop words are not indicative of salary."
   ]
  },
  {
   "cell_type": "code",
   "execution_count": 45,
   "metadata": {},
   "outputs": [
    {
     "name": "stdout",
     "output_type": "stream",
     "text": [
      "MultinomialNB(alpha=1.0, class_prior=None, fit_prior=True)\n",
      "0.7935\n",
      "[[2062  448]\n",
      " [1617 5873]]\n"
     ]
    }
   ],
   "source": [
    "def job_to_words3(job_description):\n",
    "    # Function to convert a raw job description to a string of words\n",
    "    # The input is a single string (a raw ob description), and \n",
    "    # the output is a single string (a preprocessed ob description)\n",
    "    #\n",
    "    # 1. Remove non-letters        \n",
    "    letters_only = re.sub(\"[^a-zA-Z]\", \" \", job_description) \n",
    "    #\n",
    "    # 2. Convert to lower case, split into individual words\n",
    "    words = letters_only.lower().split()                             \n",
    "    #\n",
    "    # 3. In Python, searching a set is much faster than searching\n",
    "    #   a list, so convert the stop words to a set\n",
    "    stops = set(stopwords.words(\"english\"))                  \n",
    "    # \n",
    "    # 5. Remove stop words\n",
    "    meaningful_words = [w for w in words if not w in stops]   \n",
    "    #\n",
    "    # 6. Join the words back into one string separated by space, \n",
    "    onestring = ( \" \".join( meaningful_words )) \n",
    "    #\n",
    "    # 7. append the onestring to the main list\n",
    "    clean_job_descriptions.append(onestring)\n",
    "\n",
    "# Initialize an empty list to hold the clean reviews\n",
    "clean_job_descriptions = []\n",
    "\n",
    "# Loop over each job description; create an index i that goes from 0 to the length\n",
    "corpora['FullDescription'].map(job_to_words)\n",
    "\n",
    "# Initialize the \"CountVectorizer\" object, which is scikit-learn's\n",
    "# bag of words tool.  \n",
    "vectorizer = CountVectorizer(analyzer = \"word\",   \\\n",
    "                             tokenizer = None,    \\\n",
    "                             preprocessor = None, \\\n",
    "                             stop_words = 'english',   \\\n",
    "                             max_features = 5000) \n",
    "\n",
    "train_data_features = vectorizer.fit_transform(clean_job_descriptions)\n",
    "\n",
    "# Numpy arrays are easy to work with, so convert the result to an \n",
    "# array\n",
    "train_data_features = train_data_features.toarray()\n",
    "\n",
    "from sklearn.naive_bayes import MultinomialNB\n",
    "from sklearn import metrics\n",
    "\n",
    "# fit a Naive Bayes model to the data\n",
    "model = MultinomialNB()\n",
    "model.fit(train_data_features, corpora['SalaryTarget'])\n",
    "\n",
    "# make predictions\n",
    "expected = corpora['SalaryTarget']\n",
    "predicted = model.predict(train_data_features)\n",
    "# summarize the fit of the model\n",
    "print(metrics.accuracy_score(expected, predicted))\n",
    "print(metrics.confusion_matrix(expected, predicted))"
   ]
  },
  {
   "cell_type": "markdown",
   "metadata": {},
   "source": [
    "- After removing stop words, the classification accuracy was 79.35%. This was the highest accuracy so far, and is consistent with the speculation."
   ]
  },
  {
   "cell_type": "markdown",
   "metadata": {},
   "source": [
    "### Show the top 10 words (excluding stopwords) that are most indicative of (i) high salary, and (ii) low salary."
   ]
  },
  {
   "cell_type": "code",
   "execution_count": 46,
   "metadata": {},
   "outputs": [
    {
     "name": "stdout",
     "output_type": "stream",
     "text": [
      "High salary indicators:\n",
      "experience   -4.199473\n",
      "business     -4.519504\n",
      "role         -4.733370\n",
      "team         -4.790975\n",
      "management   -4.855313\n",
      "work         -4.889473\n",
      "skills       -4.942617\n",
      "client       -5.028459\n",
      "working      -5.104333\n",
      "manager      -5.108927\n",
      "dtype: float64\n",
      "\n",
      "Low salary indicators:\n",
      "experience   -4.404163\n",
      "work         -4.702867\n",
      "role         -4.737669\n",
      "team         -4.799539\n",
      "skills       -4.929025\n",
      "job          -4.949979\n",
      "sales        -4.957353\n",
      "working      -4.986955\n",
      "business     -5.023334\n",
      "client       -5.199505\n",
      "dtype: float64\n"
     ]
    }
   ],
   "source": [
    "# Log of the likelihoods for class 0 (High salary) and class 1 (Low salary)\n",
    "\n",
    "# exp(model.class_log_prior_[0]) # checking to see which class is class 0\n",
    "\n",
    "high_important = model.feature_log_prob_[0]\n",
    "low_important = model.feature_log_prob_[1]\n",
    "\n",
    "high_importance_series = Series(high_important, index=vectorizer.get_feature_names())\n",
    "print \"High salary indicators:\\n\", high_importance_series.sort_values(ascending=False)[:10]\n",
    "\n",
    "low_importance_series = Series(low_important, index=vectorizer.get_feature_names())\n",
    "print \"\\nLow salary indicators:\\n\", low_importance_series.sort_values(ascending=False)[:10]"
   ]
  },
  {
   "cell_type": "markdown",
   "metadata": {},
   "source": [
    "### B4.  Use the job descriptions without lemmatiztion and stopword removal. Add parts-of-speech bigrams to the bag-of-words, and run a new classification model. Does the accuracy increase over the results in B1? "
   ]
  },
  {
   "cell_type": "code",
   "execution_count": 47,
   "metadata": {
    "collapsed": true
   },
   "outputs": [],
   "source": [
    "def custom_tokenizer(string):\n",
    "    array_of_tokens = []\n",
    "    tokens = nltk.word_tokenize(string)\n",
    "    tagged_tokens = nltk.pos_tag(tokens)\n",
    "    return tagged_tokens"
   ]
  },
  {
   "cell_type": "code",
   "execution_count": 48,
   "metadata": {},
   "outputs": [
    {
     "name": "stdout",
     "output_type": "stream",
     "text": [
      "MultinomialNB(alpha=1.0, class_prior=None, fit_prior=True)\n",
      "0.7865\n",
      "[[2017  493]\n",
      " [1642 5848]]\n"
     ]
    }
   ],
   "source": [
    "def job_to_words4(job_description):\n",
    "    # Function to convert a raw job description to a string of words\n",
    "    # The input is a single string (a raw ob description), and \n",
    "    # the output is a single string (a preprocessed ob description)\n",
    "    #\n",
    "    # 1. Remove non-letters        \n",
    "    letters_only = re.sub(\"[^a-zA-Z]\", \" \", job_description) \n",
    "    #\n",
    "    # 2. Convert to lower case, split into individual words\n",
    "    words = letters_only.lower().split()  \n",
    "    #\n",
    "    # 3. Join the words back into one string separated by space, \n",
    "    onestring = (\" \".join(words)) \n",
    "    #\n",
    "    # 4. append the onestring to the main list\n",
    "    clean_job_descriptions.append(onestring)\n",
    "\n",
    "# Initialize an empty list to hold the clean reviews\n",
    "clean_job_descriptions = []\n",
    "\n",
    "# Loop over each job description; create an index i that goes from 0 to the length\n",
    "corpora['FullDescription'].map(job_to_words4)\n",
    "\n",
    "# Initialize the \"CountVectorizer\" object, which is scikit-learn's\n",
    "# bag of words tool.  \n",
    "vectorizer = CountVectorizer(analyzer = \"word\",   \\\n",
    "                             tokenizer = custom_tokenizer,    \\\n",
    "                             preprocessor = None, \\\n",
    "                             stop_words = None,   \\\n",
    "                             max_features = 5000) \n",
    "\n",
    "train_data_features = vectorizer.fit_transform(clean_job_descriptions)\n",
    "\n",
    "# Numpy arrays are easy to work with, so convert the result to an \n",
    "# array\n",
    "train_data_features = train_data_features.toarray()\n",
    "\n",
    "# print train_data_features.shape\n",
    "\n",
    "# Take a look at the words in the vocabulary\n",
    "vocab = vectorizer.get_feature_names()\n",
    "\n",
    "# fit a Naive Bayes model to the data\n",
    "model = MultinomialNB()\n",
    "model.fit(train_data_features, corpora['SalaryTarget'])\n",
    "\n",
    "# make predictions\n",
    "expected = corpora['SalaryTarget']\n",
    "predicted = model.predict(train_data_features)\n",
    "# summarize the fit of the model\n",
    "print(metrics.accuracy_score(expected, predicted))\n",
    "print(metrics.confusion_matrix(expected, predicted))"
   ]
  },
  {
   "cell_type": "markdown",
   "metadata": {},
   "source": [
    "- From this final model, the classification accuracy was 78.65%. Compared to the results of Part B1, there was a very slight improvement of 0.04% in accuracy. The only difference is that this model also correlates the words with their part of speech - so no additional features are added."
   ]
  }
 ],
 "metadata": {
  "kernelspec": {
   "display_name": "Python 3",
   "language": "python",
   "name": "python3"
  },
  "language_info": {
   "codemirror_mode": {
    "name": "ipython",
    "version": 3
   },
   "file_extension": ".py",
   "mimetype": "text/x-python",
   "name": "python",
   "nbconvert_exporter": "python",
   "pygments_lexer": "ipython3",
   "version": "3.7.6"
  }
 },
 "nbformat": 4,
 "nbformat_minor": 2
}
