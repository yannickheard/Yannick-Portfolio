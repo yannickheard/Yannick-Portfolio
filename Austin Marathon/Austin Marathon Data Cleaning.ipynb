{
 "cells": [
  {
   "cell_type": "markdown",
   "metadata": {},
   "source": [
    "Program to cleanup some results I pulled from the Austin Marathon, thinking was to be able to visualize different elements in Tableau and the original data wasn't quite in a place to use for that. Didn't plan any modeling given total lack of prior to race or specific runner information beyond names and locations. "
   ]
  },
  {
   "cell_type": "markdown",
   "metadata": {},
   "source": [
    "## Directory Setup and imports"
   ]
  },
  {
   "cell_type": "code",
   "execution_count": 1,
   "metadata": {},
   "outputs": [],
   "source": [
    "import os\n",
    "os.chdir(\"C:/Users/yanni/Documents/GitHub/Yannicks-Portfolio/Austin Marathon\")"
   ]
  },
  {
   "cell_type": "code",
   "execution_count": 2,
   "metadata": {},
   "outputs": [],
   "source": [
    "import sklearn\n",
    "import pandas as pd\n",
    "import numpy as np\n",
    "import matplotlib\n",
    "from matplotlib import pyplot as plt\n",
    "from datetime import datetime\n",
    "from datetime import timedelta"
   ]
  },
  {
   "cell_type": "markdown",
   "metadata": {},
   "source": [
    "## Data Import and Cleaning/Creation of new Columns"
   ]
  },
  {
   "cell_type": "code",
   "execution_count": 3,
   "metadata": {},
   "outputs": [],
   "source": [
    "df = pd.read_csv(\"Marathon2TimeFixed.csv\", encoding='cp1252')"
   ]
  },
  {
   "cell_type": "markdown",
   "metadata": {},
   "source": [
    "##### Creating a Full Name Column Rather than First and Last"
   ]
  },
  {
   "cell_type": "code",
   "execution_count": 166,
   "metadata": {},
   "outputs": [],
   "source": [
    "df['Full Name'] = df['First Name'] + \" \" + df['Last Name']\n",
    "df = df.drop('First Name', 1)\n",
    "df = df.drop('Last Name', 1)"
   ]
  },
  {
   "cell_type": "markdown",
   "metadata": {},
   "source": [
    "##### Checking that the number of unique bib numbers matches the total rows before using as an index"
   ]
  },
  {
   "cell_type": "code",
   "execution_count": 168,
   "metadata": {
    "scrolled": true
   },
   "outputs": [
    {
     "name": "stdout",
     "output_type": "stream",
     "text": [
      "Matches\n"
     ]
    }
   ],
   "source": [
    "unibibs = sum(df.pivot_table(index=['Bib'], aggfunc='size'))\n",
    "totarows = len(df.index)\n",
    "if unibibs == totarows:\n",
    "    print(\"Matches\")"
   ]
  },
  {
   "cell_type": "markdown",
   "metadata": {},
   "source": [
    "##### Setting the Index to Bib, inplace = True allows it to just remove that column from the df"
   ]
  },
  {
   "cell_type": "code",
   "execution_count": 169,
   "metadata": {},
   "outputs": [],
   "source": [
    "df.set_index('Bib', inplace = True)"
   ]
  },
  {
   "cell_type": "markdown",
   "metadata": {},
   "source": [
    "##### Remove all those who didn't finish and create a separate dataframe of them if I want to look into later"
   ]
  },
  {
   "cell_type": "code",
   "execution_count": 170,
   "metadata": {},
   "outputs": [],
   "source": [
    "dnf =df[df['Chip Time'] == \"DNF\"]\n",
    "df = df[df['Chip Time'] != \"DNF\"]\n",
    "df = df.dropna()"
   ]
  },
  {
   "cell_type": "markdown",
   "metadata": {},
   "source": [
    "##### Combining location data into one column, but keeping individual columns in case of later interest"
   ]
  },
  {
   "cell_type": "code",
   "execution_count": 172,
   "metadata": {
    "scrolled": true
   },
   "outputs": [],
   "source": [
    "df['Full Location'] = df.loc[:, 'City'] + ' ' + df.loc[:, 'State'] + ' ' + df.loc[:, 'Zip']"
   ]
  },
  {
   "cell_type": "markdown",
   "metadata": {},
   "source": [
    "##### This is to remove the /M portion of all the Paces(they have /M to indicate pace per mile but that complicates comparison)"
   ]
  },
  {
   "cell_type": "code",
   "execution_count": 173,
   "metadata": {},
   "outputs": [],
   "source": [
    "pacelist = (\"Total Pace\", '5K Pace', '10k Pace', '15K Pace',\n",
    "            '20k Pace', '25k Pace', '13.1 Pace', '30k Pace',\n",
    "           '35k Pace', '40k Pace', 'Finish Pace')\n",
    "\n",
    "def paceremoval(pc):\n",
    "    pc = str(pc).rstrip('/M')\n",
    "    return pc\n",
    "\n",
    "for i in pacelist:\n",
    "    df[i] = df[i].apply(paceremoval)"
   ]
  },
  {
   "cell_type": "markdown",
   "metadata": {},
   "source": [
    "## This is to convert the times into time delta form"
   ]
  },
  {
   "cell_type": "code",
   "execution_count": 174,
   "metadata": {},
   "outputs": [],
   "source": [
    "timelist = ('5K', '10k', '15K', '20k', '25k', '30k', '35k', '40k', '13.1M', 'Finish', 'Gun Time', 'Chip Time')"
   ]
  },
  {
   "cell_type": "markdown",
   "metadata": {},
   "source": [
    "##### Create a new column of difference between Gun Time and Chip Time that would be the delay between start of race and them crossing the line"
   ]
  },
  {
   "cell_type": "code",
   "execution_count": 175,
   "metadata": {},
   "outputs": [
    {
     "name": "stdout",
     "output_type": "stream",
     "text": [
      "0 days 00:00:00\n"
     ]
    }
   ],
   "source": [
    "def totime(test):\n",
    "    test = datetime.strptime(str(test), \"%H:%M:%S\")\n",
    "    return test\n",
    "\n",
    "\n",
    "for i in timelist:\n",
    "    df[i] = df[i].apply(totime)\n",
    "\n",
    "df['Start Delay'] = df['Gun Time']- df['Chip Time']"
   ]
  },
  {
   "cell_type": "markdown",
   "metadata": {},
   "source": [
    "## I should now be able to easily compare/add or subtract any of the times!"
   ]
  },
  {
   "cell_type": "code",
   "execution_count": 176,
   "metadata": {},
   "outputs": [],
   "source": [
    "df['First 5K'] = df['5K'] - pd.Timestamp(1900, 1, 1, 0, 0,0)\n",
    "df['Second 5K'] = df['10k']- df['5K']\n",
    "df['Third 5K'] = df['15K']- df['10k']\n",
    "df['Fourth 5K']= df['20k']- df['15K']\n",
    "df['Fifth 5K']= df['25k']- df['20k']\n",
    "df['Sixth 5K']= df['30k']- df['25k']\n",
    "df['Seventh 5K']= df['35k']- df['30k']\n",
    "df['Eighth 5K']= df['40k']- df['35k']"
   ]
  },
  {
   "cell_type": "markdown",
   "metadata": {},
   "source": [
    "5k Speed Up/Slow Down?"
   ]
  },
  {
   "cell_type": "code",
   "execution_count": 183,
   "metadata": {},
   "outputs": [],
   "source": [
    "def time_to_sec(split):\n",
    "    split_second = timedelta.total_seconds(split)\n",
    "    return split_second"
   ]
  },
  {
   "cell_type": "code",
   "execution_count": 177,
   "metadata": {},
   "outputs": [],
   "source": [
    "df['First 5K sec'] =df['First 5K'].apply(time_to_sec)\n",
    "df['Second 5K sec'] =df['Second 5K'].apply(time_to_sec)\n",
    "df['Third 5K sec'] =df['Third 5K'].apply(time_to_sec)\n",
    "df['Fourth 5K sec'] =df['Fourth 5K'].apply(time_to_sec)\n",
    "df['Fifth 5K sec'] =df['Fifth 5K'].apply(time_to_sec)\n",
    "df['Sixth 5K sec'] =df['Sixth 5K'].apply(time_to_sec)\n",
    "df['Seventh 5K sec'] =df['Seventh 5K'].apply(time_to_sec)\n",
    "df['Eighth 5K sec'] =df['Eighth 5K'].apply(time_to_sec)\n",
    "\n",
    "\n",
    "df['Delay5'] = df['First 5K sec']-df['Second 5K sec']\n",
    "df['Delay10']= df['Second 5K sec']-df['Third 5K sec']\n",
    "df['Delay15']= df['Third 5K sec']-df['Fourth 5K sec']\n",
    "df['Delay20']= df['Fourth 5K sec']-df['Fifth 5K sec']\n",
    "df['Delay25']= df['Fifth 5K sec']-df['Sixth 5K sec']\n",
    "df['Delay30']= df['Sixth 5K sec']-df['Seventh 5K sec']\n",
    "df['Delay35']= df['Seventh 5K sec']-df['Eighth 5K sec']"
   ]
  },
  {
   "cell_type": "markdown",
   "metadata": {},
   "source": [
    "#### First Half vs Second Half"
   ]
  },
  {
   "cell_type": "code",
   "execution_count": 179,
   "metadata": {},
   "outputs": [],
   "source": [
    "df['Second Half'] = df['Finish'] - df['13.1M']"
   ]
  },
  {
   "cell_type": "code",
   "execution_count": 180,
   "metadata": {},
   "outputs": [],
   "source": [
    "df['First Half'] = df['13.1M'] - datetime(1900, 1, 1, 0, 0, 0)"
   ]
  },
  {
   "cell_type": "markdown",
   "metadata": {},
   "source": [
    "#### Creation of Split Diff, and then into seconds to make understandable when negative"
   ]
  },
  {
   "cell_type": "code",
   "execution_count": 181,
   "metadata": {},
   "outputs": [],
   "source": [
    "df['Splits'] = df['Second Half'] - df['First Half']\n",
    "df['Splits'] =df['Splits'].apply(time_to_sec)"
   ]
  },
  {
   "cell_type": "markdown",
   "metadata": {},
   "source": [
    "Write Data to a cleaned csv for future importing without needing to repeat work and an excel to allow attaching to Tableau for visualization"
   ]
  },
  {
   "cell_type": "code",
   "execution_count": 149,
   "metadata": {},
   "outputs": [],
   "source": [
    "df.to_excel('ForTableau.xlsx')\n",
    "df.to_csv('AustinMarathonCleaned.csv')"
   ]
  }
 ],
 "metadata": {
  "kernelspec": {
   "display_name": "Python 3",
   "language": "python",
   "name": "python3"
  },
  "language_info": {
   "codemirror_mode": {
    "name": "ipython",
    "version": 3
   },
   "file_extension": ".py",
   "mimetype": "text/x-python",
   "name": "python",
   "nbconvert_exporter": "python",
   "pygments_lexer": "ipython3",
   "version": "3.7.6"
  }
 },
 "nbformat": 4,
 "nbformat_minor": 4
}
