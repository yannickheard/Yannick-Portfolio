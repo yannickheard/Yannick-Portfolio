{
 "cells": [
  {
   "cell_type": "code",
   "execution_count": 90,
   "metadata": {},
   "outputs": [],
   "source": [
    "def password_pieces(lump):\n",
    "    x = lump.split(' ')\n",
    "    first_val, second_val = [int(y) for y in x[0].split('-')]\n",
    "    letter = x[1].strip(':')\n",
    "    password = x[2]\n",
    "    return(letter, first_val, second_val, password)"
   ]
  },
  {
   "cell_type": "code",
   "execution_count": 91,
   "metadata": {},
   "outputs": [],
   "source": [
    "def password_count(batch):\n",
    "    letter, first_val, second_val, password = batch[0:4]   \n",
    "    appearances = 0\n",
    "    for char in password:\n",
    "        if char == letter:\n",
    "            appearances += 1      \n",
    "    if appearances >= int(first_val) and appearances <= int(second_val):\n",
    "        return(1)\n",
    "    else:\n",
    "        return(0)"
   ]
  },
  {
   "cell_type": "code",
   "execution_count": 92,
   "metadata": {},
   "outputs": [],
   "source": [
    "def password_location(batch):\n",
    "    letter, first_val, second_val, password = batch[0:4]\n",
    "    char_1 = password[first_val-1]\n",
    "    char_2 = password[second_val-1]\n",
    "    if char_1 == letter and char_2 != letter:\n",
    "        return(1)\n",
    "    elif char_2 == letter and char_1 != letter:\n",
    "        return(1)\n",
    "    else:\n",
    "        return(0)"
   ]
  },
  {
   "cell_type": "code",
   "execution_count": 93,
   "metadata": {},
   "outputs": [],
   "source": [
    "def main():\n",
    "    import numpy as np\n",
    "    \n",
    "    with open('Day2.txt', 'r') as f:\n",
    "        pswd = f.read()\n",
    "    f.close()\n",
    "    Passwords = np.array(pswd.split('\\n'))\n",
    "    \n",
    "    \n",
    "    Total_Passwords = 0\n",
    "    Total_Locations = 0\n",
    "    for attempt in Passwords:\n",
    "        parts = password_pieces(attempt)\n",
    "        Total_Passwords += password_count(parts)\n",
    "        Total_Locations += password_location(parts)\n",
    "    print(\"Part 1: \", Total_Passwords)\n",
    "    print(\"Part 2: \", Total_Locations)\n",
    "    "
   ]
  },
  {
   "cell_type": "code",
   "execution_count": 94,
   "metadata": {},
   "outputs": [
    {
     "name": "stdout",
     "output_type": "stream",
     "text": [
      "Part 1:  580\n",
      "Part 2:  611\n"
     ]
    }
   ],
   "source": [
    "if __name__ == \"__main__\":\n",
    "    main()"
   ]
  },
  {
   "cell_type": "code",
   "execution_count": null,
   "metadata": {},
   "outputs": [],
   "source": []
  }
 ],
 "metadata": {
  "kernelspec": {
   "display_name": "Python 3",
   "language": "python",
   "name": "python3"
  },
  "language_info": {
   "codemirror_mode": {
    "name": "ipython",
    "version": 3
   },
   "file_extension": ".py",
   "mimetype": "text/x-python",
   "name": "python",
   "nbconvert_exporter": "python",
   "pygments_lexer": "ipython3",
   "version": "3.7.6"
  }
 },
 "nbformat": 4,
 "nbformat_minor": 4
}
