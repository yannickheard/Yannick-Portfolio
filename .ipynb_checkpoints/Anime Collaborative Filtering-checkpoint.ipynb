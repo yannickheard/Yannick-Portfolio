{
 "cells": [
  {
   "cell_type": "code",
   "execution_count": 1,
   "metadata": {},
   "outputs": [
    {
     "name": "stdout",
     "output_type": "stream",
     "text": [
      "Populating the interactive namespace from numpy and matplotlib\n"
     ]
    }
   ],
   "source": [
    "import pandas as pd\n",
    "import os\n",
    "import numpy as np\n",
    "import matplotlib.pyplot as plt\n",
    "%pylab inline"
   ]
  },
  {
   "cell_type": "code",
   "execution_count": 2,
   "metadata": {},
   "outputs": [],
   "source": [
    "shows = pd.read_csv(\"Anime Data 2/anime_filtered.csv\", index_col = 'anime_id', usecols=['title', 'anime_id'])\n",
    "ratings = pd.read_csv(\"Anime Data 2/animelists_filtered.csv\", nrows = 200000,usecols=['username', 'anime_id', 'my_score'])"
   ]
  },
  {
   "cell_type": "code",
   "execution_count": 3,
   "metadata": {},
   "outputs": [
    {
     "data": {
      "text/html": [
       "<div>\n",
       "<style scoped>\n",
       "    .dataframe tbody tr th:only-of-type {\n",
       "        vertical-align: middle;\n",
       "    }\n",
       "\n",
       "    .dataframe tbody tr th {\n",
       "        vertical-align: top;\n",
       "    }\n",
       "\n",
       "    .dataframe thead th {\n",
       "        text-align: right;\n",
       "    }\n",
       "</style>\n",
       "<table border=\"1\" class=\"dataframe\">\n",
       "  <thead>\n",
       "    <tr style=\"text-align: right;\">\n",
       "      <th></th>\n",
       "      <th>username</th>\n",
       "      <th>anime_id</th>\n",
       "      <th>my_score</th>\n",
       "    </tr>\n",
       "  </thead>\n",
       "  <tbody>\n",
       "    <tr>\n",
       "      <th>0</th>\n",
       "      <td>karthiga</td>\n",
       "      <td>21</td>\n",
       "      <td>9</td>\n",
       "    </tr>\n",
       "    <tr>\n",
       "      <th>1</th>\n",
       "      <td>RedvelvetDaisuki</td>\n",
       "      <td>21</td>\n",
       "      <td>0</td>\n",
       "    </tr>\n",
       "    <tr>\n",
       "      <th>2</th>\n",
       "      <td>Damonashu</td>\n",
       "      <td>21</td>\n",
       "      <td>10</td>\n",
       "    </tr>\n",
       "    <tr>\n",
       "      <th>3</th>\n",
       "      <td>bskai</td>\n",
       "      <td>21</td>\n",
       "      <td>8</td>\n",
       "    </tr>\n",
       "    <tr>\n",
       "      <th>4</th>\n",
       "      <td>Slimak</td>\n",
       "      <td>21</td>\n",
       "      <td>10</td>\n",
       "    </tr>\n",
       "  </tbody>\n",
       "</table>\n",
       "</div>"
      ],
      "text/plain": [
       "           username  anime_id  my_score\n",
       "0          karthiga        21         9\n",
       "1  RedvelvetDaisuki        21         0\n",
       "2         Damonashu        21        10\n",
       "3             bskai        21         8\n",
       "4            Slimak        21        10"
      ]
     },
     "execution_count": 3,
     "metadata": {},
     "output_type": "execute_result"
    }
   ],
   "source": [
    "ratings.head()"
   ]
  },
  {
   "cell_type": "code",
   "execution_count": 4,
   "metadata": {},
   "outputs": [
    {
     "data": {
      "text/plain": [
       "(200000, 3)"
      ]
     },
     "execution_count": 4,
     "metadata": {},
     "output_type": "execute_result"
    }
   ],
   "source": [
    "ratings.shape"
   ]
  },
  {
   "cell_type": "markdown",
   "metadata": {},
   "source": [
    "#### Pivoting the data so that I have the users as rows with shows at the columns and their scores as the values"
   ]
  },
  {
   "cell_type": "code",
   "execution_count": 5,
   "metadata": {},
   "outputs": [],
   "source": [
    "ratings = pd.pivot(ratings, index = 'username', columns = 'anime_id', values = 'my_score')"
   ]
  },
  {
   "cell_type": "code",
   "execution_count": 6,
   "metadata": {},
   "outputs": [
    {
     "data": {
      "text/html": [
       "<div>\n",
       "<style scoped>\n",
       "    .dataframe tbody tr th:only-of-type {\n",
       "        vertical-align: middle;\n",
       "    }\n",
       "\n",
       "    .dataframe tbody tr th {\n",
       "        vertical-align: top;\n",
       "    }\n",
       "\n",
       "    .dataframe thead th {\n",
       "        text-align: right;\n",
       "    }\n",
       "</style>\n",
       "<table border=\"1\" class=\"dataframe\">\n",
       "  <thead>\n",
       "    <tr style=\"text-align: right;\">\n",
       "      <th>anime_id</th>\n",
       "      <th>21</th>\n",
       "      <th>59</th>\n",
       "      <th>74</th>\n",
       "      <th>120</th>\n",
       "      <th>178</th>\n",
       "      <th>210</th>\n",
       "      <th>232</th>\n",
       "      <th>233</th>\n",
       "      <th>249</th>\n",
       "    </tr>\n",
       "    <tr>\n",
       "      <th>username</th>\n",
       "      <th></th>\n",
       "      <th></th>\n",
       "      <th></th>\n",
       "      <th></th>\n",
       "      <th></th>\n",
       "      <th></th>\n",
       "      <th></th>\n",
       "      <th></th>\n",
       "      <th></th>\n",
       "    </tr>\n",
       "  </thead>\n",
       "  <tbody>\n",
       "    <tr>\n",
       "      <th>----phoebelyn</th>\n",
       "      <td>0.0</td>\n",
       "      <td>NaN</td>\n",
       "      <td>NaN</td>\n",
       "      <td>0.0</td>\n",
       "      <td>NaN</td>\n",
       "      <td>NaN</td>\n",
       "      <td>NaN</td>\n",
       "      <td>NaN</td>\n",
       "      <td>NaN</td>\n",
       "    </tr>\n",
       "    <tr>\n",
       "      <th>--AnimeBoy--</th>\n",
       "      <td>6.0</td>\n",
       "      <td>6.0</td>\n",
       "      <td>6.0</td>\n",
       "      <td>NaN</td>\n",
       "      <td>NaN</td>\n",
       "      <td>7.0</td>\n",
       "      <td>7.0</td>\n",
       "      <td>NaN</td>\n",
       "      <td>NaN</td>\n",
       "    </tr>\n",
       "    <tr>\n",
       "      <th>--CyberShadow--</th>\n",
       "      <td>9.0</td>\n",
       "      <td>NaN</td>\n",
       "      <td>8.0</td>\n",
       "      <td>9.0</td>\n",
       "      <td>NaN</td>\n",
       "      <td>NaN</td>\n",
       "      <td>NaN</td>\n",
       "      <td>NaN</td>\n",
       "      <td>NaN</td>\n",
       "    </tr>\n",
       "    <tr>\n",
       "      <th>--FallenAngel--</th>\n",
       "      <td>9.0</td>\n",
       "      <td>8.0</td>\n",
       "      <td>NaN</td>\n",
       "      <td>NaN</td>\n",
       "      <td>NaN</td>\n",
       "      <td>8.0</td>\n",
       "      <td>NaN</td>\n",
       "      <td>NaN</td>\n",
       "      <td>8.0</td>\n",
       "    </tr>\n",
       "    <tr>\n",
       "      <th>--Kin--</th>\n",
       "      <td>10.0</td>\n",
       "      <td>NaN</td>\n",
       "      <td>NaN</td>\n",
       "      <td>7.0</td>\n",
       "      <td>NaN</td>\n",
       "      <td>NaN</td>\n",
       "      <td>8.0</td>\n",
       "      <td>NaN</td>\n",
       "      <td>NaN</td>\n",
       "    </tr>\n",
       "  </tbody>\n",
       "</table>\n",
       "</div>"
      ],
      "text/plain": [
       "anime_id          21   59   74   120  178  210  232  233  249\n",
       "username                                                     \n",
       "----phoebelyn     0.0  NaN  NaN  0.0  NaN  NaN  NaN  NaN  NaN\n",
       "--AnimeBoy--      6.0  6.0  6.0  NaN  NaN  7.0  7.0  NaN  NaN\n",
       "--CyberShadow--   9.0  NaN  8.0  9.0  NaN  NaN  NaN  NaN  NaN\n",
       "--FallenAngel--   9.0  8.0  NaN  NaN  NaN  8.0  NaN  NaN  8.0\n",
       "--Kin--          10.0  NaN  NaN  7.0  NaN  NaN  8.0  NaN  NaN"
      ]
     },
     "execution_count": 6,
     "metadata": {},
     "output_type": "execute_result"
    }
   ],
   "source": [
    "ratings.head()"
   ]
  },
  {
   "cell_type": "markdown",
   "metadata": {},
   "source": [
    "#### Pick the shows that I want to focus in on for these recommendations"
   ]
  },
  {
   "cell_type": "code",
   "execution_count": 7,
   "metadata": {},
   "outputs": [
    {
     "data": {
      "text/plain": [
       "[210, 232, 233]"
      ]
     },
     "execution_count": 7,
     "metadata": {},
     "output_type": "execute_result"
    }
   ],
   "source": [
    "target_cols = [210, 232, 233]\n",
    "non_targets = [col for col in ratings.columns if col not in target_cols]\n",
    "target_cols"
   ]
  },
  {
   "cell_type": "markdown",
   "metadata": {},
   "source": [
    "#### The names of the shows that I am targeting to determine if should reccommend"
   ]
  },
  {
   "cell_type": "code",
   "execution_count": 8,
   "metadata": {},
   "outputs": [
    {
     "data": {
      "text/plain": [
       "anime_id\n",
       "210              Ranma ½\n",
       "232    Cardcaptor Sakura\n",
       "233       Daa! Daa! Daa!\n",
       "Name: title, dtype: object"
      ]
     },
     "execution_count": 8,
     "metadata": {},
     "output_type": "execute_result"
    }
   ],
   "source": [
    "shows.loc[target_cols, 'title']"
   ]
  },
  {
   "cell_type": "code",
   "execution_count": 9,
   "metadata": {},
   "outputs": [],
   "source": [
    "ratings = ratings.loc[ratings[target_cols].notna().max(axis=1)\n",
    "                     & (ratings.drop(target_cols, axis=1).notna().sum(axis=1)>0)]"
   ]
  },
  {
   "cell_type": "code",
   "execution_count": 10,
   "metadata": {},
   "outputs": [
    {
     "data": {
      "text/plain": [
       "anime_id\n",
       "210    0.488273\n",
       "232    0.771060\n",
       "233    0.079712\n",
       "dtype: float64"
      ]
     },
     "execution_count": 10,
     "metadata": {},
     "output_type": "execute_result"
    }
   ],
   "source": [
    "ratings[target_cols].notna().mean()"
   ]
  },
  {
   "cell_type": "markdown",
   "metadata": {},
   "source": [
    "### Plotting the distribution of the ratings for my target shows"
   ]
  },
  {
   "cell_type": "code",
   "execution_count": 11,
   "metadata": {},
   "outputs": [
    {
     "data": {
      "image/png": "[encoded data removed]",
      "text/plain": [
       "<Figure size 720x720 with 3 Axes>"
      ]
     },
     "metadata": {
      "needs_background": "light"
     },
     "output_type": "display_data"
    }
   ],
   "source": [
    "plt.figure(figsize=(10,10))\n",
    "\n",
    "plt.subplot(311)\n",
    "plt.title(\"Distribution of reviews for {}\".format(shows.loc[target_cols[0], 'title']))\n",
    "plt.hist(ratings[target_cols[0]].dropna())\n",
    "plt.axvline(ratings[target_cols[0]].median(), color='purple', ls='--')\n",
    "plt.text(ratings[target_cols[0]].median()+0.1, ratings[target_cols[2]].count()/4, 'Median', rotation = 90)\n",
    "plt.axvline(ratings[target_cols[0]].mean(), color = 'red', ls = '--')\n",
    "plt.text(ratings[target_cols[0]].mean()+0.1, ratings[target_cols[2]].count()/4, 'Mean', rotation = 90)\n",
    "\n",
    "\n",
    "\n",
    "pyplot.subplot(312)\n",
    "plt.title(\"Distribution of reviews for {}\".format(shows.loc[target_cols[1], 'title']))\n",
    "plt.hist(ratings[target_cols[1]].dropna())\n",
    "plt.axvline(ratings[target_cols[1]].median(), color='purple', ls='--')\n",
    "plt.text(ratings[target_cols[1]].median()+0.1, ratings[target_cols[2]].count()/4, 'Median', rotation = 90)\n",
    "plt.axvline(ratings[target_cols[1]].mean(), color = 'red', ls = '--')\n",
    "plt.text(ratings[target_cols[1]].mean()+0.1, ratings[target_cols[2]].count()/4, 'Mean', rotation = 90)\n",
    "\n",
    "\n",
    "\n",
    "pyplot.subplot(313)\n",
    "plt.title(\"Distribution of reviews for {}\".format(shows.loc[target_cols[2], 'title']))\n",
    "plt.hist(ratings[target_cols[2]].dropna())\n",
    "plt.axvline(ratings[target_cols[2]].median(), color='purple', ls='--')\n",
    "plt.text(ratings[target_cols[2]].median()+0.1, ratings[target_cols[2]].count()/4, 'Median', rotation = 90)\n",
    "plt.axvline(ratings[target_cols[2]].mean(), color = 'red', ls = '--')\n",
    "plt.text(ratings[target_cols[2]].mean()+0.1, ratings[target_cols[2]].count()/4, 'Mean', rotation = 90)\n",
    "\n",
    "\n",
    "pyplot.savefig('show_distribution.png',dpi=800)\n",
    "plt.show()"
   ]
  },
  {
   "cell_type": "markdown",
   "metadata": {},
   "source": [
    "#### Getting the training and testing sets"
   ]
  },
  {
   "cell_type": "code",
   "execution_count": 12,
   "metadata": {},
   "outputs": [],
   "source": [
    "from sklearn.model_selection import train_test_split\n",
    "\n",
    "train, test = train_test_split(ratings, test_size=.3, random_state=1)"
   ]
  },
  {
   "cell_type": "markdown",
   "metadata": {},
   "source": [
    "#### Creating a baseline error for the each of the shows that I am recommending to work from when altering it per user "
   ]
  },
  {
   "cell_type": "code",
   "execution_count": 13,
   "metadata": {},
   "outputs": [
    {
     "name": "stdout",
     "output_type": "stream",
     "text": [
      "Error in scores when recommending 'Ranma ½' (median baseline): 3.5\n",
      "Error in scores when recommending 'Cardcaptor Sakura' (median baseline): 3.3\n",
      "Error in scores when recommending 'Daa! Daa! Daa!' (median baseline): 3.93\n"
     ]
    }
   ],
   "source": [
    "from sklearn.metrics import mean_absolute_error\n",
    "\n",
    "# baseline (median)a\n",
    "baselines = []\n",
    "\n",
    "for target_col in target_cols:\n",
    "    score = mean_absolute_error(test[target_col].dropna(),\n",
    "                    np.repeat(train[target_col].median(), test[target_col].notna().sum()))\n",
    "    baselines.append(score)\n",
    "    print(\"Error in scores when recommending '{}' (median baseline): {}\".format(shows.loc[target_col, 'title'],\n",
    "        round(score, 2)))"
   ]
  },
  {
   "cell_type": "markdown",
   "metadata": {},
   "source": [
    "## Collaborative Filtering"
   ]
  },
  {
   "cell_type": "code",
   "execution_count": 14,
   "metadata": {},
   "outputs": [],
   "source": [
    "train_targets = train[target_cols]\n",
    "test_targets = test[target_cols]\n",
    "\n",
    "train = train.drop(target_cols, axis=1)\n",
    "test = test.drop(target_cols, axis=1)"
   ]
  },
  {
   "cell_type": "markdown",
   "metadata": {},
   "source": [
    "#### Zero Center the review values by user using their average for the training and testing"
   ]
  },
  {
   "cell_type": "code",
   "execution_count": 15,
   "metadata": {},
   "outputs": [],
   "source": [
    "train_mean = train.mean(axis=1)\n",
    "test_mean = test.mean(axis=1)\n",
    "\n",
    "train = train.apply(lambda col:col-train_mean)\n",
    "test = test.apply(lambda col:col-test_mean)\n",
    "\n",
    "train_targets = train_targets.apply(lambda col:col-train_mean)\n",
    "test_targets = test_targets.apply(lambda col:col-test_mean)"
   ]
  },
  {
   "cell_type": "markdown",
   "metadata": {},
   "source": [
    "#### Find the similarity between users so that we can know which users are similar for recommendations"
   ]
  },
  {
   "cell_type": "code",
   "execution_count": 16,
   "metadata": {},
   "outputs": [
    {
     "data": {
      "text/plain": [
       "(21488, 9210)"
      ]
     },
     "execution_count": 16,
     "metadata": {},
     "output_type": "execute_result"
    }
   ],
   "source": [
    "# find inter-user similarity (ignoring our target columns)\n",
    "from sklearn.metrics.pairwise import cosine_similarity\n",
    "\n",
    "sim = pd.DataFrame(cosine_similarity(train.fillna(0), test.fillna(0)), \n",
    "                   index=train.index, columns=test.index)\n",
    "sim.shape"
   ]
  },
  {
   "cell_type": "code",
   "execution_count": 17,
   "metadata": {},
   "outputs": [
    {
     "data": {
      "text/html": [
       "<div>\n",
       "<style scoped>\n",
       "    .dataframe tbody tr th:only-of-type {\n",
       "        vertical-align: middle;\n",
       "    }\n",
       "\n",
       "    .dataframe tbody tr th {\n",
       "        vertical-align: top;\n",
       "    }\n",
       "\n",
       "    .dataframe thead th {\n",
       "        text-align: right;\n",
       "    }\n",
       "</style>\n",
       "<table border=\"1\" class=\"dataframe\">\n",
       "  <thead>\n",
       "    <tr style=\"text-align: right;\">\n",
       "      <th>username</th>\n",
       "      <th>Mifu</th>\n",
       "      <th>KIIRA</th>\n",
       "      <th>Rigix</th>\n",
       "      <th>05chante</th>\n",
       "      <th>RazorBladeHeart</th>\n",
       "      <th>Krold</th>\n",
       "      <th>aoitenshi</th>\n",
       "      <th>MichieruChan</th>\n",
       "      <th>youav97</th>\n",
       "      <th>AzukeN-kun</th>\n",
       "      <th>...</th>\n",
       "      <th>Saberclaws</th>\n",
       "      <th>InSoManX</th>\n",
       "      <th>elberino</th>\n",
       "      <th>DevilLady</th>\n",
       "      <th>VinaKoolkat</th>\n",
       "      <th>sumikk0</th>\n",
       "      <th>ericssj</th>\n",
       "      <th>Nekko-mimi</th>\n",
       "      <th>alexinwonderland</th>\n",
       "      <th>Agusloquillo</th>\n",
       "    </tr>\n",
       "    <tr>\n",
       "      <th>username</th>\n",
       "      <th></th>\n",
       "      <th></th>\n",
       "      <th></th>\n",
       "      <th></th>\n",
       "      <th></th>\n",
       "      <th></th>\n",
       "      <th></th>\n",
       "      <th></th>\n",
       "      <th></th>\n",
       "      <th></th>\n",
       "      <th></th>\n",
       "      <th></th>\n",
       "      <th></th>\n",
       "      <th></th>\n",
       "      <th></th>\n",
       "      <th></th>\n",
       "      <th></th>\n",
       "      <th></th>\n",
       "      <th></th>\n",
       "      <th></th>\n",
       "      <th></th>\n",
       "    </tr>\n",
       "  </thead>\n",
       "  <tbody>\n",
       "    <tr>\n",
       "      <th>LelouchStampede</th>\n",
       "      <td>0.0</td>\n",
       "      <td>0.0</td>\n",
       "      <td>0.0</td>\n",
       "      <td>0.817057</td>\n",
       "      <td>-2.886751e-01</td>\n",
       "      <td>-0.223607</td>\n",
       "      <td>0.816497</td>\n",
       "      <td>0.632456</td>\n",
       "      <td>0.0</td>\n",
       "      <td>0.000000e+00</td>\n",
       "      <td>...</td>\n",
       "      <td>0.517088</td>\n",
       "      <td>0.000000e+00</td>\n",
       "      <td>0.0</td>\n",
       "      <td>-0.917663</td>\n",
       "      <td>0.756596</td>\n",
       "      <td>0.716910</td>\n",
       "      <td>0.0</td>\n",
       "      <td>0.790569</td>\n",
       "      <td>0.0</td>\n",
       "      <td>-0.500000</td>\n",
       "    </tr>\n",
       "    <tr>\n",
       "      <th>Jen526</th>\n",
       "      <td>0.0</td>\n",
       "      <td>0.0</td>\n",
       "      <td>0.0</td>\n",
       "      <td>0.000000</td>\n",
       "      <td>0.000000e+00</td>\n",
       "      <td>0.000000</td>\n",
       "      <td>0.000000</td>\n",
       "      <td>0.000000</td>\n",
       "      <td>0.0</td>\n",
       "      <td>0.000000e+00</td>\n",
       "      <td>...</td>\n",
       "      <td>0.000000</td>\n",
       "      <td>0.000000e+00</td>\n",
       "      <td>0.0</td>\n",
       "      <td>0.000000</td>\n",
       "      <td>0.000000</td>\n",
       "      <td>0.000000</td>\n",
       "      <td>0.0</td>\n",
       "      <td>0.000000</td>\n",
       "      <td>0.0</td>\n",
       "      <td>0.000000</td>\n",
       "    </tr>\n",
       "    <tr>\n",
       "      <th>sloneczniq</th>\n",
       "      <td>0.0</td>\n",
       "      <td>0.0</td>\n",
       "      <td>0.0</td>\n",
       "      <td>0.200959</td>\n",
       "      <td>-4.564355e-01</td>\n",
       "      <td>0.494975</td>\n",
       "      <td>0.129099</td>\n",
       "      <td>1.000000</td>\n",
       "      <td>0.0</td>\n",
       "      <td>3.867427e-18</td>\n",
       "      <td>...</td>\n",
       "      <td>0.179869</td>\n",
       "      <td>-6.797661e-18</td>\n",
       "      <td>0.0</td>\n",
       "      <td>-0.798024</td>\n",
       "      <td>0.039876</td>\n",
       "      <td>0.408072</td>\n",
       "      <td>0.0</td>\n",
       "      <td>0.050000</td>\n",
       "      <td>0.0</td>\n",
       "      <td>0.158114</td>\n",
       "    </tr>\n",
       "    <tr>\n",
       "      <th>wyspa</th>\n",
       "      <td>0.0</td>\n",
       "      <td>0.0</td>\n",
       "      <td>0.0</td>\n",
       "      <td>0.000000</td>\n",
       "      <td>0.000000e+00</td>\n",
       "      <td>0.000000</td>\n",
       "      <td>0.000000</td>\n",
       "      <td>0.000000</td>\n",
       "      <td>0.0</td>\n",
       "      <td>0.000000e+00</td>\n",
       "      <td>...</td>\n",
       "      <td>0.000000</td>\n",
       "      <td>0.000000e+00</td>\n",
       "      <td>0.0</td>\n",
       "      <td>0.000000</td>\n",
       "      <td>0.000000</td>\n",
       "      <td>0.000000</td>\n",
       "      <td>0.0</td>\n",
       "      <td>0.000000</td>\n",
       "      <td>0.0</td>\n",
       "      <td>0.000000</td>\n",
       "    </tr>\n",
       "    <tr>\n",
       "      <th>Genki_Dama</th>\n",
       "      <td>0.0</td>\n",
       "      <td>0.0</td>\n",
       "      <td>0.0</td>\n",
       "      <td>-0.909101</td>\n",
       "      <td>-2.490864e-16</td>\n",
       "      <td>0.707107</td>\n",
       "      <td>-0.968246</td>\n",
       "      <td>-0.050000</td>\n",
       "      <td>0.0</td>\n",
       "      <td>1.581139e-01</td>\n",
       "      <td>...</td>\n",
       "      <td>-0.531432</td>\n",
       "      <td>2.726547e-18</td>\n",
       "      <td>0.0</td>\n",
       "      <td>0.544107</td>\n",
       "      <td>-0.890567</td>\n",
       "      <td>-0.549134</td>\n",
       "      <td>0.0</td>\n",
       "      <td>-1.000000</td>\n",
       "      <td>0.0</td>\n",
       "      <td>0.790569</td>\n",
       "    </tr>\n",
       "  </tbody>\n",
       "</table>\n",
       "<p>5 rows × 9210 columns</p>\n",
       "</div>"
      ],
      "text/plain": [
       "username         Mifu  KIIRA  Rigix  05chante  RazorBladeHeart     Krold  \\\n",
       "username                                                                   \n",
       "LelouchStampede   0.0    0.0    0.0  0.817057    -2.886751e-01 -0.223607   \n",
       "Jen526            0.0    0.0    0.0  0.000000     0.000000e+00  0.000000   \n",
       "sloneczniq        0.0    0.0    0.0  0.200959    -4.564355e-01  0.494975   \n",
       "wyspa             0.0    0.0    0.0  0.000000     0.000000e+00  0.000000   \n",
       "Genki_Dama        0.0    0.0    0.0 -0.909101    -2.490864e-16  0.707107   \n",
       "\n",
       "username         aoitenshi  MichieruChan  youav97    AzukeN-kun  ...  \\\n",
       "username                                                         ...   \n",
       "LelouchStampede   0.816497      0.632456      0.0  0.000000e+00  ...   \n",
       "Jen526            0.000000      0.000000      0.0  0.000000e+00  ...   \n",
       "sloneczniq        0.129099      1.000000      0.0  3.867427e-18  ...   \n",
       "wyspa             0.000000      0.000000      0.0  0.000000e+00  ...   \n",
       "Genki_Dama       -0.968246     -0.050000      0.0  1.581139e-01  ...   \n",
       "\n",
       "username         Saberclaws      InSoManX  elberino  DevilLady  VinaKoolkat  \\\n",
       "username                                                                      \n",
       "LelouchStampede    0.517088  0.000000e+00       0.0  -0.917663     0.756596   \n",
       "Jen526             0.000000  0.000000e+00       0.0   0.000000     0.000000   \n",
       "sloneczniq         0.179869 -6.797661e-18       0.0  -0.798024     0.039876   \n",
       "wyspa              0.000000  0.000000e+00       0.0   0.000000     0.000000   \n",
       "Genki_Dama        -0.531432  2.726547e-18       0.0   0.544107    -0.890567   \n",
       "\n",
       "username          sumikk0  ericssj  Nekko-mimi  alexinwonderland  Agusloquillo  \n",
       "username                                                                        \n",
       "LelouchStampede  0.716910      0.0    0.790569               0.0     -0.500000  \n",
       "Jen526           0.000000      0.0    0.000000               0.0      0.000000  \n",
       "sloneczniq       0.408072      0.0    0.050000               0.0      0.158114  \n",
       "wyspa            0.000000      0.0    0.000000               0.0      0.000000  \n",
       "Genki_Dama      -0.549134      0.0   -1.000000               0.0      0.790569  \n",
       "\n",
       "[5 rows x 9210 columns]"
      ]
     },
     "execution_count": 17,
     "metadata": {},
     "output_type": "execute_result"
    }
   ],
   "source": [
    "sim.head()"
   ]
  },
  {
   "cell_type": "code",
   "execution_count": 18,
   "metadata": {},
   "outputs": [
    {
     "name": "stdout",
     "output_type": "stream",
     "text": [
      "Error in scores when recommending 'Ranma ½' (single user pre-adjust): 3.32, decreasing the baseline error by5.1%\n",
      "Error in scores when recommending 'Ranma ½' (single most similar user): 3.11, decreasing the baseline error by 11.2%\n",
      "Error in scores when recommending 'Ranma ½' (multiple user pre-adjust): 2.73, decreasing the baseline error by22.0%\n",
      "Error in scores when recommending 'Ranma ½' (25 most similar users): 2.73, decreasing the baseline error by 22.2%\n",
      "\n",
      "Error in scores when recommending 'Cardcaptor Sakura' (single user pre-adjust): 3.42, decreasing the baseline error by-3.5%\n",
      "Error in scores when recommending 'Cardcaptor Sakura' (single most similar user): 3.05, decreasing the baseline error by 7.7%\n",
      "Error in scores when recommending 'Cardcaptor Sakura' (multiple user pre-adjust): 2.69, decreasing the baseline error by18.7%\n",
      "Error in scores when recommending 'Cardcaptor Sakura' (25 most similar users): 2.67, decreasing the baseline error by 19.1%\n",
      "\n",
      "Error in scores when recommending 'Daa! Daa! Daa!' (single user pre-adjust): 3.05, decreasing the baseline error by22.4%\n",
      "Error in scores when recommending 'Daa! Daa! Daa!' (single most similar user): 2.79, decreasing the baseline error by 28.9%\n",
      "Error in scores when recommending 'Daa! Daa! Daa!' (multiple user pre-adjust): 2.62, decreasing the baseline error by33.4%\n",
      "Error in scores when recommending 'Daa! Daa! Daa!' (25 most similar users): 2.61, decreasing the baseline error by 33.5%\n",
      "\n"
     ]
    }
   ],
   "source": [
    "pred_single_preadj_above = 0\n",
    "pred_single_preadj_below = 0\n",
    "pred_multiple_preadj_above = 0\n",
    "pred_multiple_preadj_below = 0\n",
    "for target_col, baseline in zip(target_cols, baselines):\n",
    "    # actual ratings for first target show (for those users in the test set who rated it)\n",
    "    actual = (test_targets[target_col]+test_mean).dropna()\n",
    "    \n",
    "    # get the most similar user's adjustment on this show, \n",
    "    ## then apply that adjustment to the unknown user's avg score\n",
    "    pred_single = sim.loc[train_targets[target_col].notna(), test_targets[target_col].notna()].apply(lambda col:\n",
    "                          train_targets.loc[col.idxmax(), target_col] if col.max()>0 else 0)+test_mean.reindex(actual.index)\n",
    "    \n",
    "    pred_multiple = sim.loc[train_targets[target_col].notna(), test_targets[target_col].notna()].apply(lambda col:\n",
    "                          train_targets.loc[col.nlargest(25).index, target_col][col.nlargest(25)>0].mean()).fillna(0)+test_mean.reindex(actual.index)\n",
    "    \n",
    "\n",
    "    score_single_preadj = mean_absolute_error(actual,pred_single)\n",
    "    score_multiple_preadj = mean_absolute_error(actual,pred_multiple)\n",
    "    pred_single_preadj_above += sum(pred_single<0)\n",
    "    pred_single_preadj_below += sum(pred_single>10)\n",
    "    pred_multiple_preadj_above += sum(pred_multiple<0)\n",
    "    pred_multiple_preadj_below += sum(pred_multiple>10)\n",
    "\n",
    "    \n",
    "\n",
    "    \n",
    "    # adjust impossible scores\n",
    "    pred_single[pred_single<0] = 0\n",
    "    pred_single[pred_single>10] = 10\n",
    "    pred_multiple[pred_multiple<0] = 0\n",
    "    pred_multiple[pred_multiple>10] = 10\n",
    "\n",
    "\n",
    "    \n",
    "    score_single = mean_absolute_error(actual,pred_single)\n",
    "    score_multiple = mean_absolute_error(actual,pred_multiple)\n",
    "    \n",
    "    print(\"Error in scores when recommending '{0}' (single user pre-adjust): {1}, decreasing the baseline error by{2:.1%}\".format(shows.loc[target_col, 'title'],\n",
    "        round(score_single_preadj, 2),\n",
    "        (baseline-score_single_preadj)/baseline))\n",
    "    print(\"Error in scores when recommending '{0}' (single most similar user): {1}, decreasing the baseline error by {2:.1%}\".format(shows.loc[target_col, 'title'],\n",
    "        round(score_single, 2),\n",
    "        (baseline-score_single)/baseline))    \n",
    "    print(\"Error in scores when recommending '{0}' (multiple user pre-adjust): {1}, decreasing the baseline error by{2:.1%}\".format(shows.loc[target_col, 'title'], \n",
    "        round(score_multiple_preadj, 2), \n",
    "        (baseline-score_multiple_preadj)/baseline))\n",
    "    print(\"Error in scores when recommending '{0}' (25 most similar users): {1}, decreasing the baseline error by {2:.1%}\".format(shows.loc[target_col, 'title'],\n",
    "        round(score_multiple, 2),\n",
    "        (baseline-score_multiple)/baseline))\n",
    "    print()"
   ]
  },
  {
   "cell_type": "markdown",
   "metadata": {},
   "source": [
    "#### Quick Exploration of the number of guesses below 0 or above 10, both when using single predictor and multiple predictors"
   ]
  },
  {
   "cell_type": "code",
   "execution_count": 19,
   "metadata": {},
   "outputs": [
    {
     "name": "stdout",
     "output_type": "stream",
     "text": [
      "Using single most similar user 1380 were below 0 and 601 were above 10\n",
      "Using multiple similar users 213 were below 0 and 26 were above 10\n",
      "\n",
      "This shows how using multiple users keeps the predictions within a possible range, and shows why the adjustment\n",
      "of impossible values is so much more valuable if using the single user approach\n"
     ]
    }
   ],
   "source": [
    "print(\"Using single most similar user {0} were below 0 and {1} were above 10\".format(\n",
    "    pred_single_preadj_below, pred_single_preadj_above))\n",
    "    \n",
    "print(\"Using multiple similar users {0} were below 0 and {1} were above 10\".format(\n",
    "    pred_multiple_preadj_below, pred_multiple_preadj_above))\n",
    "print()\n",
    "print(\"This shows how using multiple users keeps the predictions within a possible range, and shows why the adjustment\")\n",
    "print(\"of impossible values is so much more valuable if using the single user approach\")"
   ]
  },
  {
   "cell_type": "markdown",
   "metadata": {},
   "source": [
    "## Benefit of Collaborative Filtering, the ability of data size reduction"
   ]
  },
  {
   "cell_type": "code",
   "execution_count": 20,
   "metadata": {},
   "outputs": [
    {
     "data": {
      "text/html": [
       "<div>\n",
       "<style scoped>\n",
       "    .dataframe tbody tr th:only-of-type {\n",
       "        vertical-align: middle;\n",
       "    }\n",
       "\n",
       "    .dataframe tbody tr th {\n",
       "        vertical-align: top;\n",
       "    }\n",
       "\n",
       "    .dataframe thead th {\n",
       "        text-align: right;\n",
       "    }\n",
       "</style>\n",
       "<table border=\"1\" class=\"dataframe\">\n",
       "  <thead>\n",
       "    <tr style=\"text-align: right;\">\n",
       "      <th>anime_id</th>\n",
       "      <th>21</th>\n",
       "      <th>59</th>\n",
       "      <th>74</th>\n",
       "      <th>120</th>\n",
       "      <th>178</th>\n",
       "      <th>210</th>\n",
       "      <th>232</th>\n",
       "      <th>233</th>\n",
       "      <th>249</th>\n",
       "    </tr>\n",
       "    <tr>\n",
       "      <th>username</th>\n",
       "      <th></th>\n",
       "      <th></th>\n",
       "      <th></th>\n",
       "      <th></th>\n",
       "      <th></th>\n",
       "      <th></th>\n",
       "      <th></th>\n",
       "      <th></th>\n",
       "      <th></th>\n",
       "    </tr>\n",
       "  </thead>\n",
       "  <tbody>\n",
       "    <tr>\n",
       "      <th>--AnimeBoy--</th>\n",
       "      <td>6.0</td>\n",
       "      <td>6.0</td>\n",
       "      <td>6.0</td>\n",
       "      <td>NaN</td>\n",
       "      <td>NaN</td>\n",
       "      <td>7.0</td>\n",
       "      <td>7.0</td>\n",
       "      <td>NaN</td>\n",
       "      <td>NaN</td>\n",
       "    </tr>\n",
       "    <tr>\n",
       "      <th>--FallenAngel--</th>\n",
       "      <td>9.0</td>\n",
       "      <td>8.0</td>\n",
       "      <td>NaN</td>\n",
       "      <td>NaN</td>\n",
       "      <td>NaN</td>\n",
       "      <td>8.0</td>\n",
       "      <td>NaN</td>\n",
       "      <td>NaN</td>\n",
       "      <td>8.0</td>\n",
       "    </tr>\n",
       "    <tr>\n",
       "      <th>--Kin--</th>\n",
       "      <td>10.0</td>\n",
       "      <td>NaN</td>\n",
       "      <td>NaN</td>\n",
       "      <td>7.0</td>\n",
       "      <td>NaN</td>\n",
       "      <td>NaN</td>\n",
       "      <td>8.0</td>\n",
       "      <td>NaN</td>\n",
       "      <td>NaN</td>\n",
       "    </tr>\n",
       "    <tr>\n",
       "      <th>--RIE--</th>\n",
       "      <td>6.0</td>\n",
       "      <td>0.0</td>\n",
       "      <td>5.0</td>\n",
       "      <td>NaN</td>\n",
       "      <td>NaN</td>\n",
       "      <td>NaN</td>\n",
       "      <td>0.0</td>\n",
       "      <td>NaN</td>\n",
       "      <td>NaN</td>\n",
       "    </tr>\n",
       "    <tr>\n",
       "      <th>-0_o-</th>\n",
       "      <td>NaN</td>\n",
       "      <td>0.0</td>\n",
       "      <td>0.0</td>\n",
       "      <td>NaN</td>\n",
       "      <td>0.0</td>\n",
       "      <td>10.0</td>\n",
       "      <td>9.0</td>\n",
       "      <td>0.0</td>\n",
       "      <td>9.0</td>\n",
       "    </tr>\n",
       "  </tbody>\n",
       "</table>\n",
       "</div>"
      ],
      "text/plain": [
       "anime_id          21   59   74   120  178   210  232  233  249\n",
       "username                                                      \n",
       "--AnimeBoy--      6.0  6.0  6.0  NaN  NaN   7.0  7.0  NaN  NaN\n",
       "--FallenAngel--   9.0  8.0  NaN  NaN  NaN   8.0  NaN  NaN  8.0\n",
       "--Kin--          10.0  NaN  NaN  7.0  NaN   NaN  8.0  NaN  NaN\n",
       "--RIE--           6.0  0.0  5.0  NaN  NaN   NaN  0.0  NaN  NaN\n",
       "-0_o-             NaN  0.0  0.0  NaN  0.0  10.0  9.0  0.0  9.0"
      ]
     },
     "execution_count": 20,
     "metadata": {},
     "output_type": "execute_result"
    }
   ],
   "source": [
    "ratings.head()"
   ]
  },
  {
   "cell_type": "code",
   "execution_count": 21,
   "metadata": {},
   "outputs": [
    {
     "name": "stdout",
     "output_type": "stream",
     "text": [
      "Current Dataset Shape: (30698, 9)\n",
      "Current memory usage: 2.46 MB\n"
     ]
    }
   ],
   "source": [
    "prev_mem = ratings.memory_usage().sum()\n",
    "print(\"Current Dataset Shape: {}\".format(ratings.shape))\n",
    "print(\"Current memory usage: {} MB\".format(round(prev_mem/(10**6), 2)))"
   ]
  },
  {
   "cell_type": "markdown",
   "metadata": {},
   "source": [
    "## Figure out how to shrink the dataset, grouping using NA values since that is the bulk of what any user row is comprised of"
   ]
  },
  {
   "cell_type": "markdown",
   "metadata": {},
   "source": [
    "#### Creating a new df to work with to shrink in size, and fill the NaN values with -1 for grouping purposes"
   ]
  },
  {
   "cell_type": "code",
   "execution_count": 22,
   "metadata": {},
   "outputs": [],
   "source": [
    "shrunk = ratings\n",
    "shrunk.loc[:, non_targets] = shrunk.loc[:, non_targets].fillna(-1)"
   ]
  },
  {
   "cell_type": "markdown",
   "metadata": {},
   "source": [
    "#### Grouping by non targets and the means of the target columns for each of those groups"
   ]
  },
  {
   "cell_type": "code",
   "execution_count": 23,
   "metadata": {},
   "outputs": [
    {
     "data": {
      "text/html": [
       "<div>\n",
       "<style scoped>\n",
       "    .dataframe tbody tr th:only-of-type {\n",
       "        vertical-align: middle;\n",
       "    }\n",
       "\n",
       "    .dataframe tbody tr th {\n",
       "        vertical-align: top;\n",
       "    }\n",
       "\n",
       "    .dataframe thead th {\n",
       "        text-align: right;\n",
       "    }\n",
       "</style>\n",
       "<table border=\"1\" class=\"dataframe\">\n",
       "  <thead>\n",
       "    <tr style=\"text-align: right;\">\n",
       "      <th></th>\n",
       "      <th></th>\n",
       "      <th></th>\n",
       "      <th></th>\n",
       "      <th></th>\n",
       "      <th>anime_id</th>\n",
       "      <th>210</th>\n",
       "      <th>232</th>\n",
       "      <th>233</th>\n",
       "    </tr>\n",
       "    <tr>\n",
       "      <th>21</th>\n",
       "      <th>59</th>\n",
       "      <th>74</th>\n",
       "      <th>120</th>\n",
       "      <th>178</th>\n",
       "      <th>249</th>\n",
       "      <th></th>\n",
       "      <th></th>\n",
       "      <th></th>\n",
       "    </tr>\n",
       "  </thead>\n",
       "  <tbody>\n",
       "    <tr>\n",
       "      <th rowspan=\"5\" valign=\"top\">-1.0</th>\n",
       "      <th rowspan=\"5\" valign=\"top\">-1.0</th>\n",
       "      <th rowspan=\"5\" valign=\"top\">-1.0</th>\n",
       "      <th rowspan=\"5\" valign=\"top\">-1.0</th>\n",
       "      <th rowspan=\"5\" valign=\"top\">-1.0</th>\n",
       "      <th>0.0</th>\n",
       "      <td>2.319672</td>\n",
       "      <td>3.108247</td>\n",
       "      <td>3.8</td>\n",
       "    </tr>\n",
       "    <tr>\n",
       "      <th>2.0</th>\n",
       "      <td>NaN</td>\n",
       "      <td>7.000000</td>\n",
       "      <td>NaN</td>\n",
       "    </tr>\n",
       "    <tr>\n",
       "      <th>3.0</th>\n",
       "      <td>4.000000</td>\n",
       "      <td>3.333333</td>\n",
       "      <td>NaN</td>\n",
       "    </tr>\n",
       "    <tr>\n",
       "      <th>4.0</th>\n",
       "      <td>5.800000</td>\n",
       "      <td>4.583333</td>\n",
       "      <td>NaN</td>\n",
       "    </tr>\n",
       "    <tr>\n",
       "      <th>5.0</th>\n",
       "      <td>4.894737</td>\n",
       "      <td>5.080000</td>\n",
       "      <td>NaN</td>\n",
       "    </tr>\n",
       "  </tbody>\n",
       "</table>\n",
       "</div>"
      ],
      "text/plain": [
       "anime_id                           210       232  233\n",
       "21   59   74   120  178  249                         \n",
       "-1.0 -1.0 -1.0 -1.0 -1.0 0.0  2.319672  3.108247  3.8\n",
       "                         2.0       NaN  7.000000  NaN\n",
       "                         3.0  4.000000  3.333333  NaN\n",
       "                         4.0  5.800000  4.583333  NaN\n",
       "                         5.0  4.894737  5.080000  NaN"
      ]
     },
     "execution_count": 23,
     "metadata": {},
     "output_type": "execute_result"
    }
   ],
   "source": [
    "targeted_columns = shrunk.groupby(non_targets)[target_cols].mean()\n",
    "targeted_columns.head()"
   ]
  },
  {
   "cell_type": "markdown",
   "metadata": {},
   "source": [
    "#### Grouping by Non_Targets and the size of those groups to have a weighting value for future of recommendations"
   ]
  },
  {
   "cell_type": "code",
   "execution_count": 24,
   "metadata": {},
   "outputs": [],
   "source": [
    "Group_Weight = shrunk.groupby(non_targets).size().rename(\"Weight\")"
   ]
  },
  {
   "cell_type": "code",
   "execution_count": 25,
   "metadata": {},
   "outputs": [
    {
     "data": {
      "text/plain": [
       "21    59    74    120   178   249\n",
       "-1.0  -1.0  -1.0  -1.0  -1.0  0.0    264\n",
       "                              2.0      1\n",
       "                              3.0      7\n",
       "                              4.0     19\n",
       "                              5.0     37\n",
       "Name: Weight, dtype: int64"
      ]
     },
     "execution_count": 25,
     "metadata": {},
     "output_type": "execute_result"
    }
   ],
   "source": [
    "Group_Weight.head()"
   ]
  },
  {
   "cell_type": "markdown",
   "metadata": {},
   "source": [
    "### Using the code determined above to combine them to create the smaller dataset"
   ]
  },
  {
   "cell_type": "code",
   "execution_count": 26,
   "metadata": {},
   "outputs": [],
   "source": [
    "shrunk = pd.concat([shrunk.groupby(non_targets)[target_cols].mean(), shrunk.groupby(non_targets).size().rename(\"Weight\")], axis=1).reset_index().replace(-1, np.nan)"
   ]
  },
  {
   "cell_type": "code",
   "execution_count": 27,
   "metadata": {},
   "outputs": [
    {
     "data": {
      "text/html": [
       "<div>\n",
       "<style scoped>\n",
       "    .dataframe tbody tr th:only-of-type {\n",
       "        vertical-align: middle;\n",
       "    }\n",
       "\n",
       "    .dataframe tbody tr th {\n",
       "        vertical-align: top;\n",
       "    }\n",
       "\n",
       "    .dataframe thead th {\n",
       "        text-align: right;\n",
       "    }\n",
       "</style>\n",
       "<table border=\"1\" class=\"dataframe\">\n",
       "  <thead>\n",
       "    <tr style=\"text-align: right;\">\n",
       "      <th></th>\n",
       "      <th>21</th>\n",
       "      <th>59</th>\n",
       "      <th>74</th>\n",
       "      <th>120</th>\n",
       "      <th>178</th>\n",
       "      <th>249</th>\n",
       "      <th>210</th>\n",
       "      <th>232</th>\n",
       "      <th>233</th>\n",
       "      <th>Weight</th>\n",
       "    </tr>\n",
       "  </thead>\n",
       "  <tbody>\n",
       "    <tr>\n",
       "      <th>0</th>\n",
       "      <td>NaN</td>\n",
       "      <td>NaN</td>\n",
       "      <td>NaN</td>\n",
       "      <td>NaN</td>\n",
       "      <td>NaN</td>\n",
       "      <td>0.0</td>\n",
       "      <td>2.319672</td>\n",
       "      <td>3.108247</td>\n",
       "      <td>3.8</td>\n",
       "      <td>264</td>\n",
       "    </tr>\n",
       "    <tr>\n",
       "      <th>1</th>\n",
       "      <td>NaN</td>\n",
       "      <td>NaN</td>\n",
       "      <td>NaN</td>\n",
       "      <td>NaN</td>\n",
       "      <td>NaN</td>\n",
       "      <td>2.0</td>\n",
       "      <td>NaN</td>\n",
       "      <td>7.000000</td>\n",
       "      <td>NaN</td>\n",
       "      <td>1</td>\n",
       "    </tr>\n",
       "    <tr>\n",
       "      <th>2</th>\n",
       "      <td>NaN</td>\n",
       "      <td>NaN</td>\n",
       "      <td>NaN</td>\n",
       "      <td>NaN</td>\n",
       "      <td>NaN</td>\n",
       "      <td>3.0</td>\n",
       "      <td>4.000000</td>\n",
       "      <td>3.333333</td>\n",
       "      <td>NaN</td>\n",
       "      <td>7</td>\n",
       "    </tr>\n",
       "    <tr>\n",
       "      <th>3</th>\n",
       "      <td>NaN</td>\n",
       "      <td>NaN</td>\n",
       "      <td>NaN</td>\n",
       "      <td>NaN</td>\n",
       "      <td>NaN</td>\n",
       "      <td>4.0</td>\n",
       "      <td>5.800000</td>\n",
       "      <td>4.583333</td>\n",
       "      <td>NaN</td>\n",
       "      <td>19</td>\n",
       "    </tr>\n",
       "    <tr>\n",
       "      <th>4</th>\n",
       "      <td>NaN</td>\n",
       "      <td>NaN</td>\n",
       "      <td>NaN</td>\n",
       "      <td>NaN</td>\n",
       "      <td>NaN</td>\n",
       "      <td>5.0</td>\n",
       "      <td>4.894737</td>\n",
       "      <td>5.080000</td>\n",
       "      <td>NaN</td>\n",
       "      <td>37</td>\n",
       "    </tr>\n",
       "  </tbody>\n",
       "</table>\n",
       "</div>"
      ],
      "text/plain": [
       "   21  59  74  120  178  249       210       232  233  Weight\n",
       "0 NaN NaN NaN  NaN  NaN  0.0  2.319672  3.108247  3.8     264\n",
       "1 NaN NaN NaN  NaN  NaN  2.0       NaN  7.000000  NaN       1\n",
       "2 NaN NaN NaN  NaN  NaN  3.0  4.000000  3.333333  NaN       7\n",
       "3 NaN NaN NaN  NaN  NaN  4.0  5.800000  4.583333  NaN      19\n",
       "4 NaN NaN NaN  NaN  NaN  5.0  4.894737  5.080000  NaN      37"
      ]
     },
     "execution_count": 27,
     "metadata": {},
     "output_type": "execute_result"
    }
   ],
   "source": [
    "shrunk.head()"
   ]
  },
  {
   "cell_type": "markdown",
   "metadata": {},
   "source": [
    "#### Comparing the two datasets in shape and memory"
   ]
  },
  {
   "cell_type": "code",
   "execution_count": 28,
   "metadata": {},
   "outputs": [
    {
     "name": "stdout",
     "output_type": "stream",
     "text": [
      "New Dataset Shape: (7575, 10)\n",
      "New memory usage: 0.61 MB\n"
     ]
    }
   ],
   "source": [
    "new_mem = shrunk.memory_usage().sum()\n",
    "print(\"New Dataset Shape: {}\".format(shrunk.shape))\n",
    "print(\"New memory usage: {} MB\".format(round(new_mem/(10**6), 2)))"
   ]
  },
  {
   "cell_type": "code",
   "execution_count": 29,
   "metadata": {},
   "outputs": [
    {
     "name": "stdout",
     "output_type": "stream",
     "text": [
      "New Memory Percentage of Original: 24.68%\n"
     ]
    }
   ],
   "source": [
    "mem_ratio = (new_mem/prev_mem)*100\n",
    "print(\"New Memory Percentage of Original: {}%\".format(round(mem_ratio, 2)))"
   ]
  },
  {
   "cell_type": "markdown",
   "metadata": {},
   "source": [
    "## Future version, use decreased size version with Weight as a value to increase weight behind any particular role"
   ]
  }
 ],
 "metadata": {
  "kernelspec": {
   "display_name": "Python 3",
   "language": "python",
   "name": "python3"
  },
  "language_info": {
   "codemirror_mode": {
    "name": "ipython",
    "version": 3
   },
   "file_extension": ".py",
   "mimetype": "text/x-python",
   "name": "python",
   "nbconvert_exporter": "python",
   "pygments_lexer": "ipython3",
   "version": "3.7.6"
  }
 },
 "nbformat": 4,
 "nbformat_minor": 4
}
