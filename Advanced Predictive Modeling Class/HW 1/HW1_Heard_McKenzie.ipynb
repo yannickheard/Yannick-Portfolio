{
 "cells": [
  {
   "cell_type": "markdown",
   "metadata": {},
   "source": [
    "\n",
    "# <p style=\"text-align: center;\">MIS 382N: ADVANCED PREDICTIVE MODELING - MSBA</p>\n",
    "# <p style=\"text-align: center;\">Assignment 1</p>\n",
    "## <p style=\"text-align: center;\">Paige McKenzie (pam2932), Yannick Heard (yoh64)</p>\n",
    "## <p style=\"text-align: center;\">Total points: 75</p>\n",
    "## <p style=\"text-align: center;\">Due: Tuesday, September 13 submitted via Canvas by 11:59 p</p>\n",
    "\n",
    "Your homework should be written in a **Jupyter notebook**. You may work in groups of two if you wish. Only one student per team needs to submit the assignment on Canvas.  But be sure to include name and UTEID for both students.  Homework groups will be created and managed through Canvas, so please do not arbitrarily change your homework group.  \n",
    "\n",
    "Also, please make sure your code runs and the graphics (and anything else) are displayed in your notebook before submitting. (%matplotlib inline)"
   ]
  },
  {
   "cell_type": "markdown",
   "metadata": {},
   "source": [
    "# Question 1: Applications of machine learning (10 pts)\n",
    "\n",
    "Read the [article](http://www.datasciencecentral.com/profiles/blogs/20-data-science-systems-used-by-amazon-to-operate-its-business) \"21 data science systems used by Amazon to operate its business\" and pick any two of the data science systems used by Amazon according to this blog.\n",
    "\n",
    "(5 pts each) For each of these two system you have chosen:\n",
    "\n",
    "What kind of machine learning problem is involved (e.g. classification, regression, clustering, outlier detection,...)? Speculate on what kind of data may be needed and how the results can be useful to the company.\n",
    "\n",
    "\n",
    "## Answer\n",
    "\n",
    "\n"
   ]
  },
  {
   "cell_type": "markdown",
   "metadata": {},
   "source": [
    "1. Customer Segmentation: This would be a clustering machine learning problem, as they would want to group different types of customers together so that they can they market to each cluster more effectively. This would allow them to spend less money marketing and get a greater return on the money they spend on marketing. The details that they would need to in order to do such clustering would be knowing demographic information like age and gender, previous purchases, shopping patterns (in store or online), etc. \n",
    "2. Fraud Detection: This would either be a classification problem or outlier detection. It would be designed to notice the differences that point to the attempt of being a fraud piece either as an outlier from the usual transactions or to just classify it as a type of transaction that should be considered an issue. A large set of data would be required, since such a small subst of credit transactions are fraudulent. Data points that would be illustrative include the account information (cardholder's name, address, previous purchasing patterns/locations) and the transaction's amount, location, and (if applicable) shipping address."
   ]
  },
  {
   "cell_type": "markdown",
   "metadata": {},
   "source": [
    "# Question 2: Maximum likelihood estimate (10 pts)\n",
    "\n",
    "Suppose a manager at an internet sales company wants to estimate how fast his salesperson is generating successful leads. Instead of recording the time for each lead, the time taken to generate the next 5 leads are recorded, i.e., there is one recording (denoting the elapsed time) for every 5 consecutive leads. For a specific salesperson, the time intervals recorded are {1,3,1.5,4,2,7,1.2,2,4,3.1} hours. \n",
    "\n",
    "A statistician suggests that if these time intervals are assumed to arise by i.i.d. sampling from the following distribution:\n",
    "$$ p(t) = \\frac{1}{C \\times \\theta^{5}}t^{4}exp^{-\\frac{t}{\\theta}},$$\n",
    "(where C is a normalizing constant). Therefore, if $\\theta$ can be estimated, then he can provide detailed information\n",
    "about the lead generation process, including average rates, variances etc.\n",
    "\n",
    "Find the Maximum Likelihood estimate for $\\theta$ based on the recorded observations.\n",
    "\n",
    "\n",
    "## Answer"
   ]
  },
  {
   "cell_type": "markdown",
   "metadata": {},
   "source": [
    "Likelihood:\n",
    "$$ \\prod{}p(t) = \\prod{}\\frac{1}{C \\times \\theta^{5}}t^{4}exp^{-\\frac{t}{\\theta}} $$\n",
    "\n",
    "Maximizing natural log likelihood is the same as maximizing likelihood, since ln(x) is a monotonic increasing function.\n",
    "\n",
    "Ln likelihood:\n",
    "$$ ln(\\prod{}p(t)) = ln(\\prod{}\\frac{1}{C \\times \\theta^{5}}t^{4}exp^{-\\frac{t}{\\theta}}) $$\n",
    "Using log rules, we can simplify as follows:\n",
    "$$ ln(\\prod{}p(t)) = \\sum{}ln(p(t)) = \\sum{}ln(\\frac{1}{C \\times \\theta^{5}}t^{4}exp^{-\\frac{t}{\\theta}}) $$\n",
    "$$ ln(\\prod{}p(t)) = \\sum{}[ln(\\frac{t^{4}}{C \\times \\theta^{5}})+ln(exp^{-\\frac{t}{\\theta}}))] $$\n",
    "$$ ln(\\prod{}p(t)) = \\sum{}[4ln(t)-ln(C)-5ln(\\theta)-\\frac{t}{\\theta}] $$\n",
    "\n",
    "We now take the derivative with respect to $\\theta$, in order to find any critical points where local maxima may be.\n",
    "$$ \\frac{\\partial LogLikelihood}{\\partial \\theta} = \\sum{}[0-0-\\frac{5}{\\theta}+\\frac{t}{\\theta^{2}}] = 0 $$\n",
    "\n",
    "Since the sum is across 10 values of t, we can see that critical points occur when\n",
    "$$ \\frac{50}{\\theta} = \\sum{}\\frac{t}{\\theta^{2}} $$\n",
    "$$ \\theta = \\frac{\\sum{}t}{5} = \\frac{28.8}{50} $$\n",
    "$$ \\theta = 0.576 $$\n",
    "\n",
    "To verify that $\\theta = 0.576$ is a local maxima, we can employ the second derivative test:\n",
    "$$ \\frac{\\partial\\partial LogLikelihood}{\\partial \\theta^{2}} = \\sum{}[\\frac{-2t}{\\theta^{3}}]+\\frac{5}{\\theta^{2}} $$\n",
    "\n",
    "When $\\theta = 0.576,$ we find:\n",
    "$$ \\frac{\\partial\\partial LogLikelihood}{\\partial \\theta^{2}} = \\frac{-2\\times28.8}{0.576^{3}}+\\frac{5}{0.576^{2}} \\approx -286 < 0$$\n",
    "\n",
    "Since when $\\theta = 0.576$ the first derivative is zero and the second derivative is negative, we can conclude $p(t)$ will be maximized with this value of $\\theta$."
   ]
  },
  {
   "cell_type": "markdown",
   "metadata": {},
   "source": [
    "# Question 3: Multiple Linear Regression in Python (25 pts)\n",
    "\n",
    "Use the following code to import the boston housing dataset and linear models in python.\n",
    "\n"
   ]
  },
  {
   "cell_type": "code",
   "execution_count": 3,
   "metadata": {
    "collapsed": true
   },
   "outputs": [],
   "source": [
    "from sklearn import datasets, linear_model\n",
    "from sklearn.metrics import mean_squared_error\n",
    "import numpy as np\n",
    "\n",
    "boston = datasets.load_boston()\n",
    "\n",
    "X = boston.data\n",
    "y = boston.target"
   ]
  },
  {
   "cell_type": "markdown",
   "metadata": {},
   "source": [
    "The dataset information can be found [here](http://scikit-learn.org/stable/datasets/index.html#boston-house-prices-dataset).\n",
    "\n",
    "a. (3 pts) Print the shape (number of rows and columns) of the feature matrix, and print the first 5 rows.\n",
    "\n",
    "b.  (6 pts) Using ordinary least squares, fit a multiple linear regression (MLR) on all the feature variables using the entire dataset (506 rows). Report the regression coefficient of each input feature and evaluate the model using mean squared error (MSE).  Example of ordinary least squares in Python is shown in Section 1.1.1 of http://scikit-learn.org/stable/modules/linear_model.html.\n",
    "\n",
    "c.  (6 pts) Split the data into a training set and a test set.  Use the first 400 rows for training set and remaining rows for test set.  Fit an MLR using the training set.  Evaluate the trained model using the training set and the test set, respectively.  Compare the two MSE values thus obtained.\n",
    "\n",
    "d.  (6 pts) Do you think your MLR model is reasonable for this problem? You may look at the distribution of residuals to provide an informed answer.\n",
    "\n",
    "e. (5 pts) Use the following code to add new features to the dataset.  You should have 26 variables now.  Note that this code adds one squared term for each variable; in practice one may introduce only a few terms based on domain knowledge or experimentation.  Repeat (c) and report the MSE values of the training set and the test set, respectively."
   ]
  },
  {
   "cell_type": "markdown",
   "metadata": {},
   "source": [
    "X = np.concatenate((X, np.square(X)), axis=1)"
   ]
  },
  {
   "cell_type": "markdown",
   "metadata": {},
   "source": [
    "## Answer\n",
    "\n"
   ]
  },
  {
   "cell_type": "code",
   "execution_count": 2,
   "metadata": {},
   "outputs": [
    {
     "name": "stdout",
     "output_type": "stream",
     "text": [
      "The feature matrix has 506 rows and 13 columns.\n",
      "\n",
      "[  6.32000000e-03   1.80000000e+01   2.31000000e+00   0.00000000e+00\n",
      "   5.38000000e-01   6.57500000e+00   6.52000000e+01   4.09000000e+00\n",
      "   1.00000000e+00   2.96000000e+02   1.53000000e+01   3.96900000e+02\n",
      "   4.98000000e+00] \n",
      "\n",
      "[  2.73100000e-02   0.00000000e+00   7.07000000e+00   0.00000000e+00\n",
      "   4.69000000e-01   6.42100000e+00   7.89000000e+01   4.96710000e+00\n",
      "   2.00000000e+00   2.42000000e+02   1.78000000e+01   3.96900000e+02\n",
      "   9.14000000e+00] \n",
      "\n",
      "[  2.72900000e-02   0.00000000e+00   7.07000000e+00   0.00000000e+00\n",
      "   4.69000000e-01   7.18500000e+00   6.11000000e+01   4.96710000e+00\n",
      "   2.00000000e+00   2.42000000e+02   1.78000000e+01   3.92830000e+02\n",
      "   4.03000000e+00] \n",
      "\n",
      "[  3.23700000e-02   0.00000000e+00   2.18000000e+00   0.00000000e+00\n",
      "   4.58000000e-01   6.99800000e+00   4.58000000e+01   6.06220000e+00\n",
      "   3.00000000e+00   2.22000000e+02   1.87000000e+01   3.94630000e+02\n",
      "   2.94000000e+00] \n",
      "\n",
      "[  6.90500000e-02   0.00000000e+00   2.18000000e+00   0.00000000e+00\n",
      "   4.58000000e-01   7.14700000e+00   5.42000000e+01   6.06220000e+00\n",
      "   3.00000000e+00   2.22000000e+02   1.87000000e+01   3.96900000e+02\n",
      "   5.33000000e+00] \n",
      "\n"
     ]
    }
   ],
   "source": [
    "#------------Part A------------\n",
    "print \"The feature matrix has\", len(boston.data), \"rows and\", len(boston.feature_names), \"columns.\\n\"\n",
    "for item in boston.data[:5]:\n",
    "    print item, \"\\n\""
   ]
  },
  {
   "cell_type": "code",
   "execution_count": 3,
   "metadata": {},
   "outputs": [
    {
     "name": "stdout",
     "output_type": "stream",
     "text": [
      "CRIM \t-0.10717055656\n",
      "ZN \t0.0463952195298\n",
      "INDUS \t0.0208602395322\n",
      "CHAS \t2.68856139932\n",
      "NOX \t-17.7957586603\n",
      "RM \t3.80475246026\n",
      "AGE \t0.000751061703319\n",
      "DIS \t-1.47575879652\n",
      "RAD \t0.305655038339\n",
      "TAX \t-0.0123293463053\n",
      "PTRATIO \t-0.953463554691\n",
      "B \t0.00939251272219\n",
      "LSTAT \t-0.525466632901\n",
      "\n",
      "Mean-Squared Error: 21.8977792177\n"
     ]
    }
   ],
   "source": [
    "#------------Part B------------\n",
    "reg = linear_model.LinearRegression()\n",
    "reg.fit(boston.data, boston.target)\n",
    "for i in range (len(reg.coef_)):\n",
    "    print boston.feature_names[i], \"\\t\", reg.coef_[i]\n",
    "\n",
    "prediction = reg.predict(boston.data)\n",
    "print \"\\nMean-Squared Error:\", mean_squared_error(boston.target, prediction)"
   ]
  },
  {
   "cell_type": "code",
   "execution_count": 4,
   "metadata": {},
   "outputs": [
    {
     "name": "stdout",
     "output_type": "stream",
     "text": [
      "In-Sample Mean-Squared Error: 22.3052255842\n",
      "\n",
      "Out-of-Sample Mean-Squared Error: 38.1643386432\n"
     ]
    }
   ],
   "source": [
    "#------------Part C------------\n",
    "X = boston.data\n",
    "y = boston.target\n",
    "\n",
    "# Split the data into training/testing sets\n",
    "X_train = X[:400]\n",
    "X_test = X[400:]\n",
    "\n",
    "# Split the targets into training/testing sets\n",
    "y_train = y[:400]\n",
    "y_test = y[400:]\n",
    "\n",
    "#MLR\n",
    "mlr_reg = linear_model.LinearRegression()\n",
    "mlr_reg.fit(X_train, y_train)\n",
    "\n",
    "train_pred = mlr_reg.predict(X_train)\n",
    "print \"In-Sample Mean-Squared Error:\", mean_squared_error(y_train, train_pred)\n",
    "\n",
    "test_pred = mlr_reg.predict(X_test)\n",
    "print \"\\nOut-of-Sample Mean-Squared Error:\", mean_squared_error(y_test, test_pred)"
   ]
  },
  {
   "cell_type": "code",
   "execution_count": 5,
   "metadata": {},
   "outputs": [
    {
     "name": "stdout",
     "output_type": "stream",
     "text": [
      "Populating the interactive namespace from numpy and matplotlib\n"
     ]
    }
   ],
   "source": [
    "#------------Part D------------\n",
    "import matplotlib.pyplot as plt\n",
    "%pylab inline\n",
    "\n",
    "residuals = train_pred - y_train"
   ]
  },
  {
   "cell_type": "code",
   "execution_count": 6,
   "metadata": {},
   "outputs": [
    {
     "data": {
      "text/plain": [
       "[<matplotlib.lines.Line2D at 0xae2f978>]"
      ]
     },
     "execution_count": 6,
     "metadata": {},
     "output_type": "execute_result"
    },
    {
     "data": {
      "image/png": "[encoded data removed]",
      "text/plain": [
       "<matplotlib.figure.Figure at 0xac6fa20>"
      ]
     },
     "metadata": {},
     "output_type": "display_data"
    }
   ],
   "source": [
    "fig = plt.figure()\n",
    "ax = fig.add_subplot(111)\n",
    "ax.set_title(boston.feature_names[0])\n",
    "plt.plot(X_train[:,0], residuals, 'o')"
   ]
  },
  {
   "cell_type": "code",
   "execution_count": 7,
   "metadata": {},
   "outputs": [
    {
     "data": {
      "text/plain": [
       "[<matplotlib.lines.Line2D at 0xb01df28>]"
      ]
     },
     "execution_count": 7,
     "metadata": {},
     "output_type": "execute_result"
    },
    {
     "data": {
      "image/png": "[encoded data removed]",
      "text/plain": [
       "<matplotlib.figure.Figure at 0xad75358>"
      ]
     },
     "metadata": {},
     "output_type": "display_data"
    }
   ],
   "source": [
    "fig = plt.figure()\n",
    "ax = fig.add_subplot(111)\n",
    "ax.set_title(boston.feature_names[1])\n",
    "plt.plot(X_train[:,1], residuals, 'o')"
   ]
  },
  {
   "cell_type": "code",
   "execution_count": 8,
   "metadata": {},
   "outputs": [
    {
     "data": {
      "text/plain": [
       "[<matplotlib.lines.Line2D at 0xb123cc0>]"
      ]
     },
     "execution_count": 8,
     "metadata": {},
     "output_type": "execute_result"
    },
    {
     "data": {
      "image/png": "[encoded data removed]",
      "text/plain": [
       "<matplotlib.figure.Figure at 0xb061048>"
      ]
     },
     "metadata": {},
     "output_type": "display_data"
    }
   ],
   "source": [
    "fig = plt.figure()\n",
    "ax = fig.add_subplot(111)\n",
    "ax.set_title(boston.feature_names[2])\n",
    "plt.plot(X_train[:,2], residuals, 'o')"
   ]
  },
  {
   "cell_type": "code",
   "execution_count": 9,
   "metadata": {},
   "outputs": [
    {
     "data": {
      "text/plain": [
       "[<matplotlib.lines.Line2D at 0xb5990f0>]"
      ]
     },
     "execution_count": 9,
     "metadata": {},
     "output_type": "execute_result"
    },
    {
     "data": {
      "image/png": "[encoded data removed]",
      "text/plain": [
       "<matplotlib.figure.Figure at 0xb396358>"
      ]
     },
     "metadata": {},
     "output_type": "display_data"
    }
   ],
   "source": [
    "fig = plt.figure()\n",
    "ax = fig.add_subplot(111)\n",
    "ax.set_title(boston.feature_names[3])\n",
    "plt.plot(X_train[:,3], residuals, 'o')"
   ]
  },
  {
   "cell_type": "code",
   "execution_count": 10,
   "metadata": {},
   "outputs": [
    {
     "data": {
      "text/plain": [
       "[<matplotlib.lines.Line2D at 0xb779240>]"
      ]
     },
     "execution_count": 10,
     "metadata": {},
     "output_type": "execute_result"
    },
    {
     "data": {
      "image/png": "[encoded data removed]",
      "text/plain": [
       "<matplotlib.figure.Figure at 0xb645550>"
      ]
     },
     "metadata": {},
     "output_type": "display_data"
    }
   ],
   "source": [
    "fig = plt.figure()\n",
    "ax = fig.add_subplot(111)\n",
    "ax.set_title(boston.feature_names[4])\n",
    "plt.plot(X_train[:,4], residuals, 'o')"
   ]
  },
  {
   "cell_type": "code",
   "execution_count": 11,
   "metadata": {},
   "outputs": [
    {
     "data": {
      "text/plain": [
       "[<matplotlib.lines.Line2D at 0xb987dd8>]"
      ]
     },
     "execution_count": 11,
     "metadata": {},
     "output_type": "execute_result"
    },
    {
     "data": {
      "image/png": "[encoded data removed]",
      "text/plain": [
       "<matplotlib.figure.Figure at 0xb8655f8>"
      ]
     },
     "metadata": {},
     "output_type": "display_data"
    }
   ],
   "source": [
    "fig = plt.figure()\n",
    "ax = fig.add_subplot(111)\n",
    "ax.set_title(boston.feature_names[5])\n",
    "plt.plot(X_train[:,5], residuals, 'o')"
   ]
  },
  {
   "cell_type": "code",
   "execution_count": 12,
   "metadata": {},
   "outputs": [
    {
     "data": {
      "text/plain": [
       "[<matplotlib.lines.Line2D at 0xbb58f28>]"
      ]
     },
     "execution_count": 12,
     "metadata": {},
     "output_type": "execute_result"
    },
    {
     "data": {
      "image/png": "[encoded data removed]",
      "text/plain": [
       "<matplotlib.figure.Figure at 0xba840b8>"
      ]
     },
     "metadata": {},
     "output_type": "display_data"
    }
   ],
   "source": [
    "fig = plt.figure()\n",
    "ax = fig.add_subplot(111)\n",
    "ax.set_title(boston.feature_names[6])\n",
    "plt.plot(X_train[:,6], residuals, 'o')"
   ]
  },
  {
   "cell_type": "code",
   "execution_count": 13,
   "metadata": {},
   "outputs": [
    {
     "data": {
      "text/plain": [
       "[<matplotlib.lines.Line2D at 0xbd3c0b8>]"
      ]
     },
     "execution_count": 13,
     "metadata": {},
     "output_type": "execute_result"
    },
    {
     "data": {
      "image/png": "[encoded data removed]",
      "text/plain": [
       "<matplotlib.figure.Figure at 0xbb9b208>"
      ]
     },
     "metadata": {},
     "output_type": "display_data"
    }
   ],
   "source": [
    "fig = plt.figure()\n",
    "ax = fig.add_subplot(111)\n",
    "ax.set_title(boston.feature_names[7])\n",
    "plt.plot(X_train[:,7], residuals, 'o')"
   ]
  },
  {
   "cell_type": "code",
   "execution_count": 14,
   "metadata": {},
   "outputs": [
    {
     "data": {
      "text/plain": [
       "[<matplotlib.lines.Line2D at 0xbf4f208>]"
      ]
     },
     "execution_count": 14,
     "metadata": {},
     "output_type": "execute_result"
    },
    {
     "data": {
      "image/png": "[encoded data removed]",
      "text/plain": [
       "<matplotlib.figure.Figure at 0xbe6e5f8>"
      ]
     },
     "metadata": {},
     "output_type": "display_data"
    }
   ],
   "source": [
    "fig = plt.figure()\n",
    "ax = fig.add_subplot(111)\n",
    "ax.set_title(boston.feature_names[8])\n",
    "plt.plot(X_train[:,8], residuals, 'o')"
   ]
  },
  {
   "cell_type": "code",
   "execution_count": 15,
   "metadata": {
    "scrolled": true
   },
   "outputs": [
    {
     "data": {
      "text/plain": [
       "[<matplotlib.lines.Line2D at 0xc164358>]"
      ]
     },
     "execution_count": 15,
     "metadata": {},
     "output_type": "execute_result"
    },
    {
     "data": {
      "image/png": "[encoded data removed]",
      "text/plain": [
       "<matplotlib.figure.Figure at 0xc03e748>"
      ]
     },
     "metadata": {},
     "output_type": "display_data"
    }
   ],
   "source": [
    "fig = plt.figure()\n",
    "ax = fig.add_subplot(111)\n",
    "ax.set_title(boston.feature_names[9])\n",
    "plt.plot(X_train[:,9], residuals, 'o')"
   ]
  },
  {
   "cell_type": "code",
   "execution_count": 16,
   "metadata": {},
   "outputs": [
    {
     "data": {
      "text/plain": [
       "[<matplotlib.lines.Line2D at 0xc2c9ef0>]"
      ]
     },
     "execution_count": 16,
     "metadata": {},
     "output_type": "execute_result"
    },
    {
     "data": {
      "image/png": "[encoded data removed]",
      "text/plain": [
       "<matplotlib.figure.Figure at 0xc182ac8>"
      ]
     },
     "metadata": {},
     "output_type": "display_data"
    }
   ],
   "source": [
    "fig = plt.figure()\n",
    "ax = fig.add_subplot(111)\n",
    "ax.set_title(boston.feature_names[10])\n",
    "plt.plot(X_train[:,10], residuals, 'o')"
   ]
  },
  {
   "cell_type": "code",
   "execution_count": 17,
   "metadata": {},
   "outputs": [
    {
     "data": {
      "text/plain": [
       "[<matplotlib.lines.Line2D at 0xc507828>]"
      ]
     },
     "execution_count": 17,
     "metadata": {},
     "output_type": "execute_result"
    },
    {
     "data": {
      "image/png": "[encoded data removed]",
      "text/plain": [
       "<matplotlib.figure.Figure at 0xc37f2e8>"
      ]
     },
     "metadata": {},
     "output_type": "display_data"
    }
   ],
   "source": [
    "fig = plt.figure()\n",
    "ax = fig.add_subplot(111)\n",
    "ax.set_title(boston.feature_names[11])\n",
    "plt.plot(X_train[:,11], residuals, 'o')"
   ]
  },
  {
   "cell_type": "code",
   "execution_count": 18,
   "metadata": {},
   "outputs": [
    {
     "data": {
      "text/plain": [
       "[<matplotlib.lines.Line2D at 0xc769550>]"
      ]
     },
     "execution_count": 18,
     "metadata": {},
     "output_type": "execute_result"
    },
    {
     "data": {
      "image/png": "[encoded data removed]",
      "text/plain": [
       "<matplotlib.figure.Figure at 0xc450080>"
      ]
     },
     "metadata": {},
     "output_type": "display_data"
    }
   ],
   "source": [
    "fig = plt.figure()\n",
    "ax = fig.add_subplot(111)\n",
    "ax.set_title(boston.feature_names[12])\n",
    "plt.plot(X_train[:,12], residuals, 'o')"
   ]
  },
  {
   "cell_type": "markdown",
   "metadata": {},
   "source": [
    "The model is reasonable, as most of the residuals look approximately randomly distributed about 0. However, LSTAT and AGE both have some evidence of a pattern in the residuals, with more values below zero towards the extremes of the graph and more values above zero in the middle. This indicates that quadratic terms in LSTAT and AGE may be beneficial to the model, as they would absorb some of these patterns in residuals.\n",
    "\n",
    "Note that we chose not to normalize the data. If we were working with a model (like k-nearest neighbors) that dealt with 'distance' in multidimensional space, normalizing would be necessary, but we preferred to leave our variables as-is so the coefficients of the multilinear regression are in the same dimensions as the variables."
   ]
  },
  {
   "cell_type": "code",
   "execution_count": 19,
   "metadata": {},
   "outputs": [
    {
     "name": "stdout",
     "output_type": "stream",
     "text": [
      "In-Sample Mean-Squared Error: 14.4689173781\n",
      "\n",
      "Out-of-Sample Mean-Squared Error: 32.9465487206\n"
     ]
    }
   ],
   "source": [
    "#------------Part E------------\n",
    "X_new = np.concatenate((X, np.square(X)), axis=1)\n",
    "\n",
    "# Split the data into training/testing sets\n",
    "X_train_new = X_new[:400]\n",
    "X_test_new = X_new[400:]\n",
    "\n",
    "#MLR\n",
    "mlr_reg_new = linear_model.LinearRegression()\n",
    "mlr_reg_new.fit(X_train_new, y_train)\n",
    "\n",
    "train_pred_new = mlr_reg_new.predict(X_train_new)\n",
    "print \"In-Sample Mean-Squared Error:\", mean_squared_error(y_train, train_pred_new)\n",
    "\n",
    "test_pred_new = mlr_reg_new.predict(X_test_new)\n",
    "print \"\\nOut-of-Sample Mean-Squared Error:\", mean_squared_error(y_test, test_pred_new)"
   ]
  },
  {
   "cell_type": "markdown",
   "metadata": {},
   "source": [
    "# Question 4: Ridge and Lasso Regression (25 points)\n"
   ]
  },
  {
   "cell_type": "markdown",
   "metadata": {},
   "source": [
    "Using the same boston data from before, in this question you will explore the application of Lasso and Ridge regression using sklearn package in Python. The following code will split the data into training and test set using [train_test_split](http://scikit-learn.org/stable/modules/generated/sklearn.model_selection.train_test_split.html) with **random state 20** and **test_size = 0.33**.  Note: lambda is called alpha in sklearn."
   ]
  },
  {
   "cell_type": "code",
   "execution_count": null,
   "metadata": {
    "collapsed": true
   },
   "outputs": [],
   "source": [
    "from sklearn.model_selection import train_test_split\n",
    "X_train, X_test, y_train, y_test = train_test_split(X,y,test_size = 0.33, random_state=20)"
   ]
  },
  {
   "cell_type": "markdown",
   "metadata": {},
   "source": [
    "1) Use sklearn.linear_model.Lasso and sklearn.linear_model.Ridge classes to do a [5-fold cross validation](http://scikit-learn.org/stable/auto_examples/exercises/plot_cv_diabetes.html#example-exercises-plot-cv-diabetes-py) using sklearn's [KFold](http://scikit-learn.org/stable/modules/generated/sklearn.cross_validation.KFold.html). For the sweep of the regularization parameter, we will look at a grid of values ranging from $\\lambda = 10^{10}$ to $\\lambda = 10^{-2}$. In Python, you can consider this range of values as follows:\n",
    "\n",
    "      import numpy as np\n",
    "\n",
    "      alphas =  10**np.linspace(10,-2,100)*0.5\n",
    "\n",
    "  Report the best chosen $\\lambda$ based on cross validation. The cross validation should happen on your training data using  average MSE as the scoring metric. (8pts)\n",
    "\n",
    "2) Run ridge and lasso for all of the alphas specified above (on training data), and plot the coefficients learned for each of them - there should be one plot each for lasso and ridge, so a total of two plots; the plots for different features for a method should be on the same plot (e.g. Fig 6.6 of JW). What do you qualitatively observe when value of the regularization parameter is changed? (7pts)\n",
    "\n",
    "3) Run least squares regression, ridge, and lasso on the training data. For ridge and lasso, use only the best regularization parameter. Report the prediction error (MSE) on the test data for each. (5pts)\n",
    "\n",
    "4) Run lasso again with cross validation using [sklearn.linear_model.LassoCV](http://scikit-learn.org/stable/modules/generated/sklearn.linear_model.LassoCV.html). Set the cross validation parameters as follows:\n",
    "\n",
    "    LassoCV(alphas=None, cv=10, max_iter=10000)\n",
    "\n",
    "Report the best $\\lambda$ based on cross validation. Run lasso on the training data using the best $\\lambda$ and report the coefficeints for 26 variables. What do you observe from these coefficients? (5pts)\n",
    "\n",
    "## Answer\n",
    "\n"
   ]
  },
  {
   "cell_type": "code",
   "execution_count": 1,
   "metadata": {
    "collapsed": true
   },
   "outputs": [],
   "source": [
    "import sklearn\n",
    "from sklearn.model_selection import train_test_split\n",
    "from sklearn.linear_model import Ridge\n",
    "from sklearn.linear_model import Lasso\n",
    "from sklearn.linear_model import LassoCV\n",
    "from sklearn import datasets, linear_model\n",
    "from sklearn.metrics import mean_squared_error\n",
    "import numpy as np\n",
    "\n",
    "boston = datasets.load_boston()\n",
    "\n",
    "X = boston.data\n",
    "y = boston.target"
   ]
  },
  {
   "cell_type": "code",
   "execution_count": 2,
   "metadata": {},
   "outputs": [
    {
     "name": "stderr",
     "output_type": "stream",
     "text": [
      "C:\\Users\\yanni\\Anaconda2\\lib\\site-packages\\sklearn\\cross_validation.py:44: DeprecationWarning: This module was deprecated in version 0.18 in favor of the model_selection module into which all the refactored classes and functions are moved. Also note that the interface of the new CV iterators are different from that of this module. This module will be removed in 0.20.\n",
      "  \"This module will be removed in 0.20.\", DeprecationWarning)\n"
     ]
    }
   ],
   "source": [
    "from sklearn.cross_validation import KFold\n",
    "kf = KFold(506, n_folds=5, random_state=20)\n",
    "alphas =  10**np.linspace(10,-2,100)"
   ]
  },
  {
   "cell_type": "code",
   "execution_count": 15,
   "metadata": {
    "scrolled": true
   },
   "outputs": [
    {
     "name": "stdout",
     "output_type": "stream",
     "text": [
      "20020.7346311 MSE Value\n",
      "0.01 Alpha Value\n"
     ]
    }
   ],
   "source": [
    "best_lambda = 0\n",
    "top_alpha = 0\n",
    "top_MSE = 100000\n",
    "for train_index, test_index in kf:\n",
    "    X_train, X_test = X[train_index], X[test_index]\n",
    "    y_train, y_test = y[train_index], y[test_index]\n",
    "    \n",
    "    best_MSE = 1000000\n",
    "    best_alpha = 0\n",
    "    for x in alphas:\n",
    "        clf = linear_model.Ridge(alpha=x)\n",
    "        clf.fit(X_train, y_train)\n",
    "        predictions = clf.predict(X_train)\n",
    "        index = -1\n",
    "        MSE  = 0\n",
    "\n",
    "        for i in predictions:\n",
    "            index +=1\n",
    "            diff = i-(y_train[index])\n",
    "            SE =  diff*diff\n",
    "            MSE += SE\n",
    "        MSE = MSE/len(predictions)\n",
    "        if MSE <= best_MSE:\n",
    "            best_MSE = MSE\n",
    "            best_alpha = x\n",
    "\n",
    "    top_MSE += best_MSE \n",
    "    top_alpha += best_alpha\n",
    "top_alpha = top_alpha/5\n",
    "top_MSE = top_MSE/5\n",
    "print top_MSE, \"MSE Value\"\n",
    "print top_alpha, \"Alpha Value\""
   ]
  },
  {
   "cell_type": "code",
   "execution_count": 14,
   "metadata": {},
   "outputs": [
    {
     "name": "stdout",
     "output_type": "stream",
     "text": [
      "20020.7759082 MSE Value\n",
      "0.01 Alpha Value\n"
     ]
    }
   ],
   "source": [
    "best_lambda = 0\n",
    "top_alpha = 0\n",
    "top_MSE = 100000\n",
    "for train_index, test_index in kf:\n",
    "    X_train, X_test = X[train_index], X[test_index]\n",
    "    y_train, y_test = y[train_index], y[test_index]\n",
    "    \n",
    "    best_MSE = 1000000\n",
    "    best_alpha = 0\n",
    "    for x in alphas:\n",
    "        clf = linear_model.Lasso(alpha=x)\n",
    "        clf.fit(X_train, y_train)\n",
    "        predictions = clf.predict(X_train)\n",
    "        index = -1\n",
    "        MSE  = 0\n",
    "\n",
    "        for i in predictions:\n",
    "            index +=1\n",
    "            diff = i-(y_train[index])\n",
    "            SE =  diff*diff\n",
    "            MSE += SE\n",
    "        MSE = MSE/len(predictions)\n",
    "        if MSE <= best_MSE:\n",
    "            best_MSE = MSE\n",
    "            best_alpha = x\n",
    "\n",
    "    top_MSE += best_MSE \n",
    "    top_alpha += best_alpha\n",
    "top_alpha = top_alpha/5\n",
    "top_MSE = top_MSE/5\n",
    "print top_MSE, \"MSE Value\"\n",
    "print top_alpha, \"Alpha Value\""
   ]
  },
  {
   "cell_type": "code",
   "execution_count": 10,
   "metadata": {
    "scrolled": true
   },
   "outputs": [
    {
     "data": {
      "image/png": "[encoded data removed]",
      "text/plain": [
       "<matplotlib.figure.Figure at 0x92b6198>"
      ]
     },
     "metadata": {},
     "output_type": "display_data"
    }
   ],
   "source": [
    "    import matplotlib.pyplot as plt\n",
    "    coef_list = []\n",
    "    for x in alphas:\n",
    "        clf = linear_model.Lasso(alpha=x)\n",
    "        clf.fit(X_train, y_train)\n",
    "        coef_list.append(clf.coef_[0])\n",
    "        intercept = clf.intercept_\n",
    "        \n",
    "    #print coef_list\n",
    "    \n",
    "    plt.plot(alphas)\n",
    "    plt.ylabel('Coefficients')\n",
    "    plt.xlabel(\"Alpha Order\")\n",
    "    plt.show()"
   ]
  },
  {
   "cell_type": "code",
   "execution_count": 13,
   "metadata": {},
   "outputs": [
    {
     "data": {
      "image/png": "[encoded data removed]",
      "text/plain": [
       "<matplotlib.figure.Figure at 0xb759a90>"
      ]
     },
     "metadata": {},
     "output_type": "display_data"
    }
   ],
   "source": [
    "    coef_list = []\n",
    "    for x in alphas:\n",
    "        clf = linear_model.Ridge(alpha=x)\n",
    "        clf.fit(X_train, y_train)\n",
    "        coef_list.append(clf.coef_[0])\n",
    "        intercept = clf.intercept_\n",
    "        \n",
    "    #print coef_list\n",
    "    \n",
    "    plt.plot(coef_list)\n",
    "    plt.ylabel('Coefficients')\n",
    "    plt.xlabel(\"Alpha Order\")\n",
    "    plt.show()"
   ]
  },
  {
   "cell_type": "code",
   "execution_count": 162,
   "metadata": {},
   "outputs": [
    {
     "name": "stdout",
     "output_type": "stream",
     "text": [
      "Least Squares Regression MSE =\n",
      "307.72814399\n",
      "Lasso MSE =\n",
      "307.267823537\n",
      "Ridge MSE =\n",
      "307.669294993\n"
     ]
    }
   ],
   "source": [
    "MSE = 0\n",
    "clf = linear_model.LinearRegression()\n",
    "clf.fit(X_train, y_train)\n",
    "predictions = clf.predict(X_train)\n",
    "for i in predictions:\n",
    "    diff = i-(y_train[index])\n",
    "    SE =  diff*diff\n",
    "    MSE += SE\n",
    "MSE =  MSE/len(predictions)\n",
    "print \"Least Squares Regression MSE =\"\n",
    "print MSE\n",
    "\n",
    "MSE = 0\n",
    "clf = linear_model.Lasso(alpha = 0.01)\n",
    "clf.fit(X_train, y_train)\n",
    "predictions = clf.predict(X_train)\n",
    "for i in predictions:\n",
    "    diff = i-(y_train[index])\n",
    "    SE =  diff*diff\n",
    "    MSE += SE\n",
    "MSE =  MSE/len(predictions)\n",
    "print \"Lasso MSE =\"\n",
    "print MSE\n",
    "\n",
    "MSE = 0\n",
    "clf = linear_model.Ridge(alpha = 0.05)\n",
    "clf.fit(X_train, y_train)\n",
    "predictions = clf.predict(X_train)\n",
    "for i in predictions:\n",
    "    diff = i-(y_train[index])\n",
    "    SE =  diff*diff\n",
    "    MSE += SE\n",
    "MSE =  MSE/len(predictions)\n",
    "print \"Ridge MSE =\"\n",
    "print MSE"
   ]
  },
  {
   "cell_type": "code",
   "execution_count": 150,
   "metadata": {},
   "outputs": [
    {
     "name": "stdout",
     "output_type": "stream",
     "text": [
      "This is the alpha value chosen by the LassoCV model\n"
     ]
    },
    {
     "data": {
      "text/plain": [
       "0.42244582533150438"
      ]
     },
     "execution_count": 150,
     "metadata": {},
     "output_type": "execute_result"
    }
   ],
   "source": [
    "LCV = linear_model.LassoCV(alphas=None, cv=10, max_iter=10000)\n",
    "LCV.fit(X_train, y_train)\n",
    "print \"This is the alpha value chosen by the LassoCV model\"\n",
    "LCV.alpha_\n"
   ]
  },
  {
   "cell_type": "markdown",
   "metadata": {},
   "source": [
    "# Question 5  (5 pts)\n",
    "\n",
    "A regression model that includes \"interaction terms\" (i.e. quadratic terms of the form $x_ix_j$) as predictors in addition to the linear terms is clearly more general than a corresponding model that employs the same independent variables but only uses the linear terms. Outline two situations where the simpler (less general) model would be preferred to the more powerful model that includes interactive terms.\n",
    "\n",
    "## Answer\n",
    "\n"
   ]
  },
  {
   "cell_type": "markdown",
   "metadata": {
    "collapsed": true
   },
   "source": [
    "A quadratic term is only useful when you are attempting to demonstrate that the impact of a variable increases as its size increases. \n",
    "\n",
    "1. A simpler model would be preferred when datapoints are scarce, as the more complex the model is the higher the chance of overfitting to the limited data you have. \n",
    "\n",
    "2. A simpler model would also be preferred when you have few measured variables and you need the model to be interpretable, as a quadratic term in price may be correlated with an unmeasured variable. The linear regression would say that the quadratic term in price is predictive, when in reality there are other factors at play that you're (confidently) ignoring."
   ]
  },
  {
   "cell_type": "markdown",
   "metadata": {},
   "source": [
    "Q3 part d: Your analysis is slightly off.  Its fine to see the individual relationships of the predictors with the residuals, but a way to see the overall picture is to either plot the fitted responses against the residuals or to treat the residuals as a distribution and to test for normality.\n",
    "\n",
    "Q4: part 1:  Standardization is necessary for these methods that include a regularization term because otherwise the model may penalize regression coefficients incorrectly due to the differences in the scales of the variable. ( this scale issue is why only quadratic terms ended up staying in the model in your last step ).  \n",
    "\n",
    "Q4: part b.  You are plotting only the coefficient for the 1st predictor over all of your tested alpha values for lasso/ridge ( when we wanted to see all 26 lines on a plot ).\n",
    "\t    The following is a way you could gather all the coefficients and plot them collectively.  \n",
    "\n",
    "\t\tlasso =Lasso()\n",
    "\t\tlasso_coefs = pd.DataFrame(np.nan, index = alphas, columns = X.columns.values)\n",
    "\t\tfor alpha in alphas:\n",
    "\t\t    lasso.alpha = alpha\n",
    "\t\t    lasso.fit(X_train, y_train)\n",
    "\t\t    lasso_coefs.loc[alpha] = lasso.coef_\n",
    "\n",
    "\t\tlasso_coefs.plot(logx=True)\n",
    "\n",
    "on Q4, pt e.  What do you observe from these coefficients?  You did not remark on this."
   ]
  }
 ],
 "metadata": {
  "anaconda-cloud": {},
  "kernelspec": {
   "display_name": "Python 3",
   "language": "python",
   "name": "python3"
  },
  "language_info": {
   "codemirror_mode": {
    "name": "ipython",
    "version": 3
   },
   "file_extension": ".py",
   "mimetype": "text/x-python",
   "name": "python",
   "nbconvert_exporter": "python",
   "pygments_lexer": "ipython3",
   "version": "3.7.6"
  }
 },
 "nbformat": 4,
 "nbformat_minor": 1
}
