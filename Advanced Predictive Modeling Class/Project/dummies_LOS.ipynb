{
 "cells": [
  {
   "cell_type": "code",
   "execution_count": 1,
   "metadata": {
    "collapsed": true
   },
   "outputs": [],
   "source": [
    "import pandas as pd\n",
    "import matplotlib.pyplot as plt\n",
    "import numpy as np\n",
    "import glob\n",
    "import math\n",
    "\n",
    "from sklearn.model_selection import (train_test_split,KFold)\n",
    "from sklearn import linear_model\n",
    "from sklearn.decomposition import PCA\n",
    "from sklearn.metrics import mean_squared_error, r2_score\n",
    "from sklearn.neural_network import MLPRegressor\n",
    "from sklearn.preprocessing import StandardScaler\n",
    "from sklearn.preprocessing import LabelBinarizer\n",
    "from sklearn import svm\n",
    "from sklearn.ensemble import RandomForestClassifier\n",
    "from sklearn.metrics import accuracy_score\n",
    "from sklearn.neural_network import MLPClassifier\n",
    "from sklearn import neighbors\n",
    "from sklearn.model_selection import cross_val_score\n",
    "from sklearn.svm import SVR\n",
    "from sklearn.model_selection import GridSearchCV\n",
    "from sklearn.metrics import classification_report"
   ]
  },
  {
   "cell_type": "code",
   "execution_count": 2,
   "metadata": {
    "collapsed": true
   },
   "outputs": [],
   "source": [
    "data07=pd.read_csv(\"TEDS-D-2007-DS0001-data-excel.tsv\", sep='\\t')\n",
    "data08=pd.read_csv(\"TEDS-D-2008-DS0001-data-excel.tsv\", sep='\\t')\n",
    "data09=pd.read_csv(\"TEDS-D-2009-DS0001-data-excel.tsv\", sep='\\t')\n",
    "data10=pd.read_csv(\"TEDS-D-2010-DS0001-data-excel.tsv\", sep='\\t')\n",
    "data11=pd.read_csv(\"TEDS-D-2011-DS0001-data-excel.tsv\", sep='\\t')\n",
    "data12=pd.read_csv(\"TEDS-D-2012-DS0001-data-excel.csv\")"
   ]
  },
  {
   "cell_type": "code",
   "execution_count": 3,
   "metadata": {
    "collapsed": true
   },
   "outputs": [],
   "source": [
    "sample07=data07.sample(n=1000)\n",
    "sample08=data08.sample(n=1000)\n",
    "sample09=data09.sample(n=1000)\n",
    "sample10=data10.sample(n=1000)\n",
    "sample11=data11.sample(n=1000)\n",
    "sample12=data12.sample(n=1000)"
   ]
  },
  {
   "cell_type": "code",
   "execution_count": 4,
   "metadata": {
    "collapsed": true
   },
   "outputs": [],
   "source": [
    "frames=[sample07,sample08,sample09,sample10,sample11,sample12]\n",
    "full_data=pd.concat(frames)"
   ]
  },
  {
   "cell_type": "code",
   "execution_count": 5,
   "metadata": {},
   "outputs": [
    {
     "data": {
      "text/plain": [
       "0    3287\n",
       "1    2713\n",
       "Name: REASON, dtype: int64"
      ]
     },
     "execution_count": 5,
     "metadata": {},
     "output_type": "execute_result"
    }
   ],
   "source": [
    "#convert age to mean age--one less dummy\n",
    "age_dict={2:13, 3:16, 4:19, 5:23, 6:27, 7:32, 8:37, 9:42, 10:47, 11:52, 12:55}\n",
    "def group_age(s):\n",
    "    if s in age_dict.keys():\n",
    "        return age_dict[s]\n",
    "full_data['AGE']=full_data['AGE'].map(group_age)\n",
    "\n",
    "#delete CASEID column\n",
    "del full_data['CASEID']\n",
    "\n",
    "#update REASON column to just 0 or 1's\n",
    "#updating reason column to just 1 and 0's \n",
    "def reason_func(s):\n",
    "    if s==1:\n",
    "        return 1\n",
    "    else:\n",
    "        return 0\n",
    "    #question- should those be strings or integers?\n",
    "    \n",
    "##replace NANs with -9\n",
    "full_data=full_data.replace(np.nan, '-9')\n",
    "\n",
    "full_data['REASON']=full_data['REASON'].map(reason_func)\n",
    "full_data['REASON'].value_counts()"
   ]
  },
  {
   "cell_type": "code",
   "execution_count": 6,
   "metadata": {
    "scrolled": true
   },
   "outputs": [
    {
     "name": "stderr",
     "output_type": "stream",
     "text": [
      "/Users/daniellediehl/anaconda/lib/python2.7/site-packages/ipykernel_launcher.py:13: SettingWithCopyWarning: \n",
      "A value is trying to be set on a copy of a slice from a DataFrame.\n",
      "Try using .loc[row_indexer,col_indexer] = value instead\n",
      "\n",
      "See the caveats in the documentation: http://pandas.pydata.org/pandas-docs/stable/indexing.html#indexing-view-versus-copy\n",
      "  del sys.path[0]\n"
     ]
    }
   ],
   "source": [
    "collist = full_data.columns.tolist()\n",
    "collist.remove('ARRESTS')\n",
    "collist.remove('DAYWAIT')\n",
    "collist.remove('NOPRIOR')\n",
    "collist.remove('NUMSUBS')\n",
    "collist.remove('AGE')\n",
    "collist.remove('LOS')\n",
    "collist.remove('REASON')\n",
    "cat_df = full_data[collist]\n",
    "\n",
    "#make these numbers strings so that get dummies will work\n",
    "for i in cat_df.columns:\n",
    "    cat_df[i]=cat_df[i].astype(str)\n",
    "#cat_df.dtypes"
   ]
  },
  {
   "cell_type": "code",
   "execution_count": 7,
   "metadata": {
    "collapsed": true
   },
   "outputs": [],
   "source": [
    "df_with_dummies = pd.get_dummies( cat_df , prefix=cat_df.columns.tolist())\n",
    "#df_with_dummies = pd.get_dummies( fake_num , prefix=fake_num.columns.tolist())"
   ]
  },
  {
   "cell_type": "code",
   "execution_count": 8,
   "metadata": {
    "scrolled": true
   },
   "outputs": [
    {
     "name": "stdout",
     "output_type": "stream",
     "text": [
      "num of dummy columns 845\n"
     ]
    },
    {
     "data": {
      "text/html": [
       "<div>\n",
       "<style>\n",
       "    .dataframe thead tr:only-child th {\n",
       "        text-align: right;\n",
       "    }\n",
       "\n",
       "    .dataframe thead th {\n",
       "        text-align: left;\n",
       "    }\n",
       "\n",
       "    .dataframe tbody tr th {\n",
       "        vertical-align: top;\n",
       "    }\n",
       "</style>\n",
       "<table border=\"1\" class=\"dataframe\">\n",
       "  <thead>\n",
       "    <tr style=\"text-align: right;\">\n",
       "      <th></th>\n",
       "      <th>ALCDRUG_0</th>\n",
       "      <th>ALCDRUG_1</th>\n",
       "      <th>ALCDRUG_2</th>\n",
       "      <th>ALCDRUG_3</th>\n",
       "      <th>ALCFLG_0</th>\n",
       "      <th>ALCFLG_1</th>\n",
       "      <th>AMPHFLG_0</th>\n",
       "      <th>AMPHFLG_1</th>\n",
       "      <th>BARBFLG_0</th>\n",
       "      <th>BARBFLG_1</th>\n",
       "      <th>...</th>\n",
       "      <th>SUB3_5</th>\n",
       "      <th>SUB3_6</th>\n",
       "      <th>SUB3_7</th>\n",
       "      <th>SUB3_8</th>\n",
       "      <th>SUB3_9</th>\n",
       "      <th>TRNQFLG_0</th>\n",
       "      <th>TRNQFLG_1</th>\n",
       "      <th>VET_-9</th>\n",
       "      <th>VET_1</th>\n",
       "      <th>VET_2</th>\n",
       "    </tr>\n",
       "  </thead>\n",
       "  <tbody>\n",
       "    <tr>\n",
       "      <th>98919</th>\n",
       "      <td>0</td>\n",
       "      <td>1</td>\n",
       "      <td>0</td>\n",
       "      <td>0</td>\n",
       "      <td>0</td>\n",
       "      <td>1</td>\n",
       "      <td>1</td>\n",
       "      <td>0</td>\n",
       "      <td>1</td>\n",
       "      <td>0</td>\n",
       "      <td>...</td>\n",
       "      <td>0</td>\n",
       "      <td>0</td>\n",
       "      <td>0</td>\n",
       "      <td>0</td>\n",
       "      <td>0</td>\n",
       "      <td>1</td>\n",
       "      <td>0</td>\n",
       "      <td>0</td>\n",
       "      <td>0</td>\n",
       "      <td>1</td>\n",
       "    </tr>\n",
       "    <tr>\n",
       "      <th>1399524</th>\n",
       "      <td>0</td>\n",
       "      <td>0</td>\n",
       "      <td>0</td>\n",
       "      <td>1</td>\n",
       "      <td>0</td>\n",
       "      <td>1</td>\n",
       "      <td>1</td>\n",
       "      <td>0</td>\n",
       "      <td>1</td>\n",
       "      <td>0</td>\n",
       "      <td>...</td>\n",
       "      <td>0</td>\n",
       "      <td>0</td>\n",
       "      <td>0</td>\n",
       "      <td>0</td>\n",
       "      <td>0</td>\n",
       "      <td>1</td>\n",
       "      <td>0</td>\n",
       "      <td>0</td>\n",
       "      <td>0</td>\n",
       "      <td>1</td>\n",
       "    </tr>\n",
       "  </tbody>\n",
       "</table>\n",
       "<p>2 rows × 845 columns</p>\n",
       "</div>"
      ],
      "text/plain": [
       "         ALCDRUG_0  ALCDRUG_1  ALCDRUG_2  ALCDRUG_3  ALCFLG_0  ALCFLG_1  \\\n",
       "98919            0          1          0          0         0         1   \n",
       "1399524          0          0          0          1         0         1   \n",
       "\n",
       "         AMPHFLG_0  AMPHFLG_1  BARBFLG_0  BARBFLG_1  ...    SUB3_5  SUB3_6  \\\n",
       "98919            1          0          1          0  ...         0       0   \n",
       "1399524          1          0          1          0  ...         0       0   \n",
       "\n",
       "         SUB3_7  SUB3_8  SUB3_9  TRNQFLG_0  TRNQFLG_1  VET_-9  VET_1  VET_2  \n",
       "98919         0       0       0          1          0       0      0      1  \n",
       "1399524       0       0       0          1          0       0      0      1  \n",
       "\n",
       "[2 rows x 845 columns]"
      ]
     },
     "execution_count": 8,
     "metadata": {},
     "output_type": "execute_result"
    }
   ],
   "source": [
    "print \"num of dummy columns\", len(df_with_dummies.columns)\n",
    "df_with_dummies"
   ]
  },
  {
   "cell_type": "code",
   "execution_count": 8,
   "metadata": {
    "scrolled": true
   },
   "outputs": [
    {
     "data": {
      "text/plain": [
       "ALCDRUG_0     uint8\n",
       "ALCDRUG_1     uint8\n",
       "ALCDRUG_2     uint8\n",
       "ALCDRUG_3     uint8\n",
       "ALCFLG_0      uint8\n",
       "ALCFLG_1      uint8\n",
       "AMPHFLG_0     uint8\n",
       "AMPHFLG_1     uint8\n",
       "BARBFLG_0     uint8\n",
       "BARBFLG_1     uint8\n",
       "BENZFLG_0     uint8\n",
       "BENZFLG_1     uint8\n",
       "CBSA_-9       uint8\n",
       "CBSA_10180    uint8\n",
       "CBSA_10420    uint8\n",
       "CBSA_10580    uint8\n",
       "CBSA_10740    uint8\n",
       "CBSA_10780    uint8\n",
       "CBSA_10900    uint8\n",
       "CBSA_11100    uint8\n",
       "CBSA_11260    uint8\n",
       "CBSA_11300    uint8\n",
       "CBSA_11340    uint8\n",
       "CBSA_11460    uint8\n",
       "CBSA_11700    uint8\n",
       "CBSA_11780    uint8\n",
       "CBSA_12100    uint8\n",
       "CBSA_12260    uint8\n",
       "CBSA_12420    uint8\n",
       "CBSA_12540    uint8\n",
       "              ...  \n",
       "SUB3_10       uint8\n",
       "SUB3_11       uint8\n",
       "SUB3_12       uint8\n",
       "SUB3_13       uint8\n",
       "SUB3_14       uint8\n",
       "SUB3_15       uint8\n",
       "SUB3_16       uint8\n",
       "SUB3_17       uint8\n",
       "SUB3_18       uint8\n",
       "SUB3_2        uint8\n",
       "SUB3_20       uint8\n",
       "SUB3_3        uint8\n",
       "SUB3_4        uint8\n",
       "SUB3_5        uint8\n",
       "SUB3_6        uint8\n",
       "SUB3_7        uint8\n",
       "SUB3_8        uint8\n",
       "SUB3_9        uint8\n",
       "TRNQFLG_0     uint8\n",
       "TRNQFLG_1     uint8\n",
       "VET_-9        uint8\n",
       "VET_1         uint8\n",
       "VET_2         uint8\n",
       "AGE           int64\n",
       "ARRESTS       int64\n",
       "DAYWAIT       int64\n",
       "NOPRIOR       int64\n",
       "NUMSUBS       int64\n",
       "LOS           int64\n",
       "REASON        int64\n",
       "Length: 845, dtype: object"
      ]
     },
     "execution_count": 8,
     "metadata": {},
     "output_type": "execute_result"
    }
   ],
   "source": [
    "#add back the numeric columns (age, arrests, daywait, no prior, numsubs)\n",
    "data=df_with_dummies\n",
    "data['AGE']=full_data['AGE']\n",
    "data['ARRESTS']=full_data['ARRESTS'].astype(int)\n",
    "data['DAYWAIT']=full_data['DAYWAIT']\n",
    "data['NOPRIOR']=full_data['NOPRIOR']\n",
    "data['NUMSUBS']=full_data['NUMSUBS']\n",
    "data['LOS']=full_data['LOS']\n",
    "data['REASON']=full_data['REASON']\n",
    "\n",
    "\n",
    "data.columns[400:500]\n",
    "data.dtypes"
   ]
  },
  {
   "cell_type": "markdown",
   "metadata": {},
   "source": [
    "# Length of Stay"
   ]
  },
  {
   "cell_type": "code",
   "execution_count": 9,
   "metadata": {},
   "outputs": [
    {
     "data": {
      "text/plain": [
       "1     2019\n",
       "2      724\n",
       "36     591\n",
       "33     570\n",
       "35     545\n",
       "34     480\n",
       "31     456\n",
       "32     349\n",
       "37     266\n",
       "Name: LOS, dtype: int64"
      ]
     },
     "execution_count": 9,
     "metadata": {},
     "output_type": "execute_result"
    }
   ],
   "source": [
    "los_dict={1:38, 32:53, 33:76, 34:106, 35:151, 36:273, 37:366}\n",
    "#bins: 1-15, 16-30, 31-45, 46-60, 61-90, 91-120, 121-180, 181-365, 366+\n",
    "data['LOS'].value_counts()\n",
    "\n",
    "def fix_LOS(s):\n",
    "    if s in [1,2,3,4,5,6,7,8,9,10,11,12,13,14,15]:\n",
    "        return 1\n",
    "    if s in [16,17,18,19,20,21,22,23,24,25,26,27,28,29,30]:\n",
    "        return 2\n",
    "    else:\n",
    "        return s\n",
    "data['LOS']=data['LOS'].map(fix_LOS)\n",
    "data['LOS'].value_counts()"
   ]
  },
  {
   "cell_type": "markdown",
   "metadata": {},
   "source": [
    "**SVR**"
   ]
  },
  {
   "cell_type": "code",
   "execution_count": 11,
   "metadata": {
    "collapsed": true
   },
   "outputs": [],
   "source": [
    "X_los=data[data.columns[data.columns!='LOS']]\n",
    "y_los=data['LOS']\n",
    "\n",
    "#X.columns\n",
    "X_train_los, X_test_los, y_train_los, y_test_los = train_test_split(X_los,y_los,test_size = 0.33, random_state=42)"
   ]
  },
  {
   "cell_type": "code",
   "execution_count": null,
   "metadata": {
    "collapsed": true
   },
   "outputs": [],
   "source": [
    "svm2 = svm.SVC(gamma=0.001, C=100.)\n",
    "svm2.fit(X_train_los, y_train_los)"
   ]
  },
  {
   "cell_type": "code",
   "execution_count": 17,
   "metadata": {},
   "outputs": [
    {
     "data": {
      "text/plain": [
       "0.16363636363636364"
      ]
     },
     "execution_count": 17,
     "metadata": {},
     "output_type": "execute_result"
    }
   ],
   "source": [
    "svm2.score(X_test_los, y_test_los)"
   ]
  },
  {
   "cell_type": "markdown",
   "metadata": {},
   "source": [
    "**Random Forests**"
   ]
  },
  {
   "cell_type": "code",
   "execution_count": 12,
   "metadata": {
    "scrolled": true
   },
   "outputs": [
    {
     "name": "stdout",
     "output_type": "stream",
     "text": [
      "train 0.343532338308\n",
      "test 0.336868686869\n"
     ]
    }
   ],
   "source": [
    "# Create a random forest Classifier. By convention, clf means 'Classifier'\n",
    "clf = RandomForestClassifier(random_state=0, max_features=20, max_depth=5)\n",
    "\n",
    "# Train the Classifier to take the training features and learn how they relate\n",
    "# to the training y (the species)\n",
    "clf.fit(X_train_los, y_train_los)\n",
    "\n",
    "# Apply the Classifier we trained to the test data (which, remember, it has never seen before)\n",
    "clf.predict(X_test_los)\n",
    "\n",
    "# Create actual english names for the plants for each predicted plant class\n",
    "preds = clf.predict(X_test_los)\n",
    "\n",
    "# View a list of the features and their importance scores\n",
    "\n",
    "print 'train', clf.score(X_train_los, y_train_los, sample_weight=None)\n",
    "\n",
    "print 'test', clf.score(X_test_los, y_test_los, sample_weight=None)"
   ]
  },
  {
   "cell_type": "code",
   "execution_count": 21,
   "metadata": {
    "collapsed": true
   },
   "outputs": [],
   "source": [
    "#sorted(zip(map(lambda x: round(x, 4), clf.feature_importances_), names), reverse=True)"
   ]
  },
  {
   "cell_type": "markdown",
   "metadata": {},
   "source": [
    "**MLP**"
   ]
  },
  {
   "cell_type": "code",
   "execution_count": 13,
   "metadata": {},
   "outputs": [
    {
     "data": {
      "text/plain": [
       "0.38181818181818183"
      ]
     },
     "execution_count": 13,
     "metadata": {},
     "output_type": "execute_result"
    }
   ],
   "source": [
    "mlp= MLPClassifier(solver='lbfgs', alpha=1e-5, hidden_layer_sizes=(15,), random_state=1)\n",
    "mlp.fit(X_train_los, y_train_los) \n",
    "mlp.score(X_test_los,y_test_los)"
   ]
  },
  {
   "cell_type": "markdown",
   "metadata": {
    "collapsed": true
   },
   "source": [
    "**KNN**"
   ]
  },
  {
   "cell_type": "code",
   "execution_count": 14,
   "metadata": {},
   "outputs": [
    {
     "data": {
      "text/plain": [
       "array([33,  1, 35, ...,  1,  2,  1])"
      ]
     },
     "execution_count": 14,
     "metadata": {},
     "output_type": "execute_result"
    }
   ],
   "source": [
    "knn=neighbors.KNeighborsClassifier()\n",
    "knn.fit(X_train_los, y_train_los)\n",
    "knn.predict(X_test_los)"
   ]
  },
  {
   "cell_type": "code",
   "execution_count": 15,
   "metadata": {},
   "outputs": [
    {
     "data": {
      "text/plain": [
       "0.31919191919191919"
      ]
     },
     "execution_count": 15,
     "metadata": {},
     "output_type": "execute_result"
    }
   ],
   "source": [
    "knn.score(X_test_los,y_test_los)"
   ]
  },
  {
   "cell_type": "markdown",
   "metadata": {},
   "source": [
    "# Reason"
   ]
  },
  {
   "cell_type": "markdown",
   "metadata": {},
   "source": [
    "**SVR**"
   ]
  },
  {
   "cell_type": "code",
   "execution_count": 85,
   "metadata": {
    "collapsed": true
   },
   "outputs": [],
   "source": [
    "X_r=data[data.columns[data.columns!='REASON']]\n",
    "y_r=data['REASON']\n",
    "\n",
    "#X.columns\n",
    "X_train_r, X_test_r, y_train_r, y_test_r = train_test_split(X_r,y_r,test_size = 0.33, random_state=42)"
   ]
  },
  {
   "cell_type": "code",
   "execution_count": 28,
   "metadata": {
    "collapsed": true
   },
   "outputs": [],
   "source": [
    "from sklearn import preprocessing\n",
    "X_train_r_scaled = preprocessing.scale(X_train_r) \n",
    "X_test_r_scaled = preprocessing.scale(X_test_r)\n",
    "#read about need to scale data for SVM"
   ]
  },
  {
   "cell_type": "code",
   "execution_count": 29,
   "metadata": {
    "collapsed": true
   },
   "outputs": [],
   "source": [
    "svm2 = svm.SVC(gamma=0.001, C=100.)"
   ]
  },
  {
   "cell_type": "code",
   "execution_count": 30,
   "metadata": {},
   "outputs": [
    {
     "data": {
      "text/plain": [
       "SVC(C=100.0, cache_size=200, class_weight=None, coef0=0.0,\n",
       "  decision_function_shape='ovr', degree=3, gamma=0.001, kernel='rbf',\n",
       "  max_iter=-1, probability=False, random_state=None, shrinking=True,\n",
       "  tol=0.001, verbose=False)"
      ]
     },
     "execution_count": 30,
     "metadata": {},
     "output_type": "execute_result"
    }
   ],
   "source": [
    "svm2.fit(X_train_r_scaled, y_train_r)  "
   ]
  },
  {
   "cell_type": "code",
   "execution_count": 31,
   "metadata": {},
   "outputs": [
    {
     "data": {
      "text/plain": [
       "0.6707070707070707"
      ]
     },
     "execution_count": 31,
     "metadata": {},
     "output_type": "execute_result"
    }
   ],
   "source": [
    "#svm2.predict(X_test_r)\n",
    "svm2.score(X_test_r_scaled, y_test_r)\n",
    "#scaling the data decreased the score from 68 to 65 "
   ]
  },
  {
   "cell_type": "code",
   "execution_count": 32,
   "metadata": {},
   "outputs": [
    {
     "data": {
      "text/plain": [
       "0.67272727272727273"
      ]
     },
     "execution_count": 32,
     "metadata": {},
     "output_type": "execute_result"
    }
   ],
   "source": [
    "#try these\n",
    "svm3 = svm.SVC(gamma=0.001, C=1)\n",
    "svm3.fit(X_train_r_scaled, y_train_r)\n",
    "svm3.score(X_test_r_scaled, y_test_r)\n",
    "\n",
    "\n",
    "# SVC(kernel=\"linear\", C=0.025),\n",
    "#     SVC(gamma=2, C=1),"
   ]
  },
  {
   "cell_type": "code",
   "execution_count": 33,
   "metadata": {},
   "outputs": [
    {
     "data": {
      "text/plain": [
       "0.5505050505050505"
      ]
     },
     "execution_count": 33,
     "metadata": {},
     "output_type": "execute_result"
    }
   ],
   "source": [
    "svm4 = svm.SVC(gamma=2, C=1)\n",
    "svm4.fit(X_train_r_scaled, y_train_r)\n",
    "svm4.score(X_test_r_scaled, y_test_r)"
   ]
  },
  {
   "cell_type": "code",
   "execution_count": 34,
   "metadata": {},
   "outputs": [
    {
     "data": {
      "text/plain": [
       "0.69090909090909092"
      ]
     },
     "execution_count": 34,
     "metadata": {},
     "output_type": "execute_result"
    }
   ],
   "source": [
    "svm5 = svm.SVC(kernel='linear', C=1)\n",
    "svm5.fit(X_train_r_scaled, y_train_r)\n",
    "svm5.score(X_test_r_scaled, y_test_r)"
   ]
  },
  {
   "cell_type": "code",
   "execution_count": 35,
   "metadata": {},
   "outputs": [
    {
     "data": {
      "text/plain": [
       "0.69090909090909092"
      ]
     },
     "execution_count": 35,
     "metadata": {},
     "output_type": "execute_result"
    }
   ],
   "source": [
    "svm6 = svm.SVC(kernel='rbf',gamma=1e-4, C=1000)\n",
    "svm6.fit(X_train_r_scaled, y_train_r)\n",
    "svm6.score(X_test_r_scaled, y_test_r)"
   ]
  },
  {
   "cell_type": "markdown",
   "metadata": {
    "collapsed": true
   },
   "source": [
    "Cross Validation for SVR"
   ]
  },
  {
   "cell_type": "code",
   "execution_count": null,
   "metadata": {
    "collapsed": true
   },
   "outputs": [],
   "source": []
  },
  {
   "cell_type": "code",
   "execution_count": null,
   "metadata": {
    "collapsed": true
   },
   "outputs": [],
   "source": []
  },
  {
   "cell_type": "code",
   "execution_count": 36,
   "metadata": {
    "collapsed": true,
    "scrolled": true
   },
   "outputs": [],
   "source": [
    "# Set the parameters by cross-validation\n",
    "# tuned_parameters = [{'kernel': ['rbf'], 'gamma': [1e-3, 1e-4],\n",
    "#                      'C': [1, 10, 100, 1000]}]\n",
    "#                     #,\n",
    "#                     #{'kernel': ['linear'], 'C': [1, 10, 100, 1000]}]\n",
    "\n",
    "# scores = ['precision', 'recall']\n",
    "\n",
    "# for score in scores:\n",
    "#     print(\"# Tuning hyper-parameters for %s\" % score)\n",
    "#     print()\n",
    "\n",
    "#     clf = GridSearchCV(svm.SVC(), tuned_parameters, cv=5,\n",
    "#                        scoring='%s_macro' % score)\n",
    "#     clf.fit(X_train_r_scaled, y_train_r)\n",
    "\n",
    "#     print(\"Best parameters set found on development set:\")\n",
    "#     print()\n",
    "#     print(clf.best_params_)\n",
    "#     print()\n",
    "#     print(\"Grid scores on development set:\")\n",
    "#     print()\n",
    "#     means = clf.cv_results_['mean_test_score']\n",
    "#     stds = clf.cv_results_['std_test_score']\n",
    "#     for mean, std, params in zip(means, stds, clf.cv_results_['params']):\n",
    "#         print(\"%0.3f (+/-%0.03f) for %r\"\n",
    "#               % (mean, std * 2, params))\n",
    "#     print()\n",
    "\n",
    "#     print(\"Detailed classification report:\")\n",
    "#     print()\n",
    "#     print(\"The model is trained on the full development set.\")\n",
    "#     print(\"The scores are computed on the full evaluation set.\")\n",
    "#     print()\n",
    "#     y_true, y_pred = y_test_r, clf.predict(X_test_r_scaled)\n",
    "#     print(classification_report(y_true, y_pred))\n",
    "#     print()\n"
   ]
  },
  {
   "cell_type": "code",
   "execution_count": null,
   "metadata": {
    "collapsed": true
   },
   "outputs": [],
   "source": []
  },
  {
   "cell_type": "code",
   "execution_count": null,
   "metadata": {
    "collapsed": true
   },
   "outputs": [],
   "source": []
  },
  {
   "cell_type": "code",
   "execution_count": null,
   "metadata": {
    "collapsed": true
   },
   "outputs": [],
   "source": []
  },
  {
   "cell_type": "markdown",
   "metadata": {},
   "source": [
    "**Random Forests**"
   ]
  },
  {
   "cell_type": "code",
   "execution_count": 38,
   "metadata": {
    "scrolled": true
   },
   "outputs": [
    {
     "name": "stdout",
     "output_type": "stream",
     "text": [
      "train 0.756218905473\n",
      "test 0.642929292929\n"
     ]
    }
   ],
   "source": [
    "# Create a random forest Classifier. By convention, clf means 'Classifier'\n",
    "clf = RandomForestClassifier(random_state=0, max_features=40, max_depth=9)\n",
    "\n",
    "# Train the Classifier to take the training features and learn how they relate\n",
    "# to the training y (the species)\n",
    "clf.fit(X_train_r, y_train_r)\n",
    "\n",
    "# Apply the Classifier we trained to the test data (which, remember, it has never seen before)\n",
    "clf.predict(X_test_r)\n",
    "\n",
    "# Create actual english names for the plants for each predicted plant class\n",
    "preds = clf.predict(X_test_r)\n",
    "\n",
    "# View a list of the features and their importance scores\n",
    "\n",
    "print 'train', clf.score(X_train_r, y_train_r, sample_weight=None)\n",
    "\n",
    "print 'test', clf.score(X_test_r, y_test_r, sample_weight=None)"
   ]
  },
  {
   "cell_type": "code",
   "execution_count": 40,
   "metadata": {
    "scrolled": true
   },
   "outputs": [
    {
     "data": {
      "text/plain": [
       "[(0.0486, 'LOS'),\n",
       " (0.0408, 'SUB1_2'),\n",
       " (0.0316, 'ROUTE1_1'),\n",
       " (0.0283, 'SERVSETD_7'),\n",
       " (0.0238, 'SERVSETD_2'),\n",
       " (0.0202, 'DSMCRIT_3'),\n",
       " (0.0192, 'METHUSE_1'),\n",
       " (0.0149, 'SERVSETD_1'),\n",
       " (0.0128, 'PREG_2'),\n",
       " (0.0114, 'NUMSUBS'),\n",
       " (0.0111, 'PSYPROB_-9'),\n",
       " (0.0111, 'AGE'),\n",
       " (0.0108, 'PRIMINC_-9'),\n",
       " (0.0108, 'FREQ2_-9'),\n",
       " (0.0101, 'STFIPS_36'),\n",
       " (0.0101, 'ARRESTS'),\n",
       " (0.01, 'ALCDRUG_1'),\n",
       " (0.0097, 'REGION_1'),\n",
       " (0.0093, 'EMPLOY_1'),\n",
       " (0.0092, 'NOPRIOR'),\n",
       " (0.0086, 'ROUTE1_2'),\n",
       " (0.0083, 'STFIPS_51'),\n",
       " (0.0083, 'PSOURCE_7'),\n",
       " (0.0082, 'PSOURCE_1'),\n",
       " (0.0076, 'METHUSE_2'),\n",
       " (0.0074, 'SUB2_2'),\n",
       " (0.0074, 'PSYPROB_1'),\n",
       " (0.0073, 'PREG_-9'),\n",
       " (0.0073, 'CBSA_19740'),\n",
       " (0.0068, 'STFIPS_37'),\n",
       " (0.0066, 'FRSTUSE2_-9'),\n",
       " (0.0066, 'COKEFLG_1'),\n",
       " (0.0065, 'SERVSETD_6'),\n",
       " (0.0065, 'SERVSETD_5'),\n",
       " (0.0065, 'DSMCRIT_-9'),\n",
       " (0.0064, 'REGION_2'),\n",
       " (0.0064, 'OPSYNFLG_0'),\n",
       " (0.0064, 'DAYWAIT'),\n",
       " (0.0062, 'RACE_4'),\n",
       " (0.0061, 'RACE_5'),\n",
       " (0.0059, 'SUB3_1'),\n",
       " (0.0059, 'DSMCRIT_5'),\n",
       " (0.0058, 'SERVSETD_4'),\n",
       " (0.0057, 'MARFLG_1'),\n",
       " (0.0057, 'DIVISION_2'),\n",
       " (0.0056, 'PRIMINC_1'),\n",
       " (0.0053, 'SUB3_-9'),\n",
       " (0.0052, 'LIVARAG_2'),\n",
       " (0.0052, 'DIVISION_8'),\n",
       " (0.005, 'FRSTUSE1_4'),\n",
       " (0.0049, 'MARSTAT_-9'),\n",
       " (0.0048, 'ROUTE1_4'),\n",
       " (0.0048, 'ALCFLG_1'),\n",
       " (0.0047, 'SUB1_5'),\n",
       " (0.0047, 'OPSYNFLG_1'),\n",
       " (0.0046, 'SUB1_7'),\n",
       " (0.0045, 'DETNLF_6'),\n",
       " (0.0044, 'STFIPS_41'),\n",
       " (0.0044, 'ROUTE2_-9'),\n",
       " (0.0044, 'PSYPROB_2'),\n",
       " (0.0044, 'EMPLOY_4'),\n",
       " (0.0042, 'PSOURCE_6'),\n",
       " (0.0042, 'DIVISION_1'),\n",
       " (0.0041, 'PRIMPAY_1'),\n",
       " (0.004, 'FREQ2_1'),\n",
       " (0.0039, 'PSOURCE_2'),\n",
       " (0.0038, 'REGION_3'),\n",
       " (0.0035, 'MARSTAT_2'),\n",
       " (0.0035, 'DETCRIM_-9'),\n",
       " (0.0034, 'STFIPS_26'),\n",
       " (0.0034, 'EMPLOY_3'),\n",
       " (0.0034, 'CBSA_12100'),\n",
       " (0.0033, 'FREQ1_1'),\n",
       " (0.0033, 'ETHNIC_5'),\n",
       " (0.0033, 'DETCRIM_8'),\n",
       " (0.0032, 'DIVISION_4'),\n",
       " (0.0032, 'COKEFLG_0'),\n",
       " (0.0032, 'CBSA_-9'),\n",
       " (0.0031, 'PRIMINC_20'),\n",
       " (0.0031, 'EDUC_4'),\n",
       " (0.003, 'SUB1_4'),\n",
       " (0.003, 'METHUSE_-9'),\n",
       " (0.003, 'EDUC_3'),\n",
       " (0.003, 'DISYR_2008'),\n",
       " (0.0029, 'ROUTE3_-9'),\n",
       " (0.0029, 'PRIMPAY_5'),\n",
       " (0.0029, 'PRIMINC_2'),\n",
       " (0.0029, 'DISYR_2009'),\n",
       " (0.0029, 'CBSA_42660'),\n",
       " (0.0028, 'ROUTE2_3'),\n",
       " (0.0028, 'REGION_4'),\n",
       " (0.0028, 'PRIMINC_21'),\n",
       " (0.0028, 'IDU_0'),\n",
       " (0.0028, 'FREQ1_2'),\n",
       " (0.0028, 'DIVISION_9'),\n",
       " (0.0028, 'DIVISION_3'),\n",
       " (0.0027, 'SUB3_4'),\n",
       " (0.0027, 'LIVARAG_1'),\n",
       " (0.0027, 'GENDER_1'),\n",
       " (0.0027, 'FREQ1_5'),\n",
       " (0.0027, 'FREQ1_4'),\n",
       " (0.0026, 'SUB2_3'),\n",
       " (0.0026, 'STFIPS_48'),\n",
       " (0.0026, 'STFIPS_27'),\n",
       " (0.0025, 'STFIPS_29'),\n",
       " (0.0025, 'FRSTUSE1_5'),\n",
       " (0.0025, 'FREQ3_2'),\n",
       " (0.0025, 'DETCRIM_7'),\n",
       " (0.0024, 'STFIPS_25'),\n",
       " (0.0024, 'PRIMPAY_-9'),\n",
       " (0.0024, 'FRSTUSE1_8'),\n",
       " (0.0024, 'EMPLOY_2'),\n",
       " (0.0024, 'DETNLF_-9'),\n",
       " (0.0024, 'AMPHFLG_1'),\n",
       " (0.0023, 'SUB2_4'),\n",
       " (0.0023, 'PSOURCE_-9'),\n",
       " (0.0023, 'PRIMPAY_4'),\n",
       " (0.0023, 'ETHNIC_1'),\n",
       " (0.0023, 'DISYR_2010'),\n",
       " (0.0022, 'SUB2_1'),\n",
       " (0.0022, 'SUB1_3'),\n",
       " (0.0021, 'VET_2'),\n",
       " (0.0021, 'MTHAMFLG_0'),\n",
       " (0.0021, 'FRSTUSE3_4'),\n",
       " (0.0021, 'FRSTUSE1_2'),\n",
       " (0.0021, 'DISYR_2012'),\n",
       " (0.002, 'ROUTE3_1'),\n",
       " (0.002, 'HLTHINS_1'),\n",
       " (0.002, 'DETCRIM_1'),\n",
       " (0.002, 'AMPHFLG_0'),\n",
       " (0.0019, 'MTHAMFLG_1'),\n",
       " (0.0019, 'DSMCRIT_9'),\n",
       " (0.0019, 'CBSA_36260'),\n",
       " (0.0019, 'CBSA_33460'),\n",
       " (0.0018, 'ROUTE3_3'),\n",
       " (0.0018, 'PMSA_6780'),\n",
       " (0.0018, 'PMSA_5600'),\n",
       " (0.0018, 'MARSTAT_4'),\n",
       " (0.0018, 'HLTHINS_4'),\n",
       " (0.0018, 'HLTHINS_2'),\n",
       " (0.0018, 'GENDER_2'),\n",
       " (0.0018, 'FRSTUSE2_1'),\n",
       " (0.0018, 'FRSTUSE1_1'),\n",
       " (0.0018, 'BENZFLG_1'),\n",
       " (0.0018, 'ALCFLG_0'),\n",
       " (0.0017, 'STFIPS_34'),\n",
       " (0.0017, 'PMSA_5190'),\n",
       " (0.0017, 'MARSTAT_1'),\n",
       " (0.0017, 'IDU_-9'),\n",
       " (0.0017, 'FRSTUSE3_6'),\n",
       " (0.0017, 'FRSTUSE1_7'),\n",
       " (0.0017, 'DSMCRIT_8'),\n",
       " (0.0017, 'DISYR_2011'),\n",
       " (0.0016, 'RACE_-9'),\n",
       " (0.0016, 'PMSA_5380'),\n",
       " (0.0016, 'LIVARAG_3'),\n",
       " (0.0016, 'IDU_1'),\n",
       " (0.0016, 'FRSTUSE3_3'),\n",
       " (0.0016, 'FREQ3_1'),\n",
       " (0.0016, 'ALCDRUG_3'),\n",
       " (0.0016, 'ALCDRUG_2'),\n",
       " (0.0015, 'PRIMPAY_2'),\n",
       " (0.0015, 'OTHERFLG_1'),\n",
       " (0.0015, 'FREQ1_-9'),\n",
       " (0.0015, 'CBSA_43620'),\n",
       " (0.0014, 'RACE_20'),\n",
       " (0.0014, 'PRIMPAY_8'),\n",
       " (0.0014, 'PMSA_6440'),\n",
       " (0.0014, 'MARSTAT_3'),\n",
       " (0.0014, 'MARFLG_0'),\n",
       " (0.0014, 'FRSTUSE2_4'),\n",
       " (0.0014, 'DSMCRIT_6'),\n",
       " (0.0014, 'DETNLF_5'),\n",
       " (0.0014, 'CBSA_14460'),\n",
       " (0.0013, 'STFIPS_39'),\n",
       " (0.0013, 'ROUTE1_3'),\n",
       " (0.0013, 'HLTHINS_-9'),\n",
       " (0.0013, 'HERFLG_0'),\n",
       " (0.0013, 'FRSTUSE2_6'),\n",
       " (0.0013, 'FREQ1_3'),\n",
       " (0.0013, 'CBSA_40900'),\n",
       " (0.0012, 'SUB1_20'),\n",
       " (0.0012, 'STFIPS_46'),\n",
       " (0.0012, 'STFIPS_18'),\n",
       " (0.0012, 'ROUTE3_4'),\n",
       " (0.0012, 'FRSTUSE2_3'),\n",
       " (0.0012, 'ETHNIC_2'),\n",
       " (0.0012, 'EDUC_5'),\n",
       " (0.0012, 'DETNLF_3'),\n",
       " (0.0012, 'CBSA_37980'),\n",
       " (0.0012, 'CBSA_19100'),\n",
       " (0.0012, 'CBSA_17140'),\n",
       " (0.0012, 'CBSA_16980'),\n",
       " (0.0011, 'VET_1'),\n",
       " (0.0011, 'STFIPS_53'),\n",
       " (0.0011, 'STFIPS_19'),\n",
       " (0.0011, 'STFIPS_17'),\n",
       " (0.0011, 'PSOURCE_4'),\n",
       " (0.0011, 'PSOURCE_3'),\n",
       " (0.0011, 'PMSA_3360'),\n",
       " (0.0011, 'PMSA_1125'),\n",
       " (0.0011, 'HLTHINS_3'),\n",
       " (0.0011, 'ETHNIC_6'),\n",
       " (0.0011, 'EDUC_2'),\n",
       " (0.0011, 'CBSA_27740'),\n",
       " (0.0011, 'CBSA_26420'),\n",
       " (0.001, 'SUB2_6'),\n",
       " (0.001, 'SUB2_10'),\n",
       " (0.001, 'STFIPS_8'),\n",
       " (0.001, 'STFIPS_44'),\n",
       " (0.001, 'STFIPS_24'),\n",
       " (0.001, 'STFIPS_12'),\n",
       " (0.001, 'ROUTE3_2'),\n",
       " (0.001, 'ROUTE2_4'),\n",
       " (0.001, 'RACE_21'),\n",
       " (0.001, 'PMSA_4360'),\n",
       " (0.001, 'PMSA_2281'),\n",
       " (0.001, 'PMSA_1280'),\n",
       " (0.001, 'PMSA_-9'),\n",
       " (0.001, 'HERFLG_1'),\n",
       " (0.001, 'FRSTUSE3_1'),\n",
       " (0.001, 'FRSTUSE2_2'),\n",
       " (0.001, 'FRSTUSE1_10'),\n",
       " (0.001, 'FREQ3_5'),\n",
       " (0.001, 'FREQ2_5'),\n",
       " (0.001, 'DIVISION_5'),\n",
       " (0.001, 'DETCRIM_3'),\n",
       " (0.001, 'CBSA_41940'),\n",
       " (0.001, 'CBSA_39380'),\n",
       " (0.001, 'CBSA_35620'),\n",
       " (0.0009, 'SUB3_16'),\n",
       " (0.0009, 'SUB1_10'),\n",
       " (0.0009, 'STFIPS_22'),\n",
       " (0.0009, 'ROUTE2_20'),\n",
       " (0.0009, 'PMSA_7600'),\n",
       " (0.0009, 'PMSA_4480'),\n",
       " (0.0009, 'PMSA_2400'),\n",
       " (0.0009, 'PMSA_160'),\n",
       " (0.0009, 'PMSA_1520'),\n",
       " (0.0009, 'CBSA_41420'),\n",
       " (0.0009, 'CBSA_41180'),\n",
       " (0.0009, 'CBSA_36540'),\n",
       " (0.0008, 'SUB2_5'),\n",
       " (0.0008, 'STFIPS_6'),\n",
       " (0.0008, 'PREG_1'),\n",
       " (0.0008, 'PMSA_7160'),\n",
       " (0.0008, 'PMSA_5920'),\n",
       " (0.0008, 'PMSA_5483'),\n",
       " (0.0008, 'PMSA_2000'),\n",
       " (0.0008, 'PMSA_1600'),\n",
       " (0.0008, 'FREQ3_4'),\n",
       " (0.0008, 'EDUC_-9'),\n",
       " (0.0008, 'CBSA_38900'),\n",
       " (0.0008, 'CBSA_26980'),\n",
       " (0.0007, 'STFIPS_10'),\n",
       " (0.0007, 'SERVSETD_8'),\n",
       " (0.0007, 'PRIMINC_3'),\n",
       " (0.0007, 'PMSA_6880'),\n",
       " (0.0007, 'PMSA_5660'),\n",
       " (0.0007, 'FRSTUSE2_7'),\n",
       " (0.0007, 'FRSTUSE1_9'),\n",
       " (0.0007, 'FRSTUSE1_3'),\n",
       " (0.0007, 'FREQ3_-9'),\n",
       " (0.0007, 'EMPLOY_-9'),\n",
       " (0.0007, 'DSMCRIT_4'),\n",
       " (0.0007, 'DSMCRIT_11'),\n",
       " (0.0007, 'CBSA_39300'),\n",
       " (0.0007, 'CBSA_30780'),\n",
       " (0.0007, 'CBSA_19820'),\n",
       " (0.0007, 'CBSA_15380'),\n",
       " (0.0006, 'SUB3_5'),\n",
       " (0.0006, 'SUB3_3'),\n",
       " (0.0006, 'SUB1_1'),\n",
       " (0.0006, 'STFIPS_23'),\n",
       " (0.0006, 'PMSA_9040'),\n",
       " (0.0006, 'PMSA_7040'),\n",
       " (0.0006, 'PMSA_5120'),\n",
       " (0.0006, 'PMSA_3000'),\n",
       " (0.0006, 'CBSA_31180'),\n",
       " (0.0005, 'SUB3_10'),\n",
       " (0.0005, 'SUB2_20'),\n",
       " (0.0005, 'SUB2_-9'),\n",
       " (0.0005, 'SUB1_9'),\n",
       " (0.0005, 'STFIPS_5'),\n",
       " (0.0005, 'STFIPS_2'),\n",
       " (0.0005, 'STFIPS_1'),\n",
       " (0.0005, 'SERVSETD_3'),\n",
       " (0.0005, 'RACE_2'),\n",
       " (0.0005, 'PMSA_9260'),\n",
       " (0.0005, 'PMSA_8440'),\n",
       " (0.0005, 'PMSA_8200'),\n",
       " (0.0005, 'PMSA_7320'),\n",
       " (0.0005, 'PMSA_680'),\n",
       " (0.0005, 'PMSA_6560'),\n",
       " (0.0005, 'PMSA_3320'),\n",
       " (0.0005, 'PMSA_2080'),\n",
       " (0.0005, 'PMSA_1880'),\n",
       " (0.0005, 'IDU_-8'),\n",
       " (0.0005, 'FRSTUSE3_5'),\n",
       " (0.0005, 'FRSTUSE3_-9'),\n",
       " (0.0005, 'FREQ2_3'),\n",
       " (0.0005, 'DSMCRIT_10'),\n",
       " (0.0005, 'CBSA_49340'),\n",
       " (0.0005, 'CBSA_35380'),\n",
       " (0.0005, 'CBSA_18140'),\n",
       " (0.0005, 'CBSA_16740'),\n",
       " (0.0005, 'CBSA_12420'),\n",
       " (0.0004, 'TRNQFLG_0'),\n",
       " (0.0004, 'SUB3_7'),\n",
       " (0.0004, 'SUB2_11'),\n",
       " (0.0004, 'STFIPS_32'),\n",
       " (0.0004, 'STFIPS_21'),\n",
       " (0.0004, 'PMSA_8735'),\n",
       " (0.0004, 'PMSA_6840'),\n",
       " (0.0004, 'PMSA_5720'),\n",
       " (0.0004, 'PMSA_560'),\n",
       " (0.0004, 'PMSA_4280'),\n",
       " (0.0004, 'FREQ2_4'),\n",
       " (0.0004, 'DSMCRIT_2'),\n",
       " (0.0004, 'DETNLF_2'),\n",
       " (0.0004, 'CBSA_45300'),\n",
       " (0.0004, 'CBSA_30700'),\n",
       " (0.0004, 'CBSA_15500'),\n",
       " (0.0004, 'CBSA_13780'),\n",
       " (0.0003, 'SUB3_2'),\n",
       " (0.0003, 'STIMFLG_1'),\n",
       " (0.0003, 'STFIPS_47'),\n",
       " (0.0003, 'SEDHPFLG_1'),\n",
       " (0.0003, 'ROUTE1_-9'),\n",
       " (0.0003, 'PMSA_875'),\n",
       " (0.0003, 'PMSA_7360'),\n",
       " (0.0003, 'PMSA_720'),\n",
       " (0.0003, 'PMSA_3120'),\n",
       " (0.0003, 'PMSA_2240'),\n",
       " (0.0003, 'PMSA_2020'),\n",
       " (0.0003, 'PMSA_1840'),\n",
       " (0.0003, 'PMSA_1640'),\n",
       " (0.0003, 'PMSA_1400'),\n",
       " (0.0003, 'PCPFLG_0'),\n",
       " (0.0003, 'OTHERFLG_0'),\n",
       " (0.0003, 'FRSTUSE3_8'),\n",
       " (0.0003, 'FRSTUSE3_12'),\n",
       " (0.0003, 'FRSTUSE2_5'),\n",
       " (0.0003, 'FRSTUSE1_-9'),\n",
       " (0.0003, 'ETHNIC_4'),\n",
       " (0.0003, 'CBSA_48620'),\n",
       " (0.0003, 'CBSA_46540'),\n",
       " (0.0003, 'CBSA_40380'),\n",
       " (0.0003, 'CBSA_39100'),\n",
       " (0.0003, 'CBSA_36140'),\n",
       " (0.0003, 'CBSA_33100'),\n",
       " (0.0003, 'CBSA_31140'),\n",
       " (0.0003, 'BENZFLG_0'),\n",
       " (0.0002, 'VET_-9'),\n",
       " (0.0002, 'SUB2_16'),\n",
       " (0.0002, 'SUB1_13'),\n",
       " (0.0002, 'STFIPS_55'),\n",
       " (0.0002, 'STFIPS_20'),\n",
       " (0.0002, 'ROUTE2_2'),\n",
       " (0.0002, 'RACE_13'),\n",
       " (0.0002, 'PSOURCE_5'),\n",
       " (0.0002, 'PMSA_7460'),\n",
       " (0.0002, 'PMSA_6120'),\n",
       " (0.0002, 'PMSA_5015'),\n",
       " (0.0002, 'PMSA_3760'),\n",
       " (0.0002, 'PMSA_3283'),\n",
       " (0.0002, 'PMSA_1320'),\n",
       " (0.0002, 'FRSTUSE2_9'),\n",
       " (0.0002, 'DSMCRIT_7'),\n",
       " (0.0002, 'CBSA_42220'),\n",
       " (0.0002, 'CBSA_40420'),\n",
       " (0.0002, 'CBSA_35300'),\n",
       " (0.0002, 'CBSA_12700'),\n",
       " (0.0002, 'CBSA_10180'),\n",
       " (0.0001, 'PMSA_7400'),\n",
       " (0.0001, 'METHFLG_1'),\n",
       " (0.0001, 'METHFLG_0'),\n",
       " (0.0001, 'FRSTUSE3_2'),\n",
       " (0.0001, 'FRSTUSE1_6'),\n",
       " (0.0001, 'EDUC_1'),\n",
       " (0.0001, 'DSMCRIT_19'),\n",
       " (0.0001, 'CBSA_33740'),\n",
       " (0.0001, 'CBSA_31100'),\n",
       " (0.0001, 'CBSA_30460'),\n",
       " (0.0, 'TRNQFLG_1'),\n",
       " (0.0, 'SUB3_9'),\n",
       " (0.0, 'SUB3_8'),\n",
       " (0.0, 'SUB3_6'),\n",
       " (0.0, 'SUB3_20'),\n",
       " (0.0, 'SUB3_18'),\n",
       " (0.0, 'SUB3_17'),\n",
       " (0.0, 'SUB3_15'),\n",
       " (0.0, 'SUB3_14'),\n",
       " (0.0, 'SUB3_13'),\n",
       " (0.0, 'SUB3_12'),\n",
       " (0.0, 'SUB3_11'),\n",
       " (0.0, 'SUB2_9'),\n",
       " (0.0, 'SUB2_8'),\n",
       " (0.0, 'SUB2_7'),\n",
       " (0.0, 'SUB2_18'),\n",
       " (0.0, 'SUB2_17'),\n",
       " (0.0, 'SUB2_15'),\n",
       " (0.0, 'SUB2_14'),\n",
       " (0.0, 'SUB2_13'),\n",
       " (0.0, 'SUB2_12'),\n",
       " (0.0, 'SUB1_8'),\n",
       " (0.0, 'SUB1_6'),\n",
       " (0.0, 'SUB1_18'),\n",
       " (0.0, 'SUB1_17'),\n",
       " (0.0, 'SUB1_16'),\n",
       " (0.0, 'SUB1_15'),\n",
       " (0.0, 'SUB1_14'),\n",
       " (0.0, 'SUB1_12'),\n",
       " (0.0, 'SUB1_11'),\n",
       " (0.0, 'SUB1_-9'),\n",
       " (0.0, 'STIMFLG_0'),\n",
       " (0.0, 'STFIPS_9'),\n",
       " (0.0, 'STFIPS_72'),\n",
       " (0.0, 'STFIPS_56'),\n",
       " (0.0, 'STFIPS_50'),\n",
       " (0.0, 'STFIPS_49'),\n",
       " (0.0, 'STFIPS_45'),\n",
       " (0.0, 'STFIPS_40'),\n",
       " (0.0, 'STFIPS_4'),\n",
       " (0.0, 'STFIPS_38'),\n",
       " (0.0, 'STFIPS_35'),\n",
       " (0.0, 'STFIPS_33'),\n",
       " (0.0, 'STFIPS_31'),\n",
       " (0.0, 'STFIPS_30'),\n",
       " (0.0, 'STFIPS_16'),\n",
       " (0.0, 'STFIPS_15'),\n",
       " (0.0, 'STFIPS_13'),\n",
       " (0.0, 'STFIPS_11'),\n",
       " (0.0, 'SERVSETD_-9'),\n",
       " (0.0, 'SEDHPFLG_0'),\n",
       " (0.0, 'ROUTE3_20'),\n",
       " (0.0, 'ROUTE2_1'),\n",
       " (0.0, 'ROUTE1_20'),\n",
       " (0.0, 'REGION_0'),\n",
       " (0.0, 'RACE_3'),\n",
       " (0.0, 'RACE_23'),\n",
       " (0.0, 'RACE_1'),\n",
       " (0.0, 'PRIMPAY_9'),\n",
       " (0.0, 'PRIMPAY_3'),\n",
       " (0.0, 'PMSA_960'),\n",
       " (0.0, 'PMSA_9340'),\n",
       " (0.0, 'PMSA_9320'),\n",
       " (0.0, 'PMSA_9270'),\n",
       " (0.0, 'PMSA_9200'),\n",
       " (0.0, 'PMSA_9160'),\n",
       " (0.0, 'PMSA_9080'),\n",
       " (0.0, 'PMSA_9000'),\n",
       " (0.0, 'PMSA_8960'),\n",
       " (0.0, 'PMSA_8920'),\n",
       " (0.0, 'PMSA_8840'),\n",
       " (0.0, 'PMSA_8800'),\n",
       " (0.0, 'PMSA_880'),\n",
       " (0.0, 'PMSA_8780'),\n",
       " (0.0, 'PMSA_8760'),\n",
       " (0.0, 'PMSA_8720'),\n",
       " (0.0, 'PMSA_870'),\n",
       " (0.0, 'PMSA_8680'),\n",
       " (0.0, 'PMSA_8640'),\n",
       " (0.0, 'PMSA_8600'),\n",
       " (0.0, 'PMSA_860'),\n",
       " (0.0, 'PMSA_8560'),\n",
       " (0.0, 'PMSA_8480'),\n",
       " (0.0, 'PMSA_8400'),\n",
       " (0.0, 'PMSA_840'),\n",
       " (0.0, 'PMSA_8360'),\n",
       " (0.0, 'PMSA_8280'),\n",
       " (0.0, 'PMSA_8160'),\n",
       " (0.0, 'PMSA_8140'),\n",
       " (0.0, 'PMSA_8120'),\n",
       " (0.0, 'PMSA_8003'),\n",
       " (0.0, 'PMSA_80'),\n",
       " (0.0, 'PMSA_7920'),\n",
       " (0.0, 'PMSA_7880'),\n",
       " (0.0, 'PMSA_7840'),\n",
       " (0.0, 'PMSA_7760'),\n",
       " (0.0, 'PMSA_7720'),\n",
       " (0.0, 'PMSA_7680'),\n",
       " (0.0, 'PMSA_7640'),\n",
       " (0.0, 'PMSA_760'),\n",
       " (0.0, 'PMSA_7510'),\n",
       " (0.0, 'PMSA_7500'),\n",
       " (0.0, 'PMSA_7490'),\n",
       " (0.0, 'PMSA_7485'),\n",
       " (0.0, 'PMSA_7480'),\n",
       " (0.0, 'PMSA_743'),\n",
       " (0.0, 'PMSA_7240'),\n",
       " (0.0, 'PMSA_7120'),\n",
       " (0.0, 'PMSA_7080'),\n",
       " (0.0, 'PMSA_7000'),\n",
       " (0.0, 'PMSA_6980'),\n",
       " (0.0, 'PMSA_6960'),\n",
       " (0.0, 'PMSA_6920'),\n",
       " (0.0, 'PMSA_6895'),\n",
       " (0.0, 'PMSA_6820'),\n",
       " (0.0, 'PMSA_6800'),\n",
       " (0.0, 'PMSA_6760'),\n",
       " (0.0, 'PMSA_6740'),\n",
       " (0.0, 'PMSA_6720'),\n",
       " (0.0, 'PMSA_6690'),\n",
       " (0.0, 'PMSA_6640'),\n",
       " (0.0, 'PMSA_6520'),\n",
       " (0.0, 'PMSA_6483'),\n",
       " (0.0, 'PMSA_6403'),\n",
       " (0.0, 'PMSA_640'),\n",
       " (0.0, 'PMSA_6360'),\n",
       " (0.0, 'PMSA_6160'),\n",
       " (0.0, 'PMSA_6080'),\n",
       " (0.0, 'PMSA_6020'),\n",
       " (0.0, 'PMSA_6015'),\n",
       " (0.0, 'PMSA_600'),\n",
       " (0.0, 'PMSA_5960'),\n",
       " (0.0, 'PMSA_5945'),\n",
       " (0.0, 'PMSA_5910'),\n",
       " (0.0, 'PMSA_5880'),\n",
       " (0.0, 'PMSA_5800'),\n",
       " (0.0, 'PMSA_5790'),\n",
       " (0.0, 'PMSA_5775'),\n",
       " (0.0, 'PMSA_5640'),\n",
       " (0.0, 'PMSA_5560'),\n",
       " (0.0, 'PMSA_5523'),\n",
       " (0.0, 'PMSA_5360'),\n",
       " (0.0, 'PMSA_5345'),\n",
       " (0.0, 'PMSA_5330'),\n",
       " (0.0, 'PMSA_5200'),\n",
       " (0.0, 'PMSA_5170'),\n",
       " (0.0, 'PMSA_5000'),\n",
       " (0.0, 'PMSA_4940'),\n",
       " (0.0, 'PMSA_4920'),\n",
       " (0.0, 'PMSA_4900'),\n",
       " (0.0, 'PMSA_4890'),\n",
       " (0.0, 'PMSA_4800'),\n",
       " (0.0, 'PMSA_480'),\n",
       " (0.0, 'PMSA_4640'),\n",
       " (0.0, 'PMSA_4600'),\n",
       " (0.0, 'PMSA_4520'),\n",
       " (0.0, 'PMSA_4420'),\n",
       " (0.0, 'PMSA_4400'),\n",
       " (0.0, 'PMSA_440'),\n",
       " (0.0, 'PMSA_4320'),\n",
       " (0.0, 'PMSA_4200'),\n",
       " (0.0, 'PMSA_4120'),\n",
       " (0.0, 'PMSA_4080'),\n",
       " (0.0, 'PMSA_4040'),\n",
       " (0.0, 'PMSA_40'),\n",
       " (0.0, 'PMSA_3980'),\n",
       " (0.0, 'PMSA_3960'),\n",
       " (0.0, 'PMSA_3880'),\n",
       " (0.0, 'PMSA_3870'),\n",
       " (0.0, 'PMSA_3840'),\n",
       " (0.0, 'PMSA_3810'),\n",
       " (0.0, 'PMSA_380'),\n",
       " (0.0, 'PMSA_3740'),\n",
       " (0.0, 'PMSA_3720'),\n",
       " (0.0, 'PMSA_3710'),\n",
       " (0.0, 'PMSA_3660'),\n",
       " (0.0, 'PMSA_3640'),\n",
       " (0.0, 'PMSA_3610'),\n",
       " (0.0, 'PMSA_3600'),\n",
       " (0.0, 'PMSA_3580'),\n",
       " (0.0, 'PMSA_3520'),\n",
       " (0.0, 'PMSA_3500'),\n",
       " (0.0, 'PMSA_3480'),\n",
       " (0.0, 'PMSA_3400'),\n",
       " (0.0, 'PMSA_3350'),\n",
       " (0.0, 'PMSA_3290'),\n",
       " (0.0, 'PMSA_3200'),\n",
       " (0.0, 'PMSA_3160'),\n",
       " (0.0, 'PMSA_3150'),\n",
       " (0.0, 'PMSA_3060'),\n",
       " (0.0, 'PMSA_2995'),\n",
       " (0.0, 'PMSA_2980'),\n",
       " (0.0, 'PMSA_2975'),\n",
       " (0.0, 'PMSA_2920'),\n",
       " (0.0, 'PMSA_2840'),\n",
       " (0.0, 'PMSA_2800'),\n",
       " (0.0, 'PMSA_2720'),\n",
       " (0.0, 'PMSA_2710'),\n",
       " (0.0, 'PMSA_2700'),\n",
       " (0.0, 'PMSA_2680'),\n",
       " (0.0, 'PMSA_2670'),\n",
       " (0.0, 'PMSA_2655'),\n",
       " (0.0, 'PMSA_2640'),\n",
       " (0.0, 'PMSA_2580'),\n",
       " (0.0, 'PMSA_2560'),\n",
       " (0.0, 'PMSA_2520'),\n",
       " (0.0, 'PMSA_2440'),\n",
       " (0.0, 'PMSA_2320'),\n",
       " (0.0, 'PMSA_220'),\n",
       " (0.0, 'PMSA_2190'),\n",
       " (0.0, 'PMSA_2180'),\n",
       " (0.0, 'PMSA_2160'),\n",
       " (0.0, 'PMSA_2120'),\n",
       " (0.0, 'PMSA_2040'),\n",
       " (0.0, 'PMSA_200'),\n",
       " (0.0, 'PMSA_1960'),\n",
       " (0.0, 'PMSA_1950'),\n",
       " (0.0, 'PMSA_1920'),\n",
       " (0.0, 'PMSA_1900'),\n",
       " (0.0, 'PMSA_1760'),\n",
       " (0.0, 'PMSA_1740'),\n",
       " (0.0, 'PMSA_1720'),\n",
       " (0.0, 'PMSA_1680'),\n",
       " (0.0, 'PMSA_1660'),\n",
       " (0.0, 'PMSA_1620'),\n",
       " (0.0, 'PMSA_1560'),\n",
       " (0.0, 'PMSA_1540'),\n",
       " (0.0, 'PMSA_1440'),\n",
       " (0.0, 'PMSA_1360'),\n",
       " (0.0, 'PMSA_1303'),\n",
       " (0.0, 'PMSA_1240'),\n",
       " (0.0, 'PMSA_1150'),\n",
       " (0.0, 'PMSA_1145'),\n",
       " (0.0, 'PMSA_1123'),\n",
       " (0.0, 'PMSA_1080'),\n",
       " (0.0, 'PMSA_1040'),\n",
       " (0.0, 'PCPFLG_1'),\n",
       " (0.0, 'OTCFLG_1'),\n",
       " (0.0, 'OTCFLG_0'),\n",
       " (0.0, 'LIVARAG_-9'),\n",
       " (0.0, 'INHFLG_1'),\n",
       " (0.0, 'INHFLG_0'),\n",
       " (0.0, 'HALLFLG_1'),\n",
       " (0.0, 'HALLFLG_0'),\n",
       " (0.0, 'GENDER_-9'),\n",
       " (0.0, 'FRSTUSE3_9'),\n",
       " (0.0, 'FRSTUSE3_7'),\n",
       " (0.0, 'FRSTUSE3_11'),\n",
       " (0.0, 'FRSTUSE3_10'),\n",
       " (0.0, 'FRSTUSE2_8'),\n",
       " (0.0, 'FRSTUSE2_12'),\n",
       " (0.0, 'FRSTUSE2_11'),\n",
       " (0.0, 'FRSTUSE2_10'),\n",
       " (0.0, 'FRSTUSE1_12'),\n",
       " (0.0, 'FRSTUSE1_11'),\n",
       " (0.0, 'FREQ3_3'),\n",
       " (0.0, 'FREQ2_2'),\n",
       " (0.0, 'ETHNIC_3'),\n",
       " (0.0, 'ETHNIC_-9'),\n",
       " (0.0, 'DSMCRIT_20'),\n",
       " (0.0, 'DSMCRIT_18'),\n",
       " (0.0, 'DSMCRIT_17'),\n",
       " (0.0, 'DSMCRIT_16'),\n",
       " (0.0, 'DSMCRIT_15'),\n",
       " (0.0, 'DSMCRIT_14'),\n",
       " (0.0, 'DSMCRIT_13'),\n",
       " (0.0, 'DSMCRIT_12'),\n",
       " (0.0, 'DSMCRIT_1'),\n",
       " (0.0, 'DIVISION_7'),\n",
       " (0.0, 'DIVISION_6'),\n",
       " (0.0, 'DIVISION_0'),\n",
       " (0.0, 'DISYR_2007'),\n",
       " (0.0, 'DETNLF_1'),\n",
       " (0.0, 'DETCRIM_6'),\n",
       " (0.0, 'DETCRIM_5'),\n",
       " (0.0, 'CBSA_49700'),\n",
       " (0.0, 'CBSA_49660'),\n",
       " (0.0, 'CBSA_49420'),\n",
       " (0.0, 'CBSA_49180'),\n",
       " (0.0, 'CBSA_48900'),\n",
       " (0.0, 'CBSA_48660'),\n",
       " (0.0, 'CBSA_48540'),\n",
       " (0.0, 'CBSA_47940'),\n",
       " (0.0, 'CBSA_47900'),\n",
       " (0.0, 'CBSA_47360'),\n",
       " (0.0, 'CBSA_47300'),\n",
       " (0.0, 'CBSA_47260'),\n",
       " (0.0, 'CBSA_47220'),\n",
       " (0.0, 'CBSA_46700'),\n",
       " (0.0, 'CBSA_46340'),\n",
       " (0.0, 'CBSA_46220'),\n",
       " (0.0, 'CBSA_46140'),\n",
       " (0.0, 'CBSA_45940'),\n",
       " (0.0, 'CBSA_45820'),\n",
       " (0.0, 'CBSA_45780'),\n",
       " (0.0, 'CBSA_45500'),\n",
       " (0.0, 'CBSA_45060'),\n",
       " (0.0, 'CBSA_44940'),\n",
       " (0.0, 'CBSA_44700'),\n",
       " (0.0, 'CBSA_44220'),\n",
       " (0.0, 'CBSA_44180'),\n",
       " (0.0, 'CBSA_44140'),\n",
       " (0.0, 'CBSA_44100'),\n",
       " (0.0, 'CBSA_44060'),\n",
       " (0.0, 'CBSA_43900'),\n",
       " (0.0, 'CBSA_43580'),\n",
       " (0.0, 'CBSA_43340'),\n",
       " (0.0, 'CBSA_43300'),\n",
       " (0.0, 'CBSA_42260'),\n",
       " (0.0, 'CBSA_42140'),\n",
       " (0.0, 'CBSA_42100'),\n",
       " (0.0, 'CBSA_42060'),\n",
       " (0.0, 'CBSA_42020'),\n",
       " (0.0, 'CBSA_41860'),\n",
       " (0.0, 'CBSA_41740'),\n",
       " (0.0, 'CBSA_41700'),\n",
       " (0.0, 'CBSA_41620'),\n",
       " (0.0, 'CBSA_41500'),\n",
       " (0.0, 'CBSA_41140'),\n",
       " (0.0, 'CBSA_41060'),\n",
       " (0.0, 'CBSA_40980'),\n",
       " (0.0, 'CBSA_40580'),\n",
       " (0.0, 'CBSA_40340'),\n",
       " (0.0, 'CBSA_40220'),\n",
       " (0.0, 'CBSA_40140'),\n",
       " (0.0, 'CBSA_40060'),\n",
       " (0.0, 'CBSA_39900'),\n",
       " (0.0, 'CBSA_39820'),\n",
       " (0.0, 'CBSA_39580'),\n",
       " (0.0, 'CBSA_39340'),\n",
       " (0.0, 'CBSA_38940'),\n",
       " (0.0, 'CBSA_38860'),\n",
       " (0.0, 'CBSA_38660'),\n",
       " (0.0, 'CBSA_37900'),\n",
       " (0.0, 'CBSA_37860'),\n",
       " (0.0, 'CBSA_37620'),\n",
       " (0.0, 'CBSA_37460'),\n",
       " (0.0, 'CBSA_37340'),\n",
       " (0.0, 'CBSA_37100'),\n",
       " (0.0, 'CBSA_36740'),\n",
       " (0.0, 'CBSA_36500'),\n",
       " (0.0, 'CBSA_36420'),\n",
       " (0.0, 'CBSA_36220'),\n",
       " (0.0, 'CBSA_36100'),\n",
       " (0.0, 'CBSA_35980'),\n",
       " (0.0, 'CBSA_35660'),\n",
       " (0.0, 'CBSA_34980'),\n",
       " (0.0, 'CBSA_34940'),\n",
       " (0.0, 'CBSA_34900'),\n",
       " (0.0, 'CBSA_34820'),\n",
       " (0.0, 'CBSA_34740'),\n",
       " (0.0, 'CBSA_33780'),\n",
       " (0.0, 'CBSA_33700'),\n",
       " (0.0, 'CBSA_33260'),\n",
       " (0.0, 'CBSA_32900'),\n",
       " (0.0, 'CBSA_32820'),\n",
       " (0.0, 'CBSA_32780'),\n",
       " (0.0, 'CBSA_31900'),\n",
       " (0.0, 'CBSA_31700'),\n",
       " (0.0, 'CBSA_31460'),\n",
       " (0.0, 'CBSA_31340'),\n",
       " (0.0, 'CBSA_30980'),\n",
       " (0.0, 'CBSA_30620'),\n",
       " (0.0, 'CBSA_30540'),\n",
       " (0.0, 'CBSA_30020'),\n",
       " (0.0, 'CBSA_29820'),\n",
       " (0.0, 'CBSA_29700'),\n",
       " (0.0, 'CBSA_29620'),\n",
       " (0.0, 'CBSA_29460'),\n",
       " (0.0, 'CBSA_29340'),\n",
       " (0.0, 'CBSA_29180'),\n",
       " (0.0, 'CBSA_29100'),\n",
       " (0.0, 'CBSA_28940'),\n",
       " (0.0, 'CBSA_28700'),\n",
       " (0.0, 'CBSA_28660'),\n",
       " (0.0, 'CBSA_28420'),\n",
       " (0.0, 'CBSA_28140'),\n",
       " (0.0, 'CBSA_28100'),\n",
       " (0.0, 'CBSA_28020'),\n",
       " (0.0, 'CBSA_27900'),\n",
       " (0.0, 'CBSA_27460'),\n",
       " (0.0, 'CBSA_27260'),\n",
       " (0.0, 'CBSA_27180'),\n",
       " (0.0, 'CBSA_27100'),\n",
       " (0.0, 'CBSA_26900'),\n",
       " (0.0, 'CBSA_26580'),\n",
       " (0.0, 'CBSA_26380'),\n",
       " (0.0, 'CBSA_26180'),\n",
       " (0.0, 'CBSA_26100'),\n",
       " (0.0, 'CBSA_25860'),\n",
       " (0.0, 'CBSA_25540'),\n",
       " (0.0, 'CBSA_24860'),\n",
       " (0.0, 'CBSA_24780'),\n",
       " (0.0, 'CBSA_24660'),\n",
       " (0.0, 'CBSA_24540'),\n",
       " (0.0, 'CBSA_24340'),\n",
       " (0.0, 'CBSA_24300'),\n",
       " (0.0, 'CBSA_24140'),\n",
       " (0.0, 'CBSA_24020'),\n",
       " (0.0, 'CBSA_23420'),\n",
       " (0.0, 'CBSA_22900'),\n",
       " (0.0, 'CBSA_22660'),\n",
       " (0.0, 'CBSA_22500'),\n",
       " (0.0, 'CBSA_22420'),\n",
       " (0.0, 'CBSA_22220'),\n",
       " (0.0, 'CBSA_22180'),\n",
       " (0.0, 'CBSA_22020'),\n",
       " (0.0, 'CBSA_21780'),\n",
       " (0.0, 'CBSA_21660'),\n",
       " (0.0, 'CBSA_21340'),\n",
       " (0.0, 'CBSA_20620'),\n",
       " (0.0, 'CBSA_20500'),\n",
       " (0.0, 'CBSA_20260'),\n",
       " (0.0, 'CBSA_20100'),\n",
       " (0.0, 'CBSA_20020'),\n",
       " (0.0, 'CBSA_19780'),\n",
       " (0.0, 'CBSA_19660'),\n",
       " (0.0, 'CBSA_19500'),\n",
       " (0.0, 'CBSA_19380'),\n",
       " (0.0, 'CBSA_19340'),\n",
       " (0.0, 'CBSA_19260'),\n",
       " (0.0, 'CBSA_19060'),\n",
       " (0.0, 'CBSA_18580'),\n",
       " (0.0, 'CBSA_17900'),\n",
       " (0.0, 'CBSA_17860'),\n",
       " (0.0, 'CBSA_17820'),\n",
       " (0.0, 'CBSA_17460'),\n",
       " (0.0, 'CBSA_17300'),\n",
       " (0.0, 'CBSA_17020'),\n",
       " (0.0, 'CBSA_16860'),\n",
       " (0.0, 'CBSA_16820'),\n",
       " (0.0, 'CBSA_16700'),\n",
       " (0.0, 'CBSA_16580'),\n",
       " (0.0, 'CBSA_16300'),\n",
       " (0.0, 'CBSA_15980'),\n",
       " (0.0, 'CBSA_15940'),\n",
       " (0.0, 'CBSA_15540'),\n",
       " (0.0, 'CBSA_15180'),\n",
       " (0.0, 'CBSA_14860'),\n",
       " (0.0, 'CBSA_14740'),\n",
       " (0.0, 'CBSA_14500'),\n",
       " (0.0, 'CBSA_14260'),\n",
       " (0.0, 'CBSA_14060'),\n",
       " (0.0, 'CBSA_13740'),\n",
       " (0.0, 'CBSA_13380'),\n",
       " (0.0, 'CBSA_13140'),\n",
       " (0.0, 'CBSA_13020'),\n",
       " (0.0, 'CBSA_12980'),\n",
       " (0.0, 'CBSA_12940'),\n",
       " (0.0, 'CBSA_12580'),\n",
       " (0.0, 'CBSA_12540'),\n",
       " (0.0, 'CBSA_12260'),\n",
       " (0.0, 'CBSA_11780'),\n",
       " (0.0, 'CBSA_11700'),\n",
       " (0.0, 'CBSA_11460'),\n",
       " (0.0, 'CBSA_11340'),\n",
       " (0.0, 'CBSA_11300'),\n",
       " (0.0, 'CBSA_11260'),\n",
       " (0.0, 'CBSA_10900'),\n",
       " (0.0, 'CBSA_10880'),\n",
       " (0.0, 'CBSA_10780'),\n",
       " (0.0, 'CBSA_10740'),\n",
       " (0.0, 'CBSA_10580'),\n",
       " (0.0, 'CBSA_10420'),\n",
       " (0.0, 'BARBFLG_1'),\n",
       " (0.0, 'BARBFLG_0'),\n",
       " (0.0, 'ALCDRUG_0')]"
      ]
     },
     "execution_count": 40,
     "metadata": {},
     "output_type": "execute_result"
    }
   ],
   "source": [
    "names=X_test_r.columns\n",
    "\n",
    "sorted(zip(map(lambda x: round(x, 4), clf.feature_importances_), names), reverse=True)\n",
    "#LOS is the most important in whether or not treatment was a success\n",
    "#noprior is the second"
   ]
  },
  {
   "cell_type": "markdown",
   "metadata": {},
   "source": [
    "**MLP**"
   ]
  },
  {
   "cell_type": "code",
   "execution_count": 41,
   "metadata": {
    "collapsed": true
   },
   "outputs": [],
   "source": [
    "mlp= MLPClassifier(solver='lbfgs', alpha=1e-5, hidden_layer_sizes=(15,), random_state=1)"
   ]
  },
  {
   "cell_type": "code",
   "execution_count": 42,
   "metadata": {},
   "outputs": [
    {
     "data": {
      "text/plain": [
       "MLPClassifier(activation='relu', alpha=1e-05, batch_size='auto', beta_1=0.9,\n",
       "       beta_2=0.999, early_stopping=False, epsilon=1e-08,\n",
       "       hidden_layer_sizes=(15,), learning_rate='constant',\n",
       "       learning_rate_init=0.001, max_iter=200, momentum=0.9,\n",
       "       nesterovs_momentum=True, power_t=0.5, random_state=1, shuffle=True,\n",
       "       solver='lbfgs', tol=0.0001, validation_fraction=0.1, verbose=False,\n",
       "       warm_start=False)"
      ]
     },
     "execution_count": 42,
     "metadata": {},
     "output_type": "execute_result"
    }
   ],
   "source": [
    "mlp.fit(X_train_r, y_train_r) "
   ]
  },
  {
   "cell_type": "code",
   "execution_count": 43,
   "metadata": {},
   "outputs": [
    {
     "data": {
      "text/plain": [
       "0.6994949494949495"
      ]
     },
     "execution_count": 43,
     "metadata": {},
     "output_type": "execute_result"
    }
   ],
   "source": [
    "mlp.score(X_test_r,y_test_r)"
   ]
  },
  {
   "cell_type": "code",
   "execution_count": 44,
   "metadata": {},
   "outputs": [
    {
     "data": {
      "text/plain": [
       "array([0, 1])"
      ]
     },
     "execution_count": 44,
     "metadata": {},
     "output_type": "execute_result"
    }
   ],
   "source": [
    "mlp.classes_"
   ]
  },
  {
   "cell_type": "code",
   "execution_count": null,
   "metadata": {
    "collapsed": true
   },
   "outputs": [],
   "source": [
    "data['REASON'].value_counts()"
   ]
  },
  {
   "cell_type": "code",
   "execution_count": 86,
   "metadata": {
    "collapsed": true
   },
   "outputs": [],
   "source": [
    "mlp2= MLPClassifier(hidden_layer_sizes=(30,30,30), random_state=1)"
   ]
  },
  {
   "cell_type": "code",
   "execution_count": 87,
   "metadata": {},
   "outputs": [
    {
     "data": {
      "text/plain": [
       "0.68333333333333335"
      ]
     },
     "execution_count": 87,
     "metadata": {},
     "output_type": "execute_result"
    }
   ],
   "source": [
    "mlp2.fit(X_train_r, y_train_r) \n",
    "mlp2.score(X_test_r,y_test_r)"
   ]
  },
  {
   "cell_type": "code",
   "execution_count": 89,
   "metadata": {},
   "outputs": [
    {
     "data": {
      "text/plain": [
       "9900"
      ]
     },
     "execution_count": 89,
     "metadata": {},
     "output_type": "execute_result"
    }
   ],
   "source": [
    "len(X_test_r)"
   ]
  },
  {
   "cell_type": "markdown",
   "metadata": {},
   "source": [
    "http://scikit-learn.org/stable/auto_examples/plot_digits_pipe.html#sphx-glr-auto-examples-plot-digits-pipe-py"
   ]
  },
  {
   "cell_type": "markdown",
   "metadata": {},
   "source": [
    "http://scikit-learn.org/stable/auto_examples/classification/plot_classifier_comparison.html#sphx-glr-auto-examples-classification-plot-classifier-comparison-py"
   ]
  },
  {
   "cell_type": "markdown",
   "metadata": {
    "collapsed": true
   },
   "source": [
    "**KNN**"
   ]
  },
  {
   "cell_type": "code",
   "execution_count": 45,
   "metadata": {},
   "outputs": [
    {
     "data": {
      "text/plain": [
       "KNeighborsClassifier(algorithm='auto', leaf_size=30, metric='minkowski',\n",
       "           metric_params=None, n_jobs=1, n_neighbors=5, p=2,\n",
       "           weights='uniform')"
      ]
     },
     "execution_count": 45,
     "metadata": {},
     "output_type": "execute_result"
    }
   ],
   "source": [
    "knn=neighbors.KNeighborsClassifier()\n",
    "knn.fit(X_train_r, y_train_r)"
   ]
  },
  {
   "cell_type": "code",
   "execution_count": 46,
   "metadata": {},
   "outputs": [
    {
     "data": {
      "text/plain": [
       "array([1, 1, 1, ..., 1, 1, 0])"
      ]
     },
     "execution_count": 46,
     "metadata": {},
     "output_type": "execute_result"
    }
   ],
   "source": [
    "knn.predict(X_test_r)"
   ]
  },
  {
   "cell_type": "code",
   "execution_count": 47,
   "metadata": {},
   "outputs": [
    {
     "data": {
      "text/plain": [
       "0.59494949494949489"
      ]
     },
     "execution_count": 47,
     "metadata": {},
     "output_type": "execute_result"
    }
   ],
   "source": [
    "knn.score(X_test_r, y_test_r)"
   ]
  },
  {
   "cell_type": "code",
   "execution_count": 48,
   "metadata": {
    "collapsed": true
   },
   "outputs": [],
   "source": [
    "#cross validate to get k?\n",
    "\n",
    "# creating odd list of K for KNN\n",
    "myList = list(range(1,50))\n",
    "\n",
    "# subsetting just the odd ones\n",
    "neighbors_list = filter(lambda x: x % 2 != 0, myList)\n",
    "\n",
    "# empty list that will hold cv scores\n",
    "cv_scores = []\n",
    "\n",
    "# perform 10-fold cross validation\n",
    "for k in neighbors_list:\n",
    "    knn = neighbors.KNeighborsClassifier(n_neighbors=k)\n",
    "    scores = cross_val_score(knn, X_train_r, y_train_r, cv=10, scoring='accuracy')\n",
    "    cv_scores.append(scores.mean())"
   ]
  },
  {
   "cell_type": "code",
   "execution_count": 49,
   "metadata": {},
   "outputs": [
    {
     "name": "stdout",
     "output_type": "stream",
     "text": [
      "The optimal number of neighbors is 17\n"
     ]
    },
    {
     "data": {
      "image/png": "[encoded data removed]",
      "text/plain": [
       "<matplotlib.figure.Figure at 0x1110f03d0>"
      ]
     },
     "metadata": {},
     "output_type": "display_data"
    }
   ],
   "source": [
    "# changing to misclassification error\n",
    "MSE = [1 - x for x in cv_scores]\n",
    "\n",
    "# determining best k\n",
    "optimal_k = neighbors_list[MSE.index(min(MSE))]\n",
    "print \"The optimal number of neighbors is %d\" % optimal_k\n",
    "\n",
    "# plot misclassification error vs k\n",
    "plt.plot(neighbors_list, MSE)\n",
    "plt.xlabel('Number of Neighbors K')\n",
    "plt.ylabel('Misclassification Error')\n",
    "plt.show()"
   ]
  },
  {
   "cell_type": "code",
   "execution_count": 52,
   "metadata": {
    "scrolled": true
   },
   "outputs": [
    {
     "data": {
      "text/plain": [
       "0.59141414141414139"
      ]
     },
     "execution_count": 52,
     "metadata": {},
     "output_type": "execute_result"
    }
   ],
   "source": [
    "knn=neighbors.KNeighborsClassifier(n_neighbors=17)\n",
    "knn.fit(X_train_r, y_train_r)\n",
    "knn.score(X_test_r, y_test_r)"
   ]
  },
  {
   "cell_type": "code",
   "execution_count": 53,
   "metadata": {},
   "outputs": [
    {
     "name": "stdout",
     "output_type": "stream",
     "text": [
      "0.408585858586\n"
     ]
    }
   ],
   "source": [
    "print mean_squared_error(knn.predict(X_test_r),y_test_r)"
   ]
  },
  {
   "cell_type": "markdown",
   "metadata": {},
   "source": [
    "**PCA**\n",
    "- PCA does not seem to work well "
   ]
  },
  {
   "cell_type": "code",
   "execution_count": 72,
   "metadata": {},
   "outputs": [
    {
     "data": {
      "image/png": "[encoded data removed]",
      "text/plain": [
       "<matplotlib.figure.Figure at 0x10f1ff650>"
      ]
     },
     "metadata": {},
     "output_type": "display_data"
    },
    {
     "data": {
      "text/plain": [
       "array([[ -1.45959488e-05,  -2.53671900e-04,   2.37924339e-04, ...,\n",
       "          5.13374442e-03,   4.06149140e-04,   1.98984192e-02],\n",
       "       [ -1.73741502e-04,   4.54649226e-03,  -2.53183114e-03, ...,\n",
       "         -3.07088841e-02,  -3.58325274e-03,  -9.09625033e-01],\n",
       "       [ -4.84097067e-05,  -8.62710415e-03,   7.14337093e-03, ...,\n",
       "         -1.34725824e-02,   7.71091237e-03,  -4.09562020e-01],\n",
       "       ..., \n",
       "       [  0.00000000e+00,   1.58669497e-03,   1.62210198e-16, ...,\n",
       "         -2.71050543e-18,   2.03172795e-04,   2.30392962e-19],\n",
       "       [  0.00000000e+00,   1.03837285e-01,   7.14966281e-15, ...,\n",
       "         -9.02056208e-17,  -5.54860564e-02,   2.77555756e-17],\n",
       "       [ -0.00000000e+00,  -3.08951231e-01,  -1.28126676e-14, ...,\n",
       "         -0.00000000e+00,  -6.63898281e-02,  -8.32667268e-17]])"
      ]
     },
     "execution_count": 72,
     "metadata": {},
     "output_type": "execute_result"
    }
   ],
   "source": [
    "pca = PCA()\n",
    "pca.fit(X_r)\n",
    "\n",
    "plt.figure(1, figsize=(4, 3))\n",
    "plt.clf()\n",
    "plt.axes([.2, .2, .7, .7])\n",
    "plt.plot(pca.explained_variance_ratio_, linewidth=2)\n",
    "plt.axis('tight')\n",
    "plt.xlabel('n_components')\n",
    "plt.ylabel('explained_variance_')\n",
    "plt.show()\n",
    "pca.components_"
   ]
  },
  {
   "cell_type": "markdown",
   "metadata": {},
   "source": [
    "# LOS as number"
   ]
  },
  {
   "cell_type": "code",
   "execution_count": 55,
   "metadata": {
    "collapsed": true
   },
   "outputs": [],
   "source": [
    "los_dict={31:38, 32:53, 33:76, 34:106, 35:151, 36:273, 37:366}\n",
    "#bins: 31-45, 46-60, 61-90, 91-120, 121-180, 181-365, 366+\n",
    "def conv_los(s):\n",
    "    if s in los_dict.keys():\n",
    "        return los_dict[s]\n",
    "    else:\n",
    "        return s\n",
    "los_data=data\n",
    "los_data['LOS']=los_data['LOS'].map(conv_los)"
   ]
  },
  {
   "cell_type": "code",
   "execution_count": 56,
   "metadata": {},
   "outputs": [
    {
     "data": {
      "text/plain": [
       "273    579\n",
       "76     572\n",
       "Name: LOS, dtype: int64"
      ]
     },
     "execution_count": 56,
     "metadata": {},
     "output_type": "execute_result"
    }
   ],
   "source": [
    "los_data['LOS'].value_counts()[:2]"
   ]
  },
  {
   "cell_type": "code",
   "execution_count": 57,
   "metadata": {
    "collapsed": true
   },
   "outputs": [],
   "source": [
    "X_l=los_data[los_data.columns[los_data.columns!='LOS']]\n",
    "y_l=los_data['LOS']\n",
    "\n",
    "#X.columns\n",
    "X_train_l, X_test_l, y_train_l, y_test_l = train_test_split(X_l,y_l,test_size = 0.33, random_state=42)"
   ]
  },
  {
   "cell_type": "code",
   "execution_count": 58,
   "metadata": {
    "collapsed": true
   },
   "outputs": [],
   "source": [
    "regr = linear_model.LinearRegression()\n",
    "regr.fit(X_train_l, y_train_l)\n",
    "y_pred_l = regr.predict(X_test_l)"
   ]
  },
  {
   "cell_type": "code",
   "execution_count": 59,
   "metadata": {
    "scrolled": true
   },
   "outputs": [
    {
     "name": "stdout",
     "output_type": "stream",
     "text": [
      "[ 160.77490234   87.50390625  118.55371094   16.30712891   44.93017578\n",
      "  131.61328125   80.203125    191.76708984  -21.73730469  139.46240234\n",
      "  159.8671875    24.47314453   89.23925781   15.375       126.80126953\n",
      "   10.51708984   70.15087891   13.35693359  115.86083984   -6.29052734\n",
      "  106.59082031   97.30859375  -83.09521484   52.98974609  103.81835938\n",
      "   66.41064453   60.39013672  150.91552734   95.65576172   11.40673828]\n",
      "1665741    366\n",
      "679216     273\n",
      "1237914    151\n",
      "463492       8\n",
      "1141814    273\n",
      "804762     366\n",
      "697722     366\n",
      "786474     151\n",
      "857537       4\n",
      "1199016    106\n",
      "162277     106\n",
      "601679      76\n",
      "1577445     38\n",
      "820801     106\n",
      "1301832    151\n",
      "133794      13\n",
      "1079179      7\n",
      "274286       1\n",
      "1276340    273\n",
      "903757      76\n",
      "1322860    366\n",
      "848878      76\n",
      "94723        8\n",
      "832155       7\n",
      "797049       5\n",
      "240223       1\n",
      "1232047      4\n",
      "822230      38\n",
      "20437       53\n",
      "10669       21\n",
      "Name: LOS, dtype: int64\n"
     ]
    }
   ],
   "source": [
    "print y_pred_l[:30]\n",
    "print y_test_l[:30]"
   ]
  },
  {
   "cell_type": "code",
   "execution_count": 60,
   "metadata": {},
   "outputs": [
    {
     "name": "stdout",
     "output_type": "stream",
     "text": [
      "Mean squared error: 6836496246084654080.00\n",
      "Variance score: -686011108413572.75\n"
     ]
    }
   ],
   "source": [
    "# The coefficients\n",
    "#print('Coefficients: \\n', regr.coef_)\n",
    "# The mean squared error\n",
    "print(\"Mean squared error: %.2f\"\n",
    "      % mean_squared_error(y_test_l, y_pred_l))\n",
    "# Explained variance score: 1 is perfect prediction\n",
    "print('Variance score: %.2f' % r2_score(y_test_l, y_pred_l))"
   ]
  },
  {
   "cell_type": "markdown",
   "metadata": {},
   "source": [
    "**SVR**"
   ]
  },
  {
   "cell_type": "code",
   "execution_count": 61,
   "metadata": {
    "collapsed": true
   },
   "outputs": [],
   "source": [
    "svr_rbf = SVR(kernel='rbf', C=1e3, gamma=0.1)\n",
    "\n",
    "y_rbf = svr_rbf.fit(X_train_l, y_train_l).predict(X_test_l)\n",
    "\n"
   ]
  },
  {
   "cell_type": "code",
   "execution_count": 62,
   "metadata": {},
   "outputs": [
    {
     "data": {
      "text/plain": [
       "9262.2398964944095"
      ]
     },
     "execution_count": 62,
     "metadata": {},
     "output_type": "execute_result"
    }
   ],
   "source": [
    "mean_squared_error(y_test_l, y_rbf)"
   ]
  },
  {
   "cell_type": "code",
   "execution_count": 75,
   "metadata": {
    "scrolled": true
   },
   "outputs": [
    {
     "name": "stdout",
     "output_type": "stream",
     "text": [
      "[ 102.78577939   55.40008472   86.26713722   77.43332281   87.1676948\n",
      "  100.55277792   53.52143072   73.05925778   65.2026248    73.12045528\n",
      "   85.7795092    86.69151749   86.73957625   88.14470302   88.30389093\n",
      "   84.89717371   85.12021402   79.4127543    84.53344068   84.80285062\n",
      "   77.14715884   91.90547695   57.21335656   65.88820424   84.06615882\n",
      "   73.63082513   71.06298519   77.46403097   82.8683923    81.97119474]\n",
      "1665741    366\n",
      "679216     273\n",
      "1237914    151\n",
      "463492       8\n",
      "1141814    273\n",
      "804762     366\n",
      "697722     366\n",
      "786474     151\n",
      "857537       4\n",
      "1199016    106\n",
      "162277     106\n",
      "601679      76\n",
      "1577445     38\n",
      "820801     106\n",
      "1301832    151\n",
      "133794      13\n",
      "1079179      7\n",
      "274286       1\n",
      "1276340    273\n",
      "903757      76\n",
      "1322860    366\n",
      "848878      76\n",
      "94723        8\n",
      "832155       7\n",
      "797049       5\n",
      "240223       1\n",
      "1232047      4\n",
      "822230      38\n",
      "20437       53\n",
      "10669       21\n",
      "          ... \n",
      "1556561     53\n",
      "1444253    366\n",
      "250524     106\n",
      "112620       2\n",
      "722386     106\n",
      "1122791     28\n",
      "1303614      1\n",
      "502161     106\n",
      "1424447     38\n",
      "148530     106\n",
      "238049       3\n",
      "1274222     76\n",
      "1130676     76\n",
      "832785      13\n",
      "832700      53\n",
      "1060449    273\n",
      "1181582     53\n",
      "480877     151\n",
      "1472849     53\n",
      "404482     151\n",
      "300462      53\n",
      "1439004      4\n",
      "927666       1\n",
      "448656     151\n",
      "74424      273\n",
      "86865       10\n",
      "574791       4\n",
      "730672      38\n",
      "1687631    273\n",
      "747786     273\n",
      "Name: LOS, Length: 1980, dtype: int64\n"
     ]
    }
   ],
   "source": [
    "print y_rbf[:30]\n",
    "print y_test_l"
   ]
  },
  {
   "cell_type": "code",
   "execution_count": 63,
   "metadata": {
    "collapsed": true
   },
   "outputs": [],
   "source": [
    "# svr_lin = SVR(kernel='linear', C=1e3)\n",
    "# y_lin = svr_lin.fit(X_train_l, y_train_l).predict(X_test_l)"
   ]
  },
  {
   "cell_type": "code",
   "execution_count": 64,
   "metadata": {
    "collapsed": true
   },
   "outputs": [],
   "source": [
    "# mean_squared_error(y_test_l, y_lin)"
   ]
  },
  {
   "cell_type": "code",
   "execution_count": 65,
   "metadata": {
    "collapsed": true
   },
   "outputs": [],
   "source": [
    "svr_poly = SVR(kernel='poly', C=1e3, degree=2)\n",
    "y_poly = svr_poly.fit(X_train_l, y_train_l).predict(X_test_l)"
   ]
  },
  {
   "cell_type": "code",
   "execution_count": 66,
   "metadata": {},
   "outputs": [
    {
     "data": {
      "text/plain": [
       "8721.1179197647089"
      ]
     },
     "execution_count": 66,
     "metadata": {},
     "output_type": "execute_result"
    }
   ],
   "source": [
    "mean_squared_error(y_test_l, y_poly)"
   ]
  }
 ],
 "metadata": {
  "kernelspec": {
   "display_name": "Python 2",
   "language": "python",
   "name": "python2"
  },
  "language_info": {
   "codemirror_mode": {
    "name": "ipython",
    "version": 2
   },
   "file_extension": ".py",
   "mimetype": "text/x-python",
   "name": "python",
   "nbconvert_exporter": "python",
   "pygments_lexer": "ipython2",
   "version": "2.7.13"
  }
 },
 "nbformat": 4,
 "nbformat_minor": 2
}
