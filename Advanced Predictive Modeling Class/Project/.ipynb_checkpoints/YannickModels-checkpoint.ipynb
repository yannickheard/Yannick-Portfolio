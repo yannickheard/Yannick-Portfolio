{
 "cells": [
  {
   "cell_type": "code",
   "execution_count": 1,
   "metadata": {
    "collapsed": true
   },
   "outputs": [],
   "source": [
    "import pandas as pd\n",
    "from sklearn import linear_model\n",
    "from sklearn.metrics import mean_squared_error, r2_score\n",
    "import matplotlib.pyplot as plt\n",
    "import numpy as np\n",
    "\n",
    "from sklearn.model_selection import (train_test_split,KFold)\n",
    "from sklearn.metrics import mean_squared_error\n",
    "from sklearn.neural_network import MLPRegressor\n",
    "from sklearn.preprocessing import StandardScaler\n",
    "from sklearn.preprocessing import LabelBinarizer\n",
    "from sklearn import svm\n",
    "from sklearn.svm import SVC\n",
    "\n",
    "from sklearn.discriminant_analysis import LinearDiscriminantAnalysis as LDA\n",
    "from sklearn.discriminant_analysis import QuadraticDiscriminantAnalysis as QDA\n",
    "from sklearn.neural_network import MLPClassifier\n",
    "from sklearn import metrics\n",
    "from sklearn.naive_bayes import GaussianNB\n",
    "from sklearn.metrics import roc_curve, roc_auc_score\n",
    "\n",
    "import matplotlib.pyplot as plt\n",
    "import glob\n",
    "import math"
   ]
  },
  {
   "cell_type": "code",
   "execution_count": 2,
   "metadata": {
    "collapsed": true
   },
   "outputs": [],
   "source": [
    "data07=pd.read_csv(\"TEDS-D-2007-DS0001-data-excel.tsv\", sep='\\t')\n",
    "data08=pd.read_csv(\"TEDS-D-2008-DS0001-data-excel.tsv\", sep='\\t')\n",
    "data09=pd.read_csv(\"TEDS-D-2009-DS0001-data-excel.tsv\", sep='\\t')\n",
    "data10=pd.read_csv(\"TEDS-D-2010-DS0001-data-excel.tsv\", sep='\\t')\n",
    "data11=pd.read_csv(\"TEDS-D-2011-DS0001-data-excel.tsv\", sep='\\t')\n",
    "data12=pd.read_csv(\"TEDS-D-2012-DS0001-data-excel.csv\")"
   ]
  },
  {
   "cell_type": "code",
   "execution_count": 3,
   "metadata": {
    "collapsed": true
   },
   "outputs": [],
   "source": [
    "sample07=data07.sample(n=15000)\n",
    "sample08=data08.sample(n=15000)\n",
    "sample09=data09.sample(n=15000)\n",
    "sample10=data10.sample(n=15000)\n",
    "sample11=data11.sample(n=15000)\n",
    "sample12=data12.sample(n=15000)"
   ]
  },
  {
   "cell_type": "code",
   "execution_count": 4,
   "metadata": {
    "collapsed": true
   },
   "outputs": [],
   "source": [
    "frames=[sample07,sample08,sample09,sample10,sample11,sample12]\n",
    "full_data=pd.concat(frames)"
   ]
  },
  {
   "cell_type": "code",
   "execution_count": 5,
   "metadata": {},
   "outputs": [
    {
     "data": {
      "text/plain": [
       "0    49158\n",
       "1    40842\n",
       "Name: REASON, dtype: int64"
      ]
     },
     "execution_count": 5,
     "metadata": {},
     "output_type": "execute_result"
    }
   ],
   "source": [
    "#convert age to mean age--one less dummy\n",
    "age_dict={2:13, 3:16, 4:19, 5:23, 6:27, 7:32, 8:37, 9:42, 10:47, 11:52, 12:55}\n",
    "def group_age(s):\n",
    "    if s in age_dict.keys():\n",
    "        return age_dict[s]\n",
    "full_data['AGE']=full_data['AGE'].map(group_age)\n",
    "\n",
    "#delete CASEID column\n",
    "del full_data['CASEID']\n",
    "\n",
    "#update REASON column to just 0 or 1's\n",
    "#updating reason column to just 1 and 0's \n",
    "def reason_func(s):\n",
    "    if s==1:\n",
    "        return 1\n",
    "    else:\n",
    "        return 0\n",
    "    #question- should those be strings or integers?\n",
    "    \n",
    "##replace NANs with -9\n",
    "full_data=full_data.replace(np.nan, '-9')\n",
    "\n",
    "full_data['REASON']=full_data['REASON'].map(reason_func)\n",
    "full_data['REASON'].value_counts()"
   ]
  },
  {
   "cell_type": "code",
   "execution_count": 6,
   "metadata": {
    "scrolled": true
   },
   "outputs": [
    {
     "name": "stderr",
     "output_type": "stream",
     "text": [
      "C:\\Users\\yanni\\Anaconda2\\lib\\site-packages\\ipykernel_launcher.py:13: SettingWithCopyWarning: \n",
      "A value is trying to be set on a copy of a slice from a DataFrame.\n",
      "Try using .loc[row_indexer,col_indexer] = value instead\n",
      "\n",
      "See the caveats in the documentation: http://pandas.pydata.org/pandas-docs/stable/indexing.html#indexing-view-versus-copy\n",
      "  del sys.path[0]\n"
     ]
    },
    {
     "data": {
      "text/plain": [
       "ALCDRUG     object\n",
       "ALCFLG      object\n",
       "AMPHFLG     object\n",
       "BARBFLG     object\n",
       "BENZFLG     object\n",
       "CBSA        object\n",
       "COKEFLG     object\n",
       "DETCRIM     object\n",
       "DETNLF      object\n",
       "DISYR       object\n",
       "DIVISION    object\n",
       "DSMCRIT     object\n",
       "EDUC        object\n",
       "EMPLOY      object\n",
       "ETHNIC      object\n",
       "FREQ1       object\n",
       "FREQ2       object\n",
       "FREQ3       object\n",
       "FRSTUSE1    object\n",
       "FRSTUSE2    object\n",
       "FRSTUSE3    object\n",
       "GENDER      object\n",
       "HALLFLG     object\n",
       "HERFLG      object\n",
       "HLTHINS     object\n",
       "IDU         object\n",
       "INHFLG      object\n",
       "LIVARAG     object\n",
       "MARFLG      object\n",
       "MARSTAT     object\n",
       "METHFLG     object\n",
       "METHUSE     object\n",
       "MTHAMFLG    object\n",
       "OPSYNFLG    object\n",
       "OTCFLG      object\n",
       "OTHERFLG    object\n",
       "PCPFLG      object\n",
       "PMSA        object\n",
       "PREG        object\n",
       "PRIMINC     object\n",
       "PRIMPAY     object\n",
       "PSOURCE     object\n",
       "PSYPROB     object\n",
       "RACE        object\n",
       "REGION      object\n",
       "ROUTE1      object\n",
       "ROUTE2      object\n",
       "ROUTE3      object\n",
       "SEDHPFLG    object\n",
       "SERVSETD    object\n",
       "STFIPS      object\n",
       "STIMFLG     object\n",
       "SUB1        object\n",
       "SUB2        object\n",
       "SUB3        object\n",
       "TRNQFLG     object\n",
       "VET         object\n",
       "dtype: object"
      ]
     },
     "execution_count": 6,
     "metadata": {},
     "output_type": "execute_result"
    }
   ],
   "source": [
    "collist = full_data.columns.tolist()\n",
    "collist.remove('ARRESTS')\n",
    "collist.remove('DAYWAIT')\n",
    "collist.remove('NOPRIOR')\n",
    "collist.remove('NUMSUBS')\n",
    "collist.remove('AGE')\n",
    "collist.remove('LOS')\n",
    "collist.remove('REASON')\n",
    "cat_df = full_data[collist]\n",
    "\n",
    "#make these numbers strings so that get dummies will work\n",
    "for i in cat_df.columns:\n",
    "    cat_df[i]=cat_df[i].astype(str)\n",
    "cat_df.dtypes"
   ]
  },
  {
   "cell_type": "code",
   "execution_count": 7,
   "metadata": {
    "collapsed": true
   },
   "outputs": [],
   "source": [
    "df_with_dummies = pd.get_dummies( cat_df , prefix=cat_df.columns.tolist())\n",
    "#df_with_dummies = pd.get_dummies( fake_num , prefix=fake_num.columns.tolist())"
   ]
  },
  {
   "cell_type": "code",
   "execution_count": 8,
   "metadata": {
    "scrolled": true
   },
   "outputs": [
    {
     "name": "stdout",
     "output_type": "stream",
     "text": [
      "num of dummy columns 897\n"
     ]
    },
    {
     "data": {
      "text/html": [
       "<div>\n",
       "<style>\n",
       "    .dataframe thead tr:only-child th {\n",
       "        text-align: right;\n",
       "    }\n",
       "\n",
       "    .dataframe thead th {\n",
       "        text-align: left;\n",
       "    }\n",
       "\n",
       "    .dataframe tbody tr th {\n",
       "        vertical-align: top;\n",
       "    }\n",
       "</style>\n",
       "<table border=\"1\" class=\"dataframe\">\n",
       "  <thead>\n",
       "    <tr style=\"text-align: right;\">\n",
       "      <th></th>\n",
       "      <th>ALCDRUG_0</th>\n",
       "      <th>ALCDRUG_1</th>\n",
       "      <th>ALCDRUG_2</th>\n",
       "      <th>ALCDRUG_3</th>\n",
       "      <th>ALCFLG_0</th>\n",
       "      <th>ALCFLG_1</th>\n",
       "      <th>AMPHFLG_0</th>\n",
       "      <th>AMPHFLG_1</th>\n",
       "      <th>BARBFLG_0</th>\n",
       "      <th>BARBFLG_1</th>\n",
       "      <th>...</th>\n",
       "      <th>SUB3_5</th>\n",
       "      <th>SUB3_6</th>\n",
       "      <th>SUB3_7</th>\n",
       "      <th>SUB3_8</th>\n",
       "      <th>SUB3_9</th>\n",
       "      <th>TRNQFLG_0</th>\n",
       "      <th>TRNQFLG_1</th>\n",
       "      <th>VET_-9</th>\n",
       "      <th>VET_1</th>\n",
       "      <th>VET_2</th>\n",
       "    </tr>\n",
       "  </thead>\n",
       "  <tbody>\n",
       "    <tr>\n",
       "      <th>506800</th>\n",
       "      <td>0</td>\n",
       "      <td>0</td>\n",
       "      <td>0</td>\n",
       "      <td>1</td>\n",
       "      <td>0</td>\n",
       "      <td>1</td>\n",
       "      <td>1</td>\n",
       "      <td>0</td>\n",
       "      <td>1</td>\n",
       "      <td>0</td>\n",
       "      <td>...</td>\n",
       "      <td>0</td>\n",
       "      <td>0</td>\n",
       "      <td>0</td>\n",
       "      <td>0</td>\n",
       "      <td>0</td>\n",
       "      <td>1</td>\n",
       "      <td>0</td>\n",
       "      <td>0</td>\n",
       "      <td>0</td>\n",
       "      <td>1</td>\n",
       "    </tr>\n",
       "    <tr>\n",
       "      <th>547039</th>\n",
       "      <td>0</td>\n",
       "      <td>0</td>\n",
       "      <td>0</td>\n",
       "      <td>1</td>\n",
       "      <td>0</td>\n",
       "      <td>1</td>\n",
       "      <td>1</td>\n",
       "      <td>0</td>\n",
       "      <td>1</td>\n",
       "      <td>0</td>\n",
       "      <td>...</td>\n",
       "      <td>0</td>\n",
       "      <td>0</td>\n",
       "      <td>0</td>\n",
       "      <td>0</td>\n",
       "      <td>0</td>\n",
       "      <td>1</td>\n",
       "      <td>0</td>\n",
       "      <td>0</td>\n",
       "      <td>0</td>\n",
       "      <td>1</td>\n",
       "    </tr>\n",
       "  </tbody>\n",
       "</table>\n",
       "<p>2 rows × 897 columns</p>\n",
       "</div>"
      ],
      "text/plain": [
       "        ALCDRUG_0  ALCDRUG_1  ALCDRUG_2  ALCDRUG_3  ALCFLG_0  ALCFLG_1  \\\n",
       "506800          0          0          0          1         0         1   \n",
       "547039          0          0          0          1         0         1   \n",
       "\n",
       "        AMPHFLG_0  AMPHFLG_1  BARBFLG_0  BARBFLG_1  ...    SUB3_5  SUB3_6  \\\n",
       "506800          1          0          1          0  ...         0       0   \n",
       "547039          1          0          1          0  ...         0       0   \n",
       "\n",
       "        SUB3_7  SUB3_8  SUB3_9  TRNQFLG_0  TRNQFLG_1  VET_-9  VET_1  VET_2  \n",
       "506800       0       0       0          1          0       0      0      1  \n",
       "547039       0       0       0          1          0       0      0      1  \n",
       "\n",
       "[2 rows x 897 columns]"
      ]
     },
     "execution_count": 8,
     "metadata": {},
     "output_type": "execute_result"
    }
   ],
   "source": [
    "print \"num of dummy columns\", len(df_with_dummies.columns)\n",
    "df_with_dummies[:2]"
   ]
  },
  {
   "cell_type": "code",
   "execution_count": 9,
   "metadata": {},
   "outputs": [
    {
     "data": {
      "text/plain": [
       "Index([u'FRSTUSE3_5', u'FRSTUSE3_6', u'FRSTUSE3_7', u'FRSTUSE3_8',\n",
       "       u'FRSTUSE3_9', u'GENDER_-9', u'GENDER_1', u'GENDER_2', u'HALLFLG_0',\n",
       "       u'HALLFLG_1', u'HERFLG_0', u'HERFLG_1', u'HLTHINS_-9', u'HLTHINS_1',\n",
       "       u'HLTHINS_2', u'HLTHINS_3', u'HLTHINS_4', u'IDU_-8', u'IDU_-9',\n",
       "       u'IDU_0', u'IDU_1', u'INHFLG_0', u'INHFLG_1', u'LIVARAG_-9',\n",
       "       u'LIVARAG_1', u'LIVARAG_2', u'LIVARAG_3', u'MARFLG_0', u'MARFLG_1',\n",
       "       u'MARSTAT_-9', u'MARSTAT_1', u'MARSTAT_2', u'MARSTAT_3', u'MARSTAT_4',\n",
       "       u'METHFLG_0', u'METHFLG_1', u'METHUSE_-9', u'METHUSE_1', u'METHUSE_2',\n",
       "       u'MTHAMFLG_0', u'MTHAMFLG_1', u'OPSYNFLG_0', u'OPSYNFLG_1', u'OTCFLG_0',\n",
       "       u'OTCFLG_1', u'OTHERFLG_0', u'OTHERFLG_1', u'PCPFLG_0', u'PCPFLG_1',\n",
       "       u'PMSA_-9', u'PMSA_1000', u'PMSA_1040', u'PMSA_1080', u'PMSA_1123',\n",
       "       u'PMSA_1125', u'PMSA_1145', u'PMSA_1150', u'PMSA_1240', u'PMSA_1260',\n",
       "       u'PMSA_1280', u'PMSA_1303', u'PMSA_1310', u'PMSA_1320', u'PMSA_1360',\n",
       "       u'PMSA_1400', u'PMSA_1440', u'PMSA_1520', u'PMSA_1540', u'PMSA_1560',\n",
       "       u'PMSA_160', u'PMSA_1600', u'PMSA_1620', u'PMSA_1640', u'PMSA_1660',\n",
       "       u'PMSA_1680', u'PMSA_1720', u'PMSA_1740', u'PMSA_1760', u'PMSA_1840',\n",
       "       u'PMSA_1880', u'PMSA_1900', u'PMSA_1920', u'PMSA_1950', u'PMSA_1960',\n",
       "       u'PMSA_200', u'PMSA_2000', u'PMSA_2020', u'PMSA_2030', u'PMSA_2040',\n",
       "       u'PMSA_2080', u'PMSA_2120', u'PMSA_2160', u'PMSA_2180', u'PMSA_2190',\n",
       "       u'PMSA_220', u'PMSA_2240', u'PMSA_2281', u'PMSA_2320', u'PMSA_2400',\n",
       "       u'PMSA_2440'],\n",
       "      dtype='object')"
      ]
     },
     "execution_count": 9,
     "metadata": {},
     "output_type": "execute_result"
    }
   ],
   "source": [
    "#add back the numeric columns (age, arrests, daywait, no prior, numsubs)\n",
    "data=df_with_dummies\n",
    "data['AGE']=full_data['AGE']\n",
    "data['ARRESTS']=full_data['ARRESTS']\n",
    "data['DAYWAIT']=full_data['DAYWAIT']\n",
    "data['NOPRIOR']=full_data['NOPRIOR']\n",
    "data['NUMSUBS']=full_data['NUMSUBS']\n",
    "data['LOS']=full_data['LOS']\n",
    "data['REASON']=full_data['REASON']\n",
    "\n",
    "\n",
    "data.columns[400:500]"
   ]
  },
  {
   "cell_type": "markdown",
   "metadata": {},
   "source": [
    "**Length of Stay** \n",
    "Problem: LOS should NOT be a dummy when predicting it... too many columns"
   ]
  },
  {
   "cell_type": "markdown",
   "metadata": {},
   "source": [
    "**Reason**"
   ]
  },
  {
   "cell_type": "code",
   "execution_count": 10,
   "metadata": {
    "collapsed": true
   },
   "outputs": [],
   "source": [
    "X=data[data.columns[data.columns!='REASON']]\n",
    "y=data['REASON']\n",
    "\n",
    "#X.columns\n",
    "X_train, X_test, y_train, y_test = train_test_split(X,y,test_size = 0.33, random_state=42)"
   ]
  },
  {
   "cell_type": "code",
   "execution_count": 11,
   "metadata": {
    "collapsed": true
   },
   "outputs": [],
   "source": [
    "svm = svm.SVC(gamma=0.001, C=100.)"
   ]
  },
  {
   "cell_type": "code",
   "execution_count": 12,
   "metadata": {},
   "outputs": [
    {
     "data": {
      "text/plain": [
       "SVC(C=100.0, cache_size=200, class_weight=None, coef0=0.0,\n",
       "  decision_function_shape=None, degree=3, gamma=0.001, kernel='rbf',\n",
       "  max_iter=-1, probability=False, random_state=None, shrinking=True,\n",
       "  tol=0.001, verbose=False)"
      ]
     },
     "execution_count": 12,
     "metadata": {},
     "output_type": "execute_result"
    }
   ],
   "source": [
    "svm.fit(X_train, y_train)  "
   ]
  },
  {
   "cell_type": "code",
   "execution_count": 13,
   "metadata": {},
   "outputs": [
    {
     "data": {
      "text/plain": [
       "0.73050505050505055"
      ]
     },
     "execution_count": 13,
     "metadata": {},
     "output_type": "execute_result"
    }
   ],
   "source": [
    "svm.predict(X_test)\n",
    "svm.score(X_test, y_test)"
   ]
  },
  {
   "cell_type": "code",
   "execution_count": 34,
   "metadata": {},
   "outputs": [
    {
     "data": {
      "text/plain": [
       "0.71444444444444444"
      ]
     },
     "execution_count": 34,
     "metadata": {},
     "output_type": "execute_result"
    }
   ],
   "source": [
    "mlp = MLPClassifier(solver='lbfgs', alpha=1, random_state=1)\n",
    "mlp.fit(X_train, y_train)\n",
    "mlp.predict(X_test)\n",
    "mlp.score(X_test, y_test)"
   ]
  },
  {
   "cell_type": "code",
   "execution_count": 10,
   "metadata": {
    "scrolled": true
   },
   "outputs": [
    {
     "ename": "NameError",
     "evalue": "name 'data_new' is not defined",
     "output_type": "error",
     "traceback": [
      "\u001b[1;31m---------------------------------------------------------------------------\u001b[0m",
      "\u001b[1;31mNameError\u001b[0m                                 Traceback (most recent call last)",
      "\u001b[1;32m<ipython-input-10-df4a111be59e>\u001b[0m in \u001b[0;36m<module>\u001b[1;34m()\u001b[0m\n\u001b[1;32m----> 1\u001b[1;33m \u001b[0mdata_new\u001b[0m\u001b[1;33m[\u001b[0m\u001b[1;34m'FLG TOTAL'\u001b[0m\u001b[1;33m]\u001b[0m \u001b[1;33m=\u001b[0m \u001b[0mdata_new\u001b[0m\u001b[1;33m[\u001b[0m\u001b[1;34m'ALCFLG'\u001b[0m\u001b[1;33m]\u001b[0m\u001b[1;33m+\u001b[0m\u001b[0mdata_new\u001b[0m\u001b[1;33m[\u001b[0m\u001b[1;34m'AMPHFLG'\u001b[0m\u001b[1;33m]\u001b[0m\u001b[1;33m+\u001b[0m\u001b[0mdata_new\u001b[0m\u001b[1;33m[\u001b[0m\u001b[1;34m'BARBFLG'\u001b[0m\u001b[1;33m]\u001b[0m\u001b[1;33m+\u001b[0m\u001b[0mdata_new\u001b[0m\u001b[1;33m[\u001b[0m\u001b[1;34m'BENZFLG'\u001b[0m\u001b[1;33m]\u001b[0m\u001b[1;33m+\u001b[0m\u001b[0mdata_new\u001b[0m\u001b[1;33m[\u001b[0m\u001b[1;34m'COKEFLG'\u001b[0m\u001b[1;33m]\u001b[0m\u001b[1;33m+\u001b[0m\u001b[0mdata_new\u001b[0m\u001b[1;33m[\u001b[0m\u001b[1;34m'HALLFLG'\u001b[0m\u001b[1;33m]\u001b[0m\u001b[1;33m+\u001b[0m\u001b[0mdata_new\u001b[0m\u001b[1;33m[\u001b[0m\u001b[1;34m'HERFLG'\u001b[0m\u001b[1;33m]\u001b[0m\u001b[1;33m+\u001b[0m\u001b[0mdata_new\u001b[0m\u001b[1;33m[\u001b[0m\u001b[1;34m'INHFLG'\u001b[0m\u001b[1;33m]\u001b[0m\u001b[1;33m+\u001b[0m\u001b[0mdata_new\u001b[0m\u001b[1;33m[\u001b[0m\u001b[1;34m'MARFLG'\u001b[0m\u001b[1;33m]\u001b[0m\u001b[1;33m+\u001b[0m\u001b[0mdata_new\u001b[0m\u001b[1;33m[\u001b[0m\u001b[1;34m'METHFLG'\u001b[0m\u001b[1;33m]\u001b[0m\u001b[1;33m+\u001b[0m\u001b[0mdata_new\u001b[0m\u001b[1;33m[\u001b[0m\u001b[1;34m'MTHAMFLG'\u001b[0m\u001b[1;33m]\u001b[0m\u001b[1;33m+\u001b[0m\u001b[0mdata_new\u001b[0m\u001b[1;33m[\u001b[0m\u001b[1;34m'OPSYNFLG'\u001b[0m\u001b[1;33m]\u001b[0m\u001b[1;33m+\u001b[0m\u001b[0mdata_new\u001b[0m\u001b[1;33m[\u001b[0m\u001b[1;34m'OTCFLG'\u001b[0m\u001b[1;33m]\u001b[0m\u001b[1;33m+\u001b[0m\u001b[0mdata_new\u001b[0m\u001b[1;33m[\u001b[0m\u001b[1;34m'OTHERFLG'\u001b[0m\u001b[1;33m]\u001b[0m\u001b[1;33m+\u001b[0m\u001b[0mdata_new\u001b[0m\u001b[1;33m[\u001b[0m\u001b[1;34m'PCPFLG'\u001b[0m\u001b[1;33m]\u001b[0m\u001b[1;33m+\u001b[0m\u001b[0mdata_new\u001b[0m\u001b[1;33m[\u001b[0m\u001b[1;34m'SEDHPFLG'\u001b[0m\u001b[1;33m]\u001b[0m\u001b[1;33m+\u001b[0m\u001b[0mdata_new\u001b[0m\u001b[1;33m[\u001b[0m\u001b[1;34m'STIMFLG'\u001b[0m\u001b[1;33m]\u001b[0m\u001b[1;33m\u001b[0m\u001b[0m\n\u001b[0m",
      "\u001b[1;31mNameError\u001b[0m: name 'data_new' is not defined"
     ]
    }
   ],
   "source": [
    "data_new['FLG TOTAL'] = data_new['ALCFLG']+data_new['AMPHFLG']+data_new['BARBFLG']+data_new['BENZFLG']+data_new['COKEFLG']+\\\n",
    "data_new['HALLFLG']+data_new['HERFLG']+data_new['INHFLG']+data_new['MARFLG']+data_new['METHFLG']+data_new['MTHAMFLG']+\\\n",
    "data_new['OPSYNFLG']+data_new['OTCFLG']+data_new['OTHERFLG']+data_new['PCPFLG']+data_new['SEDHPFLG']+data_new['STIMFLG']"
   ]
  },
  {
   "cell_type": "markdown",
   "metadata": {},
   "source": [
    "## LDA/QDA"
   ]
  },
  {
   "cell_type": "code",
   "execution_count": 38,
   "metadata": {},
   "outputs": [
    {
     "data": {
      "text/plain": [
       "0.69999999999999996"
      ]
     },
     "execution_count": 38,
     "metadata": {},
     "output_type": "execute_result"
    }
   ],
   "source": [
    "llf = LDA(n_components=25)\n",
    "llf.fit(X_train, y_train)\n",
    "prediction_LDA=[]\n",
    "prediction_LDA= llf.predict_proba(X_test)\n",
    "array_LDA=[]\n",
    "for i in prediction_LDA:\n",
    "    array_LDA.append(i[1])\n",
    "    \n",
    "llf.score(X_test, y_test)"
   ]
  },
  {
   "cell_type": "code",
   "execution_count": 26,
   "metadata": {},
   "outputs": [
    {
     "data": {
      "text/plain": [
       "0.50151515151515147"
      ]
     },
     "execution_count": 26,
     "metadata": {},
     "output_type": "execute_result"
    }
   ],
   "source": [
    "qlf = QDA()\n",
    "qlf.fit(X_train, y_train)\n",
    "prediction_QDA=[]\n",
    "prediction_QDA= qlf.predict_proba(X_test)\n",
    "array_QDA=[]\n",
    "for i in prediction_QDA:\n",
    "    array_QDA.append(i[1])\n",
    "    \n",
    "qlf.score(X_test, y_test)"
   ]
  },
  {
   "cell_type": "code",
   "execution_count": 27,
   "metadata": {},
   "outputs": [
    {
     "data": {
      "text/plain": [
       "0.53727272727272724"
      ]
     },
     "execution_count": 27,
     "metadata": {},
     "output_type": "execute_result"
    }
   ],
   "source": [
    "glf = GaussianNB()\n",
    "glf.fit(X_train, y_train)\n",
    "prediction_GDA=[]\n",
    "prediction_GDA= glf.predict_proba(X_test)\n",
    "array_GDA=[]\n",
    "for i in prediction_GDA:\n",
    "    array_GDA.append(i[1])\n",
    "glf.score(X_test, y_test)"
   ]
  },
  {
   "cell_type": "code",
   "execution_count": 22,
   "metadata": {
    "collapsed": true
   },
   "outputs": [],
   "source": [
    "fpr_GDA, tpr_GDA, thresholds_GDA = roc_curve(y_test, array_GDA, pos_label=1)\n",
    "fpr_LDA, tpr_LDA, thresholds_LDA = roc_curve(y_test, array_LDA, pos_label=1)\n",
    "fpr_QDA, tpr_QDA, thresholds_QDA = roc_curve(y_test, array_QDA, pos_label=1)"
   ]
  },
  {
   "cell_type": "code",
   "execution_count": 23,
   "metadata": {},
   "outputs": [
    {
     "data": {
      "image/png": "[encoded data removed]",
      "text/plain": [
       "<matplotlib.figure.Figure at 0x27af37f0>"
      ]
     },
     "metadata": {},
     "output_type": "display_data"
    }
   ],
   "source": [
    "names  = ['NaiveBayes', 'Linear Discriminant', 'Quadratic Discriminant']\n",
    "plt.plot(fpr_GDA, tpr_GDA)\n",
    "plt.plot(fpr_LDA, tpr_LDA)\n",
    "plt.plot(fpr_QDA, tpr_QDA)\n",
    "plt.legend(names)\n",
    "plt.show()"
   ]
  },
  {
   "cell_type": "code",
   "execution_count": 24,
   "metadata": {
    "scrolled": true
   },
   "outputs": [
    {
     "name": "stdout",
     "output_type": "stream",
     "text": [
      "Naive Bayes ROC area under the curve is = 0.582811149687\n",
      "Quadratic Discriminator ROC area under the curve is = 0.542141731089\n",
      "Linear Discriminator ROC area under the curve is = 0.768248659012\n"
     ]
    }
   ],
   "source": [
    "GDAROC = roc_auc_score(y_test, array_GDA)\n",
    "LDAROC = roc_auc_score(y_test, array_LDA)\n",
    "QDAROC = roc_auc_score(y_test, array_QDA)\n",
    "\n",
    "print 'Naive Bayes ROC area under the curve is =', GDAROC\n",
    "print 'Quadratic Discriminator ROC area under the curve is =', QDAROC\n",
    "print 'Linear Discriminator ROC area under the curve is =', LDAROC"
   ]
  },
  {
   "cell_type": "code",
   "execution_count": 16,
   "metadata": {},
   "outputs": [
    {
     "data": {
      "text/plain": [
       "0.75289562289562284"
      ]
     },
     "execution_count": 16,
     "metadata": {},
     "output_type": "execute_result"
    }
   ],
   "source": [
    "from sklearn.ensemble import GradientBoostingClassifier\n",
    "gbc=GradientBoostingClassifier(learning_rate=0.3, n_estimators=175, max_depth = 7)\n",
    "gbc=gbc.fit(X_train, y_train)\n",
    "sc_val = gbc.score(X_test, y_test)\n",
    "sc_val"
   ]
  },
  {
   "cell_type": "markdown",
   "metadata": {},
   "source": [
    "# LOS"
   ]
  },
  {
   "cell_type": "code",
   "execution_count": 22,
   "metadata": {},
   "outputs": [
    {
     "data": {
      "text/plain": [
       "1     10061\n",
       "2      3751\n",
       "36     3022\n",
       "33     2826\n",
       "35     2699\n",
       "34     2392\n",
       "31     2181\n",
       "32     1759\n",
       "37     1309\n",
       "Name: LOS, dtype: int64"
      ]
     },
     "execution_count": 22,
     "metadata": {},
     "output_type": "execute_result"
    }
   ],
   "source": [
    "los_dict={1:38, 32:53, 33:76, 34:106, 35:151, 36:273, 37:366}\n",
    "#bins: 1-15, 16-30, 31-45, 46-60, 61-90, 91-120, 121-180, 181-365, 366+\n",
    "data['LOS'].value_counts()\n",
    "\n",
    "def fix_LOS(s):\n",
    "    if s in [1,2,3,4,5,6,7,8,9,10,11,12,13,14,15]:\n",
    "        return 1\n",
    "    if s in [16,17,18,19,20,21,22,23,24,25,26,27,28,29,30]:\n",
    "        return 2\n",
    "    else:\n",
    "        return s\n",
    "data['LOS']=data['LOS'].map(fix_LOS)\n",
    "data['LOS'].value_counts()"
   ]
  },
  {
   "cell_type": "code",
   "execution_count": 23,
   "metadata": {
    "collapsed": true
   },
   "outputs": [],
   "source": [
    "X_los=data[data.columns[data.columns!='LOS']]\n",
    "y_los=data['LOS']\n",
    "\n",
    "#X.columns\n",
    "X_train_los, X_test_los, y_train_los, y_test_los = train_test_split(X_los,y_los,test_size = 0.33, random_state=42)"
   ]
  },
  {
   "cell_type": "code",
   "execution_count": 15,
   "metadata": {},
   "outputs": [
    {
     "data": {
      "text/plain": [
       "0.41585858585858587"
      ]
     },
     "execution_count": 15,
     "metadata": {},
     "output_type": "execute_result"
    }
   ],
   "source": [
    "mlp = MLPClassifier(solver='lbfgs', alpha=1, random_state=1)\n",
    "mlp.fit(X_train_los, y_train_los)\n",
    "mlp.score(X_test_los, y_test_los)"
   ]
  },
  {
   "cell_type": "code",
   "execution_count": 16,
   "metadata": {},
   "outputs": [
    {
     "name": "stderr",
     "output_type": "stream",
     "text": [
      "C:\\Users\\yanni\\Anaconda2\\lib\\site-packages\\sklearn\\discriminant_analysis.py:387: UserWarning: Variables are collinear.\n",
      "  warnings.warn(\"Variables are collinear.\")\n"
     ]
    },
    {
     "data": {
      "text/plain": [
       "0.39464646464646463"
      ]
     },
     "execution_count": 16,
     "metadata": {},
     "output_type": "execute_result"
    }
   ],
   "source": [
    "lll = LDA()\n",
    "lll.fit(X_train_los, y_train_los)\n",
    "lll.score(X_test_los, y_test_los)"
   ]
  },
  {
   "cell_type": "code",
   "execution_count": 17,
   "metadata": {
    "scrolled": true
   },
   "outputs": [
    {
     "data": {
      "text/plain": [
       "0.40656565656565657"
      ]
     },
     "execution_count": 17,
     "metadata": {},
     "output_type": "execute_result"
    }
   ],
   "source": [
    "from sklearn.ensemble import BaggingClassifier\n",
    "bg=BaggingClassifier()\n",
    "bg=bg.fit(X_train_los, y_train_los)\n",
    "bg.score(X_test_los, y_test_los)"
   ]
  },
  {
   "cell_type": "code",
   "execution_count": 20,
   "metadata": {},
   "outputs": [
    {
     "data": {
      "text/plain": [
       "0.37878787878787878"
      ]
     },
     "execution_count": 20,
     "metadata": {},
     "output_type": "execute_result"
    }
   ],
   "source": [
    "from sklearn.ensemble import RandomForestClassifier\n",
    "rfc=RandomForestClassifier()\n",
    "rfc=rfc.fit(X_train_los, y_train_los)\n",
    "sc_val = rfc.score(X_test_los, y_test_los)\n",
    "sc_val"
   ]
  },
  {
   "cell_type": "code",
   "execution_count": 23,
   "metadata": {},
   "outputs": [
    {
     "data": {
      "text/plain": [
       "0.40979797979797977"
      ]
     },
     "execution_count": 23,
     "metadata": {},
     "output_type": "execute_result"
    }
   ],
   "source": [
    "from sklearn.ensemble import AdaBoostClassifier\n",
    "ada=AdaBoostClassifier()\n",
    "ada=ada.fit(X_train_los, y_train_los)\n",
    "sc_val = ada.score(X_test_los, y_test_los)\n",
    "sc_val"
   ]
  },
  {
   "cell_type": "code",
   "execution_count": 24,
   "metadata": {},
   "outputs": [
    {
     "data": {
      "text/plain": [
       "0.42747474747474745"
      ]
     },
     "execution_count": 24,
     "metadata": {},
     "output_type": "execute_result"
    }
   ],
   "source": [
    "from sklearn.ensemble import GradientBoostingClassifier\n",
    "gbc=GradientBoostingClassifier()\n",
    "gbc=gbc.fit(X_train_los, y_train_los)\n",
    "sc_val = gbc.score(X_test_los, y_test_los)\n",
    "sc_val"
   ]
  },
  {
   "cell_type": "code",
   "execution_count": 15,
   "metadata": {},
   "outputs": [
    {
     "name": "stdout",
     "output_type": "stream",
     "text": [
      "Best score 0.38898989899 Depth 14 Number Estimators 35\n"
     ]
    }
   ],
   "source": [
    "from sklearn.ensemble import RandomForestClassifier\n",
    "max_rf = 0\n",
    "max_rfest = 0\n",
    "max_rfdep=0\n",
    "for i in range(5,50,5):\n",
    "    for x in range(1, 15):\n",
    "        rfc=RandomForestClassifier(n_estimators=i, max_depth=x)\n",
    "        rfc=rfc.fit(X_train_los, y_train_los)\n",
    "        sc_val = rfc.score(X_test_los, y_test_los)\n",
    "        if sc_val > max_rf:\n",
    "            max_rf = sc_val\n",
    "            max_rfest = i\n",
    "            max_rfdep = x \n",
    "print \"Best score\", max_rf, \"Depth\", max_rfdep, \"Number Estimators\", max_rfest"
   ]
  },
  {
   "cell_type": "code",
   "execution_count": null,
   "metadata": {},
   "outputs": [
    {
     "name": "stdout",
     "output_type": "stream",
     "text": [
      "Best score 0.406161616162 Learning Rate 0.7 Number Estimators 150\n"
     ]
    }
   ],
   "source": [
    "from sklearn.ensemble import AdaBoostClassifier\n",
    "max_sc = 0\n",
    "max_est = 0\n",
    "max_learn=0\n",
    "for i in range(25,225,25):\n",
    "    for x in [0.1,0.2,0.3,0.4,0.5,0.6,0.7,0.8,0.9,1]:\n",
    "        ada=AdaBoostClassifier(n_estimators=i, learning_rate=x)\n",
    "        ada=ada.fit(X_train_los, y_train_los)\n",
    "        sc_val = ada.score(X_test_los, y_test_los)\n",
    "        if sc_val > max_sc:\n",
    "            max_sc = sc_val\n",
    "            max_est = i\n",
    "            max_learn = x\n",
    "            \n",
    "print \"Best score\", max_sc, \"Learning Rate\", max_learn, \"Number Estimators\", max_est"
   ]
  },
  {
   "cell_type": "code",
   "execution_count": 24,
   "metadata": {},
   "outputs": [
    {
     "ename": "KeyboardInterrupt",
     "evalue": "",
     "output_type": "error",
     "traceback": [
      "\u001b[1;31m---------------------------------------------------------------------------\u001b[0m",
      "\u001b[1;31mKeyboardInterrupt\u001b[0m                         Traceback (most recent call last)",
      "\u001b[1;32m<ipython-input-24-1cadb2b9550b>\u001b[0m in \u001b[0;36m<module>\u001b[1;34m()\u001b[0m\n\u001b[0;32m      6\u001b[0m     \u001b[1;32mfor\u001b[0m \u001b[0mx\u001b[0m \u001b[1;32min\u001b[0m \u001b[1;33m[\u001b[0m\u001b[1;36m0.1\u001b[0m\u001b[1;33m,\u001b[0m\u001b[1;36m0.2\u001b[0m\u001b[1;33m,\u001b[0m\u001b[1;36m0.3\u001b[0m\u001b[1;33m,\u001b[0m\u001b[1;36m0.4\u001b[0m\u001b[1;33m,\u001b[0m\u001b[1;36m0.5\u001b[0m\u001b[1;33m,\u001b[0m\u001b[1;36m0.6\u001b[0m\u001b[1;33m,\u001b[0m\u001b[1;36m0.7\u001b[0m\u001b[1;33m,\u001b[0m\u001b[1;36m0.8\u001b[0m\u001b[1;33m,\u001b[0m\u001b[1;36m0.9\u001b[0m\u001b[1;33m,\u001b[0m\u001b[1;36m1\u001b[0m\u001b[1;33m]\u001b[0m\u001b[1;33m:\u001b[0m\u001b[1;33m\u001b[0m\u001b[0m\n\u001b[0;32m      7\u001b[0m         \u001b[0mgbc\u001b[0m\u001b[1;33m=\u001b[0m\u001b[0mGradientBoostingClassifier\u001b[0m\u001b[1;33m(\u001b[0m\u001b[0mn_estimators\u001b[0m\u001b[1;33m=\u001b[0m\u001b[0mi\u001b[0m\u001b[1;33m,\u001b[0m \u001b[0mlearning_rate\u001b[0m\u001b[1;33m=\u001b[0m\u001b[0mx\u001b[0m\u001b[1;33m)\u001b[0m\u001b[1;33m\u001b[0m\u001b[0m\n\u001b[1;32m----> 8\u001b[1;33m         \u001b[0mgbc\u001b[0m\u001b[1;33m=\u001b[0m\u001b[0mgbc\u001b[0m\u001b[1;33m.\u001b[0m\u001b[0mfit\u001b[0m\u001b[1;33m(\u001b[0m\u001b[0mX_train_los\u001b[0m\u001b[1;33m,\u001b[0m \u001b[0my_train_los\u001b[0m\u001b[1;33m)\u001b[0m\u001b[1;33m\u001b[0m\u001b[0m\n\u001b[0m\u001b[0;32m      9\u001b[0m         \u001b[0msc_val\u001b[0m \u001b[1;33m=\u001b[0m \u001b[0mgbc\u001b[0m\u001b[1;33m.\u001b[0m\u001b[0mscore\u001b[0m\u001b[1;33m(\u001b[0m\u001b[0mX_test_los\u001b[0m\u001b[1;33m,\u001b[0m \u001b[0my_test_los\u001b[0m\u001b[1;33m)\u001b[0m\u001b[1;33m\u001b[0m\u001b[0m\n\u001b[0;32m     10\u001b[0m         \u001b[1;32mif\u001b[0m \u001b[0msc_val\u001b[0m \u001b[1;33m>\u001b[0m \u001b[0mmax_gsc\u001b[0m\u001b[1;33m:\u001b[0m\u001b[1;33m\u001b[0m\u001b[0m\n",
      "\u001b[1;32mC:\\Users\\yanni\\Anaconda2\\lib\\site-packages\\sklearn\\ensemble\\gradient_boosting.pyc\u001b[0m in \u001b[0;36mfit\u001b[1;34m(self, X, y, sample_weight, monitor)\u001b[0m\n\u001b[0;32m   1026\u001b[0m         \u001b[1;31m# fit the boosting stages\u001b[0m\u001b[1;33m\u001b[0m\u001b[1;33m\u001b[0m\u001b[0m\n\u001b[0;32m   1027\u001b[0m         n_stages = self._fit_stages(X, y, y_pred, sample_weight, random_state,\n\u001b[1;32m-> 1028\u001b[1;33m                                     begin_at_stage, monitor, X_idx_sorted)\n\u001b[0m\u001b[0;32m   1029\u001b[0m         \u001b[1;31m# change shape of arrays after fit (early-stopping or additional ests)\u001b[0m\u001b[1;33m\u001b[0m\u001b[1;33m\u001b[0m\u001b[0m\n\u001b[0;32m   1030\u001b[0m         \u001b[1;32mif\u001b[0m \u001b[0mn_stages\u001b[0m \u001b[1;33m!=\u001b[0m \u001b[0mself\u001b[0m\u001b[1;33m.\u001b[0m\u001b[0mestimators_\u001b[0m\u001b[1;33m.\u001b[0m\u001b[0mshape\u001b[0m\u001b[1;33m[\u001b[0m\u001b[1;36m0\u001b[0m\u001b[1;33m]\u001b[0m\u001b[1;33m:\u001b[0m\u001b[1;33m\u001b[0m\u001b[0m\n",
      "\u001b[1;32mC:\\Users\\yanni\\Anaconda2\\lib\\site-packages\\sklearn\\ensemble\\gradient_boosting.pyc\u001b[0m in \u001b[0;36m_fit_stages\u001b[1;34m(self, X, y, y_pred, sample_weight, random_state, begin_at_stage, monitor, X_idx_sorted)\u001b[0m\n\u001b[0;32m   1081\u001b[0m             y_pred = self._fit_stage(i, X, y, y_pred, sample_weight,\n\u001b[0;32m   1082\u001b[0m                                      \u001b[0msample_mask\u001b[0m\u001b[1;33m,\u001b[0m \u001b[0mrandom_state\u001b[0m\u001b[1;33m,\u001b[0m \u001b[0mX_idx_sorted\u001b[0m\u001b[1;33m,\u001b[0m\u001b[1;33m\u001b[0m\u001b[0m\n\u001b[1;32m-> 1083\u001b[1;33m                                      X_csc, X_csr)\n\u001b[0m\u001b[0;32m   1084\u001b[0m \u001b[1;33m\u001b[0m\u001b[0m\n\u001b[0;32m   1085\u001b[0m             \u001b[1;31m# track deviance (= loss)\u001b[0m\u001b[1;33m\u001b[0m\u001b[1;33m\u001b[0m\u001b[0m\n",
      "\u001b[1;32mC:\\Users\\yanni\\Anaconda2\\lib\\site-packages\\sklearn\\ensemble\\gradient_boosting.pyc\u001b[0m in \u001b[0;36m_fit_stage\u001b[1;34m(self, i, X, y, y_pred, sample_weight, sample_mask, random_state, X_idx_sorted, X_csc, X_csr)\u001b[0m\n\u001b[0;32m    785\u001b[0m             \u001b[1;32melse\u001b[0m\u001b[1;33m:\u001b[0m\u001b[1;33m\u001b[0m\u001b[0m\n\u001b[0;32m    786\u001b[0m                 tree.fit(X, residual, sample_weight=sample_weight,\n\u001b[1;32m--> 787\u001b[1;33m                          check_input=False, X_idx_sorted=X_idx_sorted)\n\u001b[0m\u001b[0;32m    788\u001b[0m \u001b[1;33m\u001b[0m\u001b[0m\n\u001b[0;32m    789\u001b[0m             \u001b[1;31m# update tree leaves\u001b[0m\u001b[1;33m\u001b[0m\u001b[1;33m\u001b[0m\u001b[0m\n",
      "\u001b[1;32mC:\\Users\\yanni\\Anaconda2\\lib\\site-packages\\sklearn\\tree\\tree.pyc\u001b[0m in \u001b[0;36mfit\u001b[1;34m(self, X, y, sample_weight, check_input, X_idx_sorted)\u001b[0m\n\u001b[0;32m   1027\u001b[0m             \u001b[0msample_weight\u001b[0m\u001b[1;33m=\u001b[0m\u001b[0msample_weight\u001b[0m\u001b[1;33m,\u001b[0m\u001b[1;33m\u001b[0m\u001b[0m\n\u001b[0;32m   1028\u001b[0m             \u001b[0mcheck_input\u001b[0m\u001b[1;33m=\u001b[0m\u001b[0mcheck_input\u001b[0m\u001b[1;33m,\u001b[0m\u001b[1;33m\u001b[0m\u001b[0m\n\u001b[1;32m-> 1029\u001b[1;33m             X_idx_sorted=X_idx_sorted)\n\u001b[0m\u001b[0;32m   1030\u001b[0m         \u001b[1;32mreturn\u001b[0m \u001b[0mself\u001b[0m\u001b[1;33m\u001b[0m\u001b[0m\n\u001b[0;32m   1031\u001b[0m \u001b[1;33m\u001b[0m\u001b[0m\n",
      "\u001b[1;32mC:\\Users\\yanni\\Anaconda2\\lib\\site-packages\\sklearn\\tree\\tree.pyc\u001b[0m in \u001b[0;36mfit\u001b[1;34m(self, X, y, sample_weight, check_input, X_idx_sorted)\u001b[0m\n\u001b[0;32m    348\u001b[0m                                            self.min_impurity_split)\n\u001b[0;32m    349\u001b[0m \u001b[1;33m\u001b[0m\u001b[0m\n\u001b[1;32m--> 350\u001b[1;33m         \u001b[0mbuilder\u001b[0m\u001b[1;33m.\u001b[0m\u001b[0mbuild\u001b[0m\u001b[1;33m(\u001b[0m\u001b[0mself\u001b[0m\u001b[1;33m.\u001b[0m\u001b[0mtree_\u001b[0m\u001b[1;33m,\u001b[0m \u001b[0mX\u001b[0m\u001b[1;33m,\u001b[0m \u001b[0my\u001b[0m\u001b[1;33m,\u001b[0m \u001b[0msample_weight\u001b[0m\u001b[1;33m,\u001b[0m \u001b[0mX_idx_sorted\u001b[0m\u001b[1;33m)\u001b[0m\u001b[1;33m\u001b[0m\u001b[0m\n\u001b[0m\u001b[0;32m    351\u001b[0m \u001b[1;33m\u001b[0m\u001b[0m\n\u001b[0;32m    352\u001b[0m         \u001b[1;32mif\u001b[0m \u001b[0mself\u001b[0m\u001b[1;33m.\u001b[0m\u001b[0mn_outputs_\u001b[0m \u001b[1;33m==\u001b[0m \u001b[1;36m1\u001b[0m\u001b[1;33m:\u001b[0m\u001b[1;33m\u001b[0m\u001b[0m\n",
      "\u001b[1;31mKeyboardInterrupt\u001b[0m: "
     ]
    }
   ],
   "source": [
    "from sklearn.ensemble import GradientBoostingClassifier\n",
    "max_gsc = 0\n",
    "max_gest = 0\n",
    "max_glearn=0\n",
    "for i in range(25,225,25):\n",
    "    for x in [0.1,0.2,0.3,0.4,0.5,0.6,0.7,0.8,0.9,1]:\n",
    "        gbc=GradientBoostingClassifier(n_estimators=i, learning_rate=x)\n",
    "        gbc=gbc.fit(X_train_los, y_train_los)\n",
    "        sc_val = gbc.score(X_test_los, y_test_los)\n",
    "        if sc_val > max_gsc:\n",
    "            max_gsc = sc_val\n",
    "            max_gest = i\n",
    "            max_glearn = x\n",
    "print \"Best score\", max_gsc, \"Learning Rate\", max_glearn, \"Number Estimators\", max_gest"
   ]
  },
  {
   "cell_type": "code",
   "execution_count": null,
   "metadata": {
    "collapsed": true
   },
   "outputs": [],
   "source": [
    "from sklearn.neural_network import MLPClassifier\n",
    "max_msc = 0\n",
    "max_malp = 0\n",
    "max_mlearn=0\n",
    "for i in range(1,1000,100):\n",
    "    for x in [0.0001, 0.001,0.005,0.01,0.05,0.1,0.5,1]:\n",
    "        alp = 1/i\n",
    "        mlp = MLPClassifier(alpha=alp, learning_rate_init=x)\n",
    "        mlp=mlp.fit(X_train_los, y_train_los)\n",
    "        sc_val = mlp.score(X_test_los, y_test_los)\n",
    "        if sc_val > max_msc:\n",
    "            max_msc = sc_val\n",
    "            max_malp = i\n",
    "            max_mlearn = x\n",
    "print \"Best score\", max_msc, \"Alpha\", max_malp, \"Learning Rate\", max_mlearn"
   ]
  }
 ],
 "metadata": {
  "kernelspec": {
   "display_name": "Python 2",
   "language": "python",
   "name": "python2"
  },
  "language_info": {
   "codemirror_mode": {
    "name": "ipython",
    "version": 2
   },
   "file_extension": ".py",
   "mimetype": "text/x-python",
   "name": "python",
   "nbconvert_exporter": "python",
   "pygments_lexer": "ipython2",
   "version": "2.7.13"
  }
 },
 "nbformat": 4,
 "nbformat_minor": 2
}
