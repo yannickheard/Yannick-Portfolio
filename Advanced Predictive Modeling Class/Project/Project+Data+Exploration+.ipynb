{
 "cells": [
  {
   "cell_type": "code",
   "execution_count": 75,
   "metadata": {
    "collapsed": true
   },
   "outputs": [],
   "source": [
    "import pandas as pd \n",
    "data_2013 = pd.read_csv(\"teds_d_2013.csv\")"
   ]
  },
  {
   "cell_type": "markdown",
   "metadata": {},
   "source": [
    "## Codebook ## "
   ]
  },
  {
   "cell_type": "markdown",
   "metadata": {},
   "source": [
    "- Age\n",
    "- Gender\n",
    "- Race \n",
    "- Ethnic \n",
    "- Marstat (Marital Status; 0 - Never married, 1 - Now married, 2 - Separated, 3 - Divorced, -9 - missing) \n",
    "- EDU (Education; 1 - 8 yrs or less, 2 - 9-11, 3 - 12, 4 - 13-15, 5 - 16 or more, -9 - missing) \n",
    "- EMPLOY (Employment status; 1 - Full time, 2 - Part time, 3 - Unemployed, 4 - Not in labor force, -9 - missing) \n",
    "- DETNLF (Not in labor force detail; 1 - Homemaker, 2 - Student, 3 - Retired, disabled, 4- Other, -9 - missing) \n",
    "- PREG (Pregnant at admission; 1 - yes, 2 - no, -9 - missing) \n",
    "- VET (Veteran status; 1 - yes, 2 - no, -9 - missing) \n",
    "- LIVARAG (LIVING ARRANGEMENT; 1 - HOMELESS, 2 - DEPENDENT LIVING, 3 - INDEPENDENT LIVING, -9 - missing) \n",
    "- PRIMINC (SOURCE OF INCOME/SUPPORT; 1 - WAGES/SALARY, 2 - PUBLIC ASSISTANCE, 3 - RETIREMENT/PENSION, DISABILITY, 20 - Other, 21 - None, -9 - missing) \n",
    "- ARRESTS (NUMBER OF ARRESTS IN 30 DAYS PRIOR TO ADMISSION; 1 - NONE, 2 - Once, 3 - 2 OR MORE TIMES, -9 - missing) \n",
    "- STFIPS (CENSUS STATE FIPS CODE - Texas : 48 (39,695) \n",
    "- CBSA (FIPS 2015 CBSA CODE - code for metro area)\n",
    "- REGION (0 - US JURISDICTION/TERRITORY, 1 - NORTHEAST, 2 - MIDWEST, 3 - SOUTH, 4 - WEST) \n",
    "- DIVISION (CENSUS DIVISION) \n",
    "- SERVSETD (SERVICE SETTING AT DISCHARGE; \n",
    "- METHUSE (MEDICATION-ASSISTED OPIOID THERAPY)\n",
    "- DAYWAIT (DAYS WAITING TO ENTER TREATMENT) \n",
    "- REASON (REASON FOR DISCHARGE) \n",
    "- LOS (LENGTH OF STAY) \n",
    "- PSOURCE (PRINCIPAL SOURCE OF REFERRAL) \n",
    "- DETCRIM: DETAILED CRIMINAL JUSTICE REFERRAL\n",
    "- NOPRIOR: NUMBER OF PRIOR TREATMENT EPISODES\n",
    "- SUB1: SUBSTANCE ABUSE PROBLEM (PRIMARY)\n",
    "- ROUTE1: USUAL ROUTE OF ADMINISTRATION (PRIMARY)\n",
    "- FREQ1: FREQUENCY OF USE (PRIMARY)\n",
    "- FRSTUSE1: AGE AT FIRST USE (PRIMARY)\n",
    "- SUB2: SUBSTANCE ABUSE PROBLEM (SECONDARY)\n",
    "- ROUTE2: USUAL ROUTE OF ADMINISTRATION (SECONDARY)\n",
    "- ALCDRUG: SUBSTANCE ABUSE TYPE\n",
    "- DSMCRIT: DSM DIAGNOSIS (shows what kind of problems) \n",
    "- PSYPROB: PSYCHIATRIC PROBLEM IN ADDITION TO ALCOHOL/DRUG PROBLEM\n",
    "- HLTHINS: HEALTH INSURANCE\n",
    "- PRIMPAY: EXPECTED/ACTUAL PRIMARY SOURCE OF PAYMENT"
   ]
  },
  {
   "cell_type": "code",
   "execution_count": 20,
   "metadata": {},
   "outputs": [
    {
     "data": {
      "text/html": [
       "<div>\n",
       "<style>\n",
       "    .dataframe thead tr:only-child th {\n",
       "        text-align: right;\n",
       "    }\n",
       "\n",
       "    .dataframe thead th {\n",
       "        text-align: left;\n",
       "    }\n",
       "\n",
       "    .dataframe tbody tr th {\n",
       "        vertical-align: top;\n",
       "    }\n",
       "</style>\n",
       "<table border=\"1\" class=\"dataframe\">\n",
       "  <thead>\n",
       "    <tr style=\"text-align: right;\">\n",
       "      <th></th>\n",
       "      <th>CASEID</th>\n",
       "      <th>DISYR</th>\n",
       "      <th>AGE</th>\n",
       "      <th>GENDER</th>\n",
       "      <th>RACE</th>\n",
       "      <th>ETHNIC</th>\n",
       "      <th>MARSTAT</th>\n",
       "      <th>EDUC</th>\n",
       "      <th>EMPLOY</th>\n",
       "      <th>DETNLF</th>\n",
       "      <th>...</th>\n",
       "      <th>BARBFLG</th>\n",
       "      <th>SEDHPFLG</th>\n",
       "      <th>INHFLG</th>\n",
       "      <th>OTCFLG</th>\n",
       "      <th>OTHERFLG</th>\n",
       "      <th>ALCDRUG</th>\n",
       "      <th>DSMCRIT</th>\n",
       "      <th>PSYPROB</th>\n",
       "      <th>HLTHINS</th>\n",
       "      <th>PRIMPAY</th>\n",
       "    </tr>\n",
       "  </thead>\n",
       "  <tbody>\n",
       "    <tr>\n",
       "      <th>0</th>\n",
       "      <td>20130000001</td>\n",
       "      <td>2013</td>\n",
       "      <td>5</td>\n",
       "      <td>1</td>\n",
       "      <td>5</td>\n",
       "      <td>5</td>\n",
       "      <td>1</td>\n",
       "      <td>-9</td>\n",
       "      <td>1</td>\n",
       "      <td>-9</td>\n",
       "      <td>...</td>\n",
       "      <td>0</td>\n",
       "      <td>0</td>\n",
       "      <td>0</td>\n",
       "      <td>0</td>\n",
       "      <td>0</td>\n",
       "      <td>3</td>\n",
       "      <td>7</td>\n",
       "      <td>2</td>\n",
       "      <td>4</td>\n",
       "      <td>-9</td>\n",
       "    </tr>\n",
       "    <tr>\n",
       "      <th>1</th>\n",
       "      <td>20130000002</td>\n",
       "      <td>2013</td>\n",
       "      <td>6</td>\n",
       "      <td>1</td>\n",
       "      <td>4</td>\n",
       "      <td>5</td>\n",
       "      <td>1</td>\n",
       "      <td>-9</td>\n",
       "      <td>3</td>\n",
       "      <td>-9</td>\n",
       "      <td>...</td>\n",
       "      <td>0</td>\n",
       "      <td>0</td>\n",
       "      <td>0</td>\n",
       "      <td>0</td>\n",
       "      <td>1</td>\n",
       "      <td>3</td>\n",
       "      <td>7</td>\n",
       "      <td>2</td>\n",
       "      <td>4</td>\n",
       "      <td>-9</td>\n",
       "    </tr>\n",
       "    <tr>\n",
       "      <th>2</th>\n",
       "      <td>20130000003</td>\n",
       "      <td>2013</td>\n",
       "      <td>6</td>\n",
       "      <td>1</td>\n",
       "      <td>5</td>\n",
       "      <td>5</td>\n",
       "      <td>1</td>\n",
       "      <td>-9</td>\n",
       "      <td>4</td>\n",
       "      <td>5</td>\n",
       "      <td>...</td>\n",
       "      <td>0</td>\n",
       "      <td>0</td>\n",
       "      <td>0</td>\n",
       "      <td>0</td>\n",
       "      <td>1</td>\n",
       "      <td>3</td>\n",
       "      <td>8</td>\n",
       "      <td>1</td>\n",
       "      <td>3</td>\n",
       "      <td>-9</td>\n",
       "    </tr>\n",
       "    <tr>\n",
       "      <th>3</th>\n",
       "      <td>20130000004</td>\n",
       "      <td>2013</td>\n",
       "      <td>9</td>\n",
       "      <td>2</td>\n",
       "      <td>4</td>\n",
       "      <td>5</td>\n",
       "      <td>1</td>\n",
       "      <td>3</td>\n",
       "      <td>4</td>\n",
       "      <td>1</td>\n",
       "      <td>...</td>\n",
       "      <td>0</td>\n",
       "      <td>0</td>\n",
       "      <td>0</td>\n",
       "      <td>0</td>\n",
       "      <td>0</td>\n",
       "      <td>3</td>\n",
       "      <td>7</td>\n",
       "      <td>1</td>\n",
       "      <td>3</td>\n",
       "      <td>-9</td>\n",
       "    </tr>\n",
       "    <tr>\n",
       "      <th>4</th>\n",
       "      <td>20130000005</td>\n",
       "      <td>2013</td>\n",
       "      <td>7</td>\n",
       "      <td>1</td>\n",
       "      <td>5</td>\n",
       "      <td>5</td>\n",
       "      <td>1</td>\n",
       "      <td>-9</td>\n",
       "      <td>3</td>\n",
       "      <td>-9</td>\n",
       "      <td>...</td>\n",
       "      <td>0</td>\n",
       "      <td>0</td>\n",
       "      <td>0</td>\n",
       "      <td>0</td>\n",
       "      <td>0</td>\n",
       "      <td>2</td>\n",
       "      <td>5</td>\n",
       "      <td>2</td>\n",
       "      <td>4</td>\n",
       "      <td>-9</td>\n",
       "    </tr>\n",
       "  </tbody>\n",
       "</table>\n",
       "<p>5 rows × 64 columns</p>\n",
       "</div>"
      ],
      "text/plain": [
       "        CASEID  DISYR  AGE  GENDER  RACE  ETHNIC  MARSTAT  EDUC  EMPLOY  \\\n",
       "0  20130000001   2013    5       1     5       5        1    -9       1   \n",
       "1  20130000002   2013    6       1     4       5        1    -9       3   \n",
       "2  20130000003   2013    6       1     5       5        1    -9       4   \n",
       "3  20130000004   2013    9       2     4       5        1     3       4   \n",
       "4  20130000005   2013    7       1     5       5        1    -9       3   \n",
       "\n",
       "   DETNLF   ...     BARBFLG  SEDHPFLG  INHFLG  OTCFLG  OTHERFLG  ALCDRUG  \\\n",
       "0      -9   ...           0         0       0       0         0        3   \n",
       "1      -9   ...           0         0       0       0         1        3   \n",
       "2       5   ...           0         0       0       0         1        3   \n",
       "3       1   ...           0         0       0       0         0        3   \n",
       "4      -9   ...           0         0       0       0         0        2   \n",
       "\n",
       "   DSMCRIT  PSYPROB  HLTHINS  PRIMPAY  \n",
       "0        7        2        4       -9  \n",
       "1        7        2        4       -9  \n",
       "2        8        1        3       -9  \n",
       "3        7        1        3       -9  \n",
       "4        5        2        4       -9  \n",
       "\n",
       "[5 rows x 64 columns]"
      ]
     },
     "execution_count": 20,
     "metadata": {},
     "output_type": "execute_result"
    }
   ],
   "source": [
    "data_2013.head()"
   ]
  },
  {
   "cell_type": "code",
   "execution_count": 18,
   "metadata": {},
   "outputs": [
    {
     "data": {
      "text/html": [
       "<div>\n",
       "<style>\n",
       "    .dataframe thead tr:only-child th {\n",
       "        text-align: right;\n",
       "    }\n",
       "\n",
       "    .dataframe thead th {\n",
       "        text-align: left;\n",
       "    }\n",
       "\n",
       "    .dataframe tbody tr th {\n",
       "        vertical-align: top;\n",
       "    }\n",
       "</style>\n",
       "<table border=\"1\" class=\"dataframe\">\n",
       "  <thead>\n",
       "    <tr style=\"text-align: right;\">\n",
       "      <th></th>\n",
       "      <th>CASEID</th>\n",
       "      <th>DISYR</th>\n",
       "      <th>AGE</th>\n",
       "      <th>GENDER</th>\n",
       "      <th>RACE</th>\n",
       "      <th>ETHNIC</th>\n",
       "      <th>MARSTAT</th>\n",
       "      <th>EDUC</th>\n",
       "      <th>EMPLOY</th>\n",
       "      <th>DETNLF</th>\n",
       "      <th>...</th>\n",
       "      <th>BARBFLG</th>\n",
       "      <th>SEDHPFLG</th>\n",
       "      <th>INHFLG</th>\n",
       "      <th>OTCFLG</th>\n",
       "      <th>OTHERFLG</th>\n",
       "      <th>ALCDRUG</th>\n",
       "      <th>DSMCRIT</th>\n",
       "      <th>PSYPROB</th>\n",
       "      <th>HLTHINS</th>\n",
       "      <th>PRIMPAY</th>\n",
       "    </tr>\n",
       "  </thead>\n",
       "  <tbody>\n",
       "    <tr>\n",
       "      <th>count</th>\n",
       "      <td>1.601220e+06</td>\n",
       "      <td>1601220.0</td>\n",
       "      <td>1.601220e+06</td>\n",
       "      <td>1.601220e+06</td>\n",
       "      <td>1.601220e+06</td>\n",
       "      <td>1.601220e+06</td>\n",
       "      <td>1.601220e+06</td>\n",
       "      <td>1.601220e+06</td>\n",
       "      <td>1.601220e+06</td>\n",
       "      <td>1.601220e+06</td>\n",
       "      <td>...</td>\n",
       "      <td>1.601220e+06</td>\n",
       "      <td>1.601220e+06</td>\n",
       "      <td>1.601220e+06</td>\n",
       "      <td>1.601220e+06</td>\n",
       "      <td>1.601220e+06</td>\n",
       "      <td>1.601220e+06</td>\n",
       "      <td>1.601220e+06</td>\n",
       "      <td>1.601220e+06</td>\n",
       "      <td>1.601220e+06</td>\n",
       "      <td>1.601220e+06</td>\n",
       "    </tr>\n",
       "    <tr>\n",
       "      <th>mean</th>\n",
       "      <td>2.013080e+10</td>\n",
       "      <td>2013.0</td>\n",
       "      <td>7.451939e+00</td>\n",
       "      <td>1.336657e+00</td>\n",
       "      <td>6.205251e+00</td>\n",
       "      <td>4.543459e+00</td>\n",
       "      <td>-4.877556e-01</td>\n",
       "      <td>2.467763e+00</td>\n",
       "      <td>2.814298e+00</td>\n",
       "      <td>-4.666467e+00</td>\n",
       "      <td>...</td>\n",
       "      <td>1.472627e-03</td>\n",
       "      <td>5.498308e-03</td>\n",
       "      <td>1.736176e-03</td>\n",
       "      <td>2.106519e-03</td>\n",
       "      <td>3.813405e-02</td>\n",
       "      <td>2.123249e+00</td>\n",
       "      <td>-2.857053e+00</td>\n",
       "      <td>-1.049464e+00</td>\n",
       "      <td>-3.555295e+00</td>\n",
       "      <td>-4.372101e+00</td>\n",
       "    </tr>\n",
       "    <tr>\n",
       "      <th>std</th>\n",
       "      <td>4.622812e+05</td>\n",
       "      <td>0.0</td>\n",
       "      <td>2.548074e+00</td>\n",
       "      <td>5.057798e-01</td>\n",
       "      <td>5.017962e+00</td>\n",
       "      <td>1.735288e+00</td>\n",
       "      <td>4.466487e+00</td>\n",
       "      <td>2.428855e+00</td>\n",
       "      <td>1.899517e+00</td>\n",
       "      <td>6.374894e+00</td>\n",
       "      <td>...</td>\n",
       "      <td>3.834657e-02</td>\n",
       "      <td>7.394646e-02</td>\n",
       "      <td>4.163127e-02</td>\n",
       "      <td>4.584848e-02</td>\n",
       "      <td>1.915199e-01</td>\n",
       "      <td>7.466214e-01</td>\n",
       "      <td>7.826644e+00</td>\n",
       "      <td>4.658630e+00</td>\n",
       "      <td>6.032333e+00</td>\n",
       "      <td>6.558596e+00</td>\n",
       "    </tr>\n",
       "    <tr>\n",
       "      <th>min</th>\n",
       "      <td>2.013000e+10</td>\n",
       "      <td>2013.0</td>\n",
       "      <td>2.000000e+00</td>\n",
       "      <td>-9.000000e+00</td>\n",
       "      <td>-9.000000e+00</td>\n",
       "      <td>-9.000000e+00</td>\n",
       "      <td>-9.000000e+00</td>\n",
       "      <td>-9.000000e+00</td>\n",
       "      <td>-9.000000e+00</td>\n",
       "      <td>-9.000000e+00</td>\n",
       "      <td>...</td>\n",
       "      <td>0.000000e+00</td>\n",
       "      <td>0.000000e+00</td>\n",
       "      <td>0.000000e+00</td>\n",
       "      <td>0.000000e+00</td>\n",
       "      <td>0.000000e+00</td>\n",
       "      <td>0.000000e+00</td>\n",
       "      <td>-9.000000e+00</td>\n",
       "      <td>-9.000000e+00</td>\n",
       "      <td>-9.000000e+00</td>\n",
       "      <td>-9.000000e+00</td>\n",
       "    </tr>\n",
       "    <tr>\n",
       "      <th>25%</th>\n",
       "      <td>2.013040e+10</td>\n",
       "      <td>2013.0</td>\n",
       "      <td>6.000000e+00</td>\n",
       "      <td>1.000000e+00</td>\n",
       "      <td>5.000000e+00</td>\n",
       "      <td>5.000000e+00</td>\n",
       "      <td>1.000000e+00</td>\n",
       "      <td>2.000000e+00</td>\n",
       "      <td>3.000000e+00</td>\n",
       "      <td>-9.000000e+00</td>\n",
       "      <td>...</td>\n",
       "      <td>0.000000e+00</td>\n",
       "      <td>0.000000e+00</td>\n",
       "      <td>0.000000e+00</td>\n",
       "      <td>0.000000e+00</td>\n",
       "      <td>0.000000e+00</td>\n",
       "      <td>2.000000e+00</td>\n",
       "      <td>-9.000000e+00</td>\n",
       "      <td>-9.000000e+00</td>\n",
       "      <td>-9.000000e+00</td>\n",
       "      <td>-9.000000e+00</td>\n",
       "    </tr>\n",
       "    <tr>\n",
       "      <th>50%</th>\n",
       "      <td>2.013080e+10</td>\n",
       "      <td>2013.0</td>\n",
       "      <td>7.000000e+00</td>\n",
       "      <td>1.000000e+00</td>\n",
       "      <td>5.000000e+00</td>\n",
       "      <td>5.000000e+00</td>\n",
       "      <td>1.000000e+00</td>\n",
       "      <td>3.000000e+00</td>\n",
       "      <td>3.000000e+00</td>\n",
       "      <td>-9.000000e+00</td>\n",
       "      <td>...</td>\n",
       "      <td>0.000000e+00</td>\n",
       "      <td>0.000000e+00</td>\n",
       "      <td>0.000000e+00</td>\n",
       "      <td>0.000000e+00</td>\n",
       "      <td>0.000000e+00</td>\n",
       "      <td>2.000000e+00</td>\n",
       "      <td>-9.000000e+00</td>\n",
       "      <td>1.000000e+00</td>\n",
       "      <td>-9.000000e+00</td>\n",
       "      <td>-9.000000e+00</td>\n",
       "    </tr>\n",
       "    <tr>\n",
       "      <th>75%</th>\n",
       "      <td>2.013120e+10</td>\n",
       "      <td>2013.0</td>\n",
       "      <td>1.000000e+01</td>\n",
       "      <td>2.000000e+00</td>\n",
       "      <td>5.000000e+00</td>\n",
       "      <td>5.000000e+00</td>\n",
       "      <td>2.000000e+00</td>\n",
       "      <td>3.000000e+00</td>\n",
       "      <td>4.000000e+00</td>\n",
       "      <td>3.000000e+00</td>\n",
       "      <td>...</td>\n",
       "      <td>0.000000e+00</td>\n",
       "      <td>0.000000e+00</td>\n",
       "      <td>0.000000e+00</td>\n",
       "      <td>0.000000e+00</td>\n",
       "      <td>0.000000e+00</td>\n",
       "      <td>3.000000e+00</td>\n",
       "      <td>5.000000e+00</td>\n",
       "      <td>2.000000e+00</td>\n",
       "      <td>3.000000e+00</td>\n",
       "      <td>4.000000e+00</td>\n",
       "    </tr>\n",
       "    <tr>\n",
       "      <th>max</th>\n",
       "      <td>2.013160e+10</td>\n",
       "      <td>2013.0</td>\n",
       "      <td>1.200000e+01</td>\n",
       "      <td>2.000000e+00</td>\n",
       "      <td>2.300000e+01</td>\n",
       "      <td>6.000000e+00</td>\n",
       "      <td>4.000000e+00</td>\n",
       "      <td>5.000000e+00</td>\n",
       "      <td>4.000000e+00</td>\n",
       "      <td>6.000000e+00</td>\n",
       "      <td>...</td>\n",
       "      <td>1.000000e+00</td>\n",
       "      <td>1.000000e+00</td>\n",
       "      <td>1.000000e+00</td>\n",
       "      <td>1.000000e+00</td>\n",
       "      <td>1.000000e+00</td>\n",
       "      <td>3.000000e+00</td>\n",
       "      <td>2.000000e+01</td>\n",
       "      <td>2.000000e+00</td>\n",
       "      <td>4.000000e+00</td>\n",
       "      <td>9.000000e+00</td>\n",
       "    </tr>\n",
       "  </tbody>\n",
       "</table>\n",
       "<p>8 rows × 64 columns</p>\n",
       "</div>"
      ],
      "text/plain": [
       "             CASEID      DISYR           AGE        GENDER          RACE  \\\n",
       "count  1.601220e+06  1601220.0  1.601220e+06  1.601220e+06  1.601220e+06   \n",
       "mean   2.013080e+10     2013.0  7.451939e+00  1.336657e+00  6.205251e+00   \n",
       "std    4.622812e+05        0.0  2.548074e+00  5.057798e-01  5.017962e+00   \n",
       "min    2.013000e+10     2013.0  2.000000e+00 -9.000000e+00 -9.000000e+00   \n",
       "25%    2.013040e+10     2013.0  6.000000e+00  1.000000e+00  5.000000e+00   \n",
       "50%    2.013080e+10     2013.0  7.000000e+00  1.000000e+00  5.000000e+00   \n",
       "75%    2.013120e+10     2013.0  1.000000e+01  2.000000e+00  5.000000e+00   \n",
       "max    2.013160e+10     2013.0  1.200000e+01  2.000000e+00  2.300000e+01   \n",
       "\n",
       "             ETHNIC       MARSTAT          EDUC        EMPLOY        DETNLF  \\\n",
       "count  1.601220e+06  1.601220e+06  1.601220e+06  1.601220e+06  1.601220e+06   \n",
       "mean   4.543459e+00 -4.877556e-01  2.467763e+00  2.814298e+00 -4.666467e+00   \n",
       "std    1.735288e+00  4.466487e+00  2.428855e+00  1.899517e+00  6.374894e+00   \n",
       "min   -9.000000e+00 -9.000000e+00 -9.000000e+00 -9.000000e+00 -9.000000e+00   \n",
       "25%    5.000000e+00  1.000000e+00  2.000000e+00  3.000000e+00 -9.000000e+00   \n",
       "50%    5.000000e+00  1.000000e+00  3.000000e+00  3.000000e+00 -9.000000e+00   \n",
       "75%    5.000000e+00  2.000000e+00  3.000000e+00  4.000000e+00  3.000000e+00   \n",
       "max    6.000000e+00  4.000000e+00  5.000000e+00  4.000000e+00  6.000000e+00   \n",
       "\n",
       "           ...            BARBFLG      SEDHPFLG        INHFLG        OTCFLG  \\\n",
       "count      ...       1.601220e+06  1.601220e+06  1.601220e+06  1.601220e+06   \n",
       "mean       ...       1.472627e-03  5.498308e-03  1.736176e-03  2.106519e-03   \n",
       "std        ...       3.834657e-02  7.394646e-02  4.163127e-02  4.584848e-02   \n",
       "min        ...       0.000000e+00  0.000000e+00  0.000000e+00  0.000000e+00   \n",
       "25%        ...       0.000000e+00  0.000000e+00  0.000000e+00  0.000000e+00   \n",
       "50%        ...       0.000000e+00  0.000000e+00  0.000000e+00  0.000000e+00   \n",
       "75%        ...       0.000000e+00  0.000000e+00  0.000000e+00  0.000000e+00   \n",
       "max        ...       1.000000e+00  1.000000e+00  1.000000e+00  1.000000e+00   \n",
       "\n",
       "           OTHERFLG       ALCDRUG       DSMCRIT       PSYPROB       HLTHINS  \\\n",
       "count  1.601220e+06  1.601220e+06  1.601220e+06  1.601220e+06  1.601220e+06   \n",
       "mean   3.813405e-02  2.123249e+00 -2.857053e+00 -1.049464e+00 -3.555295e+00   \n",
       "std    1.915199e-01  7.466214e-01  7.826644e+00  4.658630e+00  6.032333e+00   \n",
       "min    0.000000e+00  0.000000e+00 -9.000000e+00 -9.000000e+00 -9.000000e+00   \n",
       "25%    0.000000e+00  2.000000e+00 -9.000000e+00 -9.000000e+00 -9.000000e+00   \n",
       "50%    0.000000e+00  2.000000e+00 -9.000000e+00  1.000000e+00 -9.000000e+00   \n",
       "75%    0.000000e+00  3.000000e+00  5.000000e+00  2.000000e+00  3.000000e+00   \n",
       "max    1.000000e+00  3.000000e+00  2.000000e+01  2.000000e+00  4.000000e+00   \n",
       "\n",
       "            PRIMPAY  \n",
       "count  1.601220e+06  \n",
       "mean  -4.372101e+00  \n",
       "std    6.558596e+00  \n",
       "min   -9.000000e+00  \n",
       "25%   -9.000000e+00  \n",
       "50%   -9.000000e+00  \n",
       "75%    4.000000e+00  \n",
       "max    9.000000e+00  \n",
       "\n",
       "[8 rows x 64 columns]"
      ]
     },
     "execution_count": 18,
     "metadata": {},
     "output_type": "execute_result"
    }
   ],
   "source": [
    "data_2013.describe()"
   ]
  },
  {
   "cell_type": "code",
   "execution_count": 5,
   "metadata": {},
   "outputs": [
    {
     "data": {
      "text/plain": [
       "(1601220, 64)"
      ]
     },
     "execution_count": 5,
     "metadata": {},
     "output_type": "execute_result"
    }
   ],
   "source": [
    "data_2013.shape"
   ]
  },
  {
   "cell_type": "code",
   "execution_count": 7,
   "metadata": {},
   "outputs": [
    {
     "data": {
      "text/plain": [
       "False"
      ]
     },
     "execution_count": 7,
     "metadata": {},
     "output_type": "execute_result"
    }
   ],
   "source": [
    "data_2013.isnull().values.any() #No Missing data "
   ]
  },
  {
   "cell_type": "code",
   "execution_count": 76,
   "metadata": {},
   "outputs": [
    {
     "data": {
      "text/plain": [
       "(39695, 64)"
      ]
     },
     "execution_count": 76,
     "metadata": {},
     "output_type": "execute_result"
    }
   ],
   "source": [
    "#Only texas data \n",
    "# texas_data_2013 = data_2013.sample(frac = 0.01, replace = False)\n",
    "texas_data_2013 = data_2013.loc[data_2013['STFIPS'] == 48]\n",
    "texas_data_2013.shape"
   ]
  },
  {
   "cell_type": "code",
   "execution_count": 77,
   "metadata": {},
   "outputs": [
    {
     "data": {
      "text/plain": [
       "Index([u'CASEID', u'DISYR', u'AGE', u'GENDER', u'RACE', u'ETHNIC', u'MARSTAT',\n",
       "       u'EDUC', u'EMPLOY', u'DETNLF', u'PREG', u'VET', u'LIVARAG', u'PRIMINC',\n",
       "       u'ARRESTS', u'STFIPS', u'CBSA', u'REGION', u'DIVISION', u'SERVSETD',\n",
       "       u'METHUSE', u'DAYWAIT', u'REASON', u'LOS', u'PSOURCE', u'DETCRIM',\n",
       "       u'NOPRIOR', u'SUB1', u'ROUTE1', u'FREQ1', u'FRSTUSE1', u'SUB2',\n",
       "       u'ROUTE2', u'FREQ2', u'FRSTUSE2', u'SUB3', u'ROUTE3', u'FREQ3',\n",
       "       u'FRSTUSE3', u'NUMSUBS', u'IDU', u'ALCFLG', u'COKEFLG', u'MARFLG',\n",
       "       u'HERFLG', u'METHFLG', u'OPSYNFLG', u'PCPFLG', u'HALLFLG', u'MTHAMFLG',\n",
       "       u'AMPHFLG', u'STIMFLG', u'BENZFLG', u'TRNQFLG', u'BARBFLG', u'SEDHPFLG',\n",
       "       u'INHFLG', u'OTCFLG', u'OTHERFLG', u'ALCDRUG', u'DSMCRIT', u'PSYPROB',\n",
       "       u'HLTHINS', u'PRIMPAY'],\n",
       "      dtype='object')"
      ]
     },
     "execution_count": 77,
     "metadata": {},
     "output_type": "execute_result"
    }
   ],
   "source": [
    "texas_data_2013.columns"
   ]
  },
  {
   "cell_type": "code",
   "execution_count": 86,
   "metadata": {},
   "outputs": [],
   "source": [
    "#Binarize the reason column to have 1 as success and 0 as unsuccessful \n",
    "reason_no = texas_data_2013[texas_data_2013['REASON'] != 1] \n",
    "texas_data_2013.loc[texas_data_2013['REASON'] > 1, 'REASON'] = 0\n"
   ]
  },
  {
   "cell_type": "code",
   "execution_count": 22,
   "metadata": {},
   "outputs": [
    {
     "data": {
      "text/plain": [
       "<matplotlib.axes._subplots.AxesSubplot at 0x10c91eb10>"
      ]
     },
     "execution_count": 22,
     "metadata": {},
     "output_type": "execute_result"
    },
    {
     "data": {
      "image/png": "[encoded data removed]",
      "text/plain": [
       "<matplotlib.figure.Figure at 0x10c8a0810>"
      ]
     },
     "metadata": {},
     "output_type": "display_data"
    }
   ],
   "source": [
    "#Analyzing LOS - length of stay \n",
    "\n",
    "#Histogram \n",
    "import pandas as pd\n",
    "import matplotlib.pyplot as plt\n",
    "import seaborn as sns\n",
    "import numpy as np\n",
    "from scipy.stats import norm\n",
    "from sklearn.preprocessing import StandardScaler\n",
    "from scipy import stats\n",
    "import warnings\n",
    "warnings.filterwarnings('ignore')\n",
    "%matplotlib inline\n",
    "\n",
    "\n",
    "sns.distplot(texas_data_2013['LOS']) \n",
    "#Deviates from normal distribution \n",
    "#Left Skewed, bi-modal distribution \n",
    "#Show peakness at around 34"
   ]
  },
  {
   "cell_type": "code",
   "execution_count": 63,
   "metadata": {},
   "outputs": [
    {
     "data": {
      "text/plain": [
       "<matplotlib.axes._subplots.AxesSubplot at 0x110955e10>"
      ]
     },
     "execution_count": 63,
     "metadata": {},
     "output_type": "execute_result"
    },
    {
     "data": {
      "image/png": "[encoded data removed]",
      "text/plain": [
       "<matplotlib.figure.Figure at 0x110b99a90>"
      ]
     },
     "metadata": {},
     "output_type": "display_data"
    }
   ],
   "source": [
    "#Analyzing REASON \n",
    "\n",
    "sns.distplot(texas_data_2013['REASON'])\n"
   ]
  },
  {
   "cell_type": "code",
   "execution_count": 64,
   "metadata": {},
   "outputs": [
    {
     "data": {
      "text/plain": [
       "0.5698702607381282"
      ]
     },
     "execution_count": 64,
     "metadata": {},
     "output_type": "execute_result"
    }
   ],
   "source": [
    "reason_1 = texas_data_2013[texas_data_2013['REASON'] == 1]\n",
    "len(reason_1)*1.0 / len(texas_data_2013['REASON'] == 0)\n",
    "#57% of the people have had \"successful\" outcome "
   ]
  },
  {
   "cell_type": "code",
   "execution_count": 44,
   "metadata": {},
   "outputs": [
    {
     "data": {
      "image/png": "[encoded data removed]",
      "text/plain": [
       "<matplotlib.figure.Figure at 0x10aa25cd0>"
      ]
     },
     "metadata": {},
     "output_type": "display_data"
    }
   ],
   "source": [
    "data = pd.concat([texas_data_2013['LOS'], texas_data_2013['FREQ1']], axis=1)\n",
    "f, ax = plt.subplots(figsize=(8, 6))\n",
    "fig = sns.boxplot(x='FREQ1', y=\"LOS\", data=data)\n",
    "fig.axis(ymin=0, ymax=40);\n",
    "\n",
    "#More frequent use does not necessarily correlate to having higher length of stay "
   ]
  },
  {
   "cell_type": "code",
   "execution_count": 47,
   "metadata": {},
   "outputs": [
    {
     "data": {
      "image/png": "[encoded data removed]",
      "text/plain": [
       "<matplotlib.figure.Figure at 0x10e707d50>"
      ]
     },
     "metadata": {},
     "output_type": "display_data"
    }
   ],
   "source": [
    "data_2 = pd.concat([texas_data_2013['LIVARAG'], texas_data_2013['LOS']], axis=1)\n",
    "f, ax = plt.subplots(figsize=(8, 6))\n",
    "fig = sns.boxplot(x='LIVARAG', y=\"LOS\", data=data_2)\n",
    "fig.axis(ymin=0, ymax=40);\n",
    "#I expected having 1=homeless to have longest length of stay, but it turned out not "
   ]
  },
  {
   "cell_type": "code",
   "execution_count": 48,
   "metadata": {},
   "outputs": [
    {
     "data": {
      "image/png": "[encoded data removed]",
      "text/plain": [
       "<matplotlib.figure.Figure at 0x110b6ccd0>"
      ]
     },
     "metadata": {},
     "output_type": "display_data"
    }
   ],
   "source": [
    "data_3 = pd.concat([texas_data_2013['NUMSUBS'], texas_data_2013['LOS']], axis=1)\n",
    "f, ax = plt.subplots(figsize=(8, 6))\n",
    "fig = sns.boxplot(x='NUMSUBS', y=\"LOS\", data=data_3)\n",
    "fig.axis(ymin=0, ymax=40);\n",
    "#Number of Substance reported at admission doesn't have much effect on length of stay"
   ]
  },
  {
   "cell_type": "code",
   "execution_count": 49,
   "metadata": {},
   "outputs": [
    {
     "data": {
      "image/png": "[encoded data removed]",
      "text/plain": [
       "<matplotlib.figure.Figure at 0x110b38390>"
      ]
     },
     "metadata": {},
     "output_type": "display_data"
    }
   ],
   "source": [
    "data_4 = pd.concat([texas_data_2013['AGE'], texas_data_2013['LOS']], axis=1)\n",
    "f, ax = plt.subplots(figsize=(8, 6))\n",
    "fig = sns.boxplot(x='AGE', y=\"LOS\", data=data_4)\n",
    "fig.axis(ymin=0, ymax=40);\n",
    "#Seems to be that 12-17 stays longest but not by far "
   ]
  },
  {
   "cell_type": "code",
   "execution_count": 88,
   "metadata": {},
   "outputs": [
    {
     "data": {
      "image/png": "[encoded data removed]",
      "text/plain": [
       "<matplotlib.figure.Figure at 0x10e4e5850>"
      ]
     },
     "metadata": {},
     "output_type": "display_data"
    }
   ],
   "source": [
    "#Let's dig into success outcome \n",
    "sns.barplot(x=\"REASON\", y=\"AGE\",  data=texas_data_2013);\n",
    "#Age doesn't seem to differ in success of outcome "
   ]
  },
  {
   "cell_type": "code",
   "execution_count": 89,
   "metadata": {},
   "outputs": [
    {
     "data": {
      "text/plain": [
       "<matplotlib.axes._subplots.AxesSubplot at 0x10c05de10>"
      ]
     },
     "execution_count": 89,
     "metadata": {},
     "output_type": "execute_result"
    },
    {
     "data": {
      "image/png": "[encoded data removed]",
      "text/plain": [
       "<matplotlib.figure.Figure at 0x10c02b1d0>"
      ]
     },
     "metadata": {},
     "output_type": "display_data"
    }
   ],
   "source": [
    "#GENDER doesn't seem to mater for success \n",
    "sns.barplot(x='REASON', y='GENDER', data=texas_data_2013)"
   ]
  },
  {
   "cell_type": "code",
   "execution_count": 90,
   "metadata": {},
   "outputs": [
    {
     "data": {
      "text/plain": [
       "<matplotlib.axes._subplots.AxesSubplot at 0x1108dd2d0>"
      ]
     },
     "execution_count": 90,
     "metadata": {},
     "output_type": "execute_result"
    },
    {
     "data": {
      "image/png": "[encoded data removed]",
      "text/plain": [
       "<matplotlib.figure.Figure at 0x1110d37d0>"
      ]
     },
     "metadata": {},
     "output_type": "display_data"
    }
   ],
   "source": [
    "#Frequency of use matters slightly, but more frequent user had higher success \n",
    "sns.barplot(x='REASON', y='FREQ1', data=texas_data_2013)"
   ]
  },
  {
   "cell_type": "code",
   "execution_count": 4,
   "metadata": {},
   "outputs": [
    {
     "data": {
      "text/html": [
       "<div>\n",
       "<style>\n",
       "    .dataframe thead tr:only-child th {\n",
       "        text-align: right;\n",
       "    }\n",
       "\n",
       "    .dataframe thead th {\n",
       "        text-align: left;\n",
       "    }\n",
       "\n",
       "    .dataframe tbody tr th {\n",
       "        vertical-align: top;\n",
       "    }\n",
       "</style>\n",
       "<table border=\"1\" class=\"dataframe\">\n",
       "  <thead>\n",
       "    <tr style=\"text-align: right;\">\n",
       "      <th></th>\n",
       "      <th>CASEID</th>\n",
       "      <th>AGE</th>\n",
       "      <th>GENDER</th>\n",
       "      <th>RACE</th>\n",
       "      <th>EDUC</th>\n",
       "      <th>EMPLOY</th>\n",
       "      <th>LIVARAG</th>\n",
       "      <th>ARRESTS</th>\n",
       "      <th>PSYPROB</th>\n",
       "      <th>FREQ1</th>\n",
       "      <th>FRSTUSE1</th>\n",
       "      <th>MARSTAT</th>\n",
       "      <th>NOPRIOR</th>\n",
       "      <th>NUMSUBS</th>\n",
       "      <th>PREG</th>\n",
       "      <th>PSOURCE</th>\n",
       "      <th>LOS</th>\n",
       "      <th>REASON</th>\n",
       "    </tr>\n",
       "  </thead>\n",
       "  <tbody>\n",
       "    <tr>\n",
       "      <th>8373</th>\n",
       "      <td>20130008375</td>\n",
       "      <td>7</td>\n",
       "      <td>1</td>\n",
       "      <td>5</td>\n",
       "      <td>-9</td>\n",
       "      <td>1</td>\n",
       "      <td>3</td>\n",
       "      <td>0</td>\n",
       "      <td>-9</td>\n",
       "      <td>2</td>\n",
       "      <td>4</td>\n",
       "      <td>3</td>\n",
       "      <td>1</td>\n",
       "      <td>3</td>\n",
       "      <td>-9</td>\n",
       "      <td>5</td>\n",
       "      <td>8</td>\n",
       "      <td>2</td>\n",
       "    </tr>\n",
       "    <tr>\n",
       "      <th>24884</th>\n",
       "      <td>20130024886</td>\n",
       "      <td>6</td>\n",
       "      <td>2</td>\n",
       "      <td>5</td>\n",
       "      <td>-9</td>\n",
       "      <td>3</td>\n",
       "      <td>3</td>\n",
       "      <td>0</td>\n",
       "      <td>-9</td>\n",
       "      <td>1</td>\n",
       "      <td>4</td>\n",
       "      <td>1</td>\n",
       "      <td>1</td>\n",
       "      <td>3</td>\n",
       "      <td>1</td>\n",
       "      <td>6</td>\n",
       "      <td>33</td>\n",
       "      <td>4</td>\n",
       "    </tr>\n",
       "    <tr>\n",
       "      <th>29795</th>\n",
       "      <td>20130029799</td>\n",
       "      <td>4</td>\n",
       "      <td>2</td>\n",
       "      <td>5</td>\n",
       "      <td>3</td>\n",
       "      <td>2</td>\n",
       "      <td>3</td>\n",
       "      <td>0</td>\n",
       "      <td>-9</td>\n",
       "      <td>1</td>\n",
       "      <td>3</td>\n",
       "      <td>1</td>\n",
       "      <td>4</td>\n",
       "      <td>3</td>\n",
       "      <td>1</td>\n",
       "      <td>1</td>\n",
       "      <td>35</td>\n",
       "      <td>1</td>\n",
       "    </tr>\n",
       "    <tr>\n",
       "      <th>35275</th>\n",
       "      <td>20130035279</td>\n",
       "      <td>10</td>\n",
       "      <td>1</td>\n",
       "      <td>5</td>\n",
       "      <td>3</td>\n",
       "      <td>4</td>\n",
       "      <td>3</td>\n",
       "      <td>0</td>\n",
       "      <td>-9</td>\n",
       "      <td>4</td>\n",
       "      <td>6</td>\n",
       "      <td>1</td>\n",
       "      <td>3</td>\n",
       "      <td>1</td>\n",
       "      <td>-9</td>\n",
       "      <td>6</td>\n",
       "      <td>23</td>\n",
       "      <td>2</td>\n",
       "    </tr>\n",
       "    <tr>\n",
       "      <th>37306</th>\n",
       "      <td>20130037310</td>\n",
       "      <td>5</td>\n",
       "      <td>2</td>\n",
       "      <td>5</td>\n",
       "      <td>3</td>\n",
       "      <td>3</td>\n",
       "      <td>2</td>\n",
       "      <td>0</td>\n",
       "      <td>-9</td>\n",
       "      <td>5</td>\n",
       "      <td>3</td>\n",
       "      <td>1</td>\n",
       "      <td>1</td>\n",
       "      <td>1</td>\n",
       "      <td>1</td>\n",
       "      <td>2</td>\n",
       "      <td>34</td>\n",
       "      <td>2</td>\n",
       "    </tr>\n",
       "    <tr>\n",
       "      <th>41958</th>\n",
       "      <td>20130041962</td>\n",
       "      <td>10</td>\n",
       "      <td>2</td>\n",
       "      <td>5</td>\n",
       "      <td>3</td>\n",
       "      <td>3</td>\n",
       "      <td>3</td>\n",
       "      <td>0</td>\n",
       "      <td>-9</td>\n",
       "      <td>5</td>\n",
       "      <td>10</td>\n",
       "      <td>3</td>\n",
       "      <td>1</td>\n",
       "      <td>2</td>\n",
       "      <td>2</td>\n",
       "      <td>3</td>\n",
       "      <td>35</td>\n",
       "      <td>3</td>\n",
       "    </tr>\n",
       "    <tr>\n",
       "      <th>53497</th>\n",
       "      <td>20130053502</td>\n",
       "      <td>10</td>\n",
       "      <td>1</td>\n",
       "      <td>-9</td>\n",
       "      <td>4</td>\n",
       "      <td>3</td>\n",
       "      <td>2</td>\n",
       "      <td>0</td>\n",
       "      <td>-9</td>\n",
       "      <td>5</td>\n",
       "      <td>5</td>\n",
       "      <td>1</td>\n",
       "      <td>5</td>\n",
       "      <td>2</td>\n",
       "      <td>-9</td>\n",
       "      <td>2</td>\n",
       "      <td>36</td>\n",
       "      <td>1</td>\n",
       "    </tr>\n",
       "    <tr>\n",
       "      <th>55592</th>\n",
       "      <td>20130055597</td>\n",
       "      <td>8</td>\n",
       "      <td>2</td>\n",
       "      <td>5</td>\n",
       "      <td>3</td>\n",
       "      <td>4</td>\n",
       "      <td>3</td>\n",
       "      <td>0</td>\n",
       "      <td>-9</td>\n",
       "      <td>5</td>\n",
       "      <td>7</td>\n",
       "      <td>3</td>\n",
       "      <td>5</td>\n",
       "      <td>1</td>\n",
       "      <td>2</td>\n",
       "      <td>7</td>\n",
       "      <td>35</td>\n",
       "      <td>7</td>\n",
       "    </tr>\n",
       "    <tr>\n",
       "      <th>58451</th>\n",
       "      <td>20130058456</td>\n",
       "      <td>5</td>\n",
       "      <td>2</td>\n",
       "      <td>21</td>\n",
       "      <td>3</td>\n",
       "      <td>3</td>\n",
       "      <td>3</td>\n",
       "      <td>0</td>\n",
       "      <td>-9</td>\n",
       "      <td>1</td>\n",
       "      <td>3</td>\n",
       "      <td>1</td>\n",
       "      <td>1</td>\n",
       "      <td>1</td>\n",
       "      <td>1</td>\n",
       "      <td>6</td>\n",
       "      <td>26</td>\n",
       "      <td>1</td>\n",
       "    </tr>\n",
       "    <tr>\n",
       "      <th>73220</th>\n",
       "      <td>20130073227</td>\n",
       "      <td>8</td>\n",
       "      <td>2</td>\n",
       "      <td>4</td>\n",
       "      <td>4</td>\n",
       "      <td>4</td>\n",
       "      <td>3</td>\n",
       "      <td>0</td>\n",
       "      <td>-9</td>\n",
       "      <td>5</td>\n",
       "      <td>7</td>\n",
       "      <td>1</td>\n",
       "      <td>1</td>\n",
       "      <td>2</td>\n",
       "      <td>1</td>\n",
       "      <td>1</td>\n",
       "      <td>32</td>\n",
       "      <td>1</td>\n",
       "    </tr>\n",
       "  </tbody>\n",
       "</table>\n",
       "</div>"
      ],
      "text/plain": [
       "            CASEID  AGE  GENDER  RACE  EDUC  EMPLOY  LIVARAG  ARRESTS  \\\n",
       "8373   20130008375    7       1     5    -9       1        3        0   \n",
       "24884  20130024886    6       2     5    -9       3        3        0   \n",
       "29795  20130029799    4       2     5     3       2        3        0   \n",
       "35275  20130035279   10       1     5     3       4        3        0   \n",
       "37306  20130037310    5       2     5     3       3        2        0   \n",
       "41958  20130041962   10       2     5     3       3        3        0   \n",
       "53497  20130053502   10       1    -9     4       3        2        0   \n",
       "55592  20130055597    8       2     5     3       4        3        0   \n",
       "58451  20130058456    5       2    21     3       3        3        0   \n",
       "73220  20130073227    8       2     4     4       4        3        0   \n",
       "\n",
       "       PSYPROB  FREQ1  FRSTUSE1  MARSTAT  NOPRIOR  NUMSUBS  PREG  PSOURCE  \\\n",
       "8373        -9      2         4        3        1        3    -9        5   \n",
       "24884       -9      1         4        1        1        3     1        6   \n",
       "29795       -9      1         3        1        4        3     1        1   \n",
       "35275       -9      4         6        1        3        1    -9        6   \n",
       "37306       -9      5         3        1        1        1     1        2   \n",
       "41958       -9      5        10        3        1        2     2        3   \n",
       "53497       -9      5         5        1        5        2    -9        2   \n",
       "55592       -9      5         7        3        5        1     2        7   \n",
       "58451       -9      1         3        1        1        1     1        6   \n",
       "73220       -9      5         7        1        1        2     1        1   \n",
       "\n",
       "       LOS  REASON  \n",
       "8373     8       2  \n",
       "24884   33       4  \n",
       "29795   35       1  \n",
       "35275   23       2  \n",
       "37306   34       2  \n",
       "41958   35       3  \n",
       "53497   36       1  \n",
       "55592   35       7  \n",
       "58451   26       1  \n",
       "73220   32       1  "
      ]
     },
     "execution_count": 4,
     "metadata": {},
     "output_type": "execute_result"
    }
   ],
   "source": [
    "#Include only attributes that will be helpful. In general, Do not include attribute that has more than 20% Unknown. \n",
    "field_list = ['CASEID', 'AGE', 'GENDER', 'RACE', 'EDUC', 'EMPLOY', 'LIVARAG', 'ARRESTS', 'PSYPROB', 'FREQ1','FRSTUSE1','MARSTAT','NOPRIOR','NUMSUBS','PREG','PSOURCE','LOS', 'REASON']\n",
    "texas_2013 = texas_data_2013[field_list]\n",
    "texas_2013[:10]\n"
   ]
  },
  {
   "cell_type": "code",
   "execution_count": 75,
   "metadata": {},
   "outputs": [
    {
     "data": {
      "text/plain": [
       "<matplotlib.axes._subplots.AxesSubplot at 0x140a6a150>"
      ]
     },
     "execution_count": 75,
     "metadata": {},
     "output_type": "execute_result"
    },
    {
     "data": {
      "image/png": "[encoded data removed]",
      "text/plain": [
       "<matplotlib.figure.Figure at 0x13a7337d0>"
      ]
     },
     "metadata": {},
     "output_type": "display_data"
    }
   ],
   "source": [
    "%matplotlib inline\n",
    "import seaborn as sns\n",
    "corr = texas_2013.corr()\n",
    "sns.heatmap(corr, \n",
    "            xticklabels=corr.columns.values,\n",
    "            yticklabels=corr.columns.values)\n",
    "\n",
    "#Obviously pregnancy and gender is correlated. FREQ1 and EDUC's correlation is around 0.6, EDUC and LIVARAG is around 0.4 \n"
   ]
  },
  {
   "cell_type": "code",
   "execution_count": 76,
   "metadata": {},
   "outputs": [
    {
     "name": "stdout",
     "output_type": "stream",
     "text": [
      "            CASEID       AGE    GENDER      RACE      EDUC    EMPLOY  \\\n",
      "CASEID    1.000000 -0.008871 -0.002788 -0.012122 -0.006435  0.015208   \n",
      "AGE      -0.008871  1.000000 -0.037240  0.009083  0.146909 -0.151777   \n",
      "GENDER   -0.002788 -0.037240  1.000000  0.005498 -0.017913  0.053787   \n",
      "RACE     -0.012122  0.009083  0.005498  1.000000  0.015456 -0.006209   \n",
      "EDUC     -0.006435  0.146909 -0.017913  0.015456  1.000000 -0.130134   \n",
      "EMPLOY    0.015208 -0.151777  0.053787 -0.006209 -0.130134  1.000000   \n",
      "LIVARAG  -0.011506  0.056168  0.037899  0.011054  0.488882 -0.161501   \n",
      "ARRESTS   0.036538 -0.079740 -0.006022 -0.017938  0.007314  0.044238   \n",
      "PSYPROB        NaN       NaN       NaN       NaN       NaN       NaN   \n",
      "FREQ1    -0.005802  0.125951 -0.058087 -0.016779  0.608856  0.043848   \n",
      "FRSTUSE1 -0.009113  0.306033  0.106857  0.000336  0.305148 -0.062011   \n",
      "MARSTAT  -0.011666  0.424382  0.050328  0.016766  0.068755 -0.054247   \n",
      "NOPRIOR  -0.002942  0.241316 -0.008810 -0.005402  0.298185  0.044734   \n",
      "NUMSUBS  -0.006856 -0.080833  0.047449  0.008291  0.025551  0.054860   \n",
      "PREG     -0.001816 -0.032952  0.974095  0.009087 -0.019288  0.047976   \n",
      "PSOURCE   0.013418 -0.245069  0.035239  0.016104  0.050873 -0.089109   \n",
      "LOS      -0.005726 -0.157316  0.042789  0.037159 -0.019483 -0.087659   \n",
      "REASON   -0.006627 -0.038021  0.034640  0.018425 -0.042833 -0.001070   \n",
      "\n",
      "           LIVARAG   ARRESTS  PSYPROB     FREQ1  FRSTUSE1   MARSTAT   NOPRIOR  \\\n",
      "CASEID   -0.011506  0.036538      NaN -0.005802 -0.009113 -0.011666 -0.002942   \n",
      "AGE       0.056168 -0.079740      NaN  0.125951  0.306033  0.424382  0.241316   \n",
      "GENDER    0.037899 -0.006022      NaN -0.058087  0.106857  0.050328 -0.008810   \n",
      "RACE      0.011054 -0.017938      NaN -0.016779  0.000336  0.016766 -0.005402   \n",
      "EDUC      0.488882  0.007314      NaN  0.608856  0.305148  0.068755  0.298185   \n",
      "EMPLOY   -0.161501  0.044238      NaN  0.043848 -0.062011 -0.054247  0.044734   \n",
      "LIVARAG   1.000000  0.017407      NaN  0.303602  0.376553  0.012803  0.294513   \n",
      "ARRESTS   0.017407  1.000000      NaN  0.026648 -0.038193  0.031222  0.017574   \n",
      "PSYPROB        NaN       NaN      NaN       NaN       NaN       NaN       NaN   \n",
      "FREQ1     0.303602  0.026648      NaN  1.000000  0.310387  0.044584  0.361252   \n",
      "FRSTUSE1  0.376553 -0.038193      NaN  0.310387  1.000000  0.133079  0.305891   \n",
      "MARSTAT   0.012803  0.031222      NaN  0.044584  0.133079  1.000000  0.111047   \n",
      "NOPRIOR   0.294513  0.017574      NaN  0.361252  0.305891  0.111047  1.000000   \n",
      "NUMSUBS   0.023039  0.034555      NaN  0.060310  0.043401 -0.024566  0.169352   \n",
      "PREG      0.035188 -0.004313      NaN -0.068607  0.100714  0.051325 -0.014853   \n",
      "PSOURCE   0.283597  0.051959      NaN -0.198155  0.020092 -0.104384 -0.086708   \n",
      "LOS       0.152177  0.071557      NaN -0.342864 -0.071406 -0.048233 -0.168858   \n",
      "REASON   -0.010329  0.016436      NaN -0.054184 -0.023973 -0.017560 -0.011292   \n",
      "\n",
      "           NUMSUBS      PREG   PSOURCE       LOS    REASON  \n",
      "CASEID   -0.006856 -0.001816  0.013418 -0.005726 -0.006627  \n",
      "AGE      -0.080833 -0.032952 -0.245069 -0.157316 -0.038021  \n",
      "GENDER    0.047449  0.974095  0.035239  0.042789  0.034640  \n",
      "RACE      0.008291  0.009087  0.016104  0.037159  0.018425  \n",
      "EDUC      0.025551 -0.019288  0.050873 -0.019483 -0.042833  \n",
      "EMPLOY    0.054860  0.047976 -0.089109 -0.087659 -0.001070  \n",
      "LIVARAG   0.023039  0.035188  0.283597  0.152177 -0.010329  \n",
      "ARRESTS   0.034555 -0.004313  0.051959  0.071557  0.016436  \n",
      "PSYPROB        NaN       NaN       NaN       NaN       NaN  \n",
      "FREQ1     0.060310 -0.068607 -0.198155 -0.342864 -0.054184  \n",
      "FRSTUSE1  0.043401  0.100714  0.020092 -0.071406 -0.023973  \n",
      "MARSTAT  -0.024566  0.051325 -0.104384 -0.048233 -0.017560  \n",
      "NOPRIOR   0.169352 -0.014853 -0.086708 -0.168858 -0.011292  \n",
      "NUMSUBS   1.000000  0.042352 -0.065830 -0.020741  0.035200  \n",
      "PREG      0.042352  1.000000  0.044374  0.057715  0.036654  \n",
      "PSOURCE  -0.065830  0.044374  1.000000  0.428341  0.026484  \n",
      "LOS      -0.020741  0.057715  0.428341  1.000000 -0.024686  \n",
      "REASON    0.035200  0.036654  0.026484 -0.024686  1.000000  \n"
     ]
    }
   ],
   "source": [
    "print corr"
   ]
  },
  {
   "cell_type": "code",
   "execution_count": null,
   "metadata": {},
   "outputs": [
    {
     "data": {
      "text/plain": [
       "<seaborn.axisgrid.PairGrid at 0x1aa8812d10>"
      ]
     },
     "execution_count": 79,
     "metadata": {},
     "output_type": "execute_result"
    }
   ],
   "source": [
    "sns.pairplot(texas_2013)"
   ]
  },
  {
   "cell_type": "code",
   "execution_count": 5,
   "metadata": {
    "collapsed": true
   },
   "outputs": [],
   "source": [
    "#Predicting Length of Stay \n",
    "from sklearn.model_selection import train_test_split \n",
    "\n",
    "y = texas_2013['LOS'] \n",
    "X = texas_2013.drop(['LOS', 'CASEID'], axis = 1)\n",
    "\n",
    "\n",
    "X_train, X_test, y_train, y_test = train_test_split(X,y,test_size = 0.33, random_state=42)"
   ]
  },
  {
   "cell_type": "code",
   "execution_count": 16,
   "metadata": {},
   "outputs": [
    {
     "name": "stdout",
     "output_type": "stream",
     "text": [
      "[[ 0.5         0.          0.4375      0.          0.76923077  1.\n",
      "   0.81818182  0.          0.78571429  0.61904762  0.92307692  0.71428571\n",
      "   1.          0.          0.875       0.16666667]\n",
      " [ 0.4         1.          0.4375      0.          0.92307692  1.\n",
      "   0.81818182  0.          0.71428571  0.61904762  0.76923077  0.71428571\n",
      "   1.          0.90909091  0.9375      0.5       ]\n",
      " [ 0.2         1.          0.4375      0.85714286  0.84615385  1.\n",
      "   0.81818182  0.          0.71428571  0.57142857  0.76923077  0.92857143\n",
      "   1.          0.90909091  0.625       0.        ]\n",
      " [ 0.8         0.          0.4375      0.85714286  1.          1.\n",
      "   0.81818182  0.          0.92857143  0.71428571  0.76923077  0.85714286\n",
      "   0.          0.          0.9375      0.16666667]\n",
      " [ 0.3         1.          0.4375      0.85714286  0.92307692  0.91666667\n",
      "   0.81818182  0.          1.          0.57142857  0.76923077  0.71428571\n",
      "   0.          0.90909091  0.6875      0.16666667]]\n"
     ]
    }
   ],
   "source": [
    "#Putting data in the same scale \n",
    "\n",
    "from sklearn.preprocessing import MinMaxScaler\n",
    "\n",
    "colTrain = ['AGE', 'GENDER', 'RACE', 'EDUC', 'EMPLOY', 'LIVARAG', 'ARRESTS', 'PSYPROB', 'FREQ1','FRSTUSE1','MARSTAT','NOPRIOR','NUMSUBS','PREG','PSOURCE', 'REASON','LOS']\n",
    "dfMLTrain = texas_2013[colTrain]\n",
    "arrayTrain = dfMLTrain.values\n",
    "\n",
    "colTest = ['AGE', 'GENDER', 'RACE', 'EDUC', 'EMPLOY', 'LIVARAG', 'ARRESTS', 'PSYPROB', 'FREQ1','FRSTUSE1','MARSTAT','NOPRIOR','NUMSUBS','PREG','PSOURCE','REASON']\n",
    "dfMLTest = texas_2013[colTest]\n",
    "arrayTest = dfMLTest.values\n",
    "\n",
    "# Splitting array in input and output\n",
    "XTrain = arrayTrain[:,0:16]\n",
    "YTrain = arrayTrain[:,16]\n",
    "XTest = arrayTest[:,0:16]\n",
    "\n",
    "# Creating new scale\n",
    "scaler = MinMaxScaler(feature_range = (0, 1))\n",
    "rescaledXTrain = scaler.fit_transform(XTrain)\n",
    "rescaledXTest = scaler.fit_transform(XTest)\n",
    "\n",
    "\n",
    "# Data transformed\n",
    "print rescaledXTrain[0:5,:]\n"
   ]
  },
  {
   "cell_type": "code",
   "execution_count": 20,
   "metadata": {},
   "outputs": [
    {
     "name": "stdout",
     "output_type": "stream",
     "text": [
      "[  1.98882957e+02   1.44417844e+02   3.59819989e+00   1.07413183e+01\n",
      "   4.46817777e+00   1.81056047e+01   4.71809062e-01              nan\n",
      "   2.59793112e+02   1.11408518e+01   4.34454863e+00   4.64249888e+01\n",
      "   1.87583666e+02   2.12461067e+02   3.52232559e+02   9.17004618e+02]\n",
      "[[ 7  2 -9  5  2]\n",
      " [ 6  1  1  6  4]\n",
      " [ 4  1  1  1  1]\n",
      " [10  4 -9  6  2]\n",
      " [ 5  5  1  2  2]]\n"
     ]
    }
   ],
   "source": [
    "# Feature Selection using chi2 test\n",
    "\n",
    "# Import modules\n",
    "from sklearn.feature_selection import SelectKBest\n",
    "from sklearn.feature_selection import chi2\n",
    "\n",
    "# Selecting the 5 better features that can be used in prediction model\n",
    "test = SelectKBest(score_func = chi2, k = 5) \n",
    "fit = test.fit(rescaledXTrain, YTrain)\n",
    "\n",
    "# Summarizing score\n",
    "print(fit.scores_)\n",
    "features = fit.transform(XTrain)\n",
    "\n",
    "# Summarizing selected Features\n",
    "print(features[0:5,:])\n",
    "# Better variables: Age, 'PREG','PSOURCE', 'REASON','LOS' with LOS having the highest score "
   ]
  },
  {
   "cell_type": "code",
   "execution_count": 91,
   "metadata": {},
   "outputs": [
    {
     "ename": "KeyboardInterrupt",
     "evalue": "",
     "output_type": "error",
     "traceback": [
      "\u001b[0;31m---------------------------------------------------------------------------\u001b[0m",
      "\u001b[0;31mKeyboardInterrupt\u001b[0m                         Traceback (most recent call last)",
      "\u001b[0;32m<ipython-input-91-d1a44037d9d7>\u001b[0m in \u001b[0;36m<module>\u001b[0;34m()\u001b[0m\n\u001b[1;32m     31\u001b[0m \u001b[0;32mfor\u001b[0m \u001b[0mnome\u001b[0m\u001b[0;34m,\u001b[0m \u001b[0mmodelo\u001b[0m \u001b[0;32min\u001b[0m \u001b[0mmodelos\u001b[0m\u001b[0;34m:\u001b[0m\u001b[0;34m\u001b[0m\u001b[0m\n\u001b[1;32m     32\u001b[0m     \u001b[0mkfold\u001b[0m \u001b[0;34m=\u001b[0m \u001b[0mmodel_selection\u001b[0m\u001b[0;34m.\u001b[0m\u001b[0mKFold\u001b[0m\u001b[0;34m(\u001b[0m\u001b[0mn_splits\u001b[0m \u001b[0;34m=\u001b[0m \u001b[0mnum_folds\u001b[0m\u001b[0;34m,\u001b[0m \u001b[0mrandom_state\u001b[0m \u001b[0;34m=\u001b[0m \u001b[0mseed\u001b[0m\u001b[0;34m)\u001b[0m\u001b[0;34m\u001b[0m\u001b[0m\n\u001b[0;32m---> 33\u001b[0;31m     \u001b[0mcv_results\u001b[0m \u001b[0;34m=\u001b[0m \u001b[0mmodel_selection\u001b[0m\u001b[0;34m.\u001b[0m\u001b[0mcross_val_score\u001b[0m\u001b[0;34m(\u001b[0m\u001b[0mmodelo\u001b[0m\u001b[0;34m,\u001b[0m \u001b[0mXTrain\u001b[0m\u001b[0;34m,\u001b[0m \u001b[0mYTrain\u001b[0m\u001b[0;34m,\u001b[0m \u001b[0mcv\u001b[0m \u001b[0;34m=\u001b[0m \u001b[0mkfold\u001b[0m\u001b[0;34m,\u001b[0m \u001b[0mscoring\u001b[0m \u001b[0;34m=\u001b[0m \u001b[0;34m'accuracy'\u001b[0m\u001b[0;34m)\u001b[0m\u001b[0;34m\u001b[0m\u001b[0m\n\u001b[0m\u001b[1;32m     34\u001b[0m     \u001b[0mresultados\u001b[0m\u001b[0;34m.\u001b[0m\u001b[0mappend\u001b[0m\u001b[0;34m(\u001b[0m\u001b[0mcv_results\u001b[0m\u001b[0;34m)\u001b[0m\u001b[0;34m\u001b[0m\u001b[0m\n\u001b[1;32m     35\u001b[0m     \u001b[0mnomes\u001b[0m\u001b[0;34m.\u001b[0m\u001b[0mappend\u001b[0m\u001b[0;34m(\u001b[0m\u001b[0mnome\u001b[0m\u001b[0;34m)\u001b[0m\u001b[0;34m\u001b[0m\u001b[0m\n",
      "\u001b[0;32m/Users/chloekwon/anaconda/lib/python2.7/site-packages/sklearn/model_selection/_validation.pyc\u001b[0m in \u001b[0;36mcross_val_score\u001b[0;34m(estimator, X, y, groups, scoring, cv, n_jobs, verbose, fit_params, pre_dispatch)\u001b[0m\n\u001b[1;32m    319\u001b[0m                                 \u001b[0mn_jobs\u001b[0m\u001b[0;34m=\u001b[0m\u001b[0mn_jobs\u001b[0m\u001b[0;34m,\u001b[0m \u001b[0mverbose\u001b[0m\u001b[0;34m=\u001b[0m\u001b[0mverbose\u001b[0m\u001b[0;34m,\u001b[0m\u001b[0;34m\u001b[0m\u001b[0m\n\u001b[1;32m    320\u001b[0m                                 \u001b[0mfit_params\u001b[0m\u001b[0;34m=\u001b[0m\u001b[0mfit_params\u001b[0m\u001b[0;34m,\u001b[0m\u001b[0;34m\u001b[0m\u001b[0m\n\u001b[0;32m--> 321\u001b[0;31m                                 pre_dispatch=pre_dispatch)\n\u001b[0m\u001b[1;32m    322\u001b[0m     \u001b[0;32mreturn\u001b[0m \u001b[0mcv_results\u001b[0m\u001b[0;34m[\u001b[0m\u001b[0;34m'test_score'\u001b[0m\u001b[0;34m]\u001b[0m\u001b[0;34m\u001b[0m\u001b[0m\n\u001b[1;32m    323\u001b[0m \u001b[0;34m\u001b[0m\u001b[0m\n",
      "\u001b[0;32m/Users/chloekwon/anaconda/lib/python2.7/site-packages/sklearn/model_selection/_validation.pyc\u001b[0m in \u001b[0;36mcross_validate\u001b[0;34m(estimator, X, y, groups, scoring, cv, n_jobs, verbose, fit_params, pre_dispatch, return_train_score)\u001b[0m\n\u001b[1;32m    193\u001b[0m             \u001b[0mfit_params\u001b[0m\u001b[0;34m,\u001b[0m \u001b[0mreturn_train_score\u001b[0m\u001b[0;34m=\u001b[0m\u001b[0mreturn_train_score\u001b[0m\u001b[0;34m,\u001b[0m\u001b[0;34m\u001b[0m\u001b[0m\n\u001b[1;32m    194\u001b[0m             return_times=True)\n\u001b[0;32m--> 195\u001b[0;31m         for train, test in cv.split(X, y, groups))\n\u001b[0m\u001b[1;32m    196\u001b[0m \u001b[0;34m\u001b[0m\u001b[0m\n\u001b[1;32m    197\u001b[0m     \u001b[0;32mif\u001b[0m \u001b[0mreturn_train_score\u001b[0m\u001b[0;34m:\u001b[0m\u001b[0;34m\u001b[0m\u001b[0m\n",
      "\u001b[0;32m/Users/chloekwon/anaconda/lib/python2.7/site-packages/sklearn/externals/joblib/parallel.pyc\u001b[0m in \u001b[0;36m__call__\u001b[0;34m(self, iterable)\u001b[0m\n\u001b[1;32m    777\u001b[0m             \u001b[0;31m# was dispatched. In particular this covers the edge\u001b[0m\u001b[0;34m\u001b[0m\u001b[0;34m\u001b[0m\u001b[0m\n\u001b[1;32m    778\u001b[0m             \u001b[0;31m# case of Parallel used with an exhausted iterator.\u001b[0m\u001b[0;34m\u001b[0m\u001b[0;34m\u001b[0m\u001b[0m\n\u001b[0;32m--> 779\u001b[0;31m             \u001b[0;32mwhile\u001b[0m \u001b[0mself\u001b[0m\u001b[0;34m.\u001b[0m\u001b[0mdispatch_one_batch\u001b[0m\u001b[0;34m(\u001b[0m\u001b[0miterator\u001b[0m\u001b[0;34m)\u001b[0m\u001b[0;34m:\u001b[0m\u001b[0;34m\u001b[0m\u001b[0m\n\u001b[0m\u001b[1;32m    780\u001b[0m                 \u001b[0mself\u001b[0m\u001b[0;34m.\u001b[0m\u001b[0m_iterating\u001b[0m \u001b[0;34m=\u001b[0m \u001b[0mTrue\u001b[0m\u001b[0;34m\u001b[0m\u001b[0m\n\u001b[1;32m    781\u001b[0m             \u001b[0;32melse\u001b[0m\u001b[0;34m:\u001b[0m\u001b[0;34m\u001b[0m\u001b[0m\n",
      "\u001b[0;32m/Users/chloekwon/anaconda/lib/python2.7/site-packages/sklearn/externals/joblib/parallel.pyc\u001b[0m in \u001b[0;36mdispatch_one_batch\u001b[0;34m(self, iterator)\u001b[0m\n\u001b[1;32m    623\u001b[0m                 \u001b[0;32mreturn\u001b[0m \u001b[0mFalse\u001b[0m\u001b[0;34m\u001b[0m\u001b[0m\n\u001b[1;32m    624\u001b[0m             \u001b[0;32melse\u001b[0m\u001b[0;34m:\u001b[0m\u001b[0;34m\u001b[0m\u001b[0m\n\u001b[0;32m--> 625\u001b[0;31m                 \u001b[0mself\u001b[0m\u001b[0;34m.\u001b[0m\u001b[0m_dispatch\u001b[0m\u001b[0;34m(\u001b[0m\u001b[0mtasks\u001b[0m\u001b[0;34m)\u001b[0m\u001b[0;34m\u001b[0m\u001b[0m\n\u001b[0m\u001b[1;32m    626\u001b[0m                 \u001b[0;32mreturn\u001b[0m \u001b[0mTrue\u001b[0m\u001b[0;34m\u001b[0m\u001b[0m\n\u001b[1;32m    627\u001b[0m \u001b[0;34m\u001b[0m\u001b[0m\n",
      "\u001b[0;32m/Users/chloekwon/anaconda/lib/python2.7/site-packages/sklearn/externals/joblib/parallel.pyc\u001b[0m in \u001b[0;36m_dispatch\u001b[0;34m(self, batch)\u001b[0m\n\u001b[1;32m    586\u001b[0m         \u001b[0mdispatch_timestamp\u001b[0m \u001b[0;34m=\u001b[0m \u001b[0mtime\u001b[0m\u001b[0;34m.\u001b[0m\u001b[0mtime\u001b[0m\u001b[0;34m(\u001b[0m\u001b[0;34m)\u001b[0m\u001b[0;34m\u001b[0m\u001b[0m\n\u001b[1;32m    587\u001b[0m         \u001b[0mcb\u001b[0m \u001b[0;34m=\u001b[0m \u001b[0mBatchCompletionCallBack\u001b[0m\u001b[0;34m(\u001b[0m\u001b[0mdispatch_timestamp\u001b[0m\u001b[0;34m,\u001b[0m \u001b[0mlen\u001b[0m\u001b[0;34m(\u001b[0m\u001b[0mbatch\u001b[0m\u001b[0;34m)\u001b[0m\u001b[0;34m,\u001b[0m \u001b[0mself\u001b[0m\u001b[0;34m)\u001b[0m\u001b[0;34m\u001b[0m\u001b[0m\n\u001b[0;32m--> 588\u001b[0;31m         \u001b[0mjob\u001b[0m \u001b[0;34m=\u001b[0m \u001b[0mself\u001b[0m\u001b[0;34m.\u001b[0m\u001b[0m_backend\u001b[0m\u001b[0;34m.\u001b[0m\u001b[0mapply_async\u001b[0m\u001b[0;34m(\u001b[0m\u001b[0mbatch\u001b[0m\u001b[0;34m,\u001b[0m \u001b[0mcallback\u001b[0m\u001b[0;34m=\u001b[0m\u001b[0mcb\u001b[0m\u001b[0;34m)\u001b[0m\u001b[0;34m\u001b[0m\u001b[0m\n\u001b[0m\u001b[1;32m    589\u001b[0m         \u001b[0mself\u001b[0m\u001b[0;34m.\u001b[0m\u001b[0m_jobs\u001b[0m\u001b[0;34m.\u001b[0m\u001b[0mappend\u001b[0m\u001b[0;34m(\u001b[0m\u001b[0mjob\u001b[0m\u001b[0;34m)\u001b[0m\u001b[0;34m\u001b[0m\u001b[0m\n\u001b[1;32m    590\u001b[0m \u001b[0;34m\u001b[0m\u001b[0m\n",
      "\u001b[0;32m/Users/chloekwon/anaconda/lib/python2.7/site-packages/sklearn/externals/joblib/_parallel_backends.pyc\u001b[0m in \u001b[0;36mapply_async\u001b[0;34m(self, func, callback)\u001b[0m\n\u001b[1;32m    109\u001b[0m     \u001b[0;32mdef\u001b[0m \u001b[0mapply_async\u001b[0m\u001b[0;34m(\u001b[0m\u001b[0mself\u001b[0m\u001b[0;34m,\u001b[0m \u001b[0mfunc\u001b[0m\u001b[0;34m,\u001b[0m \u001b[0mcallback\u001b[0m\u001b[0;34m=\u001b[0m\u001b[0mNone\u001b[0m\u001b[0;34m)\u001b[0m\u001b[0;34m:\u001b[0m\u001b[0;34m\u001b[0m\u001b[0m\n\u001b[1;32m    110\u001b[0m         \u001b[0;34m\"\"\"Schedule a func to be run\"\"\"\u001b[0m\u001b[0;34m\u001b[0m\u001b[0m\n\u001b[0;32m--> 111\u001b[0;31m         \u001b[0mresult\u001b[0m \u001b[0;34m=\u001b[0m \u001b[0mImmediateResult\u001b[0m\u001b[0;34m(\u001b[0m\u001b[0mfunc\u001b[0m\u001b[0;34m)\u001b[0m\u001b[0;34m\u001b[0m\u001b[0m\n\u001b[0m\u001b[1;32m    112\u001b[0m         \u001b[0;32mif\u001b[0m \u001b[0mcallback\u001b[0m\u001b[0;34m:\u001b[0m\u001b[0;34m\u001b[0m\u001b[0m\n\u001b[1;32m    113\u001b[0m             \u001b[0mcallback\u001b[0m\u001b[0;34m(\u001b[0m\u001b[0mresult\u001b[0m\u001b[0;34m)\u001b[0m\u001b[0;34m\u001b[0m\u001b[0m\n",
      "\u001b[0;32m/Users/chloekwon/anaconda/lib/python2.7/site-packages/sklearn/externals/joblib/_parallel_backends.pyc\u001b[0m in \u001b[0;36m__init__\u001b[0;34m(self, batch)\u001b[0m\n\u001b[1;32m    330\u001b[0m         \u001b[0;31m# Don't delay the application, to avoid keeping the input\u001b[0m\u001b[0;34m\u001b[0m\u001b[0;34m\u001b[0m\u001b[0m\n\u001b[1;32m    331\u001b[0m         \u001b[0;31m# arguments in memory\u001b[0m\u001b[0;34m\u001b[0m\u001b[0;34m\u001b[0m\u001b[0m\n\u001b[0;32m--> 332\u001b[0;31m         \u001b[0mself\u001b[0m\u001b[0;34m.\u001b[0m\u001b[0mresults\u001b[0m \u001b[0;34m=\u001b[0m \u001b[0mbatch\u001b[0m\u001b[0;34m(\u001b[0m\u001b[0;34m)\u001b[0m\u001b[0;34m\u001b[0m\u001b[0m\n\u001b[0m\u001b[1;32m    333\u001b[0m \u001b[0;34m\u001b[0m\u001b[0m\n\u001b[1;32m    334\u001b[0m     \u001b[0;32mdef\u001b[0m \u001b[0mget\u001b[0m\u001b[0;34m(\u001b[0m\u001b[0mself\u001b[0m\u001b[0;34m)\u001b[0m\u001b[0;34m:\u001b[0m\u001b[0;34m\u001b[0m\u001b[0m\n",
      "\u001b[0;32m/Users/chloekwon/anaconda/lib/python2.7/site-packages/sklearn/externals/joblib/parallel.pyc\u001b[0m in \u001b[0;36m__call__\u001b[0;34m(self)\u001b[0m\n\u001b[1;32m    129\u001b[0m \u001b[0;34m\u001b[0m\u001b[0m\n\u001b[1;32m    130\u001b[0m     \u001b[0;32mdef\u001b[0m \u001b[0m__call__\u001b[0m\u001b[0;34m(\u001b[0m\u001b[0mself\u001b[0m\u001b[0;34m)\u001b[0m\u001b[0;34m:\u001b[0m\u001b[0;34m\u001b[0m\u001b[0m\n\u001b[0;32m--> 131\u001b[0;31m         \u001b[0;32mreturn\u001b[0m \u001b[0;34m[\u001b[0m\u001b[0mfunc\u001b[0m\u001b[0;34m(\u001b[0m\u001b[0;34m*\u001b[0m\u001b[0margs\u001b[0m\u001b[0;34m,\u001b[0m \u001b[0;34m**\u001b[0m\u001b[0mkwargs\u001b[0m\u001b[0;34m)\u001b[0m \u001b[0;32mfor\u001b[0m \u001b[0mfunc\u001b[0m\u001b[0;34m,\u001b[0m \u001b[0margs\u001b[0m\u001b[0;34m,\u001b[0m \u001b[0mkwargs\u001b[0m \u001b[0;32min\u001b[0m \u001b[0mself\u001b[0m\u001b[0;34m.\u001b[0m\u001b[0mitems\u001b[0m\u001b[0;34m]\u001b[0m\u001b[0;34m\u001b[0m\u001b[0m\n\u001b[0m\u001b[1;32m    132\u001b[0m \u001b[0;34m\u001b[0m\u001b[0m\n\u001b[1;32m    133\u001b[0m     \u001b[0;32mdef\u001b[0m \u001b[0m__len__\u001b[0m\u001b[0;34m(\u001b[0m\u001b[0mself\u001b[0m\u001b[0;34m)\u001b[0m\u001b[0;34m:\u001b[0m\u001b[0;34m\u001b[0m\u001b[0m\n",
      "\u001b[0;32m/Users/chloekwon/anaconda/lib/python2.7/site-packages/sklearn/model_selection/_validation.pyc\u001b[0m in \u001b[0;36m_fit_and_score\u001b[0;34m(estimator, X, y, scorer, train, test, verbose, parameters, fit_params, return_train_score, return_parameters, return_n_test_samples, return_times, error_score)\u001b[0m\n\u001b[1;32m    435\u001b[0m             \u001b[0mestimator\u001b[0m\u001b[0;34m.\u001b[0m\u001b[0mfit\u001b[0m\u001b[0;34m(\u001b[0m\u001b[0mX_train\u001b[0m\u001b[0;34m,\u001b[0m \u001b[0;34m**\u001b[0m\u001b[0mfit_params\u001b[0m\u001b[0;34m)\u001b[0m\u001b[0;34m\u001b[0m\u001b[0m\n\u001b[1;32m    436\u001b[0m         \u001b[0;32melse\u001b[0m\u001b[0;34m:\u001b[0m\u001b[0;34m\u001b[0m\u001b[0m\n\u001b[0;32m--> 437\u001b[0;31m             \u001b[0mestimator\u001b[0m\u001b[0;34m.\u001b[0m\u001b[0mfit\u001b[0m\u001b[0;34m(\u001b[0m\u001b[0mX_train\u001b[0m\u001b[0;34m,\u001b[0m \u001b[0my_train\u001b[0m\u001b[0;34m,\u001b[0m \u001b[0;34m**\u001b[0m\u001b[0mfit_params\u001b[0m\u001b[0;34m)\u001b[0m\u001b[0;34m\u001b[0m\u001b[0m\n\u001b[0m\u001b[1;32m    438\u001b[0m \u001b[0;34m\u001b[0m\u001b[0m\n\u001b[1;32m    439\u001b[0m     \u001b[0;32mexcept\u001b[0m \u001b[0mException\u001b[0m \u001b[0;32mas\u001b[0m \u001b[0me\u001b[0m\u001b[0;34m:\u001b[0m\u001b[0;34m\u001b[0m\u001b[0m\n",
      "\u001b[0;32m/Users/chloekwon/anaconda/lib/python2.7/site-packages/sklearn/linear_model/logistic.pyc\u001b[0m in \u001b[0;36mfit\u001b[0;34m(self, X, y, sample_weight)\u001b[0m\n\u001b[1;32m   1231\u001b[0m                 \u001b[0mself\u001b[0m\u001b[0;34m.\u001b[0m\u001b[0mclass_weight\u001b[0m\u001b[0;34m,\u001b[0m \u001b[0mself\u001b[0m\u001b[0;34m.\u001b[0m\u001b[0mpenalty\u001b[0m\u001b[0;34m,\u001b[0m \u001b[0mself\u001b[0m\u001b[0;34m.\u001b[0m\u001b[0mdual\u001b[0m\u001b[0;34m,\u001b[0m \u001b[0mself\u001b[0m\u001b[0;34m.\u001b[0m\u001b[0mverbose\u001b[0m\u001b[0;34m,\u001b[0m\u001b[0;34m\u001b[0m\u001b[0m\n\u001b[1;32m   1232\u001b[0m                 \u001b[0mself\u001b[0m\u001b[0;34m.\u001b[0m\u001b[0mmax_iter\u001b[0m\u001b[0;34m,\u001b[0m \u001b[0mself\u001b[0m\u001b[0;34m.\u001b[0m\u001b[0mtol\u001b[0m\u001b[0;34m,\u001b[0m \u001b[0mself\u001b[0m\u001b[0;34m.\u001b[0m\u001b[0mrandom_state\u001b[0m\u001b[0;34m,\u001b[0m\u001b[0;34m\u001b[0m\u001b[0m\n\u001b[0;32m-> 1233\u001b[0;31m                 sample_weight=sample_weight)\n\u001b[0m\u001b[1;32m   1234\u001b[0m             \u001b[0mself\u001b[0m\u001b[0;34m.\u001b[0m\u001b[0mn_iter_\u001b[0m \u001b[0;34m=\u001b[0m \u001b[0mnp\u001b[0m\u001b[0;34m.\u001b[0m\u001b[0marray\u001b[0m\u001b[0;34m(\u001b[0m\u001b[0;34m[\u001b[0m\u001b[0mn_iter_\u001b[0m\u001b[0;34m]\u001b[0m\u001b[0;34m)\u001b[0m\u001b[0;34m\u001b[0m\u001b[0m\n\u001b[1;32m   1235\u001b[0m             \u001b[0;32mreturn\u001b[0m \u001b[0mself\u001b[0m\u001b[0;34m\u001b[0m\u001b[0m\n",
      "\u001b[0;32m/Users/chloekwon/anaconda/lib/python2.7/site-packages/sklearn/svm/base.pyc\u001b[0m in \u001b[0;36m_fit_liblinear\u001b[0;34m(X, y, C, fit_intercept, intercept_scaling, class_weight, penalty, dual, verbose, max_iter, tol, random_state, multi_class, loss, epsilon, sample_weight)\u001b[0m\n\u001b[1;32m    888\u001b[0m         \u001b[0mX\u001b[0m\u001b[0;34m,\u001b[0m \u001b[0my_ind\u001b[0m\u001b[0;34m,\u001b[0m \u001b[0msp\u001b[0m\u001b[0;34m.\u001b[0m\u001b[0misspmatrix\u001b[0m\u001b[0;34m(\u001b[0m\u001b[0mX\u001b[0m\u001b[0;34m)\u001b[0m\u001b[0;34m,\u001b[0m \u001b[0msolver_type\u001b[0m\u001b[0;34m,\u001b[0m \u001b[0mtol\u001b[0m\u001b[0;34m,\u001b[0m \u001b[0mbias\u001b[0m\u001b[0;34m,\u001b[0m \u001b[0mC\u001b[0m\u001b[0;34m,\u001b[0m\u001b[0;34m\u001b[0m\u001b[0m\n\u001b[1;32m    889\u001b[0m         \u001b[0mclass_weight_\u001b[0m\u001b[0;34m,\u001b[0m \u001b[0mmax_iter\u001b[0m\u001b[0;34m,\u001b[0m \u001b[0mrnd\u001b[0m\u001b[0;34m.\u001b[0m\u001b[0mrandint\u001b[0m\u001b[0;34m(\u001b[0m\u001b[0mnp\u001b[0m\u001b[0;34m.\u001b[0m\u001b[0miinfo\u001b[0m\u001b[0;34m(\u001b[0m\u001b[0;34m'i'\u001b[0m\u001b[0;34m)\u001b[0m\u001b[0;34m.\u001b[0m\u001b[0mmax\u001b[0m\u001b[0;34m)\u001b[0m\u001b[0;34m,\u001b[0m\u001b[0;34m\u001b[0m\u001b[0m\n\u001b[0;32m--> 890\u001b[0;31m         epsilon, sample_weight)\n\u001b[0m\u001b[1;32m    891\u001b[0m     \u001b[0;31m# Regarding rnd.randint(..) in the above signature:\u001b[0m\u001b[0;34m\u001b[0m\u001b[0;34m\u001b[0m\u001b[0m\n\u001b[1;32m    892\u001b[0m     \u001b[0;31m# seed for srand in range [0..INT_MAX); due to limitations in Numpy\u001b[0m\u001b[0;34m\u001b[0m\u001b[0;34m\u001b[0m\u001b[0m\n",
      "\u001b[0;31mKeyboardInterrupt\u001b[0m: "
     ]
    }
   ],
   "source": [
    "#Selecting predicting model  - Took too long and I went to bed, but run it  \n",
    "\n",
    "# Importing libraries\n",
    "from sklearn import model_selection\n",
    "from sklearn.linear_model import LogisticRegression\n",
    "from sklearn.tree import DecisionTreeClassifier\n",
    "from sklearn.neighbors import KNeighborsClassifier\n",
    "from sklearn.discriminant_analysis import LinearDiscriminantAnalysis\n",
    "from sklearn.naive_bayes import GaussianNB\n",
    "from sklearn.svm import SVC\n",
    "\n",
    "\n",
    "# Defining number of folds\n",
    "num_folds = 10\n",
    "num_instances = len(XTrain)\n",
    "seed = 7\n",
    "\n",
    "# Preparing models\n",
    "modelos = []\n",
    "modelos.append(('LR', LogisticRegression()))\n",
    "modelos.append(('LDA', LinearDiscriminantAnalysis()))\n",
    "modelos.append(('NB', GaussianNB()))\n",
    "modelos.append(('KNN', KNeighborsClassifier()))\n",
    "modelos.append(('CART', DecisionTreeClassifier()))\n",
    "modelos.append(('SVM', SVC()))\n",
    "\n",
    "# Model Evaluation\n",
    "resultados = []\n",
    "nomes = []\n",
    "\n",
    "for nome, modelo in modelos:\n",
    "    kfold = model_selection.KFold(n_splits = num_folds, random_state = seed)\n",
    "    cv_results = model_selection.cross_val_score(modelo, XTrain, YTrain, cv = kfold, scoring = 'accuracy')\n",
    "    resultados.append(cv_results)\n",
    "    nomes.append(nome)\n",
    "    msg = \"%s: %f (%f)\" % (nome, cv_results.mean(), cv_results.std())\n",
    "    print(msg)\n",
    "\n",
    "# Boxplot to compare algorithms\n",
    "fig = plt.figure()\n",
    "fig.suptitle('Comparison of Classification Algorithms')\n",
    "ax = fig.add_subplot(111)\n",
    "plt.boxplot(resultados)\n",
    "ax.set_xticklabels(nomes)\n",
    "plt.show()"
   ]
  },
  {
   "cell_type": "code",
   "execution_count": 106,
   "metadata": {
    "collapsed": true
   },
   "outputs": [],
   "source": [
    "from sklearn.model_selection import train_test_split\n",
    "\n",
    "train = texas_data_2013[:20000]\n",
    "test = texas_data_2013[20000:]\n",
    "\n",
    "target = train['LOS']\n",
    "train.drop('LOS', axis = 1, inplace = True)\n",
    "\n",
    "x_train, x_test, y_train, y_test = train_test_split(train, target, test_size = 0.3, random_state = 0)"
   ]
  },
  {
   "cell_type": "code",
   "execution_count": null,
   "metadata": {
    "collapsed": true
   },
   "outputs": [],
   "source": []
  },
  {
   "cell_type": "code",
   "execution_count": 107,
   "metadata": {
    "collapsed": true
   },
   "outputs": [],
   "source": [
    "from sklearn.linear_model import Ridge, RidgeCV, ElasticNet, LassoCV, LassoLarsCV\n",
    "from sklearn.model_selection import cross_val_score\n",
    "\n",
    "def rmse_cv(model):\n",
    "    rmse= np.sqrt(-cross_val_score(model, x_train, y, scoring=\"neg_mean_squared_error\", cv = 5))\n",
    "    return(rmse)\n"
   ]
  },
  {
   "cell_type": "code",
   "execution_count": 108,
   "metadata": {
    "collapsed": true
   },
   "outputs": [],
   "source": [
    "model_ridge = Ridge()"
   ]
  },
  {
   "cell_type": "code",
   "execution_count": 109,
   "metadata": {},
   "outputs": [
    {
     "ename": "ValueError",
     "evalue": "Found input variables with inconsistent numbers of samples: [14000, 39695]",
     "output_type": "error",
     "traceback": [
      "\u001b[0;31m---------------------------------------------------------------------------\u001b[0m",
      "\u001b[0;31mValueError\u001b[0m                                Traceback (most recent call last)",
      "\u001b[0;32m<ipython-input-109-f0155afd1db9>\u001b[0m in \u001b[0;36m<module>\u001b[0;34m()\u001b[0m\n\u001b[1;32m      1\u001b[0m \u001b[0malphas\u001b[0m \u001b[0;34m=\u001b[0m \u001b[0;34m[\u001b[0m\u001b[0;36m0.05\u001b[0m\u001b[0;34m,\u001b[0m \u001b[0;36m0.1\u001b[0m\u001b[0;34m,\u001b[0m \u001b[0;36m0.3\u001b[0m\u001b[0;34m,\u001b[0m \u001b[0;36m1\u001b[0m\u001b[0;34m,\u001b[0m \u001b[0;36m3\u001b[0m\u001b[0;34m,\u001b[0m \u001b[0;36m5\u001b[0m\u001b[0;34m,\u001b[0m \u001b[0;36m10\u001b[0m\u001b[0;34m,\u001b[0m \u001b[0;36m15\u001b[0m\u001b[0;34m,\u001b[0m \u001b[0;36m30\u001b[0m\u001b[0;34m,\u001b[0m \u001b[0;36m50\u001b[0m\u001b[0;34m,\u001b[0m \u001b[0;36m75\u001b[0m\u001b[0;34m]\u001b[0m\u001b[0;34m\u001b[0m\u001b[0m\n\u001b[1;32m      2\u001b[0m cv_ridge = [rmse_cv(Ridge(alpha = alpha)).mean() \n\u001b[0;32m----> 3\u001b[0;31m             for alpha in alphas]\n\u001b[0m",
      "\u001b[0;32m<ipython-input-107-263551842838>\u001b[0m in \u001b[0;36mrmse_cv\u001b[0;34m(model)\u001b[0m\n\u001b[1;32m      3\u001b[0m \u001b[0;34m\u001b[0m\u001b[0m\n\u001b[1;32m      4\u001b[0m \u001b[0;32mdef\u001b[0m \u001b[0mrmse_cv\u001b[0m\u001b[0;34m(\u001b[0m\u001b[0mmodel\u001b[0m\u001b[0;34m)\u001b[0m\u001b[0;34m:\u001b[0m\u001b[0;34m\u001b[0m\u001b[0m\n\u001b[0;32m----> 5\u001b[0;31m     \u001b[0mrmse\u001b[0m\u001b[0;34m=\u001b[0m \u001b[0mnp\u001b[0m\u001b[0;34m.\u001b[0m\u001b[0msqrt\u001b[0m\u001b[0;34m(\u001b[0m\u001b[0;34m-\u001b[0m\u001b[0mcross_val_score\u001b[0m\u001b[0;34m(\u001b[0m\u001b[0mmodel\u001b[0m\u001b[0;34m,\u001b[0m \u001b[0mx_train\u001b[0m\u001b[0;34m,\u001b[0m \u001b[0my\u001b[0m\u001b[0;34m,\u001b[0m \u001b[0mscoring\u001b[0m\u001b[0;34m=\u001b[0m\u001b[0;34m\"neg_mean_squared_error\"\u001b[0m\u001b[0;34m,\u001b[0m \u001b[0mcv\u001b[0m \u001b[0;34m=\u001b[0m \u001b[0;36m5\u001b[0m\u001b[0;34m)\u001b[0m\u001b[0;34m)\u001b[0m\u001b[0;34m\u001b[0m\u001b[0m\n\u001b[0m\u001b[1;32m      6\u001b[0m     \u001b[0;32mreturn\u001b[0m\u001b[0;34m(\u001b[0m\u001b[0mrmse\u001b[0m\u001b[0;34m)\u001b[0m\u001b[0;34m\u001b[0m\u001b[0m\n",
      "\u001b[0;32m/Users/chloekwon/anaconda/lib/python2.7/site-packages/sklearn/model_selection/_validation.pyc\u001b[0m in \u001b[0;36mcross_val_score\u001b[0;34m(estimator, X, y, groups, scoring, cv, n_jobs, verbose, fit_params, pre_dispatch)\u001b[0m\n\u001b[1;32m    319\u001b[0m                                 \u001b[0mn_jobs\u001b[0m\u001b[0;34m=\u001b[0m\u001b[0mn_jobs\u001b[0m\u001b[0;34m,\u001b[0m \u001b[0mverbose\u001b[0m\u001b[0;34m=\u001b[0m\u001b[0mverbose\u001b[0m\u001b[0;34m,\u001b[0m\u001b[0;34m\u001b[0m\u001b[0m\n\u001b[1;32m    320\u001b[0m                                 \u001b[0mfit_params\u001b[0m\u001b[0;34m=\u001b[0m\u001b[0mfit_params\u001b[0m\u001b[0;34m,\u001b[0m\u001b[0;34m\u001b[0m\u001b[0m\n\u001b[0;32m--> 321\u001b[0;31m                                 pre_dispatch=pre_dispatch)\n\u001b[0m\u001b[1;32m    322\u001b[0m     \u001b[0;32mreturn\u001b[0m \u001b[0mcv_results\u001b[0m\u001b[0;34m[\u001b[0m\u001b[0;34m'test_score'\u001b[0m\u001b[0;34m]\u001b[0m\u001b[0;34m\u001b[0m\u001b[0m\n\u001b[1;32m    323\u001b[0m \u001b[0;34m\u001b[0m\u001b[0m\n",
      "\u001b[0;32m/Users/chloekwon/anaconda/lib/python2.7/site-packages/sklearn/model_selection/_validation.pyc\u001b[0m in \u001b[0;36mcross_validate\u001b[0;34m(estimator, X, y, groups, scoring, cv, n_jobs, verbose, fit_params, pre_dispatch, return_train_score)\u001b[0m\n\u001b[1;32m    179\u001b[0m \u001b[0;34m\u001b[0m\u001b[0m\n\u001b[1;32m    180\u001b[0m     \"\"\"\n\u001b[0;32m--> 181\u001b[0;31m     \u001b[0mX\u001b[0m\u001b[0;34m,\u001b[0m \u001b[0my\u001b[0m\u001b[0;34m,\u001b[0m \u001b[0mgroups\u001b[0m \u001b[0;34m=\u001b[0m \u001b[0mindexable\u001b[0m\u001b[0;34m(\u001b[0m\u001b[0mX\u001b[0m\u001b[0;34m,\u001b[0m \u001b[0my\u001b[0m\u001b[0;34m,\u001b[0m \u001b[0mgroups\u001b[0m\u001b[0;34m)\u001b[0m\u001b[0;34m\u001b[0m\u001b[0m\n\u001b[0m\u001b[1;32m    182\u001b[0m \u001b[0;34m\u001b[0m\u001b[0m\n\u001b[1;32m    183\u001b[0m     \u001b[0mcv\u001b[0m \u001b[0;34m=\u001b[0m \u001b[0mcheck_cv\u001b[0m\u001b[0;34m(\u001b[0m\u001b[0mcv\u001b[0m\u001b[0;34m,\u001b[0m \u001b[0my\u001b[0m\u001b[0;34m,\u001b[0m \u001b[0mclassifier\u001b[0m\u001b[0;34m=\u001b[0m\u001b[0mis_classifier\u001b[0m\u001b[0;34m(\u001b[0m\u001b[0mestimator\u001b[0m\u001b[0;34m)\u001b[0m\u001b[0;34m)\u001b[0m\u001b[0;34m\u001b[0m\u001b[0m\n",
      "\u001b[0;32m/Users/chloekwon/anaconda/lib/python2.7/site-packages/sklearn/utils/validation.pyc\u001b[0m in \u001b[0;36mindexable\u001b[0;34m(*iterables)\u001b[0m\n\u001b[1;32m    196\u001b[0m         \u001b[0;32melse\u001b[0m\u001b[0;34m:\u001b[0m\u001b[0;34m\u001b[0m\u001b[0m\n\u001b[1;32m    197\u001b[0m             \u001b[0mresult\u001b[0m\u001b[0;34m.\u001b[0m\u001b[0mappend\u001b[0m\u001b[0;34m(\u001b[0m\u001b[0mnp\u001b[0m\u001b[0;34m.\u001b[0m\u001b[0marray\u001b[0m\u001b[0;34m(\u001b[0m\u001b[0mX\u001b[0m\u001b[0;34m)\u001b[0m\u001b[0;34m)\u001b[0m\u001b[0;34m\u001b[0m\u001b[0m\n\u001b[0;32m--> 198\u001b[0;31m     \u001b[0mcheck_consistent_length\u001b[0m\u001b[0;34m(\u001b[0m\u001b[0;34m*\u001b[0m\u001b[0mresult\u001b[0m\u001b[0;34m)\u001b[0m\u001b[0;34m\u001b[0m\u001b[0m\n\u001b[0m\u001b[1;32m    199\u001b[0m     \u001b[0;32mreturn\u001b[0m \u001b[0mresult\u001b[0m\u001b[0;34m\u001b[0m\u001b[0m\n\u001b[1;32m    200\u001b[0m \u001b[0;34m\u001b[0m\u001b[0m\n",
      "\u001b[0;32m/Users/chloekwon/anaconda/lib/python2.7/site-packages/sklearn/utils/validation.pyc\u001b[0m in \u001b[0;36mcheck_consistent_length\u001b[0;34m(*arrays)\u001b[0m\n\u001b[1;32m    171\u001b[0m     \u001b[0;32mif\u001b[0m \u001b[0mlen\u001b[0m\u001b[0;34m(\u001b[0m\u001b[0muniques\u001b[0m\u001b[0;34m)\u001b[0m \u001b[0;34m>\u001b[0m \u001b[0;36m1\u001b[0m\u001b[0;34m:\u001b[0m\u001b[0;34m\u001b[0m\u001b[0m\n\u001b[1;32m    172\u001b[0m         raise ValueError(\"Found input variables with inconsistent numbers of\"\n\u001b[0;32m--> 173\u001b[0;31m                          \" samples: %r\" % [int(l) for l in lengths])\n\u001b[0m\u001b[1;32m    174\u001b[0m \u001b[0;34m\u001b[0m\u001b[0m\n\u001b[1;32m    175\u001b[0m \u001b[0;34m\u001b[0m\u001b[0m\n",
      "\u001b[0;31mValueError\u001b[0m: Found input variables with inconsistent numbers of samples: [14000, 39695]"
     ]
    }
   ],
   "source": [
    "alphas = [0.05, 0.1, 0.3, 1, 3, 5, 10, 15, 30, 50, 75]\n",
    "cv_ridge = [rmse_cv(Ridge(alpha = alpha)).mean() \n",
    "            for alpha in alphas]"
   ]
  },
  {
   "cell_type": "code",
   "execution_count": 100,
   "metadata": {},
   "outputs": [
    {
     "data": {
      "text/plain": [
       "<matplotlib.text.Text at 0x110f97790>"
      ]
     },
     "execution_count": 100,
     "metadata": {},
     "output_type": "execute_result"
    },
    {
     "data": {
      "image/png": "[encoded data removed]",
      "text/plain": [
       "<matplotlib.figure.Figure at 0x10e29e2d0>"
      ]
     },
     "metadata": {},
     "output_type": "display_data"
    }
   ],
   "source": [
    "#Pick 15 as alpha\n",
    "cv_ridge = pd.Series(cv_ridge, index = alphas)\n",
    "cv_ridge.plot(title = \"Validation - Just Do It\")\n",
    "plt.xlabel(\"alpha\")\n",
    "plt.ylabel(\"rmse\")"
   ]
  },
  {
   "cell_type": "code",
   "execution_count": 101,
   "metadata": {},
   "outputs": [
    {
     "data": {
      "text/plain": [
       "10.347315909446149"
      ]
     },
     "execution_count": 101,
     "metadata": {},
     "output_type": "execute_result"
    }
   ],
   "source": [
    "cv_ridge.min()"
   ]
  },
  {
   "cell_type": "code",
   "execution_count": 102,
   "metadata": {
    "collapsed": true
   },
   "outputs": [],
   "source": [
    "#Try Lasso \n",
    "model_lasso = LassoCV(alphas = [1, 0.1, 0.001, 0.0005]).fit(XTrain, YTrain)"
   ]
  },
  {
   "cell_type": "code",
   "execution_count": 103,
   "metadata": {},
   "outputs": [
    {
     "data": {
      "text/plain": [
       "10.347318449127885"
      ]
     },
     "execution_count": 103,
     "metadata": {},
     "output_type": "execute_result"
    }
   ],
   "source": [
    "#Almost same RMSE, so we'll use Lasso because it does feature selection for you \n",
    "rmse_cv(model_lasso).mean()"
   ]
  },
  {
   "cell_type": "code",
   "execution_count": 105,
   "metadata": {},
   "outputs": [
    {
     "data": {
      "text/plain": [
       "array([[ 7,  1,  5, ..., -9,  5,  2],\n",
       "       [ 6,  2,  5, ...,  1,  6,  4],\n",
       "       [ 4,  2,  5, ...,  1,  1,  1],\n",
       "       ..., \n",
       "       [ 6,  1,  5, ..., -9,  1,  2],\n",
       "       [ 6,  2,  5, ...,  1,  7,  1],\n",
       "       [ 6,  2,  5, ...,  1,  6,  7]])"
      ]
     },
     "execution_count": 105,
     "metadata": {},
     "output_type": "execute_result"
    }
   ],
   "source": []
  },
  {
   "cell_type": "code",
   "execution_count": null,
   "metadata": {
    "collapsed": true
   },
   "outputs": [],
   "source": []
  }
 ],
 "metadata": {
  "kernelspec": {
   "display_name": "Python 2",
   "language": "python",
   "name": "python2"
  },
  "language_info": {
   "codemirror_mode": {
    "name": "ipython",
    "version": 2
   },
   "file_extension": ".py",
   "mimetype": "text/x-python",
   "name": "python",
   "nbconvert_exporter": "python",
   "pygments_lexer": "ipython2",
   "version": "2.7.13"
  }
 },
 "nbformat": 4,
 "nbformat_minor": 2
}
