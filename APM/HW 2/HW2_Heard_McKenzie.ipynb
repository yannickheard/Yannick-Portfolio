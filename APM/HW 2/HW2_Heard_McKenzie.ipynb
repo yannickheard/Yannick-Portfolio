{
 "cells": [
  {
   "cell_type": "markdown",
   "metadata": {},
   "source": [
    "\n",
    "# <p style=\"text-align: center;\">MIS382: Advanced Predictive Modeling</p>\n",
    "# <p style=\"text-align: center;\">Assignment 2</p>\n",
    "## <p style=\"text-align: center;\">Paige McKenzie (pam2932), Yannick Heard (yoh64)</p>\n",
    "## <p style=\"text-align: center;\">Total points: 40</p>\n",
    "## <p style=\"text-align: center;\">Due: Wed, October 4th, submitted via Canvas by 11:59 pm</p>\n",
    "\n",
    "Your homework should be written in a **Jupyter notebook**. You may work in groups of two if you wish. Only one student per team needs to submit the assignment on Canvas.  But be sure to include name and UTID for both students.  Homework groups will be created and managed through Canvas, so please do not arbitrarily change your homework group.  \n",
    "\n",
    "Also, please make sure your code runs and the graphics (and anything else) are displayed in your notebook before submitting. (%matplotlib inline)"
   ]
  },
  {
   "cell_type": "markdown",
   "metadata": {},
   "source": [
    "# Question 1 - Bias-variance Trandeoff (2pts)\n",
    "How does the choice of K in the K-nearest neighbor classifier reflect a bias-variance tradeoff?\n",
    "\n",
    "## Answer"
   ]
  },
  {
   "cell_type": "markdown",
   "metadata": {},
   "source": [
    "A smaller K corresponds to a more complicated model, which while experience lower bias and higher variance. A larger K corresponds to a simpler model, while will experience higher bias and lower variance."
   ]
  },
  {
   "cell_type": "markdown",
   "metadata": {},
   "source": [
    "# Question 2: Data Exploration and Regression Analysis (4+3+4+4=15pts)\n",
    "\n",
    "Consider the dataset provided (russett_full_v2.csv) about agricultural inequality, industrial development and political instability in different countries. More information about it can be found [here](https://www.rdocumentation.org/packages/plspm/versions/0.4.9/topics/russett) though the data itself is slightly different than that referenced in the link.\n",
    "\n",
    "a) (4 points) Generate box-plots of the \"rent\" (% of farmers that rent all their land), \"inst\" (measure of political stability in the executive branch), \"ecks\" (number of violent internal war incidents ) and \"demo_score\" ( derived measure of the level of a country's democracy from 1945 to 61 ) and identify the cutoff values for outliers. \n",
    "\n",
    "Generate 3 scatterplots of \"rent\" against \"demo_score\", \"inst\" against \"demo_score\" and \"ecks\" against \"demo_score\" with the identified outliers colored differently than non-outliers in each; comment on how inclusion of the outliers would affect a predictive model for the \"demo_score\" response.  \n",
    "\n",
    "b) (3 points) Let us try to fit an MLR, using ordinary least squares, to this dataset with \"demo_score\" as the dependent variable using only the predictors 'rent','inst', and 'ecks' . \n",
    "\n",
    "    from sklearn.model_selection import train_test_split\n",
    "    X_train, X_test, y_train, y_test = train_test_split(X,y,test_size = 0.30, random_state=22)   \n",
    "\n",
    "Report the RMSE obtained on both X_train and X_test. How much does this increase when you score your model on X_test?\n",
    "\n",
    "c) (4 points ) Try to predict ”demo_score” using a robust regression using Huber loss.  You can use the [sklearn package](  http://scikit-learn.org/stable/modules/generated/sklearn.linear_model.HuberRegressor.html).  Set regularization parameter alpha to 0.0 and all other parameters as default.\n",
    "Report RMSE obtained on both X_train and X_test.\n",
    "\n",
    "d) (4 points ) Compare and comment on the model fits obtained in (b) and (c) and plot the residual plots using all data for each model. How do outliers affect the relative performance of ordinary least squares regression, and robust regression with Huber loss in general? \n",
    "\n",
    "## Answer"
   ]
  },
  {
   "cell_type": "markdown",
   "metadata": {},
   "source": [
    "## Part A"
   ]
  },
  {
   "cell_type": "code",
   "execution_count": 1,
   "metadata": {},
   "outputs": [
    {
     "name": "stdout",
     "output_type": "stream",
     "text": [
      "Populating the interactive namespace from numpy and matplotlib\n"
     ]
    }
   ],
   "source": [
    "import pandas as pd\n",
    "import numpy as np\n",
    "%pylab inline"
   ]
  },
  {
   "cell_type": "code",
   "execution_count": 2,
   "metadata": {},
   "outputs": [
    {
     "data": {
      "text/html": [
       "<div>\n",
       "<style>\n",
       "    .dataframe thead tr:only-child th {\n",
       "        text-align: right;\n",
       "    }\n",
       "\n",
       "    .dataframe thead th {\n",
       "        text-align: left;\n",
       "    }\n",
       "\n",
       "    .dataframe tbody tr th {\n",
       "        vertical-align: top;\n",
       "    }\n",
       "</style>\n",
       "<table border=\"1\" class=\"dataframe\">\n",
       "  <thead>\n",
       "    <tr style=\"text-align: right;\">\n",
       "      <th></th>\n",
       "      <th>country</th>\n",
       "      <th>gini</th>\n",
       "      <th>farm</th>\n",
       "      <th>rent</th>\n",
       "      <th>gnpr</th>\n",
       "      <th>labo</th>\n",
       "      <th>inst</th>\n",
       "      <th>ecks</th>\n",
       "      <th>death</th>\n",
       "      <th>demo_class</th>\n",
       "      <th>demo_score</th>\n",
       "    </tr>\n",
       "  </thead>\n",
       "  <tbody>\n",
       "    <tr>\n",
       "      <th>0</th>\n",
       "      <td>Argentina</td>\n",
       "      <td>86.3</td>\n",
       "      <td>98.2</td>\n",
       "      <td>47.9</td>\n",
       "      <td>374</td>\n",
       "      <td>25</td>\n",
       "      <td>16.6</td>\n",
       "      <td>47.0</td>\n",
       "      <td>217</td>\n",
       "      <td>2</td>\n",
       "      <td>35</td>\n",
       "    </tr>\n",
       "    <tr>\n",
       "      <th>1</th>\n",
       "      <td>Australia</td>\n",
       "      <td>92.9</td>\n",
       "      <td>99.6</td>\n",
       "      <td>30.0</td>\n",
       "      <td>1215</td>\n",
       "      <td>14</td>\n",
       "      <td>19.3</td>\n",
       "      <td>0.0</td>\n",
       "      <td>0</td>\n",
       "      <td>1</td>\n",
       "      <td>89</td>\n",
       "    </tr>\n",
       "    <tr>\n",
       "      <th>2</th>\n",
       "      <td>Austria</td>\n",
       "      <td>74.0</td>\n",
       "      <td>97.4</td>\n",
       "      <td>25.7</td>\n",
       "      <td>532</td>\n",
       "      <td>32</td>\n",
       "      <td>15.8</td>\n",
       "      <td>4.0</td>\n",
       "      <td>0</td>\n",
       "      <td>2</td>\n",
       "      <td>52</td>\n",
       "    </tr>\n",
       "    <tr>\n",
       "      <th>3</th>\n",
       "      <td>Belgium</td>\n",
       "      <td>58.7</td>\n",
       "      <td>85.8</td>\n",
       "      <td>98.3</td>\n",
       "      <td>1015</td>\n",
       "      <td>10</td>\n",
       "      <td>23.5</td>\n",
       "      <td>8.0</td>\n",
       "      <td>1</td>\n",
       "      <td>1</td>\n",
       "      <td>98</td>\n",
       "    </tr>\n",
       "    <tr>\n",
       "      <th>4</th>\n",
       "      <td>Bolivia</td>\n",
       "      <td>93.8</td>\n",
       "      <td>97.7</td>\n",
       "      <td>35.0</td>\n",
       "      <td>66</td>\n",
       "      <td>72</td>\n",
       "      <td>18.3</td>\n",
       "      <td>43.0</td>\n",
       "      <td>663</td>\n",
       "      <td>3</td>\n",
       "      <td>19</td>\n",
       "    </tr>\n",
       "  </tbody>\n",
       "</table>\n",
       "</div>"
      ],
      "text/plain": [
       "     country  gini  farm  rent  gnpr  labo  inst  ecks  death  demo_class  \\\n",
       "0  Argentina  86.3  98.2  47.9   374    25  16.6  47.0    217           2   \n",
       "1  Australia  92.9  99.6  30.0  1215    14  19.3   0.0      0           1   \n",
       "2    Austria  74.0  97.4  25.7   532    32  15.8   4.0      0           2   \n",
       "3    Belgium  58.7  85.8  98.3  1015    10  23.5   8.0      1           1   \n",
       "4    Bolivia  93.8  97.7  35.0    66    72  18.3  43.0    663           3   \n",
       "\n",
       "   demo_score  \n",
       "0          35  \n",
       "1          89  \n",
       "2          52  \n",
       "3          98  \n",
       "4          19  "
      ]
     },
     "execution_count": 2,
     "metadata": {},
     "output_type": "execute_result"
    }
   ],
   "source": [
    "df = pd.read_csv(\"russett_full_v2.csv\")\n",
    "\n",
    "df.head()"
   ]
  },
  {
   "cell_type": "code",
   "execution_count": 3,
   "metadata": {},
   "outputs": [
    {
     "data": {
      "image/png": "[encoded data removed]",
      "text/plain": [
       "<matplotlib.figure.Figure at 0x5dc3e10>"
      ]
     },
     "metadata": {},
     "output_type": "display_data"
    }
   ],
   "source": [
    "#-------------------------------Part A--------------------------------\n",
    "box = plt.figure(1)\n",
    "plt.subplot(221)\n",
    "rent_outliers = df.boxplot(column='rent', return_type='dict')['fliers'][0].get_data()[1]\n",
    "\n",
    "plt.subplot(222)\n",
    "inst_outliers = df.boxplot(column='inst', return_type='dict')['fliers'][0].get_data()[1]\n",
    "\n",
    "plt.subplot(223)\n",
    "ecks_outliers = df.boxplot(column='ecks', return_type='dict')['fliers'][0].get_data()[1]\n",
    "\n",
    "plt.subplot(224)\n",
    "demo_outliers = df.boxplot(column='demo_score', return_type='dict')['fliers'][0].get_data()[1]"
   ]
  },
  {
   "cell_type": "code",
   "execution_count": 4,
   "metadata": {},
   "outputs": [
    {
     "data": {
      "text/plain": [
       "0"
      ]
     },
     "execution_count": 4,
     "metadata": {},
     "output_type": "execute_result"
    }
   ],
   "source": [
    "len(demo_outliers)"
   ]
  },
  {
   "cell_type": "markdown",
   "metadata": {},
   "source": [
    "Note that there are no outliers in the demo_score values, so we will ignore this for the rest of our analysis."
   ]
  },
  {
   "cell_type": "code",
   "execution_count": 5,
   "metadata": {
    "collapsed": true
   },
   "outputs": [],
   "source": [
    "#set up dataframes for plotting without outliers\n",
    "rent_strip = df[~df['rent'].isin(rent_outliers)]\n",
    "\n",
    "inst_strip = df[~df['inst'].isin(inst_outliers)]\n",
    "\n",
    "ecks_strip = df[~df['ecks'].isin(ecks_outliers)]"
   ]
  },
  {
   "cell_type": "code",
   "execution_count": 6,
   "metadata": {
    "collapsed": true
   },
   "outputs": [],
   "source": [
    "# set up dataframes for adding outliers to plot\n",
    "rent_outliers = df[df['rent'].isin(rent_outliers)]\n",
    "inst_outliers = df[df['inst'].isin(inst_outliers)]\n",
    "ecks_outliers = df[df['ecks'].isin(ecks_outliers)]"
   ]
  },
  {
   "cell_type": "code",
   "execution_count": 7,
   "metadata": {},
   "outputs": [
    {
     "data": {
      "text/plain": [
       "<matplotlib.collections.PathCollection at 0xb41c320>"
      ]
     },
     "execution_count": 7,
     "metadata": {},
     "output_type": "execute_result"
    },
    {
     "data": {
      "image/png": "[encoded data removed]",
      "text/plain": [
       "<matplotlib.figure.Figure at 0xacfd710>"
      ]
     },
     "metadata": {},
     "output_type": "display_data"
    }
   ],
   "source": [
    "fig=plt.figure(figsize=(15,5))\n",
    "\n",
    "ax=fig.add_subplot(131, title='Rent vs. Demo_score')\n",
    "ax.scatter(rent_strip['demo_score'], rent_strip['rent'], marker=\"d\", color=\"#2e91be\")\n",
    "ax.scatter(rent_outliers['demo_score'], rent_outliers['rent'], marker=\"d\", color=\"#d46f9f\")\n",
    "\n",
    "ax=fig.add_subplot(132, title='Inst vs. Demo_score')\n",
    "ax.scatter(inst_strip['demo_score'], inst_strip['inst'], marker=\"d\", color=\"#2e91be\")\n",
    "ax.scatter(inst_outliers['demo_score'], inst_outliers['inst'], marker=\"d\", color=\"#d46f9f\")\n",
    "\n",
    "ax=fig.add_subplot(133, title='Ecks vs. Demo_score')\n",
    "ax.scatter(ecks_strip['demo_score'], ecks_strip['ecks'], marker=\"d\", color=\"#2e91be\")\n",
    "ax.scatter(ecks_outliers['demo_score'], ecks_outliers['ecks'], marker=\"d\", color=\"#d46f9f\")"
   ]
  },
  {
   "cell_type": "markdown",
   "metadata": {},
   "source": [
    "Including the outliers in Rent vs. Demo_score or Ecks vs. Demo_score would raise the model's estimate of Demo_score, while includin outliers in Inst vs. Demo_score would drag the estimate down."
   ]
  },
  {
   "cell_type": "markdown",
   "metadata": {},
   "source": [
    "## Part B"
   ]
  },
  {
   "cell_type": "code",
   "execution_count": 8,
   "metadata": {
    "collapsed": true
   },
   "outputs": [],
   "source": [
    "#------------------------Part B------------------------\n",
    "\n",
    "#set up X,y for model building\n",
    "y = np.array(df['demo_score'])\n",
    "X = np.array(df[['rent', 'inst', 'ecks']])"
   ]
  },
  {
   "cell_type": "code",
   "execution_count": 9,
   "metadata": {},
   "outputs": [
    {
     "name": "stderr",
     "output_type": "stream",
     "text": [
      "C:\\ProgramData\\Anaconda2\\lib\\site-packages\\statsmodels\\compat\\pandas.py:56: FutureWarning: The pandas.core.datetools module is deprecated and will be removed in a future version. Please use the pandas.tseries module instead.\n",
      "  from pandas.core import datetools\n"
     ]
    }
   ],
   "source": [
    "from sklearn.model_selection import train_test_split\n",
    "from sklearn.linear_model import LinearRegression\n",
    "import statsmodels.api as sm\n",
    "from statsmodels.tools.eval_measures import rmse\n",
    "\n",
    "X = sm.add_constant(X)\n",
    "\n",
    "X_train, X_test, y_train, y_test = train_test_split(X, y, test_size = 0.30, random_state=22)"
   ]
  },
  {
   "cell_type": "code",
   "execution_count": 10,
   "metadata": {},
   "outputs": [
    {
     "name": "stdout",
     "output_type": "stream",
     "text": [
      "In-sample root-mean-squared error: 25.781460397\n"
     ]
    }
   ],
   "source": [
    "model = sm.OLS(y_train, X_train)\n",
    "result_OLS = model.fit()\n",
    "\n",
    "prediction_train = result_OLS.predict(X_train)\n",
    "\n",
    "print \"In-sample root-mean-squared error:\", rmse(y_train, prediction_train)"
   ]
  },
  {
   "cell_type": "code",
   "execution_count": 11,
   "metadata": {},
   "outputs": [
    {
     "name": "stdout",
     "output_type": "stream",
     "text": [
      "Out-of-sample root-mean-squared error: 32.580671803\n"
     ]
    }
   ],
   "source": [
    "prediction_test = result_OLS.predict(X_test)\n",
    "print \"Out-of-sample root-mean-squared error:\", rmse(y_test, prediction_test)"
   ]
  },
  {
   "cell_type": "markdown",
   "metadata": {},
   "source": [
    "## Part C"
   ]
  },
  {
   "cell_type": "code",
   "execution_count": 12,
   "metadata": {},
   "outputs": [
    {
     "name": "stdout",
     "output_type": "stream",
     "text": [
      "Huber In-Sample Root-Mean-Squared Error: 26.8359286887\n"
     ]
    }
   ],
   "source": [
    "#--------------------------Part C-------------------------\n",
    "from sklearn.linear_model import HuberRegressor\n",
    "\n",
    "huber = HuberRegressor(fit_intercept=True, alpha=0.0)\n",
    "result_hub = huber.fit(X_train, y_train)\n",
    "\n",
    "prediction_train_hub = result_hub.predict(X_train)\n",
    "\n",
    "print \"Huber In-Sample Root-Mean-Squared Error:\", rmse(y_train, prediction_train_hub)"
   ]
  },
  {
   "cell_type": "code",
   "execution_count": 13,
   "metadata": {},
   "outputs": [
    {
     "name": "stdout",
     "output_type": "stream",
     "text": [
      "Huber Out-of-Sample Root-Mean-Squared Error: 29.1663032149\n"
     ]
    }
   ],
   "source": [
    "prediction_test_hub = result_hub.predict(X_test)\n",
    "print \"Huber Out-of-Sample Root-Mean-Squared Error:\", rmse(y_test, prediction_test_hub)"
   ]
  },
  {
   "cell_type": "markdown",
   "metadata": {},
   "source": [
    "## Part D"
   ]
  },
  {
   "cell_type": "code",
   "execution_count": 14,
   "metadata": {},
   "outputs": [
    {
     "data": {
      "text/plain": [
       "<matplotlib.collections.PathCollection at 0xee00400>"
      ]
     },
     "execution_count": 14,
     "metadata": {},
     "output_type": "execute_result"
    },
    {
     "data": {
      "image/png": "[encoded data removed]",
      "text/plain": [
       "<matplotlib.figure.Figure at 0xec1ca20>"
      ]
     },
     "metadata": {},
     "output_type": "display_data"
    }
   ],
   "source": [
    "res_OLS = pd.Series(y - result_OLS.predict(X))\n",
    "res_hub = pd.Series(y - result_hub.predict(X))\n",
    "\n",
    "fig=plt.figure(figsize=(10,5))\n",
    "\n",
    "ax=fig.add_subplot(121, title='OLS Residual Plot')\n",
    "ax.axhline(y=0, linestyle='dashed', color=\"#d46f9f\")\n",
    "ax.scatter(res_OLS.index, res_OLS)\n",
    "\n",
    "ax=fig.add_subplot(122, title='Huber Residual Plot')\n",
    "ax.axhline(y=0, linestyle='dashed', color=\"#d46f9f\")\n",
    "ax.scatter(res_hub.index, res_hub)"
   ]
  },
  {
   "cell_type": "markdown",
   "metadata": {},
   "source": [
    "Out-of-sample RMSE is lower when using the Huber loss, indicating overall improvement in model performance. \n",
    "\n",
    "Outliers impact OLS regression heavily, often severely impacting model performance. Huber loss is more robust to outliers, and so model performance will not suffer as much from the presence of outliers. "
   ]
  },
  {
   "cell_type": "markdown",
   "metadata": {},
   "source": [
    "# Question 3 - Sampling (4+4=8pts)\n",
    "\n",
    "1. NBC has come up with an extreme TV show, and each of its viewers either likes or hates it. (no middle ground here; we are in a “black and white age”). NBC wants to estimate what fraction p of its audience like the show by “randomly” calling n viewers and tallying their responses so as to estimate the true value of p to a fractional accuracy of within ±ε%, with a confidence of (1 − α) × 100%. For α = 0.10, ε = 0.03 (i.e. your answer will be $\\hat{p}$ ± 0.03), what is the minimum value of n needed if true value (i) p = 0.5, (ii) p=0.25? \n",
    "\n",
    "2. Suppose for a certain value of p and choice of ε, you calculate that you will need 1000 samples for α = 0.02. You now decide to obtain a more accurate answer by either (i) reducing α to 0.01, keeping the same ε or by (ii) reducing ε by a factor of 2 from the original value, and increasing α to 0.05. In each case how many samples would you need now?\n",
    "\n",
    "## Answer"
   ]
  },
  {
   "cell_type": "markdown",
   "metadata": {},
   "source": [
    "## Part 1\n",
    "\n",
    "The sample size, n, must follow the following equation:\n",
    "$$ n \\geq p(1-p)(\\frac{z_{\\alpha/2}}{\\epsilon})^2 $$\n",
    "\n",
    "<br><br>\n",
    "(i) For $p=0.5$,\n",
    "$$ n = 0.5(1-0.5)(\\frac{1.6449}{0.03})^2 \\approx 751 $$\n",
    "So NBC should sample at least 752 viewers.\n",
    "\n",
    "<br><br>\n",
    "(ii) For $p=0.25$,\n",
    "$$ n = 0.25(1-0.25)(\\frac{1.6449}{0.03})^2 \\approx 563 $$\n",
    "So NBC should sample at least 564 viewers."
   ]
  },
  {
   "cell_type": "markdown",
   "metadata": {},
   "source": [
    "## Part 2\n",
    "\n",
    "Once again using the equation:\n",
    "$$ n = p(1-p)(\\frac{z_{\\alpha/2}}{\\epsilon})^2 $$\n",
    "<br>\n",
    "Given $n=1000, \\alpha=.02$:\n",
    "$$ 1000 = p(1-p)(\\frac{z_{.01}}{\\epsilon})^2 $$\n",
    "$$ \\frac{p(1-p)}{\\epsilon^2} = \\frac{1000}{(z_{.01})^2} = \\frac{1000}{2.326^2}$$\n",
    "<br><br><br>\n",
    "(i) Reducing $\\alpha$ to .01:\n",
    "$$ n_0 = \\frac{p(1-p)}{\\epsilon^2}*z_{.005}^2 = \\frac{1000}{2.326^2}*2.576^2 \\approx 1226$$\n",
    "So NBC would have to sample 1227 viewers.\n",
    "<br><br><br>\n",
    "(ii) Reducing $\\epsilon$ by a factor of 2 from the original value, and increasing $\\alpha$ to 0.05:\n",
    "$$ n_1 = p(1-p)(\\frac{z_{.025}}{\\frac{\\epsilon}{2}})^2 = 4*\\frac{p(1-p)}{\\epsilon^2}*z_{.025}^2$$\n",
    "$$ n_1 = 4*\\frac{1000}{2.326^2}*1.96^2 \\approx 2,840$$\n",
    "So NBC would have to sample 2,841 viewers."
   ]
  },
  {
   "cell_type": "markdown",
   "metadata": {},
   "source": [
    "# Question 4 - Principal Component Analysis (10 points)\n",
    "\n",
    "Import the diabetes dataset as in Q1 and add the interaction variables.\n",
    "You should have 65 variables and one target variable."
   ]
  },
  {
   "cell_type": "code",
   "execution_count": 15,
   "metadata": {
    "collapsed": true
   },
   "outputs": [],
   "source": [
    "from sklearn import datasets\n",
    "diabetes = datasets.load_diabetes()\n",
    "X = diabetes.data\n",
    "y = diabetes.target\n",
    "\n",
    "from sklearn.preprocessing import PolynomialFeatures\n",
    "X = PolynomialFeatures(2, include_bias=False).fit_transform(X)"
   ]
  },
  {
   "cell_type": "markdown",
   "metadata": {},
   "source": [
    "Next, use [StandardScaler](http://scikit-learn.org/stable/modules/generated/sklearn.preprocessing.StandardScaler.html) to center and scale each feature as follows."
   ]
  },
  {
   "cell_type": "code",
   "execution_count": 16,
   "metadata": {
    "collapsed": true
   },
   "outputs": [],
   "source": [
    "from sklearn.preprocessing import StandardScaler\n",
    "stdScaler = StandardScaler()\n",
    "X = stdScaler.fit_transform(X)"
   ]
  },
  {
   "cell_type": "markdown",
   "metadata": {},
   "source": [
    "(a) Perform PCA using the sklearn [PCA](http://scikit-learn.org/stable/modules/generated/sklearn.decomposition.PCA.html) package.  Create i) a scree plot depicting the proportion of variance and ii) a cumulative proportion of variance explained by the principal components of the data (X matrix).  Refer to Figure 10.4 of JW for an example.  You may use the output attribute *explained variance ratio*. (3pts)\n",
    "\n",
    "(b) How many principal components (N1, N2, N3) are required to explain cumulative variance of 30%, 60%, and 90%, respectively? (3pts)\n",
    "\n",
    "(c) Fit an ordinary least squares linear regression using N1, N2, and N3 number of principal components, respectively. (This is called Principal Components Regression) Use entire dataset, e.g. 442 rows. Evaluate the models using mean squared error (MSE). (4pts)\n",
    "\n",
    "## Answer"
   ]
  },
  {
   "cell_type": "markdown",
   "metadata": {},
   "source": [
    "## Part A"
   ]
  },
  {
   "cell_type": "code",
   "execution_count": 17,
   "metadata": {},
   "outputs": [
    {
     "name": "stdout",
     "output_type": "stream",
     "text": [
      "Populating the interactive namespace from numpy and matplotlib\n"
     ]
    },
    {
     "name": "stderr",
     "output_type": "stream",
     "text": [
      "C:\\ProgramData\\Anaconda2\\lib\\site-packages\\IPython\\core\\magics\\pylab.py:161: UserWarning: pylab import has clobbered these variables: ['box']\n",
      "`%matplotlib` prevents importing * from pylab and numpy\n",
      "  \"\\n`%matplotlib` prevents importing * from pylab and numpy\"\n"
     ]
    }
   ],
   "source": [
    "#---------------------Part A---------------------------\n",
    "from sklearn.decomposition import PCA\n",
    "import matplotlib.pyplot as plt\n",
    "import numpy as np\n",
    "%pylab inline\n",
    "\n",
    "pca = PCA()\n",
    "pca_fit = pca.fit(X)"
   ]
  },
  {
   "cell_type": "code",
   "execution_count": 18,
   "metadata": {},
   "outputs": [
    {
     "data": {
      "image/png": "[encoded data removed]",
      "text/plain": [
       "<matplotlib.figure.Figure at 0xf23d438>"
      ]
     },
     "metadata": {},
     "output_type": "display_data"
    }
   ],
   "source": [
    "cum_ratio = np.cumsum(pca_fit.explained_variance_ratio_)\n",
    "\n",
    "fig=plt.figure(figsize=(10,5))\n",
    "\n",
    "ax=fig.add_subplot(121, title='Explained Variance Ratio')\n",
    "plt.plot(pca_fit.explained_variance_ratio_, 'ro')\n",
    "\n",
    "ax=fig.add_subplot(122, title='Cumulative Explained Variance Ratio')\n",
    "plt.plot(cum_ratio, 'ro')\n",
    "\n",
    "plt.show()"
   ]
  },
  {
   "cell_type": "markdown",
   "metadata": {},
   "source": [
    "## Part B"
   ]
  },
  {
   "cell_type": "code",
   "execution_count": 19,
   "metadata": {},
   "outputs": [
    {
     "name": "stdout",
     "output_type": "stream",
     "text": [
      "3 components are required to explain 30% of variance,\n",
      "9 components are required to explain 60% of variance,\n",
      "27 components are required to explain 90% of variance.\n"
     ]
    }
   ],
   "source": [
    "N1 = 0\n",
    "N2 = 0\n",
    "N3 = 0\n",
    "\n",
    "for i in range(len(cum_ratio)):\n",
    "    if cum_ratio[i]>.9 and N3==0:\n",
    "        N3=i+1\n",
    "    elif cum_ratio[i]>.6 and N2==0:\n",
    "        N2=i+1\n",
    "    elif cum_ratio[i]>.3 and N1==0:\n",
    "        N1=i+1\n",
    "        \n",
    "print N1, \"components are required to explain 30% of variance,\"\n",
    "print N2, \"components are required to explain 60% of variance,\"\n",
    "print N3, \"components are required to explain 90% of variance.\""
   ]
  },
  {
   "cell_type": "markdown",
   "metadata": {},
   "source": [
    "## Part C"
   ]
  },
  {
   "cell_type": "code",
   "execution_count": 20,
   "metadata": {},
   "outputs": [],
   "source": [
    "from statsmodels.tools.eval_measures import mse\n",
    "from sklearn.linear_model import LinearRegression"
   ]
  },
  {
   "cell_type": "code",
   "execution_count": 21,
   "metadata": {},
   "outputs": [
    {
     "name": "stdout",
     "output_type": "stream",
     "text": [
      "In-sample mean-squared error (for 3 components): 5120.60554779\n",
      "In-sample mean-squared error (for 9 components): 3942.78675143\n",
      "In-sample mean-squared error (for 27 components): 2857.425949\n"
     ]
    }
   ],
   "source": [
    "#run PCA for each component size, and report in-sample RMSE\n",
    "\n",
    "for item in [N1, N2, N3]:\n",
    "    pca = PCA(n_components=item)\n",
    "    X_pca = pca.fit_transform(X)\n",
    "    \n",
    "    model = LinearRegression()\n",
    "    result_OLS = model.fit(X_pca, y)\n",
    "\n",
    "    prediction = result_OLS.predict(X_pca)\n",
    "\n",
    "    print \"In-sample mean-squared error (for {0} components): {1}\".format(item, mse(y, prediction))"
   ]
  },
  {
   "cell_type": "markdown",
   "metadata": {},
   "source": [
    "# Question 5 -  Feature Selection ( 5 points )\n",
    "\n",
    "Explain what you understand by the two wrapper methods for feature selection (forward and backward selection) (no more than 1 paragraph). "
   ]
  },
  {
   "cell_type": "markdown",
   "metadata": {},
   "source": [
    "Wrapper methods repeatedly select features, re-fit the model, and calculate a measure of accuracy to determine how predictive the features are. \n",
    "\n",
    "Forward selection starts by fitting the model to a single feature in turn, and selecting the best fit. It then adds a second feature, trying combinations of other features with the feature determined to be the best fit in the previous step, and so on until adding features produces no improvement, or insignificant improvement in model accuracy.\n",
    "\n",
    "Backward selection stats by fitting the model to every feature, then attempting to remove a single feature at a time, trying to determine which features can be removed with the least decrease in model accuracy."
   ]
  }
 ],
 "metadata": {
  "anaconda-cloud": {},
  "kernelspec": {
   "display_name": "Python 3",
   "language": "python",
   "name": "python3"
  },
  "language_info": {
   "codemirror_mode": {
    "name": "ipython",
    "version": 3
   },
   "file_extension": ".py",
   "mimetype": "text/x-python",
   "name": "python",
   "nbconvert_exporter": "python",
   "pygments_lexer": "ipython3",
   "version": "3.7.6"
  }
 },
 "nbformat": 4,
 "nbformat_minor": 1
}
